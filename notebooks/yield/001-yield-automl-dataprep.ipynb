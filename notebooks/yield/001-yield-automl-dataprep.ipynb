{
 "cells": [
  {
   "cell_type": "code",
   "execution_count": 1,
   "id": "94b8efed-38af-4daf-a161-cd1345b81c7c",
   "metadata": {
    "collapsed": true,
    "jupyter": {
     "outputs_hidden": true
    },
    "tags": []
   },
   "outputs": [
    {
     "name": "stdout",
     "output_type": "stream",
     "text": [
      "Checking whether there is an H2O instance running at http://localhost:54321 . connected.\n"
     ]
    },
    {
     "data": {
      "text/html": [
       "<div style=\"overflow:auto\"><table style=\"width:50%\"><tr><td>H2O_cluster_uptime:</td>\n",
       "<td>18 mins 48 secs</td></tr>\n",
       "<tr><td>H2O_cluster_timezone:</td>\n",
       "<td>Europe/Kiev</td></tr>\n",
       "<tr><td>H2O_data_parsing_timezone:</td>\n",
       "<td>UTC</td></tr>\n",
       "<tr><td>H2O_cluster_version:</td>\n",
       "<td>3.36.0.3</td></tr>\n",
       "<tr><td>H2O_cluster_version_age:</td>\n",
       "<td>1 month and 3 days </td></tr>\n",
       "<tr><td>H2O_cluster_name:</td>\n",
       "<td>H2O_from_python_ogurb_h485ji</td></tr>\n",
       "<tr><td>H2O_cluster_total_nodes:</td>\n",
       "<td>1</td></tr>\n",
       "<tr><td>H2O_cluster_free_memory:</td>\n",
       "<td>4 Gb</td></tr>\n",
       "<tr><td>H2O_cluster_total_cores:</td>\n",
       "<td>10</td></tr>\n",
       "<tr><td>H2O_cluster_allowed_cores:</td>\n",
       "<td>10</td></tr>\n",
       "<tr><td>H2O_cluster_status:</td>\n",
       "<td>locked, healthy</td></tr>\n",
       "<tr><td>H2O_connection_url:</td>\n",
       "<td>http://localhost:54321</td></tr>\n",
       "<tr><td>H2O_connection_proxy:</td>\n",
       "<td>{\"http\": null, \"https\": null}</td></tr>\n",
       "<tr><td>H2O_internal_security:</td>\n",
       "<td>False</td></tr>\n",
       "<tr><td>Python_version:</td>\n",
       "<td>3.8.11 final</td></tr></table></div>"
      ],
      "text/plain": [
       "--------------------------  -----------------------------\n",
       "H2O_cluster_uptime:         18 mins 48 secs\n",
       "H2O_cluster_timezone:       Europe/Kiev\n",
       "H2O_data_parsing_timezone:  UTC\n",
       "H2O_cluster_version:        3.36.0.3\n",
       "H2O_cluster_version_age:    1 month and 3 days\n",
       "H2O_cluster_name:           H2O_from_python_ogurb_h485ji\n",
       "H2O_cluster_total_nodes:    1\n",
       "H2O_cluster_free_memory:    4 Gb\n",
       "H2O_cluster_total_cores:    10\n",
       "H2O_cluster_allowed_cores:  10\n",
       "H2O_cluster_status:         locked, healthy\n",
       "H2O_connection_url:         http://localhost:54321\n",
       "H2O_connection_proxy:       {\"http\": null, \"https\": null}\n",
       "H2O_internal_security:      False\n",
       "Python_version:             3.8.11 final\n",
       "--------------------------  -----------------------------"
      ]
     },
     "metadata": {},
     "output_type": "display_data"
    }
   ],
   "source": [
    "# RDkit\n",
    "from rdkit import Chem\n",
    "from rdkit.Chem import AllChem\n",
    "\n",
    "# H2O\n",
    "import h2o\n",
    "from h2o.automl import H2OAutoML\n",
    "h2o.init()\n",
    "\n",
    "import pandas as pd\n",
    "from sklearn import preprocessing\n",
    "from tqdm import tqdm, trange\n",
    "\n",
    "# utility functions\n",
    "def get_ECFP4(row):\n",
    "    if not row.strip(): return [0] * 2048\n",
    "    return AllChem.GetMorganFingerprintAsBitVect(Chem.MolFromSmiles(row), \n",
    "                                                 4, nBits=2048).ToList()\n",
    "#     try:\n",
    "#         return AllChem.GetMorganFingerprintAsBitVect(Chem.MolFromSmiles(row), \n",
    "#                                                      4, nBits=2048).ToList()\n",
    "#     except:\n",
    "# #         print(f'ECFP did not work for {row}')\n",
    "#         return [0] * 2048"
   ]
  },
  {
   "cell_type": "markdown",
   "id": "ef3d7880-9d27-40d0-a90e-7bc18ff808dc",
   "metadata": {
    "jp-MarkdownHeadingCollapsed": true,
    "tags": []
   },
   "source": [
    "# EDA"
   ]
  },
  {
   "cell_type": "code",
   "execution_count": 5,
   "id": "f24c7e6e-4ddb-481a-8bda-301900a1562e",
   "metadata": {},
   "outputs": [
    {
     "data": {
      "text/plain": [
       "15489"
      ]
     },
     "execution_count": 5,
     "metadata": {},
     "output_type": "execute_result"
    }
   ],
   "source": [
    "df.REAGENTID1.nunique()"
   ]
  },
  {
   "cell_type": "code",
   "execution_count": 7,
   "id": "9d69fce9-e730-4cda-8be0-ae72107d74b5",
   "metadata": {},
   "outputs": [
    {
     "data": {
      "text/plain": [
       "5"
      ]
     },
     "execution_count": 7,
     "metadata": {},
     "output_type": "execute_result"
    }
   ],
   "source": [
    "df.preparatory_1.nunique(dropna=False)"
   ]
  },
  {
   "cell_type": "code",
   "execution_count": 12,
   "id": "8ae781cd-b5d8-4a88-9134-5b4384c09442",
   "metadata": {},
   "outputs": [
    {
     "data": {
      "text/plain": [
       "4"
      ]
     },
     "execution_count": 12,
     "metadata": {},
     "output_type": "execute_result"
    }
   ],
   "source": [
    "df.preparatory_2.nunique(dropna=False)"
   ]
  },
  {
   "cell_type": "code",
   "execution_count": 13,
   "id": "d60ce56a-9136-4756-b4cb-805d5df21488",
   "metadata": {},
   "outputs": [
    {
     "data": {
      "text/plain": [
       "2"
      ]
     },
     "execution_count": 13,
     "metadata": {},
     "output_type": "execute_result"
    }
   ],
   "source": [
    "df.preparatory_3.nunique(dropna=False)"
   ]
  },
  {
   "cell_type": "code",
   "execution_count": 8,
   "id": "9fc7e69d-a32e-485f-ab22-fda3f79b6468",
   "metadata": {},
   "outputs": [
    {
     "data": {
      "text/plain": [
       "13600"
      ]
     },
     "execution_count": 8,
     "metadata": {},
     "output_type": "execute_result"
    }
   ],
   "source": [
    "df.REAGENTID2.nunique(dropna=False)"
   ]
  },
  {
   "cell_type": "code",
   "execution_count": 9,
   "id": "81d2d395-da84-44a9-95d8-ffe0bd3c8388",
   "metadata": {},
   "outputs": [
    {
     "data": {
      "text/plain": [
       "336"
      ]
     },
     "execution_count": 9,
     "metadata": {},
     "output_type": "execute_result"
    }
   ],
   "source": [
    "df.REAGENTID3.nunique(dropna=False)"
   ]
  },
  {
   "cell_type": "code",
   "execution_count": 10,
   "id": "61b4bf10-b321-4c91-87ea-8a5b2f4264e7",
   "metadata": {
    "collapsed": true,
    "jupyter": {
     "outputs_hidden": true
    },
    "tags": []
   },
   "outputs": [
    {
     "data": {
      "text/plain": [
       "array([nan, 'NNC(=O)C1CCN1C2CCCC2', 'COC(=O)c1nc(Br)n[nH]1',\n",
       "       'NNC(=O)c1cn[nH]c1', 'NNC(=O)C1CCN1Cc2ccccc2',\n",
       "       'CC(C)(C)N1CCC1C(=O)NN', 'CCOC(=O)c1cnc(N)s1',\n",
       "       'COC(=O)c1cc(O)n(C)n1', 'CCOC(=O)c1cn[nH]c1C#N',\n",
       "       'COC(=O)c1[nH]c(=O)[nH]c1C', 'COC(=O)c1c[nH]nn1',\n",
       "       'CCOC(=O)C(C)C(C)(C)O', 'CCOC(=O)C1CCCN1S(=O)(=O)N',\n",
       "       'CS(=O)(=O)N1CCC1C(=O)NN', 'Cn1cccc1C(=O)NN',\n",
       "       'NNC(=O)Cc1cn2ccccc2n1', 'COC(=O)CCc1nn[nH]n1',\n",
       "       'Cc1cc(C(=O)NN)c(C)o1', 'NNC(=O)c1ccccn1', 'NNC(=O)c1cccnc1',\n",
       "       'CC(=O)NN', 'NNC(=O)C(=O)NC1CC1', 'NNC(=O)C1CCC1',\n",
       "       'Cc1ccc(o1)C(=O)NN', 'CCOC(=O)c1ccc2n(CC)c(=O)[nH]c2c1',\n",
       "       'Cc1csc(CC(=O)NN)n1', 'COc1ccccc1C(=O)NN',\n",
       "       'C[C@@H]1CC[C@@H](O1)C(=O)NN', 'NNC(=O)Cc1ccccc1O',\n",
       "       'NNC(=O)c1cccc2cccnc12', 'Cc1cc(C)n(CC(=O)NN)n1',\n",
       "       'CCOC(=O)c1nnn[nH]1', 'CCOC(=O)c1cnn[nH]1', 'COC(=O)c1ncon1',\n",
       "       'Cl.COC(=O)c1ncc[nH]1', 'CS(=O)(=O)CC(=O)NN',\n",
       "       'NNC(=O)C1CCc2nncn2C1', 'CCN1CC(CC1=O)C(=O)OC',\n",
       "       'COC(=O)c1c[nH][nH]c1=O', 'NNC(=O)CCCc1ccccc1',\n",
       "       'NNC(=O)c1cnn(c1)c2ccccc2', 'Cl.COC(=O)[C@H](Cc1c[nH]cn1)NC(=O)C',\n",
       "       'NNC(=O)C1COCCO1', 'Cc1cc(C(=O)NN)c2ccccc2n1',\n",
       "       'CCOc1ccc(OC(C)C(=O)NN)cc1',\n",
       "       'CC(=O)NC[C@@H]1C[C@H](C[C@@H]1O)C(=O)NN',\n",
       "       'CCOC(=O)c1ccc2n(CC)c(C)nc2c1', 'CC(C)C(=O)NN',\n",
       "       'COC(=O)C1CC(O)(C1)c2cccc(Cl)c2', 'CCOC(=O)C1C(C=C(C)C)C1(C)C',\n",
       "       'NNC(=O)c1cc(n[nH]1)c2ccccc2', 'COC(=O)C1CC2CCC1C2',\n",
       "       'COC(=O)C1CNC(=O)C1', 'COC(=O)c1nccn1C', 'COC(=O)c1ncccn1',\n",
       "       'COC(=O)c1ccsc1', 'COC(=O)C1CCSCC1', 'CCOC(=O)C1C2CCOC12',\n",
       "       'CCOC(=O)C1CCOCC1', 'CCOC(=O)C1C2CCCOC12', 'COC(=O)C1(CCOCC1)OC',\n",
       "       'COC(=O)C1(CCN2CC1)CC2', 'COC(=O)c1cn(C)nn1', 'COC(=O)C1SCCCS1',\n",
       "       'COC(=O)C1CCNC(=O)CC1', 'CCOC(=O)C1C2Cc3cc(Cl)ccc3C12',\n",
       "       'NNC(=O)c1ccccc1', 'Cc1cc(C)cc(OCC(=O)NN)c1',\n",
       "       'Cc1nc(sc1C(=O)NN)N2CCOCC2', 'CCOC(=O)C1(C)CCC(=O)NC1',\n",
       "       'Cl.CC(=O)N1CCCC(O)(CC(=O)NN)C1', 'NNC(=O)C(=O)N1CCCC1',\n",
       "       'NNC(=O)C1CCOC1', 'Cc1nc2ccccn2c1C(=O)NN', 'NNC(=O)c1cccc(Cl)c1',\n",
       "       'Cc1ncsc1C(=O)NN', 'NNC(=O)c1ccc2OCOc2c1', 'CC(C)(C)C(=O)NN',\n",
       "       'NNC(=O)[C@H]1CCCO1', 'NNC(=O)C1CC1', 'NNC(=O)C1Cc2ccccc2O1',\n",
       "       'CC(C)(C)c1ccc(OCC(=O)NN)cc1', 'CCC(C)C(=O)NN',\n",
       "       'Cn1cc(cn1)C(=O)NN', 'CCOC(=O)CC1CC2CCC(C1)N2C',\n",
       "       'CCOC(=O)c1[nH]cnc1C', 'COc1ccccc1OCC(=O)NN', 'CCOCC(=O)NN',\n",
       "       'NNC(=O)COc1ccccc1c2ccccc2', 'NNC(=O)c1ccc2ccccc2c1',\n",
       "       'CCC(C(=O)NN)c1ccccc1', 'NNC(=O)Cc1ccccn1', 'NNC(=O)c1ncccn1',\n",
       "       'NNC(=O)c1cc(Cl)ccc1Cl', 'NNC(=O)c1ccc(Cl)cc1Cl',\n",
       "       'NNC(=O)Cc1ccccc1Cl', 'NNC(=O)c1cccc(OC(F)F)c1',\n",
       "       'NNC(=O)c1ccc2ccccc2n1', 'C[C@@H]1CCO[C@@H]1C(=O)NN',\n",
       "       'NNC(=O)C(F)(F)Oc1ccccc1', 'CCC(=O)NN', 'Cc1ccccc1C(=O)NN',\n",
       "       'CC(C)(C)CC(=O)NN', 'COC(=O)[C@@H]1CN2CCC[C@@H]2CO1',\n",
       "       'COc1ccccc1CC(=O)NN', 'NNC(=O)C(=O)NCc1ccc(Cl)cc1',\n",
       "       'NNC(=O)COc1ccccc1F', 'CCc1ccccc1OCC(=O)NN',\n",
       "       'NNC(=O)c1nc2ccccc2s1', 'NNC(=O)C1CCOCC1', 'NNC(=O)C1CCCOC1',\n",
       "       'NNC(=O)Cc1ccc(F)cc1', 'NNC(=O)Cc1ccccc1F',\n",
       "       'NNC(=O)C(=O)Nc1ccccn1', 'COc1ccc(C(=O)NN)c(OC)c1',\n",
       "       'Cc1cccnc1C(=O)NN', 'NNC(=O)C1CCS(=O)(=O)C1',\n",
       "       'COC(=O)c1n[nH]c(Cl)n1', 'CC(C)CC(=O)NN', 'NNC(=O)CCC1CCCCC1',\n",
       "       'COCC(=O)NN', 'COC(=O)C1CN(C)C(=O)C1',\n",
       "       'COC(=O)[C@@H]1Cc2ccccc2CO1', 'NNC(=O)c1ccc[nH]1',\n",
       "       'NNC(=O)C1CCCC1', 'NNC(=O)CC(F)(F)F', 'Cl.Cc1ccc(cc1F)C(=O)NN',\n",
       "       'CC(NS(=O)(=O)C)C(=O)NN', 'NNC(=O)c1n[nH]c2CCCCc12',\n",
       "       'NNC(=O)CCc1ccco1', 'COC(=O)c1ncsc1S(=O)(=O)N',\n",
       "       'NNC(=O)c1ccn[nH]1', 'NNC(=O)CCOc1ccccc1', 'CC1(CCCO1)C(=O)NN',\n",
       "       'Cc1c(nnn1C)C(=O)NN', 'NNC(=O)[C@@H]1CCCO1', 'NNC(=O)C1CCCCO1',\n",
       "       'NNC(=O)C1CCN(CC1)c2ncccn2', 'NNC(=O)c1ccc(cc1)n2cnnn2',\n",
       "       'NNC(=O)CC1CCCC1', 'NNC(=O)C1CCCS1',\n",
       "       'NNC(=O)[C@@H]1CCCO[C@H]1c2ccccc2', 'NNC(=O)c1ccc(CO)o1',\n",
       "       'COC(=O)Cc1ccoc1', 'CC(C)NC(=O)C(=O)NN', 'Cn1cc(nn1)C(=O)NN',\n",
       "       'CCOc1ccccc1OCC(=O)NN', 'Cc1ccc(NC(=O)C(=O)NN)cc1C',\n",
       "       'NNC(=O)c1cc2ccccc2o1', 'CC(C)OC1(CCOC1)C(=O)NN', 'NNC(=O)c1ccoc1',\n",
       "       'NNC(=O)C1(CC2CC3CC(C2)C1)C3', 'CC(Oc1cccc(C)c1C)C(=O)NN',\n",
       "       'Cc1ccc(OCC(=O)NN)cc1', 'Cc1nc(CC(=O)NN)cs1',\n",
       "       'NNC(=O)COc1ccc(F)cc1', 'NNC(=O)Cc1cccnc1', 'NNC(=O)Cc1ccncc1',\n",
       "       'Cc1cccc(n1)C(=O)NN', 'NNC(=O)COCc1ccccc1',\n",
       "       'COC(=O)C1CCCc2[nH]ncc12', 'CC(C)(C)[C@@H]1OCC[C@H]1C(=O)NN',\n",
       "       'NNC(=O)c1ccc(Cl)cc1', 'COc1cccc(OC)c1C(=O)NN', 'NNC(=O)CC1CC1',\n",
       "       'NNC(=O)c1c[nH]c2ccccc12', 'CC(Oc1ccc2ccccc2c1)C(=O)NN',\n",
       "       'NNC(=O)CCN1CCN(CC1)c2ccccc2', 'NNC(=O)COc1ccccc1Cc2ccccc2',\n",
       "       'COC(=O)c1cncc(CO)c1', 'COC(=O)Cc1nn[nH]n1', 'COC(=O)Cc1ccn[nH]1',\n",
       "       'CCOC(=O)c1nnc[nH]1', 'COc1ccc(cc1OC)C(=O)NN',\n",
       "       'NNC(=O)c1sc2ccccc2c1Cl', 'Cc1csc(c1)C(=O)NN',\n",
       "       'CC(C)(C(=O)NN)c1ccccc1', 'NNC(=O)Cc1ccsc1',\n",
       "       'COc1ccc(CCC(=O)NN)cc1', 'NNC(=O)c1ccccc1F',\n",
       "       'CC(Oc1c(C)cc(Cl)cc1C)C(=O)NN', 'Cc1ccc(s1)C(=O)NN',\n",
       "       'Cn1cc(C(=O)NN)c2ccccc12', 'COc1cc(Cl)ccc1C(=O)NN',\n",
       "       'NNC(=O)COc1ccc(Cl)cc1', 'COc1ccc(OCC(=O)NN)cc1',\n",
       "       'NNC(=O)CC1(CC2CC3CC(C2)C1)C3', 'COC(=O)c1ccnc(OC)n1',\n",
       "       'CC(Oc1cccc(Cl)c1)C(=O)NN', 'NNC(=O)Cc1ccc(Cl)cc1',\n",
       "       'Cc1cc(CC(=O)NN)[nH]n1', 'Cc1nc(sc1C(=O)NN)c2ccccc2',\n",
       "       'NNC(=O)c1cc2CCCCCc2s1', 'CCn1nc(C(=O)NN)c2ccccc2c1=O',\n",
       "       'Cn1nc(C(=O)NN)c2ccccc2c1=O', 'CC(C)n1nc(C(=O)NN)c2ccccc2c1=O',\n",
       "       'CC1CN(C)CC(O1)C(=O)NN', 'NNC(=O)c1ccc(O)nc1',\n",
       "       'C[C@@H]1[C@@H](CCCN1C(=O)C)C(=O)NN', 'COC(=O)c1c[nH]c2ncccc12',\n",
       "       'NNC(=O)c1csc(n1)N2CCOCC2', 'NNC(=O)c1cccc(c1)C(F)(F)F',\n",
       "       'CCOC(=O)Cc1ccc(OC)c(OC)c1', 'NNC(=O)c1cc(on1)c2ccccc2',\n",
       "       'COC(=O)C1CCc2ccccc12', 'NNC(=O)CCCOc1ccc(Cl)cc1Cl',\n",
       "       'NNC(=O)Cc1cccs1', 'NNC(=O)c1cnccn1', 'CN(C)CC(=O)NN',\n",
       "       'Cc1n[nH]cc1C(=O)NN', 'Cc1ccc(OCC(=O)NN)cc1C',\n",
       "       'NNC(=O)COc1ccc(Cl)cc1Cl', 'NNC(=O)Cc1cccc2ccccc12',\n",
       "       'NNC(=O)c1ccccc1OCc2ccc(F)cc2', 'CC1CCc2sc(cc2C1)C(=O)NN',\n",
       "       'NNC(=O)Cc1ccc2ccccc2c1', 'CS(=O)(=O)N1CCOC(C1)C(=O)NN',\n",
       "       'CCOC(=O)COc1cccc(C#N)c1', 'NNC(=O)c1ccc(s1)c2ccc(F)cc2',\n",
       "       'CC(Oc1ccccc1F)C(=O)NN', 'NNC(=O)c1ccc2OCCOc2c1',\n",
       "       'CCOC(=O)c1cn[nH]c1N', 'CCOC(=O)c1noc(O)n1',\n",
       "       'NNC(=O)c1cccc2ccccc12', 'CC(C)c1ccc(C)cc1OCC(=O)NN',\n",
       "       'NNC(=O)C(=O)N', 'CC1OCCC1C(=O)NN', 'NNC(=O)CC1CCCCC1',\n",
       "       'CCOC(=O)[C@H](O)CC', 'NNC(=O)c1ccc(Cl)cc1F',\n",
       "       'Cc1cc(Cl)ccc1OCCCC(=O)NN', 'CC(C)(C)c1ccc(cc1)C(=O)NN',\n",
       "       'CCCCC(=O)NN', 'Cl.COC(=O)c1nnc(N)[nH]1',\n",
       "       'NNC(=O)Cc1c[nH]c2ccccc12', 'NNC(=O)c1cc2CCCCCCc2s1',\n",
       "       'CCC(CC)NC(=O)C(=O)NN', 'NNC(=O)C1Cc2ccccc2CN1Cc3ccccc3',\n",
       "       'CS(=O)(=O)c1cccc(c1)C(=O)NN', 'NNC(=O)c1ccc(C#N)cc1',\n",
       "       'CC(C)CCC(=O)NN', 'COC(=O)C1CCOCC1', 'CCOC(=O)c1cnc2[nH]ncc2c1',\n",
       "       'CCOC(=O)C1CCC1', 'CCOC(=O)CC(C)(O)c1ccc(Cl)cc1',\n",
       "       'CCOC(=O)CC(O)c1ccc(F)c(F)c1', 'CCOC(=O)CC1(O)CCc2ccccc21',\n",
       "       'NNC(=O)CNC(=O)c1ccco1', 'CCOC(=O)C(F)(F)C1(O)CCCCC1',\n",
       "       'COC(=O)c1cccc2ccn(C)c12', 'CCOC1(CCOC1)C(=O)NN',\n",
       "       'CCOC(=O)c1cc2nccn2cn1', 'NNC(=O)c1ccc(cc1)[N+](=O)[O-]',\n",
       "       'NNC(=O)c1cccc(c1)[N+](=O)[O-]', 'NNC(=O)c1cccc(C#N)c1',\n",
       "       'Cc1cccc(OCC(=O)NN)c1', 'Cc1ccc(C)c(OCC(=O)NN)c1',\n",
       "       'CC(Oc1ccc(F)cc1)C(=O)NN', 'CCOC(=O)Cc1nn[nH]n1',\n",
       "       'CCOC(=O)c1cnc(N)o1', 'CCOC(=O)C1CCCc2cccnc12',\n",
       "       'CC(=O)N[C@@H]1CC[C@H](CC(=O)NN)C1', 'CCOC(=O)c1cnns1',\n",
       "       'COC(=O)C(C)CO', 'CCc1ccc(cc1)C(=O)NN', 'COC(=O)c1cc2ncn(C)c2cn1',\n",
       "       'Cc1ccccc1CC(=O)NN', 'Cn1cc(ccc1=O)C(=O)NN', 'NNC(=O)c1ccc(F)cc1',\n",
       "       'NNC(=O)c1ccccc1Cl', 'NNC(=O)CCc1ccccc1',\n",
       "       'COC(=O)C(O)C(C)c1ccccc1F', 'COC(=O)CO', 'CCOC(=O)c1ncc[nH]1',\n",
       "       'COC(=O)[C@H](C)NS(=O)(=O)C', 'CCOC(=O)c1n[nH]c(n1)C2CC2',\n",
       "       'CCOC(=O)c1nc(no1)C2CC2', 'CCOC(=O)c1oc(nc1C)C2CC2',\n",
       "       'CCOC(=O)c1sc(C)nc1O', 'Cl.COC(=O)c1n[nH]cc1C',\n",
       "       'COC(=O)[C@@H]1CCC(=O)N1', 'CCOC(=O)CO', 'CCOC(=O)c1ncoc1CC',\n",
       "       'CCOC(=O)C1CC1C#N', 'COC(=O)c1cc2c(C)cccc2[nH]1',\n",
       "       'CCOC(=O)c1nc(C)ns1', 'COC(=O)c1cnoc1C', 'COC(=O)c1ccnn1C',\n",
       "       'CCOC(=O)c1ncn(C)n1', 'COC(=O)c1ccc2[nH]ncc2c1',\n",
       "       'COC(=O)c1cncnc1O', 'COC(=O)C(O)c1cccc(C)c1C',\n",
       "       'CCOC(=O)C(C)(O)c1ccc(F)c(F)c1', 'CCOC(=O)CC(C)(C)O',\n",
       "       'COC(=O)C(C)c1cnn(C)c1', 'COC(=O)c1c[nH]c(n1)C2CC2',\n",
       "       'COC(=O)CCCOc1ccccc1F', 'COC(=O)C(O)C1CC1', 'CCOC(=O)C(O)C1CC1',\n",
       "       'COC(=O)C1COc2ccccc12', 'COC(=O)C[C@H](C)O',\n",
       "       'NNC(=O)COc1ccc(C#N)cc1', 'NNC(=O)CNC(=O)OCc1ccccc1',\n",
       "       'NNC(=O)c1ccc(Cl)nc1', 'CC(C)(C)OC(=O)N1CCOCC1C(=O)NN',\n",
       "       'NNC(=O)c1cc(c[nH]1)[N+](=O)[O-]',\n",
       "       'NNC(=O)[C@H]1CCO[C@@H]1c2ccccc2', 'CCOC(=O)C(C)(Cc1ccncc1)C#N',\n",
       "       'COC(=O)CCCC#N', 'Cl.NNC(=O)[C@H]1OCC[C@H]1c2ccccc2',\n",
       "       'NNC(=O)C1CC2CCC1O2', 'CCOC(=O)c1ccn[nH]1',\n",
       "       'Cl.CCOC(=O)c1cn[nH]c1', 'NNC(=O)c1c[nH]nn1', 'CCOC(=O)CC(F)F',\n",
       "       'NNC(=O)c1nc[nH]n1', 'NNC(=O)C(F)F', 'COc1cccc(C(=O)NN)c1OC',\n",
       "       'CCOC(=O)c1csc2ccccc12', 'COC(=O)C1=NNC(=O)C1', 'NNC(=O)CCO',\n",
       "       'COC(=O)C1CC(O)C1', 'NNC(=O)c1ccc(=O)[nH]n1',\n",
       "       'CCOC(=O)c1ncc2ccccn12', 'CCOC(=O)Cc1csc(C)c1',\n",
       "       'Cl.NNC(=O)c1n[nH]c2ccccc12', 'COC(=O)C1(O)CC1',\n",
       "       'COC(=O)[C@@H]1CC[C@H](C)O1', 'NNC(=O)[C@@H]1CN2CCC[C@@H]2CO1',\n",
       "       'NNC(=O)CO', 'NNC(=O)CC1CCS(=O)(=O)C1', 'COc1ccccc1SCC(=O)NN',\n",
       "       'NNC(=O)c1cnsn1', 'COc1ccc(cc1)C(=O)NN', 'COC(=O)c1coc(CO)c1',\n",
       "       'CCOC(=O)C1CCC(=O)NC1'], dtype=object)"
      ]
     },
     "execution_count": 10,
     "metadata": {},
     "output_type": "execute_result"
    }
   ],
   "source": [
    "df.REAGENTSMI3.unique()"
   ]
  },
  {
   "cell_type": "code",
   "execution_count": 11,
   "id": "23d2970d-d9d4-446a-8877-f852263982d9",
   "metadata": {},
   "outputs": [
    {
     "data": {
      "text/plain": [
       "4"
      ]
     },
     "execution_count": 11,
     "metadata": {},
     "output_type": "execute_result"
    }
   ],
   "source": [
    "df.contributor.nunique(dropna=False)"
   ]
  },
  {
   "cell_type": "code",
   "execution_count": 18,
   "id": "fe90b713-ce10-44f5-a14b-dd025f7957c8",
   "metadata": {},
   "outputs": [
    {
     "data": {
      "text/plain": [
       "low       39137\n",
       "0         20723\n",
       "medium    12950\n",
       "high       7204\n",
       "Name: YIELD_tier, dtype: int64"
      ]
     },
     "execution_count": 18,
     "metadata": {},
     "output_type": "execute_result"
    }
   ],
   "source": [
    "df.YIELD_tier.value_counts(dropna=False)"
   ]
  },
  {
   "cell_type": "code",
   "execution_count": 21,
   "id": "dec3960d-f1be-43d0-b545-89c21019dd36",
   "metadata": {},
   "outputs": [
    {
     "data": {
      "text/plain": [
       "527       27880\n",
       "207       18353\n",
       "34         8449\n",
       "20         7212\n",
       "271570     4344\n",
       "512        4127\n",
       "270942     3009\n",
       "38         2364\n",
       "2714       2217\n",
       "274090     2059\n",
       "Name: REACTIONID, dtype: int64"
      ]
     },
     "execution_count": 21,
     "metadata": {},
     "output_type": "execute_result"
    }
   ],
   "source": [
    "df.REACTIONID.value_counts(dropna=False)"
   ]
  },
  {
   "cell_type": "code",
   "execution_count": 22,
   "id": "b52554e6-d9b2-47d8-9a56-eb2a7f39db33",
   "metadata": {},
   "outputs": [
    {
     "data": {
      "text/plain": [
       "SMILES               0\n",
       "YIELD_tier           0\n",
       "YIELD_numeric        0\n",
       "REACTIONID           0\n",
       "REAGENTSMI1          0\n",
       "preparatory_1        0\n",
       "REAGENTSMI2          0\n",
       "preparatory_2        0\n",
       "REAGENTSMI3      77005\n",
       "preparatory_3        0\n",
       "contributor          0\n",
       "catalyst_1           0\n",
       "catalyst_2           0\n",
       "catalyst_3           0\n",
       "dtype: int64"
      ]
     },
     "execution_count": 22,
     "metadata": {},
     "output_type": "execute_result"
    }
   ],
   "source": [
    "df.isna().sum()"
   ]
  },
  {
   "cell_type": "markdown",
   "id": "9fe4e2ff-6f90-4a5e-ba3c-432443d21cc4",
   "metadata": {
    "tags": []
   },
   "source": [
    "# Load and preprocess data"
   ]
  },
  {
   "cell_type": "code",
   "execution_count": 2,
   "id": "356264f4-994b-4b31-902c-956140b8d886",
   "metadata": {},
   "outputs": [
    {
     "name": "stdout",
     "output_type": "stream",
     "text": [
      "(80014, 14)\n"
     ]
    },
    {
     "data": {
      "text/html": [
       "<div>\n",
       "<style scoped>\n",
       "    .dataframe tbody tr th:only-of-type {\n",
       "        vertical-align: middle;\n",
       "    }\n",
       "\n",
       "    .dataframe tbody tr th {\n",
       "        vertical-align: top;\n",
       "    }\n",
       "\n",
       "    .dataframe thead th {\n",
       "        text-align: right;\n",
       "    }\n",
       "</style>\n",
       "<table border=\"1\" class=\"dataframe\">\n",
       "  <thead>\n",
       "    <tr style=\"text-align: right;\">\n",
       "      <th></th>\n",
       "      <th>SMILES</th>\n",
       "      <th>YIELD_tier</th>\n",
       "      <th>YIELD_numeric</th>\n",
       "      <th>REACTIONID</th>\n",
       "      <th>REAGENTSMI1</th>\n",
       "      <th>preparatory_1</th>\n",
       "      <th>REAGENTSMI2</th>\n",
       "      <th>preparatory_2</th>\n",
       "      <th>REAGENTSMI3</th>\n",
       "      <th>preparatory_3</th>\n",
       "      <th>contributor</th>\n",
       "      <th>catalyst_1</th>\n",
       "      <th>catalyst_2</th>\n",
       "      <th>catalyst_3</th>\n",
       "    </tr>\n",
       "  </thead>\n",
       "  <tbody>\n",
       "    <tr>\n",
       "      <th>0</th>\n",
       "      <td>CC1=CC(CS(=O)(=O)NC2=CC=C(SC(F)F)C=C2)=NO1</td>\n",
       "      <td>low</td>\n",
       "      <td>30.4</td>\n",
       "      <td>20</td>\n",
       "      <td>Nc1ccc(SC(F)F)cc1</td>\n",
       "      <td>4</td>\n",
       "      <td>Cc1cc(CS(=O)(=O)Cl)no1</td>\n",
       "      <td>3</td>\n",
       "      <td></td>\n",
       "      <td>1</td>\n",
       "      <td>0</td>\n",
       "      <td>5</td>\n",
       "      <td>2</td>\n",
       "      <td>0</td>\n",
       "    </tr>\n",
       "    <tr>\n",
       "      <th>1</th>\n",
       "      <td>CC(=O)NC1=CC=C(NS(=O)(=O)CC2CCN(C2)C(=O)OCC2=C...</td>\n",
       "      <td>0</td>\n",
       "      <td>0.0</td>\n",
       "      <td>20</td>\n",
       "      <td>CC(=O)Nc1ccc(N)cc1</td>\n",
       "      <td>4</td>\n",
       "      <td>ClS(=O)(=O)CC1CCN(C1)C(=O)OCc2ccccc2</td>\n",
       "      <td>3</td>\n",
       "      <td></td>\n",
       "      <td>1</td>\n",
       "      <td>0</td>\n",
       "      <td>5</td>\n",
       "      <td>2</td>\n",
       "      <td>0</td>\n",
       "    </tr>\n",
       "    <tr>\n",
       "      <th>2</th>\n",
       "      <td>COC(=O)C1=CC=CC=C1NS(=O)(=O)C1=CC=C2NC(=O)OC2=C1</td>\n",
       "      <td>high</td>\n",
       "      <td>80.0</td>\n",
       "      <td>20</td>\n",
       "      <td>COC(=O)c1ccccc1N</td>\n",
       "      <td>4</td>\n",
       "      <td>ClS(=O)(=O)c1ccc2[nH]c(=O)oc2c1</td>\n",
       "      <td>3</td>\n",
       "      <td></td>\n",
       "      <td>1</td>\n",
       "      <td>0</td>\n",
       "      <td>5</td>\n",
       "      <td>2</td>\n",
       "      <td>0</td>\n",
       "    </tr>\n",
       "    <tr>\n",
       "      <th>3</th>\n",
       "      <td>COC(=O)C1=CC=CC=C1NS(=O)(=O)C1CCOC1=O</td>\n",
       "      <td>0</td>\n",
       "      <td>0.0</td>\n",
       "      <td>20</td>\n",
       "      <td>COC(=O)c1ccccc1N</td>\n",
       "      <td>4</td>\n",
       "      <td>ClS(=O)(=O)C1CCOC1=O</td>\n",
       "      <td>3</td>\n",
       "      <td></td>\n",
       "      <td>1</td>\n",
       "      <td>0</td>\n",
       "      <td>5</td>\n",
       "      <td>2</td>\n",
       "      <td>0</td>\n",
       "    </tr>\n",
       "    <tr>\n",
       "      <th>4</th>\n",
       "      <td>FC(F)(F)C1=CC=C(CCS(=O)(=O)NC2=CC=C3OCCOC3=C2)...</td>\n",
       "      <td>low</td>\n",
       "      <td>16.7</td>\n",
       "      <td>20</td>\n",
       "      <td>Nc1ccc2OCCOc2c1</td>\n",
       "      <td>4</td>\n",
       "      <td>FC(F)(F)c1ccc(CCS(=O)(=O)Cl)cc1</td>\n",
       "      <td>3</td>\n",
       "      <td></td>\n",
       "      <td>1</td>\n",
       "      <td>0</td>\n",
       "      <td>5</td>\n",
       "      <td>2</td>\n",
       "      <td>0</td>\n",
       "    </tr>\n",
       "  </tbody>\n",
       "</table>\n",
       "</div>"
      ],
      "text/plain": [
       "                                              SMILES YIELD_tier  \\\n",
       "0         CC1=CC(CS(=O)(=O)NC2=CC=C(SC(F)F)C=C2)=NO1        low   \n",
       "1  CC(=O)NC1=CC=C(NS(=O)(=O)CC2CCN(C2)C(=O)OCC2=C...          0   \n",
       "2   COC(=O)C1=CC=CC=C1NS(=O)(=O)C1=CC=C2NC(=O)OC2=C1       high   \n",
       "3              COC(=O)C1=CC=CC=C1NS(=O)(=O)C1CCOC1=O          0   \n",
       "4  FC(F)(F)C1=CC=C(CCS(=O)(=O)NC2=CC=C3OCCOC3=C2)...        low   \n",
       "\n",
       "   YIELD_numeric  REACTIONID         REAGENTSMI1  preparatory_1  \\\n",
       "0           30.4          20   Nc1ccc(SC(F)F)cc1              4   \n",
       "1            0.0          20  CC(=O)Nc1ccc(N)cc1              4   \n",
       "2           80.0          20    COC(=O)c1ccccc1N              4   \n",
       "3            0.0          20    COC(=O)c1ccccc1N              4   \n",
       "4           16.7          20     Nc1ccc2OCCOc2c1              4   \n",
       "\n",
       "                            REAGENTSMI2  preparatory_2 REAGENTSMI3  \\\n",
       "0                Cc1cc(CS(=O)(=O)Cl)no1              3               \n",
       "1  ClS(=O)(=O)CC1CCN(C1)C(=O)OCc2ccccc2              3               \n",
       "2       ClS(=O)(=O)c1ccc2[nH]c(=O)oc2c1              3               \n",
       "3                  ClS(=O)(=O)C1CCOC1=O              3               \n",
       "4       FC(F)(F)c1ccc(CCS(=O)(=O)Cl)cc1              3               \n",
       "\n",
       "   preparatory_3  contributor  catalyst_1  catalyst_2  catalyst_3  \n",
       "0              1            0           5           2           0  \n",
       "1              1            0           5           2           0  \n",
       "2              1            0           5           2           0  \n",
       "3              1            0           5           2           0  \n",
       "4              1            0           5           2           0  "
      ]
     },
     "execution_count": 2,
     "metadata": {},
     "output_type": "execute_result"
    }
   ],
   "source": [
    "df = pd.read_csv('2020-06_Enamine_experimental_data_corrected.txt',\n",
    "                 sep='\\t',\n",
    "                 low_memory=False).drop(columns=['InChI_key',\n",
    "                                                 'REAGENTID1',\n",
    "                                                 'REAGENTID2',\n",
    "                                                 'REAGENTID3'])\n",
    "# fill NaNs for categorical columns\n",
    "df.contributor.fillna('NaN', inplace=True)\n",
    "# df.REACTIONID.fillna('NaN', inplace=True)  # no NaNs\n",
    "df.preparatory_1.fillna('NaN', inplace=True)\n",
    "df.preparatory_2.fillna('NaN', inplace=True)\n",
    "df.preparatory_3.fillna('NaN', inplace=True)\n",
    "df.catalyst_1.fillna('NaN', inplace=True)\n",
    "df.catalyst_2.fillna('NaN', inplace=True)\n",
    "df.catalyst_3.fillna('NaN', inplace=True)\n",
    "\n",
    "# fill NaNs for SMILES columns\n",
    "df.REAGENTSMI3.fillna(' ', inplace=True)\n",
    "\n",
    "# encode values\n",
    "df['contributor'] = preprocessing.LabelEncoder().fit_transform(df.contributor)\n",
    "# df['REACTIONID'] = preprocessing.LabelEncoder().fit_transform(df.REACTIONID)  # no NaNs\n",
    "df['preparatory_1'] = preprocessing.LabelEncoder().fit_transform(df.preparatory_1)\n",
    "df['preparatory_2'] = preprocessing.LabelEncoder().fit_transform(df.preparatory_2)\n",
    "df['preparatory_3'] = preprocessing.LabelEncoder().fit_transform(df.preparatory_3)\n",
    "df['catalyst_1'] = preprocessing.LabelEncoder().fit_transform(df.catalyst_1)\n",
    "df['catalyst_2'] = preprocessing.LabelEncoder().fit_transform(df.catalyst_2)\n",
    "df['catalyst_3'] = preprocessing.LabelEncoder().fit_transform(df.catalyst_3)\n",
    "\n",
    "\n",
    "# categorical:\n",
    "# - contributor\n",
    "# - REACTIONID\n",
    "# - preparatory_1\n",
    "# - preparatory_2\n",
    "# - preparatory_3\n",
    "# - catalyst_1\n",
    "# - catalyst_2\n",
    "# - catalyst_3\n",
    "\n",
    "print(df.shape)\n",
    "df.head()"
   ]
  },
  {
   "cell_type": "markdown",
   "id": "ab415c3a-b767-46a0-805f-092669f5bbcc",
   "metadata": {
    "tags": []
   },
   "source": [
    "# SMILES to Morgan circular fingerprints with radius 4"
   ]
  },
  {
   "cell_type": "code",
   "execution_count": 3,
   "id": "e6b70e24-5a2a-448c-a314-836d823d9638",
   "metadata": {
    "tags": []
   },
   "outputs": [
    {
     "name": "stderr",
     "output_type": "stream",
     "text": [
      "100%|███████████████████████████████████████████████████████████████████████████████████████████████████████████████████| 4/4 [02:53<00:00, 43.43s/it]"
     ]
    },
    {
     "name": "stdout",
     "output_type": "stream",
     "text": [
      "CPU times: user 2min 32s, sys: 14.7 s, total: 2min 46s\n",
      "Wall time: 2min 53s\n"
     ]
    },
    {
     "name": "stderr",
     "output_type": "stream",
     "text": [
      "\n"
     ]
    }
   ],
   "source": [
    "%%time\n",
    "\n",
    "SMILES_cols = ['SMILES', 'REAGENTSMI1', 'REAGENTSMI2', 'REAGENTSMI3']\n",
    "SMILES_fps = dict()\n",
    "\n",
    "for col in tqdm(SMILES_cols):\n",
    "    ecfp_df = pd.DataFrame(df[col].apply(get_ECFP4).tolist())\n",
    "    ecfp_df.columns = list(map(lambda n: f'{col}-ECFP4-{n}', ecfp_df.columns))\n",
    "    df = pd.concat([df, ecfp_df], axis='columns')\n",
    "    df = df.drop(columns=[col])\n",
    "    del ecfp_df\n",
    "\n",
    "df['YIELD_bin'] = 1\n",
    "df.loc[df.YIELD_tier=='0', 'YIELD_bin'] = 0\n",
    "clf_bin_df = df.drop(columns=['YIELD_numeric', 'YIELD_tier'])\n",
    "clf_mult_df = df[df.YIELD_bin!=0].drop(columns=['YIELD_numeric', 'YIELD_bin'])\n",
    "reg_df = df[df.YIELD_bin!=0].drop(columns=['YIELD_tier', 'YIELD_bin'])\n",
    "del df"
   ]
  },
  {
   "cell_type": "code",
   "execution_count": 13,
   "id": "51094e3e-6d7b-4e02-a21f-c09f3ff3d3b0",
   "metadata": {},
   "outputs": [
    {
     "name": "stdout",
     "output_type": "stream",
     "text": [
      "CPU times: user 3min 52s, sys: 12.9 s, total: 4min 5s\n",
      "Wall time: 4min 8s\n"
     ]
    }
   ],
   "source": [
    "%%time\n",
    "\n",
    "clf_bin_df.to_csv('yield_clf_bin_df.csv', index=False)\n",
    "clf_mult_df.to_csv('yield_clf_mult_df.csv', index=False)\n",
    "reg_df.to_csv('yield_reg_df.csv', index=False)"
   ]
  }
 ],
 "metadata": {
  "kernelspec": {
   "display_name": "Python 3 (ipykernel)",
   "language": "python",
   "name": "python3"
  },
  "language_info": {
   "codemirror_mode": {
    "name": "ipython",
    "version": 3
   },
   "file_extension": ".py",
   "mimetype": "text/x-python",
   "name": "python",
   "nbconvert_exporter": "python",
   "pygments_lexer": "ipython3",
   "version": "3.8.11"
  }
 },
 "nbformat": 4,
 "nbformat_minor": 5
}
