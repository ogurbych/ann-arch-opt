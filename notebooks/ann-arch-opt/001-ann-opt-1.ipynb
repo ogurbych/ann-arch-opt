{
  "nbformat": 4,
  "nbformat_minor": 0,
  "metadata": {
    "colab": {
      "name": "ann-opt-1.ipynb",
      "provenance": [],
      "collapsed_sections": [
        "IkXEXgeFrYi0"
      ]
    },
    "kernelspec": {
      "name": "python3",
      "display_name": "Python 3"
    },
    "language_info": {
      "name": "python"
    }
  },
  "cells": [
    {
      "cell_type": "code",
      "metadata": {
        "colab": {
          "base_uri": "https://localhost:8080/"
        },
        "id": "qL05EUua_-Lc",
        "outputId": "97129ea2-2cab-4626-afc4-19398bfb6ce4"
      },
      "source": [
        "!pip install yfinance"
      ],
      "execution_count": null,
      "outputs": [
        {
          "output_type": "stream",
          "name": "stdout",
          "text": [
            "Collecting yfinance\n",
            "  Downloading yfinance-0.1.67-py2.py3-none-any.whl (25 kB)\n",
            "Requirement already satisfied: numpy>=1.15 in /usr/local/lib/python3.7/dist-packages (from yfinance) (1.19.5)\n",
            "Requirement already satisfied: multitasking>=0.0.7 in /usr/local/lib/python3.7/dist-packages (from yfinance) (0.0.10)\n",
            "Requirement already satisfied: pandas>=0.24 in /usr/local/lib/python3.7/dist-packages (from yfinance) (1.1.5)\n",
            "Requirement already satisfied: requests>=2.20 in /usr/local/lib/python3.7/dist-packages (from yfinance) (2.23.0)\n",
            "Collecting lxml>=4.5.1\n",
            "  Downloading lxml-4.6.4-cp37-cp37m-manylinux_2_17_x86_64.manylinux2014_x86_64.manylinux_2_24_x86_64.whl (6.3 MB)\n",
            "\u001b[K     |████████████████████████████████| 6.3 MB 37.1 MB/s \n",
            "\u001b[?25hRequirement already satisfied: python-dateutil>=2.7.3 in /usr/local/lib/python3.7/dist-packages (from pandas>=0.24->yfinance) (2.8.2)\n",
            "Requirement already satisfied: pytz>=2017.2 in /usr/local/lib/python3.7/dist-packages (from pandas>=0.24->yfinance) (2018.9)\n",
            "Requirement already satisfied: six>=1.5 in /usr/local/lib/python3.7/dist-packages (from python-dateutil>=2.7.3->pandas>=0.24->yfinance) (1.15.0)\n",
            "Requirement already satisfied: urllib3!=1.25.0,!=1.25.1,<1.26,>=1.21.1 in /usr/local/lib/python3.7/dist-packages (from requests>=2.20->yfinance) (1.24.3)\n",
            "Requirement already satisfied: chardet<4,>=3.0.2 in /usr/local/lib/python3.7/dist-packages (from requests>=2.20->yfinance) (3.0.4)\n",
            "Requirement already satisfied: idna<3,>=2.5 in /usr/local/lib/python3.7/dist-packages (from requests>=2.20->yfinance) (2.10)\n",
            "Requirement already satisfied: certifi>=2017.4.17 in /usr/local/lib/python3.7/dist-packages (from requests>=2.20->yfinance) (2021.10.8)\n",
            "Installing collected packages: lxml, yfinance\n",
            "  Attempting uninstall: lxml\n",
            "    Found existing installation: lxml 4.2.6\n",
            "    Uninstalling lxml-4.2.6:\n",
            "      Successfully uninstalled lxml-4.2.6\n",
            "Successfully installed lxml-4.6.4 yfinance-0.1.67\n"
          ]
        }
      ]
    },
    {
      "cell_type": "code",
      "metadata": {
        "id": "ckC_fIfPAswl"
      },
      "source": [
        "import yfinance as yf\n",
        "import pandas as pd\n",
        "import numpy as np\n",
        "from keras.models import Sequential\n",
        "from keras.layers import Dense\n",
        "from keras.layers import LSTM\n",
        "from sklearn.preprocessing import MinMaxScaler\n",
        "import matplotlib.pyplot as plt\n",
        "from sklearn.metrics import mean_squared_error, r2_score, mean_absolute_error\n",
        "import pylab\n",
        "from matplotlib import pyplot\n",
        "%matplotlib inline"
      ],
      "execution_count": null,
      "outputs": []
    },
    {
      "cell_type": "code",
      "metadata": {
        "colab": {
          "base_uri": "https://localhost:8080/",
          "height": 205
        },
        "id": "9L3c75_WAwgB",
        "outputId": "493113c6-b62b-4eef-9fb9-4946bbb3d144"
      },
      "source": [
        "data=yf.download('AMZN',start='2020-06-01', interval='1h',  end='2021-06-01',progress=False)[['Close']]\n",
        "data.head()"
      ],
      "execution_count": null,
      "outputs": [
        {
          "output_type": "execute_result",
          "data": {
            "text/html": [
              "<div>\n",
              "<style scoped>\n",
              "    .dataframe tbody tr th:only-of-type {\n",
              "        vertical-align: middle;\n",
              "    }\n",
              "\n",
              "    .dataframe tbody tr th {\n",
              "        vertical-align: top;\n",
              "    }\n",
              "\n",
              "    .dataframe thead th {\n",
              "        text-align: right;\n",
              "    }\n",
              "</style>\n",
              "<table border=\"1\" class=\"dataframe\">\n",
              "  <thead>\n",
              "    <tr style=\"text-align: right;\">\n",
              "      <th></th>\n",
              "      <th>Close</th>\n",
              "    </tr>\n",
              "  </thead>\n",
              "  <tbody>\n",
              "    <tr>\n",
              "      <th>2020-06-01 09:30:00-04:00</th>\n",
              "      <td>2472.007568</td>\n",
              "    </tr>\n",
              "    <tr>\n",
              "      <th>2020-06-01 10:30:00-04:00</th>\n",
              "      <td>2461.639893</td>\n",
              "    </tr>\n",
              "    <tr>\n",
              "      <th>2020-06-01 11:30:00-04:00</th>\n",
              "      <td>2468.232910</td>\n",
              "    </tr>\n",
              "    <tr>\n",
              "      <th>2020-06-01 12:30:00-04:00</th>\n",
              "      <td>2470.982422</td>\n",
              "    </tr>\n",
              "    <tr>\n",
              "      <th>2020-06-01 13:30:00-04:00</th>\n",
              "      <td>2467.334961</td>\n",
              "    </tr>\n",
              "  </tbody>\n",
              "</table>\n",
              "</div>"
            ],
            "text/plain": [
              "                                 Close\n",
              "2020-06-01 09:30:00-04:00  2472.007568\n",
              "2020-06-01 10:30:00-04:00  2461.639893\n",
              "2020-06-01 11:30:00-04:00  2468.232910\n",
              "2020-06-01 12:30:00-04:00  2470.982422\n",
              "2020-06-01 13:30:00-04:00  2467.334961"
            ]
          },
          "metadata": {},
          "execution_count": 6
        }
      ]
    },
    {
      "cell_type": "code",
      "metadata": {
        "colab": {
          "base_uri": "https://localhost:8080/",
          "height": 578
        },
        "id": "digzfnFNAzQf",
        "outputId": "79d0ccde-84e9-422c-f0d9-dbfdf95f6ccd"
      },
      "source": [
        "data.plot(figsize=(10,10))"
      ],
      "execution_count": null,
      "outputs": [
        {
          "output_type": "execute_result",
          "data": {
            "text/plain": [
              "<matplotlib.axes._subplots.AxesSubplot at 0x7fa2bb678690>"
            ]
          },
          "metadata": {},
          "execution_count": 7
        },
        {
          "output_type": "display_data",
          "data": {
            "image/png": "[encoded data removed]",
            "text/plain": [
              "<Figure size 720x720 with 1 Axes>"
            ]
          },
          "metadata": {
            "needs_background": "light"
          }
        }
      ]
    },
    {
      "cell_type": "code",
      "metadata": {
        "colab": {
          "base_uri": "https://localhost:8080/"
        },
        "id": "3gNxp_RVA52e",
        "outputId": "fa153b12-e958-4ec5-d629-d65a62330ad7"
      },
      "source": [
        "cl = data.Close.astype('float32')\n",
        "train = cl[0:int(len(cl)*0.80)]\n",
        "scl = MinMaxScaler()\n",
        "#Scale the data\n",
        "scl.fit(train.values.reshape(-1,1))\n",
        "cl =scl.transform(cl.values.reshape(-1,1))\n",
        "#Create a function to process the data into lb observations look back slices\n",
        "# and create the train test dataset (90-10)\n",
        "def processData(data,lb):\n",
        "    X,Y = [],[]\n",
        "    for i in range(len(data)-lb-1):\n",
        "        X.append(data[i:(i+lb),0])\n",
        "        Y.append(data[(i+lb),0])\n",
        "    return np.array(X),np.array(Y)\n",
        " \n",
        " \n",
        "lb=10\n",
        "X,y = processData(cl,lb)\n",
        "X_train,X_test = X[:int(X.shape[0]*0.90)],X[int(X.shape[0]*0.90):]\n",
        "y_train,y_test = y[:int(y.shape[0]*0.90)],y[int(y.shape[0]*0.90):]\n",
        "\n",
        "print(y_train)"
      ],
      "execution_count": null,
      "outputs": [
        {
          "output_type": "stream",
          "name": "stdout",
          "text": [
            "[0.01250958 0.01521754 0.01252556 ... 0.8474834  0.84385705 0.84552693]\n"
          ]
        }
      ]
    },
    {
      "cell_type": "code",
      "metadata": {
        "colab": {
          "base_uri": "https://localhost:8080/"
        },
        "id": "WBgkYdc0BB2l",
        "outputId": "38ff6115-2646-4b90-9a5b-33b118818ccf"
      },
      "source": [
        "#Reshape data for (Sample,Timestep,Features) \n",
        "X_train = X_train.reshape((X_train.shape[0],X_train.shape[1],1))\n",
        "X_test = X_test.reshape((X_test.shape[0],X_test.shape[1],1))\n",
        "print(y_train)"
      ],
      "execution_count": null,
      "outputs": [
        {
          "output_type": "stream",
          "name": "stdout",
          "text": [
            "[0.01250958 0.01521754 0.01252556 ... 0.8474834  0.84385705 0.84552693]\n"
          ]
        }
      ]
    },
    {
      "cell_type": "code",
      "metadata": {
        "id": "by86MkcrBONe"
      },
      "source": [
        "model1=Sequential()\n",
        "dense1_1=Dense(units=32, input_dim=10, activation='relu')\n",
        "model1.add(dense1_1)\n",
        "dense1_2=Dense(8, activation='relu')\n",
        "model1.add(dense1_2)\n",
        "model1.add(Dense(1))\n",
        "model1.compile(loss='mean_squared_error',  optimizer='adam',metrics = ['mse', 'mae'])"
      ],
      "execution_count": null,
      "outputs": []
    },
    {
      "cell_type": "code",
      "metadata": {
        "id": "W0rGiSDtBUuT"
      },
      "source": [
        "model2=Sequential()\n",
        "dense2_1=Dense(units=32, input_dim=10, activation='relu')\n",
        "model2.add(dense2_1)\n",
        "dense2_2=Dense(8, activation='relu')\n",
        "model2.add(dense2_2)\n",
        "model2.add(Dense(1))\n",
        "model2.layers[0].set_weights([model1.layers[0].get_weights()[0], model1.layers[0].get_weights()[1]])\n",
        "model2.layers[1].set_weights([model1.layers[1].get_weights()[0], model1.layers[1].get_weights()[1]])\n",
        "model2.layers[2].set_weights([model1.layers[2].get_weights()[0], model1.layers[2].get_weights()[1]])\n",
        "model2.compile(loss='mean_squared_error',  optimizer='adam',metrics = ['mse', 'mae'])"
      ],
      "execution_count": null,
      "outputs": []
    },
    {
      "cell_type": "code",
      "metadata": {
        "id": "3DZ8hE4EnYW1"
      },
      "source": [
        "# create weights with the right shape, e.g.\n",
        "random_weights = [np.random.rand(*w.shape) for w in model1.get_weights()]\n",
        "\n",
        "# update\n",
        "model1.set_weights(random_weights)\n",
        "model2.set_weights(random_weights)"
      ],
      "execution_count": null,
      "outputs": []
    },
    {
      "cell_type": "code",
      "metadata": {
        "colab": {
          "base_uri": "https://localhost:8080/"
        },
        "id": "kO9B-SJknpcU",
        "outputId": "2f3ee9be-1aec-4a94-b855-0c10f4e4af5a"
      },
      "source": [
        "weights1 = []\n",
        "initial_biases1 = []\n",
        "for i in range(len(model1.layers)):\n",
        "    weights1.append(model1.layers[i].get_weights()[0])\n",
        "    initial_biases1.append(model1.layers[i].get_weights()[1])\n",
        "print(initial_biases1)"
      ],
      "execution_count": null,
      "outputs": [
        {
          "output_type": "stream",
          "name": "stdout",
          "text": [
            "[array([0.16999069, 0.5266704 , 0.49302208, 0.9632176 , 0.16504577,\n",
            "       0.8958687 , 0.38579777, 0.7886293 , 0.60582155, 0.785737  ,\n",
            "       0.26606357, 0.7730328 , 0.9716473 , 0.9661497 , 0.7106354 ,\n",
            "       0.928308  , 0.74975693, 0.07947318, 0.8219385 , 0.71363837,\n",
            "       0.7097503 , 0.2658948 , 0.49517807, 0.91835487, 0.97830427,\n",
            "       0.09047618, 0.8715468 , 0.09788611, 0.91377413, 0.35922757,\n",
            "       0.8288231 , 0.3698185 ], dtype=float32), array([0.19305791, 0.34246188, 0.01349864, 0.12230686, 0.72172606,\n",
            "       0.39372742, 0.8132261 , 0.35379592], dtype=float32), array([0.04640288], dtype=float32)]\n"
          ]
        }
      ]
    },
    {
      "cell_type": "code",
      "metadata": {
        "colab": {
          "base_uri": "https://localhost:8080/"
        },
        "id": "c4MrEnAnBXgk",
        "outputId": "878a42ae-3664-4ce2-e306-ab8e04c6e1e2"
      },
      "source": [
        "weights2 = []\n",
        "initial_biases2 = []\n",
        "for i in range(len(model2.layers)):\n",
        "    weights2.append(model2.layers[i].get_weights()[0])\n",
        "    initial_biases2.append(model2.layers[i].get_weights()[1])\n",
        "#print(weights2)\n",
        "print(initial_biases2)"
      ],
      "execution_count": null,
      "outputs": [
        {
          "output_type": "stream",
          "name": "stdout",
          "text": [
            "[array([0.16999069, 0.5266704 , 0.49302208, 0.9632176 , 0.16504577,\n",
            "       0.8958687 , 0.38579777, 0.7886293 , 0.60582155, 0.785737  ,\n",
            "       0.26606357, 0.7730328 , 0.9716473 , 0.9661497 , 0.7106354 ,\n",
            "       0.928308  , 0.74975693, 0.07947318, 0.8219385 , 0.71363837,\n",
            "       0.7097503 , 0.2658948 , 0.49517807, 0.91835487, 0.97830427,\n",
            "       0.09047618, 0.8715468 , 0.09788611, 0.91377413, 0.35922757,\n",
            "       0.8288231 , 0.3698185 ], dtype=float32), array([0.19305791, 0.34246188, 0.01349864, 0.12230686, 0.72172606,\n",
            "       0.39372742, 0.8132261 , 0.35379592], dtype=float32), array([0.04640288], dtype=float32)]\n"
          ]
        }
      ]
    },
    {
      "cell_type": "code",
      "metadata": {
        "colab": {
          "base_uri": "https://localhost:8080/"
        },
        "id": "AaS4ZEchBYcr",
        "outputId": "9d7c8b98-844d-4dab-a144-6a404900d287"
      },
      "source": [
        "model1.fit(X_train,y_train,epochs=30,validation_data=(X_test,y_test),shuffle=False)"
      ],
      "execution_count": null,
      "outputs": [
        {
          "output_type": "stream",
          "name": "stdout",
          "text": [
            "Epoch 1/30\n",
            "50/50 [==============================] - 1s 4ms/step - loss: 65134.7148 - mse: 65134.7148 - mae: 248.1090 - val_loss: 67104.7031 - val_mse: 67104.7031 - val_mae: 257.8917\n",
            "Epoch 2/30\n",
            "50/50 [==============================] - 0s 2ms/step - loss: 38511.1172 - mse: 38511.1172 - mae: 190.7901 - val_loss: 41560.1094 - val_mse: 41560.1094 - val_mae: 202.9565\n",
            "Epoch 3/30\n",
            "50/50 [==============================] - 0s 2ms/step - loss: 24636.9805 - mse: 24636.9805 - mae: 152.6011 - val_loss: 27395.5430 - val_mse: 27395.5430 - val_mae: 164.7809\n",
            "Epoch 4/30\n",
            "50/50 [==============================] - 0s 2ms/step - loss: 16600.9707 - mse: 16600.9707 - mae: 125.2609 - val_loss: 18844.5762 - val_mse: 18844.5762 - val_mae: 136.6662\n",
            "Epoch 5/30\n",
            "50/50 [==============================] - 0s 2ms/step - loss: 11597.8320 - mse: 11597.8320 - mae: 104.6924 - val_loss: 13360.9785 - val_mse: 13360.9785 - val_mae: 115.0765\n",
            "Epoch 6/30\n",
            "50/50 [==============================] - 0s 2ms/step - loss: 8314.3555 - mse: 8314.3555 - mae: 88.6370 - val_loss: 9680.8496 - val_mse: 9680.8496 - val_mae: 97.9540\n",
            "Epoch 7/30\n",
            "50/50 [==============================] - 0s 2ms/step - loss: 6070.5537 - mse: 6070.5537 - mae: 75.7326 - val_loss: 7121.6309 - val_mse: 7121.6309 - val_mae: 84.0139\n",
            "Epoch 8/30\n",
            "50/50 [==============================] - 0s 2ms/step - loss: 4487.5625 - mse: 4487.5625 - mae: 65.1079 - val_loss: 5290.9351 - val_mse: 5290.9351 - val_mae: 72.4139\n",
            "Epoch 9/30\n",
            "50/50 [==============================] - 0s 2ms/step - loss: 3342.2410 - mse: 3342.2410 - mae: 56.1819 - val_loss: 3951.8975 - val_mse: 3951.8975 - val_mae: 62.5823\n",
            "Epoch 10/30\n",
            "50/50 [==============================] - 0s 2ms/step - loss: 2497.1792 - mse: 2497.1792 - mae: 48.5557 - val_loss: 2955.6851 - val_mse: 2955.6851 - val_mae: 54.1212\n",
            "Epoch 11/30\n",
            "50/50 [==============================] - 0s 2ms/step - loss: 1864.5513 - mse: 1864.5513 - mae: 41.9494 - val_loss: 2205.4998 - val_mse: 2205.4998 - val_mae: 46.7497\n",
            "Epoch 12/30\n",
            "50/50 [==============================] - 0s 2ms/step - loss: 1386.3529 - mse: 1386.3529 - mae: 36.1641 - val_loss: 1636.4027 - val_mse: 1636.4027 - val_mae: 40.2674\n",
            "Epoch 13/30\n",
            "50/50 [==============================] - 0s 2ms/step - loss: 1023.0995 - mse: 1023.0995 - mae: 31.0582 - val_loss: 1203.5112 - val_mse: 1203.5112 - val_mae: 34.5313\n",
            "Epoch 14/30\n",
            "50/50 [==============================] - 0s 2ms/step - loss: 747.0857 - mse: 747.0857 - mae: 26.5305 - val_loss: 874.8447 - val_mse: 874.8447 - val_mae: 29.4392\n",
            "Epoch 15/30\n",
            "50/50 [==============================] - 0s 2ms/step - loss: 538.2617 - mse: 538.2617 - mae: 22.5089 - val_loss: 626.8915 - val_mse: 626.8915 - val_mae: 24.9186\n",
            "Epoch 16/30\n",
            "50/50 [==============================] - 0s 1ms/step - loss: 381.6438 - mse: 381.6438 - mae: 18.9420 - val_loss: 441.8002 - val_mse: 441.8002 - val_mae: 20.9169\n",
            "Epoch 17/30\n",
            "50/50 [==============================] - 0s 2ms/step - loss: 265.6817 - mse: 265.6817 - mae: 15.7919 - val_loss: 305.6179 - val_mse: 305.6179 - val_mae: 17.3948\n",
            "Epoch 18/30\n",
            "50/50 [==============================] - 0s 2ms/step - loss: 181.2352 - mse: 181.2352 - mae: 13.0294 - val_loss: 207.1944 - val_mse: 207.1944 - val_mae: 14.3201\n",
            "Epoch 19/30\n",
            "50/50 [==============================] - 0s 2ms/step - loss: 120.9469 - mse: 120.9469 - mae: 10.6291 - val_loss: 137.5148 - val_mse: 137.5148 - val_mae: 11.6637\n",
            "Epoch 20/30\n",
            "50/50 [==============================] - 0s 2ms/step - loss: 78.8643 - mse: 78.8643 - mae: 8.5669 - val_loss: 89.2975 - val_mse: 89.2975 - val_mae: 9.3962\n",
            "Epoch 21/30\n",
            "50/50 [==============================] - 0s 2ms/step - loss: 50.2030 - mse: 50.2030 - mae: 6.8176 - val_loss: 56.7315 - val_mse: 56.7315 - val_mae: 7.4864\n",
            "Epoch 22/30\n",
            "50/50 [==============================] - 0s 2ms/step - loss: 31.1852 - mse: 31.1852 - mae: 5.3540 - val_loss: 35.2807 - val_mse: 35.2807 - val_mae: 5.9005\n",
            "Epoch 23/30\n",
            "50/50 [==============================] - 0s 2ms/step - loss: 18.9030 - mse: 18.9030 - mae: 4.1474 - val_loss: 21.5020 - val_mse: 21.5020 - val_mae: 4.6028\n",
            "Epoch 24/30\n",
            "50/50 [==============================] - 0s 2ms/step - loss: 11.1867 - mse: 11.1867 - mae: 3.1760 - val_loss: 12.8672 - val_mse: 12.8672 - val_mae: 3.5566\n",
            "Epoch 25/30\n",
            "50/50 [==============================] - 0s 2ms/step - loss: 6.4720 - mse: 6.4720 - mae: 2.4030 - val_loss: 7.5822 - val_mse: 7.5822 - val_mae: 2.7257\n",
            "Epoch 26/30\n",
            "50/50 [==============================] - 0s 2ms/step - loss: 3.6706 - mse: 3.6706 - mae: 1.7995 - val_loss: 4.4176 - val_mse: 4.4176 - val_mae: 2.0755\n",
            "Epoch 27/30\n",
            "50/50 [==============================] - 0s 2ms/step - loss: 2.0519 - mse: 2.0519 - mae: 1.3410 - val_loss: 2.5592 - val_mse: 2.5592 - val_mae: 1.5739\n",
            "Epoch 28/30\n",
            "50/50 [==============================] - 0s 2ms/step - loss: 1.1422 - mse: 1.1422 - mae: 0.9990 - val_loss: 1.4857 - val_mse: 1.4857 - val_mae: 1.1926\n",
            "Epoch 29/30\n",
            "50/50 [==============================] - 0s 2ms/step - loss: 0.6452 - mse: 0.6452 - mae: 0.7452 - val_loss: 0.8732 - val_mse: 0.8732 - val_mae: 0.9066\n",
            "Epoch 30/30\n",
            "50/50 [==============================] - 0s 2ms/step - loss: 0.3813 - mse: 0.3813 - mae: 0.5584 - val_loss: 0.5264 - val_mse: 0.5264 - val_mae: 0.6951\n"
          ]
        },
        {
          "output_type": "execute_result",
          "data": {
            "text/plain": [
              "<keras.callbacks.History at 0x7fa273575390>"
            ]
          },
          "metadata": {},
          "execution_count": 527
        }
      ]
    },
    {
      "cell_type": "code",
      "metadata": {
        "colab": {
          "base_uri": "https://localhost:8080/"
        },
        "id": "LNuopfV1Kzq1",
        "outputId": "5f53dad7-f6ce-4910-fc08-9da3cd423dba"
      },
      "source": [
        "y_pred_test1=model1.predict(X_test)\n",
        "print(mean_squared_error(y_test, y_pred_test1))"
      ],
      "execution_count": null,
      "outputs": [
        {
          "output_type": "stream",
          "name": "stdout",
          "text": [
            "0.52638465\n"
          ]
        }
      ]
    },
    {
      "cell_type": "code",
      "metadata": {
        "colab": {
          "base_uri": "https://localhost:8080/"
        },
        "id": "gZvYyU1eBgIA",
        "outputId": "8868b272-26c2-4797-d6f0-e3a7471a2ad3"
      },
      "source": [
        "y_train_disturbed=y_train + 0.01\n",
        "y_test_disturbed=y_test+0.01\n",
        "print(y_train_disturbed)"
      ],
      "execution_count": null,
      "outputs": [
        {
          "output_type": "stream",
          "name": "stdout",
          "text": [
            "[0.02250958 0.02521754 0.02252556 ... 0.8574834  0.85385704 0.8555269 ]\n"
          ]
        }
      ]
    },
    {
      "cell_type": "code",
      "metadata": {
        "colab": {
          "base_uri": "https://localhost:8080/"
        },
        "id": "D1oRJ-LiBclt",
        "outputId": "2c9cf401-e093-4d85-c282-c46211b16927"
      },
      "source": [
        "model2.fit(X_train,y_train_disturbed,epochs=30,validation_data=(X_test,y_test_disturbed),shuffle=False)"
      ],
      "execution_count": null,
      "outputs": [
        {
          "output_type": "stream",
          "name": "stdout",
          "text": [
            "Epoch 1/30\n",
            "50/50 [==============================] - 0s 3ms/step - loss: 65129.8125 - mse: 65129.8125 - mae: 248.0992 - val_loss: 67099.6406 - val_mse: 67099.6406 - val_mae: 257.8819\n",
            "Epoch 2/30\n",
            "50/50 [==============================] - 0s 2ms/step - loss: 38507.4258 - mse: 38507.4258 - mae: 190.7803 - val_loss: 41556.2734 - val_mse: 41556.2734 - val_mae: 202.9470\n",
            "Epoch 3/30\n",
            "50/50 [==============================] - 0s 2ms/step - loss: 24634.1309 - mse: 24634.1309 - mae: 152.5917 - val_loss: 27392.5684 - val_mse: 27392.5684 - val_mae: 164.7719\n",
            "Epoch 4/30\n",
            "50/50 [==============================] - 0s 2ms/step - loss: 16598.7324 - mse: 16598.7324 - mae: 125.2519 - val_loss: 18842.2344 - val_mse: 18842.2344 - val_mae: 136.6576\n",
            "Epoch 5/30\n",
            "50/50 [==============================] - 0s 2ms/step - loss: 11596.0410 - mse: 11596.0410 - mae: 104.6838 - val_loss: 13359.1104 - val_mse: 13359.1104 - val_mae: 115.0683\n",
            "Epoch 6/30\n",
            "50/50 [==============================] - 0s 2ms/step - loss: 8312.9072 - mse: 8312.9072 - mae: 88.6287 - val_loss: 9679.3389 - val_mse: 9679.3389 - val_mae: 97.9462\n",
            "Epoch 7/30\n",
            "50/50 [==============================] - 0s 2ms/step - loss: 6069.3726 - mse: 6069.3726 - mae: 75.7246 - val_loss: 7120.4043 - val_mse: 7120.4043 - val_mae: 84.0066\n",
            "Epoch 8/30\n",
            "50/50 [==============================] - 0s 2ms/step - loss: 4486.5928 - mse: 4486.5928 - mae: 65.1003 - val_loss: 5289.9341 - val_mse: 5289.9341 - val_mae: 72.4070\n",
            "Epoch 9/30\n",
            "50/50 [==============================] - 0s 2ms/step - loss: 3341.4417 - mse: 3341.4417 - mae: 56.1747 - val_loss: 3951.0820 - val_mse: 3951.0820 - val_mae: 62.5757\n",
            "Epoch 10/30\n",
            "50/50 [==============================] - 0s 2ms/step - loss: 2496.5237 - mse: 2496.5237 - mae: 48.5488 - val_loss: 2955.0254 - val_mse: 2955.0254 - val_mae: 54.1151\n",
            "Epoch 11/30\n",
            "50/50 [==============================] - 0s 2ms/step - loss: 1864.0161 - mse: 1864.0161 - mae: 41.9428 - val_loss: 2204.9717 - val_mse: 2204.9717 - val_mae: 46.7440\n",
            "Epoch 12/30\n",
            "50/50 [==============================] - 0s 2ms/step - loss: 1385.9215 - mse: 1385.9215 - mae: 36.1579 - val_loss: 1635.9865 - val_mse: 1635.9865 - val_mae: 40.2622\n",
            "Epoch 13/30\n",
            "50/50 [==============================] - 0s 2ms/step - loss: 1022.7555 - mse: 1022.7555 - mae: 31.0524 - val_loss: 1203.1876 - val_mse: 1203.1876 - val_mae: 34.5266\n",
            "Epoch 14/30\n",
            "50/50 [==============================] - 0s 2ms/step - loss: 746.8151 - mse: 746.8151 - mae: 26.5251 - val_loss: 874.5994 - val_mse: 874.5994 - val_mae: 29.4350\n",
            "Epoch 15/30\n",
            "50/50 [==============================] - 0s 2ms/step - loss: 538.0533 - mse: 538.0533 - mae: 22.5040 - val_loss: 626.7110 - val_mse: 626.7110 - val_mae: 24.9149\n",
            "Epoch 16/30\n",
            "50/50 [==============================] - 0s 2ms/step - loss: 381.4873 - mse: 381.4873 - mae: 18.9375 - val_loss: 441.6721 - val_mse: 441.6721 - val_mae: 20.9138\n",
            "Epoch 17/30\n",
            "50/50 [==============================] - 0s 2ms/step - loss: 265.5668 - mse: 265.5668 - mae: 15.7879 - val_loss: 305.5305 - val_mse: 305.5305 - val_mae: 17.3922\n",
            "Epoch 18/30\n",
            "50/50 [==============================] - 0s 2ms/step - loss: 181.1528 - mse: 181.1528 - mae: 13.0258 - val_loss: 207.1375 - val_mse: 207.1375 - val_mae: 14.3180\n",
            "Epoch 19/30\n",
            "50/50 [==============================] - 0s 2ms/step - loss: 120.8896 - mse: 120.8896 - mae: 10.6259 - val_loss: 137.4805 - val_mse: 137.4805 - val_mae: 11.6621\n",
            "Epoch 20/30\n",
            "50/50 [==============================] - 0s 2ms/step - loss: 78.8258 - mse: 78.8258 - mae: 8.5642 - val_loss: 89.2790 - val_mse: 89.2790 - val_mae: 9.3951\n",
            "Epoch 21/30\n",
            "50/50 [==============================] - 0s 2ms/step - loss: 50.1782 - mse: 50.1782 - mae: 6.8152 - val_loss: 56.7231 - val_mse: 56.7231 - val_mae: 7.4857\n",
            "Epoch 22/30\n",
            "50/50 [==============================] - 0s 2ms/step - loss: 31.1697 - mse: 31.1697 - mae: 5.3520 - val_loss: 35.2783 - val_mse: 35.2783 - val_mae: 5.9002\n",
            "Epoch 23/30\n",
            "50/50 [==============================] - 0s 2ms/step - loss: 18.8938 - mse: 18.8938 - mae: 4.1458 - val_loss: 21.5032 - val_mse: 21.5032 - val_mae: 4.6028\n",
            "Epoch 24/30\n",
            "50/50 [==============================] - 0s 2ms/step - loss: 11.1817 - mse: 11.1817 - mae: 3.1749 - val_loss: 12.8702 - val_mse: 12.8702 - val_mae: 3.5569\n",
            "Epoch 25/30\n",
            "50/50 [==============================] - 0s 2ms/step - loss: 6.4697 - mse: 6.4697 - mae: 2.4023 - val_loss: 7.5858 - val_mse: 7.5858 - val_mae: 2.7262\n",
            "Epoch 26/30\n",
            "50/50 [==============================] - 0s 2ms/step - loss: 3.6699 - mse: 3.6699 - mae: 1.7992 - val_loss: 4.4210 - val_mse: 4.4210 - val_mae: 2.0762\n",
            "Epoch 27/30\n",
            "50/50 [==============================] - 0s 2ms/step - loss: 2.0521 - mse: 2.0521 - mae: 1.3410 - val_loss: 2.5623 - val_mse: 2.5623 - val_mae: 1.5748\n",
            "Epoch 28/30\n",
            "50/50 [==============================] - 0s 1ms/step - loss: 1.1430 - mse: 1.1430 - mae: 0.9994 - val_loss: 1.4884 - val_mse: 1.4884 - val_mae: 1.1935\n",
            "Epoch 29/30\n",
            "50/50 [==============================] - 0s 2ms/step - loss: 0.6463 - mse: 0.6463 - mae: 0.7457 - val_loss: 0.8755 - val_mse: 0.8755 - val_mae: 0.9076\n",
            "Epoch 30/30\n",
            "50/50 [==============================] - 0s 2ms/step - loss: 0.3826 - mse: 0.3826 - mae: 0.5590 - val_loss: 0.5282 - val_mse: 0.5282 - val_mae: 0.6962\n"
          ]
        },
        {
          "output_type": "execute_result",
          "data": {
            "text/plain": [
              "<keras.callbacks.History at 0x7fa28c10b4d0>"
            ]
          },
          "metadata": {},
          "execution_count": 530
        }
      ]
    },
    {
      "cell_type": "code",
      "metadata": {
        "colab": {
          "base_uri": "https://localhost:8080/"
        },
        "id": "dWodswdZBvo6",
        "outputId": "6c20635c-a8a2-4162-de88-9e2a336e6b67"
      },
      "source": [
        "first_model_weights = []\n",
        "second_model_weights = []\n",
        "for i in range(len(model1.layers)):\n",
        "  first_model_weights.append(model1.layers[i].get_weights()[0])\n",
        "print(\"First model weights after training\")\n",
        "print(first_model_weights)\n",
        "for i in range(len(model2.layers)):\n",
        "  second_model_weights.append(model2.layers[i].get_weights()[0])\n",
        "print(\"Second model weights after training\")\n",
        "print(second_model_weights)\n",
        "deviation = get_delta(model1, model2)\n",
        "print(\"Deviation\")\n",
        "print(deviation)\n",
        "max_elements = []\n",
        "min_elements = []\n",
        "for i in range(len(model1.layers)):\n",
        "  max_elements.append(np.max(np.asarray(deviation[i])))\n",
        "  min_elements.append(np.min(np.asarray(deviation[i])))\n",
        "max_element = np.max(np.asarray(max_elements))\n",
        "min_element = np.min(np.asarray(min_elements))\n",
        "print(\"Max_element\")\n",
        "print(max_element)\n",
        "print(\"Min_element\")\n",
        "print(min_element)\n",
        "print(\"Max_delta-Min_delta\")\n",
        "print(max_element - min_element)"
      ],
      "execution_count": null,
      "outputs": [
        {
          "output_type": "stream",
          "name": "stdout",
          "text": [
            "First model weights after training\n",
            "[array([[ 5.06450891e-01,  2.77276009e-01,  6.38567656e-02,\n",
            "         4.16161213e-03, -2.17835560e-01,  4.58482057e-01,\n",
            "         3.50352377e-01,  3.55447352e-01,  2.22753376e-01,\n",
            "         3.50865722e-01,  3.51765186e-01, -5.98536357e-02,\n",
            "         3.09446275e-01,  2.17500180e-01,  3.78113031e-01,\n",
            "         6.11947179e-01,  6.62446260e-01,  3.24028730e-01,\n",
            "         4.15337592e-01,  4.06750679e-01, -1.10871978e-01,\n",
            "         3.40300769e-01,  7.20163822e-01,  5.49272418e-01,\n",
            "         6.19150579e-01,  4.07907516e-01, -1.12271287e-01,\n",
            "         3.14938933e-01, -1.21432744e-01,  7.59352386e-01,\n",
            "         4.00210738e-01,  6.50499642e-01],\n",
            "       [ 2.05183595e-01,  3.12423706e-01,  2.86152273e-01,\n",
            "        -1.04673922e-01,  4.47654665e-01,  7.02320755e-01,\n",
            "         6.11172467e-02,  5.74843884e-01,  1.57742128e-01,\n",
            "         4.09511924e-01, -1.81868970e-01,  1.12911211e-02,\n",
            "         5.86088657e-01,  6.36782110e-01,  2.90384710e-01,\n",
            "         2.71240205e-01, -4.43091914e-02,  4.02054042e-01,\n",
            "         4.46621537e-01,  4.65125829e-01,  2.71710306e-01,\n",
            "         4.34764236e-01,  1.09754555e-01,  6.12225890e-01,\n",
            "        -1.28482178e-01, -1.44164218e-03, -1.27209663e-01,\n",
            "        -2.40056515e-01,  7.60361373e-01,  1.10895410e-01,\n",
            "         8.24844599e-01,  6.57187819e-01],\n",
            "       [ 4.90126349e-02,  9.69238058e-02, -5.93875311e-02,\n",
            "         3.71749789e-01, -1.55329868e-01,  6.33905649e-01,\n",
            "        -5.89292981e-02,  3.34405631e-01, -2.52747297e-01,\n",
            "        -2.03154802e-01, -7.84988329e-02,  1.76995590e-01,\n",
            "         4.03569937e-01,  9.60592180e-02,  2.11722597e-01,\n",
            "        -1.77792795e-02,  2.37400979e-01,  6.64505586e-02,\n",
            "         3.21357906e-01,  6.21528864e-01, -6.40878528e-02,\n",
            "        -9.14347917e-02,  7.27314949e-01,  3.36476624e-01,\n",
            "         1.79614201e-01,  4.97385085e-01, -2.28005216e-01,\n",
            "        -9.70240384e-02,  7.22246289e-01,  1.68564633e-01,\n",
            "        -1.34922331e-02,  4.00587648e-01],\n",
            "       [-6.55037388e-02,  8.16311061e-01,  4.70590651e-01,\n",
            "         3.06955397e-01,  7.04300404e-01, -1.17987104e-01,\n",
            "         1.84421182e-01, -1.91658467e-01,  2.14235224e-02,\n",
            "         1.87193424e-01,  4.98356193e-01,  5.50155342e-01,\n",
            "        -2.10042849e-01,  3.50112855e-01,  3.30979109e-01,\n",
            "         6.45369470e-01, -1.77758634e-02,  1.19644366e-02,\n",
            "         1.78153202e-01, -1.67984158e-01,  2.96174169e-01,\n",
            "         3.19943160e-01,  2.81687975e-01,  4.84371722e-01,\n",
            "         5.20079255e-01,  6.85279727e-01, -1.32829830e-01,\n",
            "        -8.61579701e-02,  6.31386101e-01,  4.88342047e-01,\n",
            "         3.27574015e-01,  6.80892944e-01],\n",
            "       [ 6.87375426e-01,  3.64764988e-01,  4.61153448e-01,\n",
            "         4.15857099e-02,  2.30794534e-01,  1.72524601e-01,\n",
            "         5.43944240e-01, -9.32995081e-02,  2.48815075e-01,\n",
            "         5.12207270e-01, -3.95791195e-02,  4.04137641e-01,\n",
            "         4.58048105e-01, -2.16354266e-01,  6.12219214e-01,\n",
            "         7.57162392e-01,  4.59062636e-01,  7.68162981e-02,\n",
            "         2.84916192e-01,  1.53710276e-01, -1.59241840e-01,\n",
            "         4.59356010e-01,  6.29978657e-01, -1.07013606e-01,\n",
            "         5.74519038e-01, -2.47479782e-01,  3.08726758e-01,\n",
            "         4.81530517e-01,  5.42997241e-01,  4.47165906e-01,\n",
            "         3.68995398e-01, -1.00118063e-01],\n",
            "       [ 5.37547052e-01,  1.04166663e+00,  3.43870223e-02,\n",
            "         7.63740838e-02,  2.61305690e-01, -5.22627011e-02,\n",
            "        -2.13706851e-01,  3.90949100e-01, -7.99194723e-02,\n",
            "         8.33020657e-02,  1.86648220e-02,  5.08377925e-02,\n",
            "         1.66694865e-01, -5.41644637e-03, -2.11951286e-01,\n",
            "         1.46253124e-01,  4.54026163e-01,  5.35764515e-01,\n",
            "         5.15057981e-01,  4.94757652e-01,  7.17526317e-01,\n",
            "        -1.74510494e-01,  7.06386864e-01,  6.21756017e-01,\n",
            "         7.22578585e-01,  3.31776291e-01,  7.52928853e-01,\n",
            "        -1.44612208e-01,  3.94574970e-01,  4.83948827e-01,\n",
            "         8.63435209e-01, -2.86188722e-01],\n",
            "       [ 7.69890785e-01,  5.41502118e-01, -1.43085107e-01,\n",
            "         5.97841382e-01,  5.18549830e-02,  9.44457203e-02,\n",
            "         5.62771380e-01,  4.63666534e-03, -1.45503238e-01,\n",
            "         4.73890722e-01, -2.32787043e-01,  2.65802503e-01,\n",
            "         4.52358313e-02,  6.56043291e-01, -6.96615875e-03,\n",
            "         5.41656196e-01,  6.93288326e-01,  4.59861517e-01,\n",
            "         7.48759091e-01,  1.56662483e-02, -1.04720602e-02,\n",
            "         4.99082468e-02, -1.68908998e-01,  1.83944136e-01,\n",
            "         1.64406449e-01,  4.95507866e-01,  4.97040451e-01,\n",
            "        -5.79861552e-02,  6.55576408e-01, -1.13111243e-01,\n",
            "         1.42480522e-01,  4.25810158e-01],\n",
            "       [ 7.57864058e-01,  8.20180476e-01,  3.02830040e-01,\n",
            "         5.27810633e-01,  2.70332724e-01, -7.04817623e-02,\n",
            "        -2.61620909e-01,  4.97503951e-02,  5.84468186e-01,\n",
            "         6.98023081e-01,  2.21373156e-01,  4.94516879e-01,\n",
            "         3.68793532e-02,  5.54930329e-01,  5.98135054e-01,\n",
            "         5.09517908e-01,  6.95704743e-02,  1.16817459e-01,\n",
            "         7.47751653e-01, -1.21396214e-01,  6.45308316e-01,\n",
            "         7.26767600e-01,  4.76424873e-01,  5.94510913e-01,\n",
            "        -1.50213689e-01,  5.69971144e-01,  5.47405839e-01,\n",
            "         2.91502446e-01,  8.67862534e-03,  3.45723152e-01,\n",
            "         5.59985079e-02,  6.23383224e-01],\n",
            "       [ 5.09302199e-01,  6.18858188e-02,  6.79836333e-01,\n",
            "        -1.07812695e-01,  3.09293568e-01,  1.71480358e-01,\n",
            "         1.60597801e-01,  1.26816645e-01,  6.78177550e-02,\n",
            "        -1.60127252e-01,  4.62302268e-01,  4.78707075e-01,\n",
            "        -1.88092381e-01,  1.98926955e-01,  4.80532914e-01,\n",
            "         1.35810882e-01, -2.62070417e-01, -2.56121129e-01,\n",
            "         9.50537920e-02,  5.64265430e-01,  6.07466042e-01,\n",
            "         1.46337077e-01,  4.44314659e-01,  2.24575505e-01,\n",
            "         1.76656306e-01,  2.10099354e-01,  7.43527353e-01,\n",
            "         4.33914006e-01, -1.25860190e-02, -2.26905748e-01,\n",
            "         4.79997218e-01,  5.09997487e-01],\n",
            "       [ 6.34874284e-01,  6.15908265e-01,  5.68996012e-01,\n",
            "         6.54161096e-01,  7.05662787e-01,  6.19854391e-01,\n",
            "         6.21094048e-01,  3.14935625e-01,  5.19646943e-01,\n",
            "         6.95628226e-01,  6.68904543e-01,  4.03270990e-01,\n",
            "        -1.62272900e-01,  5.94476819e-01, -5.83081692e-02,\n",
            "         5.76515555e-01, -2.39801675e-01,  2.23176166e-01,\n",
            "         1.88862979e-01, -2.12993175e-01,  6.06861174e-01,\n",
            "         1.65533423e-01,  3.89731914e-01,  5.38016677e-01,\n",
            "         1.93667799e-01,  5.29434823e-04,  5.59579670e-01,\n",
            "        -1.75045803e-01, -2.41779089e-02,  1.94673404e-01,\n",
            "         2.10878298e-01,  3.88090909e-01]], dtype=float32), array([[ 5.31618416e-01,  3.42188552e-02,  5.85802257e-01,\n",
            "         3.50350440e-01, -4.33771536e-02, -1.24556124e-01,\n",
            "        -1.35316879e-01,  1.19711423e+00],\n",
            "       [-1.92523733e-01,  1.09136105e-02, -2.79799134e-01,\n",
            "         3.42275113e-01, -3.21527690e-01, -1.55435517e-01,\n",
            "        -3.31188440e-01,  1.60852885e+00],\n",
            "       [ 5.89054167e-01, -2.70551801e-01,  5.87300122e-01,\n",
            "        -2.21619889e-01,  6.48776174e-01,  6.11340344e-01,\n",
            "         5.65369785e-01,  1.30823982e+00],\n",
            "       [ 6.78136110e-01,  3.63217741e-01,  6.19657755e-01,\n",
            "         1.18930399e-01,  2.96777282e-02,  3.76970619e-01,\n",
            "         3.29943486e-02,  7.23649502e-01],\n",
            "       [ 1.97887525e-01,  6.28375828e-01,  1.69878736e-01,\n",
            "        -2.46630922e-01,  5.17425895e-01,  1.62161663e-02,\n",
            "        -7.80961961e-02,  1.10324943e+00],\n",
            "       [-2.87592292e-01,  3.99795234e-01,  3.27849895e-01,\n",
            "         4.07909639e-02, -2.93803126e-01,  4.62559126e-02,\n",
            "         6.31352901e-01,  1.15916288e+00],\n",
            "       [ 6.13909006e-01,  6.75739527e-01, -5.49434461e-02,\n",
            "         4.23685431e-01,  8.98617506e-02,  3.88450064e-02,\n",
            "         5.93977690e-01,  1.30163336e+00],\n",
            "       [ 5.64703643e-01,  1.40983179e-01,  2.80883342e-01,\n",
            "         2.83257246e-01, -9.11979452e-02,  3.44274521e-01,\n",
            "         6.17543459e-01,  1.33159137e+00],\n",
            "       [ 2.75755107e-01,  3.80646475e-06, -2.47719809e-02,\n",
            "        -2.30800703e-01,  2.75968105e-01,  6.74566388e-01,\n",
            "         6.99491024e-01,  9.79596436e-01],\n",
            "       [ 2.56485403e-01, -4.26858626e-02, -1.11119002e-01,\n",
            "        -2.31378689e-01,  4.88276035e-01,  4.11276400e-01,\n",
            "         4.43055332e-01,  1.40301025e+00],\n",
            "       [ 3.02512586e-01, -1.97787747e-01,  1.88453674e-01,\n",
            "        -1.44506797e-01,  4.45285141e-01,  3.90184551e-01,\n",
            "         3.09210807e-01,  1.27624249e+00],\n",
            "       [ 8.88844021e-04,  2.04030007e-01,  1.10538311e-01,\n",
            "         5.55245817e-01,  1.91907898e-01,  5.57729602e-01,\n",
            "         4.92939740e-01,  9.58801091e-01],\n",
            "       [ 5.02421260e-01,  5.31862617e-01,  4.42034662e-01,\n",
            "         6.97749972e-01,  3.44409868e-02, -2.53889740e-01,\n",
            "         8.59594904e-03,  7.51139104e-01],\n",
            "       [-1.86447263e-01, -1.40345311e-02,  3.85600120e-01,\n",
            "        -9.21792686e-02,  3.35186183e-01, -2.40003522e-02,\n",
            "         1.60950840e-01,  9.54554319e-01],\n",
            "       [ 3.09778303e-01,  6.64982915e-01,  4.21905130e-01,\n",
            "        -2.54581541e-01,  4.21134293e-01,  3.79731804e-01,\n",
            "        -1.43258646e-01,  1.54050410e+00],\n",
            "       [-8.58258903e-02,  5.50463140e-01, -1.33012943e-02,\n",
            "         2.03286678e-01,  1.70123652e-01, -4.13021967e-02,\n",
            "         2.20718440e-02,  1.33621740e+00],\n",
            "       [-1.19075976e-01,  6.27150059e-01,  5.32039329e-02,\n",
            "         3.86769205e-01,  5.01094282e-01,  7.08295524e-01,\n",
            "         4.51208740e-01,  7.54731238e-01],\n",
            "       [ 5.48552692e-01,  2.74897069e-01,  2.99304128e-01,\n",
            "         2.47542039e-01,  1.33753538e-01,  3.88983428e-01,\n",
            "         2.51621485e-01,  1.04656518e+00],\n",
            "       [-1.56640962e-01,  1.23701684e-01,  3.51971447e-01,\n",
            "        -3.02341223e-01,  2.87373960e-01, -9.86386761e-02,\n",
            "         3.79163116e-01,  1.28489578e+00],\n",
            "       [ 1.59052685e-01,  9.58442166e-02,  3.73961627e-01,\n",
            "         6.11768544e-01, -1.01652443e-01, -1.51918352e-01,\n",
            "         2.05083311e-01,  6.42357171e-01],\n",
            "       [ 1.67893112e-01,  4.50448066e-01, -7.85127133e-02,\n",
            "         2.55270004e-01,  6.09801337e-02,  3.03709030e-01,\n",
            "        -2.49478355e-01,  1.64376473e+00],\n",
            "       [ 5.49236238e-01, -1.71698064e-01,  5.69809198e-01,\n",
            "        -1.66313112e-01,  4.49428231e-01,  5.92242002e-01,\n",
            "        -2.92541504e-01,  9.18083310e-01],\n",
            "       [-7.10294098e-02,  4.84184533e-01,  3.70590985e-01,\n",
            "         1.31695747e-01,  1.88889638e-01,  2.93036491e-01,\n",
            "         6.03983343e-01,  1.08296275e+00],\n",
            "       [-1.04741298e-01, -2.59535760e-01, -8.58766362e-02,\n",
            "         2.17487440e-01,  8.36595893e-03,  5.10354280e-01,\n",
            "         4.34774637e-01,  8.17098677e-01],\n",
            "       [ 7.05287233e-02,  6.10165954e-01,  8.98251384e-02,\n",
            "         1.84462130e-01, -2.78318495e-01,  3.98326784e-01,\n",
            "        -1.30282447e-01,  1.45760310e+00],\n",
            "       [-8.48167166e-02,  5.10144234e-01,  3.23084891e-01,\n",
            "         5.95792115e-01,  4.79438186e-01, -9.66242105e-02,\n",
            "         1.44204423e-01,  1.49533129e+00],\n",
            "       [ 1.94180146e-01,  7.16725409e-01,  8.40892717e-02,\n",
            "         4.98373985e-01, -2.25630850e-02,  3.45370859e-01,\n",
            "        -2.72009745e-02,  1.32202137e+00],\n",
            "       [ 4.26217973e-01, -1.35076657e-01,  7.76089311e-01,\n",
            "         5.07201478e-02,  2.34933138e-01,  1.74746096e-01,\n",
            "         5.39905787e-01,  1.03129482e+00],\n",
            "       [-1.53444156e-01,  4.35303330e-01, -7.58620426e-02,\n",
            "        -2.40214303e-01,  2.36369357e-01, -2.85992086e-01,\n",
            "        -1.22594818e-01,  1.18964756e+00],\n",
            "       [ 1.67305142e-01,  6.53690457e-01,  3.71189177e-01,\n",
            "        -1.79146349e-01, -2.52665281e-01,  4.99659508e-01,\n",
            "         2.33975947e-01,  8.08529496e-01],\n",
            "       [-1.48358911e-01,  3.20765644e-01,  5.75526096e-02,\n",
            "        -1.61182716e-01, -3.51375379e-02, -2.07442328e-01,\n",
            "        -5.91286793e-02,  1.08828580e+00],\n",
            "       [ 5.83463848e-01,  6.12670660e-01,  4.45212334e-01,\n",
            "         2.73894250e-01,  5.11360109e-01,  2.00731233e-01,\n",
            "         5.04887164e-01,  7.90071487e-01]], dtype=float32), array([[ 0.31045032],\n",
            "       [ 0.26171526],\n",
            "       [ 0.28721386],\n",
            "       [ 0.5068397 ],\n",
            "       [ 0.5375296 ],\n",
            "       [ 0.22107923],\n",
            "       [ 0.6889547 ],\n",
            "       [-0.3872544 ]], dtype=float32)]\n",
            "Second model weights after training\n",
            "[array([[ 5.06450951e-01,  2.77233630e-01,  6.38634861e-02,\n",
            "         4.16726526e-03, -2.17835486e-01,  4.58481818e-01,\n",
            "         3.50358963e-01,  3.55452091e-01,  2.22759262e-01,\n",
            "         3.50866586e-01,  3.51766616e-01, -5.98462634e-02,\n",
            "         3.09452593e-01,  2.17499107e-01,  3.78112197e-01,\n",
            "         6.11944139e-01,  6.62456036e-01,  3.24035317e-01,\n",
            "         4.15335387e-01,  4.06755835e-01, -1.10879876e-01,\n",
            "         3.40301841e-01,  7.20170140e-01,  5.49274266e-01,\n",
            "         6.19142711e-01,  4.07911569e-01, -1.12269498e-01,\n",
            "         3.14946771e-01, -1.21448182e-01,  7.59354413e-01,\n",
            "         4.00194824e-01,  6.50509894e-01],\n",
            "       [ 2.05182850e-01,  3.12380105e-01,  2.86159545e-01,\n",
            "        -1.04668133e-01,  4.47654665e-01,  7.02321112e-01,\n",
            "         6.11236840e-02,  5.74849010e-01,  1.57747775e-01,\n",
            "         4.09512937e-01, -1.81867078e-01,  1.12985857e-02,\n",
            "         5.86096764e-01,  6.36781812e-01,  2.90384352e-01,\n",
            "         2.71238625e-01, -4.43002768e-02,  4.02060419e-01,\n",
            "         4.46618587e-01,  4.65131789e-01,  2.71702588e-01,\n",
            "         4.34765249e-01,  1.09760396e-01,  6.12227499e-01,\n",
            "        -1.28489673e-01, -1.43754226e-03, -1.27208009e-01,\n",
            "        -2.40049258e-01,  7.60345340e-01,  1.10897250e-01,\n",
            "         8.24828804e-01,  6.57198846e-01],\n",
            "       [ 4.90124375e-02,  9.68806297e-02, -5.93808927e-02,\n",
            "         3.71755570e-01, -1.55329734e-01,  6.33905709e-01,\n",
            "        -5.89224137e-02,  3.34410310e-01, -2.52741516e-01,\n",
            "        -2.03153476e-01, -7.84969404e-02,  1.77002490e-01,\n",
            "         4.03575838e-01,  9.60584134e-02,  2.11721778e-01,\n",
            "        -1.77820399e-02,  2.37410709e-01,  6.64563552e-02,\n",
            "         3.21356386e-01,  6.21534944e-01, -6.40957132e-02,\n",
            "        -9.14338678e-02,  7.27322221e-01,  3.36478621e-01,\n",
            "         1.79606169e-01,  4.97389048e-01, -2.28003606e-01,\n",
            "        -9.70165655e-02,  7.22229898e-01,  1.68566614e-01,\n",
            "        -1.35085331e-02,  4.00597572e-01],\n",
            "       [-6.55041486e-02,  8.16267967e-01,  4.70596880e-01,\n",
            "         3.06960881e-01,  7.04300940e-01, -1.17986605e-01,\n",
            "         1.84427932e-01, -1.91653237e-01,  2.14296449e-02,\n",
            "         1.87195048e-01,  4.98357683e-01,  5.50162375e-01,\n",
            "        -2.10036263e-01,  3.50112855e-01,  3.30978483e-01,\n",
            "         6.45366848e-01, -1.77667532e-02,  1.19703989e-02,\n",
            "         1.78151041e-01, -1.67978331e-01,  2.96166807e-01,\n",
            "         3.19944412e-01,  2.81694263e-01,  4.84374523e-01,\n",
            "         5.20070851e-01,  6.85283899e-01, -1.32827967e-01,\n",
            "        -8.61506835e-02,  6.31368577e-01,  4.88344640e-01,\n",
            "         3.27557057e-01,  6.80901825e-01],\n",
            "       [ 6.87375784e-01,  3.64721864e-01,  4.61160839e-01,\n",
            "         4.15915810e-02,  2.30794132e-01,  1.72524557e-01,\n",
            "         5.43950796e-01, -9.32941735e-02,  2.48820618e-01,\n",
            "         5.12209117e-01, -3.95771153e-02,  4.04145598e-01,\n",
            "         4.58054751e-01, -2.16354713e-01,  6.12217963e-01,\n",
            "         7.57160306e-01,  4.59071547e-01,  7.68222958e-02,\n",
            "         2.84914076e-01,  1.53716102e-01, -1.59250215e-01,\n",
            "         4.59357828e-01,  6.29984260e-01, -1.07011087e-01,\n",
            "         5.74511349e-01, -2.47475713e-01,  3.08728367e-01,\n",
            "         4.81537461e-01,  5.42980015e-01,  4.47166771e-01,\n",
            "         3.68979186e-01, -1.00108035e-01],\n",
            "       [ 5.37545860e-01,  1.04162300e+00,  3.43937352e-02,\n",
            "         7.63802081e-02,  2.61306107e-01, -5.22622354e-02,\n",
            "        -2.13700101e-01,  3.90954703e-01, -7.99135789e-02,\n",
            "         8.33032504e-02,  1.86667591e-02,  5.08451574e-02,\n",
            "         1.66702032e-01, -5.41693764e-03, -2.11952493e-01,\n",
            "         1.46250561e-01,  4.54034716e-01,  5.35770535e-01,\n",
            "         5.15056789e-01,  4.94763196e-01,  7.17519641e-01,\n",
            "        -1.74509391e-01,  7.06393540e-01,  6.21758223e-01,\n",
            "         7.22570240e-01,  3.31780612e-01,  7.52931476e-01,\n",
            "        -1.44604608e-01,  3.94559711e-01,  4.83950615e-01,\n",
            "         8.63418460e-01, -2.86179334e-01],\n",
            "       [ 7.69889235e-01,  5.41459084e-01, -1.43078163e-01,\n",
            "         5.97847998e-01,  5.18550090e-02,  9.44460109e-02,\n",
            "         5.62778115e-01,  4.64169029e-03, -1.45497113e-01,\n",
            "         4.73892450e-01, -2.32785329e-01,  2.65809506e-01,\n",
            "         4.52423580e-02,  6.56042576e-01, -6.96711289e-03,\n",
            "         5.41653097e-01,  6.93296850e-01,  4.59868073e-01,\n",
            "         7.48757780e-01,  1.56717449e-02, -1.04801096e-02,\n",
            "         4.99095321e-02, -1.68902576e-01,  1.83946550e-01,\n",
            "         1.64398432e-01,  4.95512187e-01,  4.97043550e-01,\n",
            "        -5.79787903e-02,  6.55560911e-01, -1.13109618e-01,\n",
            "         1.42463923e-01,  4.25820589e-01],\n",
            "       [ 7.57862628e-01,  8.20137441e-01,  3.02837014e-01,\n",
            "         5.27817190e-01,  2.70332485e-01, -7.04816654e-02,\n",
            "        -2.61613846e-01,  4.97559309e-02,  5.84474027e-01,\n",
            "         6.98023379e-01,  2.21375301e-01,  4.94524598e-01,\n",
            "         3.68863530e-02,  5.54930270e-01,  5.98134041e-01,\n",
            "         5.09515464e-01,  6.95796013e-02,  1.16823547e-01,\n",
            "         7.47749209e-01, -1.21390514e-01,  6.45300567e-01,\n",
            "         7.26768434e-01,  4.76430535e-01,  5.94513834e-01,\n",
            "        -1.50221586e-01,  5.69974840e-01,  5.47407746e-01,\n",
            "         2.91509926e-01,  8.66261870e-03,  3.45724851e-01,\n",
            "         5.59819974e-02,  6.23392701e-01],\n",
            "       [ 5.09302318e-01,  6.18422814e-02,  6.79842949e-01,\n",
            "        -1.07806981e-01,  3.09294224e-01,  1.71480209e-01,\n",
            "         1.60604388e-01,  1.26821816e-01,  6.78237826e-02,\n",
            "        -1.60125941e-01,  4.62304145e-01,  4.78714377e-01,\n",
            "        -1.88085765e-01,  1.98926613e-01,  4.80531573e-01,\n",
            "         1.35808572e-01, -2.62061328e-01, -2.56115526e-01,\n",
            "         9.50519145e-02,  5.64271450e-01,  6.07457280e-01,\n",
            "         1.46338925e-01,  4.44320560e-01,  2.24578321e-01,\n",
            "         1.76648557e-01,  2.10103765e-01,  7.43528724e-01,\n",
            "         4.33921605e-01, -1.26020433e-02, -2.26903856e-01,\n",
            "         4.79981601e-01,  5.10007262e-01],\n",
            "       [ 6.34874344e-01,  6.15865052e-01,  5.69002748e-01,\n",
            "         6.54166222e-01,  7.05663145e-01,  6.19854987e-01,\n",
            "         6.21101916e-01,  3.14941436e-01,  5.19653976e-01,\n",
            "         6.95630133e-01,  6.68906629e-01,  4.03279066e-01,\n",
            "        -1.62266091e-01,  5.94476700e-01, -5.83092272e-02,\n",
            "         5.76513052e-01, -2.39792213e-01,  2.23182037e-01,\n",
            "         1.88860580e-01, -2.12987646e-01,  6.06852114e-01,\n",
            "         1.65534809e-01,  3.89737636e-01,  5.38019538e-01,\n",
            "         1.93659797e-01,  5.33864601e-04,  5.59580982e-01,\n",
            "        -1.75038502e-01, -2.41940562e-02,  1.94675103e-01,\n",
            "         2.10862175e-01,  3.88101250e-01]], dtype=float32), array([[ 5.31630874e-01,  3.42294537e-02,  5.85813701e-01,\n",
            "         3.50364655e-01, -4.33625877e-02, -1.24545291e-01,\n",
            "        -1.35302171e-01,  1.19705129e+00],\n",
            "       [-1.92501068e-01,  1.09337522e-02, -2.79777169e-01,\n",
            "         3.42300504e-01, -3.21500540e-01, -1.55415893e-01,\n",
            "        -3.31161022e-01,  1.60843730e+00],\n",
            "       [ 5.89063466e-01, -2.70542264e-01,  5.87311208e-01,\n",
            "        -2.21607596e-01,  6.48787141e-01,  6.11350358e-01,\n",
            "         5.65381706e-01,  1.30818379e+00],\n",
            "       [ 6.78148270e-01,  3.63227695e-01,  6.19669735e-01,\n",
            "         1.18944377e-01,  2.96912696e-02,  3.76981407e-01,\n",
            "         3.30084525e-02,  7.23585904e-01],\n",
            "       [ 1.97897598e-01,  6.28385007e-01,  1.69888273e-01,\n",
            "        -2.46619418e-01,  5.17437100e-01,  1.62248295e-02,\n",
            "        -7.80839920e-02,  1.10319233e+00],\n",
            "       [-2.87579924e-01,  3.99806023e-01,  3.27862144e-01,\n",
            "         4.08056751e-02, -2.93788522e-01,  4.62671109e-02,\n",
            "         6.31368339e-01,  1.15909517e+00],\n",
            "       [ 6.13918245e-01,  6.75747871e-01, -5.49350604e-02,\n",
            "         4.23695326e-01,  8.98721442e-02,  3.88528183e-02,\n",
            "         5.93987405e-01,  1.30158257e+00],\n",
            "       [ 5.64714134e-01,  1.40992373e-01,  2.80893922e-01,\n",
            "         2.83270210e-01, -9.11853909e-02,  3.44283849e-01,\n",
            "         6.17556214e-01,  1.33152699e+00],\n",
            "       [ 2.75763422e-01,  1.16977917e-05, -2.47632395e-02,\n",
            "        -2.30789945e-01,  2.75978476e-01,  6.74574316e-01,\n",
            "         6.99501514e-01,  9.79540169e-01],\n",
            "       [ 2.56498158e-01, -4.26748544e-02, -1.11106783e-01,\n",
            "        -2.31363937e-01,  4.88290071e-01,  4.11287725e-01,\n",
            "         4.43070859e-01,  1.40294147e+00],\n",
            "       [ 3.02521139e-01, -1.97780281e-01,  1.88462257e-01,\n",
            "        -1.44496635e-01,  4.45295304e-01,  3.90191585e-01,\n",
            "         3.09220254e-01,  1.27618492e+00],\n",
            "       [ 8.99713370e-04,  2.04040080e-01,  1.10548928e-01,\n",
            "         5.55258930e-01,  1.91920266e-01,  5.57739019e-01,\n",
            "         4.92953122e-01,  9.58741367e-01],\n",
            "       [ 5.02431989e-01,  5.31872153e-01,  4.42044586e-01,\n",
            "         6.97762191e-01,  3.44533771e-02, -2.53880620e-01,\n",
            "         8.60898755e-03,  7.51076579e-01],\n",
            "       [-1.86434001e-01, -1.40227871e-02,  3.85612845e-01,\n",
            "        -9.21637118e-02,  3.35202396e-01, -2.39887256e-02,\n",
            "         1.60967052e-01,  9.54486370e-01],\n",
            "       [ 3.09789628e-01,  6.64993882e-01,  4.21917081e-01,\n",
            "        -2.54566967e-01,  4.21148807e-01,  3.79741877e-01,\n",
            "        -1.43243477e-01,  1.54043651e+00],\n",
            "       [-8.58118683e-02,  5.50477445e-01, -1.32877482e-02,\n",
            "         2.03303203e-01,  1.70140490e-01, -4.12898734e-02,\n",
            "         2.20890362e-02,  1.33614981e+00],\n",
            "       [-1.19065963e-01,  6.27159059e-01,  5.32136932e-02,\n",
            "         3.86780977e-01,  5.01105070e-01,  7.08304882e-01,\n",
            "         4.51221168e-01,  7.54673481e-01],\n",
            "       [ 5.48559546e-01,  2.74902642e-01,  2.99311787e-01,\n",
            "         2.47550413e-01,  1.33762300e-01,  3.88989627e-01,\n",
            "         2.51630157e-01,  1.04652035e+00],\n",
            "       [-1.56627014e-01,  1.23714313e-01,  3.51984173e-01,\n",
            "        -3.02325189e-01,  2.87389964e-01, -9.86269414e-02,\n",
            "         3.79179478e-01,  1.28482652e+00],\n",
            "       [ 1.59063175e-01,  9.58536863e-02,  3.73972565e-01,\n",
            "         6.11780465e-01, -1.01639874e-01, -1.51908949e-01,\n",
            "         2.05096602e-01,  6.42297149e-01],\n",
            "       [ 1.67907014e-01,  4.50460255e-01, -7.84990564e-02,\n",
            "         2.55286515e-01,  6.09966815e-02,  3.03721130e-01,\n",
            "        -2.49461442e-01,  1.64368939e+00],\n",
            "       [ 5.49245894e-01, -1.71689361e-01,  5.69818914e-01,\n",
            "        -1.66301459e-01,  4.49440688e-01,  5.92250943e-01,\n",
            "        -2.92529792e-01,  9.18023825e-01],\n",
            "       [-7.10174665e-02,  4.84195322e-01,  3.70601773e-01,\n",
            "         1.31709293e-01,  1.88902661e-01,  2.93046683e-01,\n",
            "         6.03997827e-01,  1.08290231e+00],\n",
            "       [-1.04728110e-01, -2.59523660e-01, -8.58636498e-02,\n",
            "         2.17502922e-01,  8.38136394e-03,  5.10366201e-01,\n",
            "         4.34789747e-01,  8.17032218e-01],\n",
            "       [ 7.05433041e-02,  6.10178769e-01,  8.98395926e-02,\n",
            "         1.84479028e-01, -2.78301090e-01,  3.98338735e-01,\n",
            "        -1.30264550e-01,  1.45752704e+00],\n",
            "       [-8.48074257e-02,  5.10152161e-01,  3.23094398e-01,\n",
            "         5.95803380e-01,  4.79449213e-01, -9.66160744e-02,\n",
            "         1.44216403e-01,  1.49528027e+00],\n",
            "       [ 1.94192931e-01,  7.16736078e-01,  8.41014981e-02,\n",
            "         4.98388469e-01, -2.25483235e-02,  3.45381916e-01,\n",
            "        -2.71856952e-02,  1.32195687e+00],\n",
            "       [ 4.26220834e-01, -1.35074168e-01,  7.76092410e-01,\n",
            "         5.07235117e-02,  2.34936073e-01,  1.74748302e-01,\n",
            "         5.39908290e-01,  1.03127360e+00],\n",
            "       [-1.53427988e-01,  4.35318589e-01, -7.58463368e-02,\n",
            "        -2.40195423e-01,  2.36388952e-01, -2.85978228e-01,\n",
            "        -1.22575000e-01,  1.18956721e+00],\n",
            "       [ 1.67315453e-01,  6.53700054e-01,  3.71199220e-01,\n",
            "        -1.79133683e-01, -2.52653062e-01,  4.99670148e-01,\n",
            "         2.33989894e-01,  8.08470309e-01],\n",
            "       [-1.48342609e-01,  3.20779681e-01,  5.75684197e-02,\n",
            "        -1.61163613e-01, -3.51185575e-02, -2.07428306e-01,\n",
            "        -5.91088980e-02,  1.08820713e+00],\n",
            "       [ 5.83475232e-01,  6.12679720e-01,  4.45222855e-01,\n",
            "         2.73906916e-01,  5.11373222e-01,  2.00740501e-01,\n",
            "         5.04900694e-01,  7.90015340e-01]], dtype=float32), array([[ 0.3104579 ],\n",
            "       [ 0.26172662],\n",
            "       [ 0.2872216 ],\n",
            "       [ 0.5068457 ],\n",
            "       [ 0.53753674],\n",
            "       [ 0.22108755],\n",
            "       [ 0.68896306],\n",
            "       [-0.3872171 ]], dtype=float32)]\n",
            "IN DELTA: NORMAL WEIGHTS\n",
            "[[ 5.06450891e-01  2.77276009e-01  6.38567656e-02  4.16161213e-03\n",
            "  -2.17835560e-01  4.58482057e-01  3.50352377e-01  3.55447352e-01\n",
            "   2.22753376e-01  3.50865722e-01  3.51765186e-01 -5.98536357e-02\n",
            "   3.09446275e-01  2.17500180e-01  3.78113031e-01  6.11947179e-01\n",
            "   6.62446260e-01  3.24028730e-01  4.15337592e-01  4.06750679e-01\n",
            "  -1.10871978e-01  3.40300769e-01  7.20163822e-01  5.49272418e-01\n",
            "   6.19150579e-01  4.07907516e-01 -1.12271287e-01  3.14938933e-01\n",
            "  -1.21432744e-01  7.59352386e-01  4.00210738e-01  6.50499642e-01]\n",
            " [ 2.05183595e-01  3.12423706e-01  2.86152273e-01 -1.04673922e-01\n",
            "   4.47654665e-01  7.02320755e-01  6.11172467e-02  5.74843884e-01\n",
            "   1.57742128e-01  4.09511924e-01 -1.81868970e-01  1.12911211e-02\n",
            "   5.86088657e-01  6.36782110e-01  2.90384710e-01  2.71240205e-01\n",
            "  -4.43091914e-02  4.02054042e-01  4.46621537e-01  4.65125829e-01\n",
            "   2.71710306e-01  4.34764236e-01  1.09754555e-01  6.12225890e-01\n",
            "  -1.28482178e-01 -1.44164218e-03 -1.27209663e-01 -2.40056515e-01\n",
            "   7.60361373e-01  1.10895410e-01  8.24844599e-01  6.57187819e-01]\n",
            " [ 4.90126349e-02  9.69238058e-02 -5.93875311e-02  3.71749789e-01\n",
            "  -1.55329868e-01  6.33905649e-01 -5.89292981e-02  3.34405631e-01\n",
            "  -2.52747297e-01 -2.03154802e-01 -7.84988329e-02  1.76995590e-01\n",
            "   4.03569937e-01  9.60592180e-02  2.11722597e-01 -1.77792795e-02\n",
            "   2.37400979e-01  6.64505586e-02  3.21357906e-01  6.21528864e-01\n",
            "  -6.40878528e-02 -9.14347917e-02  7.27314949e-01  3.36476624e-01\n",
            "   1.79614201e-01  4.97385085e-01 -2.28005216e-01 -9.70240384e-02\n",
            "   7.22246289e-01  1.68564633e-01 -1.34922331e-02  4.00587648e-01]\n",
            " [-6.55037388e-02  8.16311061e-01  4.70590651e-01  3.06955397e-01\n",
            "   7.04300404e-01 -1.17987104e-01  1.84421182e-01 -1.91658467e-01\n",
            "   2.14235224e-02  1.87193424e-01  4.98356193e-01  5.50155342e-01\n",
            "  -2.10042849e-01  3.50112855e-01  3.30979109e-01  6.45369470e-01\n",
            "  -1.77758634e-02  1.19644366e-02  1.78153202e-01 -1.67984158e-01\n",
            "   2.96174169e-01  3.19943160e-01  2.81687975e-01  4.84371722e-01\n",
            "   5.20079255e-01  6.85279727e-01 -1.32829830e-01 -8.61579701e-02\n",
            "   6.31386101e-01  4.88342047e-01  3.27574015e-01  6.80892944e-01]\n",
            " [ 6.87375426e-01  3.64764988e-01  4.61153448e-01  4.15857099e-02\n",
            "   2.30794534e-01  1.72524601e-01  5.43944240e-01 -9.32995081e-02\n",
            "   2.48815075e-01  5.12207270e-01 -3.95791195e-02  4.04137641e-01\n",
            "   4.58048105e-01 -2.16354266e-01  6.12219214e-01  7.57162392e-01\n",
            "   4.59062636e-01  7.68162981e-02  2.84916192e-01  1.53710276e-01\n",
            "  -1.59241840e-01  4.59356010e-01  6.29978657e-01 -1.07013606e-01\n",
            "   5.74519038e-01 -2.47479782e-01  3.08726758e-01  4.81530517e-01\n",
            "   5.42997241e-01  4.47165906e-01  3.68995398e-01 -1.00118063e-01]\n",
            " [ 5.37547052e-01  1.04166663e+00  3.43870223e-02  7.63740838e-02\n",
            "   2.61305690e-01 -5.22627011e-02 -2.13706851e-01  3.90949100e-01\n",
            "  -7.99194723e-02  8.33020657e-02  1.86648220e-02  5.08377925e-02\n",
            "   1.66694865e-01 -5.41644637e-03 -2.11951286e-01  1.46253124e-01\n",
            "   4.54026163e-01  5.35764515e-01  5.15057981e-01  4.94757652e-01\n",
            "   7.17526317e-01 -1.74510494e-01  7.06386864e-01  6.21756017e-01\n",
            "   7.22578585e-01  3.31776291e-01  7.52928853e-01 -1.44612208e-01\n",
            "   3.94574970e-01  4.83948827e-01  8.63435209e-01 -2.86188722e-01]\n",
            " [ 7.69890785e-01  5.41502118e-01 -1.43085107e-01  5.97841382e-01\n",
            "   5.18549830e-02  9.44457203e-02  5.62771380e-01  4.63666534e-03\n",
            "  -1.45503238e-01  4.73890722e-01 -2.32787043e-01  2.65802503e-01\n",
            "   4.52358313e-02  6.56043291e-01 -6.96615875e-03  5.41656196e-01\n",
            "   6.93288326e-01  4.59861517e-01  7.48759091e-01  1.56662483e-02\n",
            "  -1.04720602e-02  4.99082468e-02 -1.68908998e-01  1.83944136e-01\n",
            "   1.64406449e-01  4.95507866e-01  4.97040451e-01 -5.79861552e-02\n",
            "   6.55576408e-01 -1.13111243e-01  1.42480522e-01  4.25810158e-01]\n",
            " [ 7.57864058e-01  8.20180476e-01  3.02830040e-01  5.27810633e-01\n",
            "   2.70332724e-01 -7.04817623e-02 -2.61620909e-01  4.97503951e-02\n",
            "   5.84468186e-01  6.98023081e-01  2.21373156e-01  4.94516879e-01\n",
            "   3.68793532e-02  5.54930329e-01  5.98135054e-01  5.09517908e-01\n",
            "   6.95704743e-02  1.16817459e-01  7.47751653e-01 -1.21396214e-01\n",
            "   6.45308316e-01  7.26767600e-01  4.76424873e-01  5.94510913e-01\n",
            "  -1.50213689e-01  5.69971144e-01  5.47405839e-01  2.91502446e-01\n",
            "   8.67862534e-03  3.45723152e-01  5.59985079e-02  6.23383224e-01]\n",
            " [ 5.09302199e-01  6.18858188e-02  6.79836333e-01 -1.07812695e-01\n",
            "   3.09293568e-01  1.71480358e-01  1.60597801e-01  1.26816645e-01\n",
            "   6.78177550e-02 -1.60127252e-01  4.62302268e-01  4.78707075e-01\n",
            "  -1.88092381e-01  1.98926955e-01  4.80532914e-01  1.35810882e-01\n",
            "  -2.62070417e-01 -2.56121129e-01  9.50537920e-02  5.64265430e-01\n",
            "   6.07466042e-01  1.46337077e-01  4.44314659e-01  2.24575505e-01\n",
            "   1.76656306e-01  2.10099354e-01  7.43527353e-01  4.33914006e-01\n",
            "  -1.25860190e-02 -2.26905748e-01  4.79997218e-01  5.09997487e-01]\n",
            " [ 6.34874284e-01  6.15908265e-01  5.68996012e-01  6.54161096e-01\n",
            "   7.05662787e-01  6.19854391e-01  6.21094048e-01  3.14935625e-01\n",
            "   5.19646943e-01  6.95628226e-01  6.68904543e-01  4.03270990e-01\n",
            "  -1.62272900e-01  5.94476819e-01 -5.83081692e-02  5.76515555e-01\n",
            "  -2.39801675e-01  2.23176166e-01  1.88862979e-01 -2.12993175e-01\n",
            "   6.06861174e-01  1.65533423e-01  3.89731914e-01  5.38016677e-01\n",
            "   1.93667799e-01  5.29434823e-04  5.59579670e-01 -1.75045803e-01\n",
            "  -2.41779089e-02  1.94673404e-01  2.10878298e-01  3.88090909e-01]]\n",
            "IN DELTA: DISTURBED WEIGHTS\n",
            "[[ 5.06450951e-01  2.77233630e-01  6.38634861e-02  4.16726526e-03\n",
            "  -2.17835486e-01  4.58481818e-01  3.50358963e-01  3.55452091e-01\n",
            "   2.22759262e-01  3.50866586e-01  3.51766616e-01 -5.98462634e-02\n",
            "   3.09452593e-01  2.17499107e-01  3.78112197e-01  6.11944139e-01\n",
            "   6.62456036e-01  3.24035317e-01  4.15335387e-01  4.06755835e-01\n",
            "  -1.10879876e-01  3.40301841e-01  7.20170140e-01  5.49274266e-01\n",
            "   6.19142711e-01  4.07911569e-01 -1.12269498e-01  3.14946771e-01\n",
            "  -1.21448182e-01  7.59354413e-01  4.00194824e-01  6.50509894e-01]\n",
            " [ 2.05182850e-01  3.12380105e-01  2.86159545e-01 -1.04668133e-01\n",
            "   4.47654665e-01  7.02321112e-01  6.11236840e-02  5.74849010e-01\n",
            "   1.57747775e-01  4.09512937e-01 -1.81867078e-01  1.12985857e-02\n",
            "   5.86096764e-01  6.36781812e-01  2.90384352e-01  2.71238625e-01\n",
            "  -4.43002768e-02  4.02060419e-01  4.46618587e-01  4.65131789e-01\n",
            "   2.71702588e-01  4.34765249e-01  1.09760396e-01  6.12227499e-01\n",
            "  -1.28489673e-01 -1.43754226e-03 -1.27208009e-01 -2.40049258e-01\n",
            "   7.60345340e-01  1.10897250e-01  8.24828804e-01  6.57198846e-01]\n",
            " [ 4.90124375e-02  9.68806297e-02 -5.93808927e-02  3.71755570e-01\n",
            "  -1.55329734e-01  6.33905709e-01 -5.89224137e-02  3.34410310e-01\n",
            "  -2.52741516e-01 -2.03153476e-01 -7.84969404e-02  1.77002490e-01\n",
            "   4.03575838e-01  9.60584134e-02  2.11721778e-01 -1.77820399e-02\n",
            "   2.37410709e-01  6.64563552e-02  3.21356386e-01  6.21534944e-01\n",
            "  -6.40957132e-02 -9.14338678e-02  7.27322221e-01  3.36478621e-01\n",
            "   1.79606169e-01  4.97389048e-01 -2.28003606e-01 -9.70165655e-02\n",
            "   7.22229898e-01  1.68566614e-01 -1.35085331e-02  4.00597572e-01]\n",
            " [-6.55041486e-02  8.16267967e-01  4.70596880e-01  3.06960881e-01\n",
            "   7.04300940e-01 -1.17986605e-01  1.84427932e-01 -1.91653237e-01\n",
            "   2.14296449e-02  1.87195048e-01  4.98357683e-01  5.50162375e-01\n",
            "  -2.10036263e-01  3.50112855e-01  3.30978483e-01  6.45366848e-01\n",
            "  -1.77667532e-02  1.19703989e-02  1.78151041e-01 -1.67978331e-01\n",
            "   2.96166807e-01  3.19944412e-01  2.81694263e-01  4.84374523e-01\n",
            "   5.20070851e-01  6.85283899e-01 -1.32827967e-01 -8.61506835e-02\n",
            "   6.31368577e-01  4.88344640e-01  3.27557057e-01  6.80901825e-01]\n",
            " [ 6.87375784e-01  3.64721864e-01  4.61160839e-01  4.15915810e-02\n",
            "   2.30794132e-01  1.72524557e-01  5.43950796e-01 -9.32941735e-02\n",
            "   2.48820618e-01  5.12209117e-01 -3.95771153e-02  4.04145598e-01\n",
            "   4.58054751e-01 -2.16354713e-01  6.12217963e-01  7.57160306e-01\n",
            "   4.59071547e-01  7.68222958e-02  2.84914076e-01  1.53716102e-01\n",
            "  -1.59250215e-01  4.59357828e-01  6.29984260e-01 -1.07011087e-01\n",
            "   5.74511349e-01 -2.47475713e-01  3.08728367e-01  4.81537461e-01\n",
            "   5.42980015e-01  4.47166771e-01  3.68979186e-01 -1.00108035e-01]\n",
            " [ 5.37545860e-01  1.04162300e+00  3.43937352e-02  7.63802081e-02\n",
            "   2.61306107e-01 -5.22622354e-02 -2.13700101e-01  3.90954703e-01\n",
            "  -7.99135789e-02  8.33032504e-02  1.86667591e-02  5.08451574e-02\n",
            "   1.66702032e-01 -5.41693764e-03 -2.11952493e-01  1.46250561e-01\n",
            "   4.54034716e-01  5.35770535e-01  5.15056789e-01  4.94763196e-01\n",
            "   7.17519641e-01 -1.74509391e-01  7.06393540e-01  6.21758223e-01\n",
            "   7.22570240e-01  3.31780612e-01  7.52931476e-01 -1.44604608e-01\n",
            "   3.94559711e-01  4.83950615e-01  8.63418460e-01 -2.86179334e-01]\n",
            " [ 7.69889235e-01  5.41459084e-01 -1.43078163e-01  5.97847998e-01\n",
            "   5.18550090e-02  9.44460109e-02  5.62778115e-01  4.64169029e-03\n",
            "  -1.45497113e-01  4.73892450e-01 -2.32785329e-01  2.65809506e-01\n",
            "   4.52423580e-02  6.56042576e-01 -6.96711289e-03  5.41653097e-01\n",
            "   6.93296850e-01  4.59868073e-01  7.48757780e-01  1.56717449e-02\n",
            "  -1.04801096e-02  4.99095321e-02 -1.68902576e-01  1.83946550e-01\n",
            "   1.64398432e-01  4.95512187e-01  4.97043550e-01 -5.79787903e-02\n",
            "   6.55560911e-01 -1.13109618e-01  1.42463923e-01  4.25820589e-01]\n",
            " [ 7.57862628e-01  8.20137441e-01  3.02837014e-01  5.27817190e-01\n",
            "   2.70332485e-01 -7.04816654e-02 -2.61613846e-01  4.97559309e-02\n",
            "   5.84474027e-01  6.98023379e-01  2.21375301e-01  4.94524598e-01\n",
            "   3.68863530e-02  5.54930270e-01  5.98134041e-01  5.09515464e-01\n",
            "   6.95796013e-02  1.16823547e-01  7.47749209e-01 -1.21390514e-01\n",
            "   6.45300567e-01  7.26768434e-01  4.76430535e-01  5.94513834e-01\n",
            "  -1.50221586e-01  5.69974840e-01  5.47407746e-01  2.91509926e-01\n",
            "   8.66261870e-03  3.45724851e-01  5.59819974e-02  6.23392701e-01]\n",
            " [ 5.09302318e-01  6.18422814e-02  6.79842949e-01 -1.07806981e-01\n",
            "   3.09294224e-01  1.71480209e-01  1.60604388e-01  1.26821816e-01\n",
            "   6.78237826e-02 -1.60125941e-01  4.62304145e-01  4.78714377e-01\n",
            "  -1.88085765e-01  1.98926613e-01  4.80531573e-01  1.35808572e-01\n",
            "  -2.62061328e-01 -2.56115526e-01  9.50519145e-02  5.64271450e-01\n",
            "   6.07457280e-01  1.46338925e-01  4.44320560e-01  2.24578321e-01\n",
            "   1.76648557e-01  2.10103765e-01  7.43528724e-01  4.33921605e-01\n",
            "  -1.26020433e-02 -2.26903856e-01  4.79981601e-01  5.10007262e-01]\n",
            " [ 6.34874344e-01  6.15865052e-01  5.69002748e-01  6.54166222e-01\n",
            "   7.05663145e-01  6.19854987e-01  6.21101916e-01  3.14941436e-01\n",
            "   5.19653976e-01  6.95630133e-01  6.68906629e-01  4.03279066e-01\n",
            "  -1.62266091e-01  5.94476700e-01 -5.83092272e-02  5.76513052e-01\n",
            "  -2.39792213e-01  2.23182037e-01  1.88860580e-01 -2.12987646e-01\n",
            "   6.06852114e-01  1.65534809e-01  3.89737636e-01  5.38019538e-01\n",
            "   1.93659797e-01  5.33864601e-04  5.59580982e-01 -1.75038502e-01\n",
            "  -2.41940562e-02  1.94675103e-01  2.10862175e-01  3.88101250e-01]]\n",
            "[[1.17690853e-07 1.52863504e-04 1.05231084e-04 1.35655585e-03\n",
            "  3.42027874e-07 5.20017522e-07 1.87987571e-05 1.33311050e-05\n",
            "  2.64229584e-05 2.46323634e-06 4.06664913e-06 1.23188132e-04\n",
            "  2.04169955e-05 4.93281823e-06 2.20692436e-06 4.96750727e-06\n",
            "  1.47559404e-05 2.03259115e-05 5.30985790e-06 1.26754221e-05\n",
            "  7.12267720e-05 3.15274110e-06 8.77305501e-06 3.36397329e-06\n",
            "  1.27075918e-05 9.93626145e-06 1.59272058e-05 2.48867800e-05\n",
            "  1.27112668e-04 2.66879056e-06 3.97667318e-05 1.57599425e-05]\n",
            " [3.63119079e-06 1.39576106e-04 2.54115821e-05 5.53091086e-05\n",
            "  0.00000000e+00 5.09208462e-07 1.05315994e-04 8.91712352e-06\n",
            "  3.58010766e-05 2.47435150e-06 1.04056626e-05 6.60662365e-04\n",
            "  1.38308760e-05 4.68014662e-07 1.23156724e-06 5.82337088e-06\n",
            "  2.01231698e-04 1.58625335e-05 6.60615115e-06 1.28145712e-05\n",
            "  2.84090092e-05 2.33063474e-06 5.32182421e-05 2.62863955e-06\n",
            "  5.83337460e-05 2.85203080e-03 1.30025528e-05 3.02307344e-05\n",
            "  2.10873259e-05 1.65945803e-05 1.91497074e-05 1.67785729e-05]\n",
            " [4.02837304e-06 4.45663027e-04 1.11794667e-04 1.55522903e-05\n",
            "  8.63392017e-07 9.40276195e-08 1.16837313e-04 1.39916874e-05\n",
            "  2.28757453e-05 6.52808603e-06 2.41085509e-05 3.89781962e-05\n",
            "  1.46214397e-05 8.37680636e-06 3.87094724e-06 1.55237532e-04\n",
            "  4.09857603e-05 8.72234377e-05 4.72969714e-06 9.78170829e-06\n",
            "  1.22634767e-04 1.01042642e-05 9.99799886e-06 5.93427194e-06\n",
            "  4.47185412e-05 7.96903169e-06 7.05833327e-06 7.70273837e-05\n",
            "  2.26953744e-05 1.17570989e-05 1.20664528e-03 2.47734242e-05]\n",
            " [6.25581652e-06 5.27941302e-05 1.32357136e-05 1.78642549e-05\n",
            "  7.61665603e-07 4.23089477e-06 3.66008862e-05 2.72904726e-05\n",
            "  2.85703049e-04 8.67665312e-06 2.99005342e-06 1.27841313e-05\n",
            "  3.13579803e-05 0.00000000e+00 1.89090474e-06 4.06374193e-06\n",
            "  5.12766594e-04 4.98089241e-04 1.21282947e-05 3.46851521e-05\n",
            "  2.48548240e-05 3.91223421e-06 2.23231036e-05 5.78357913e-06\n",
            "  1.61598273e-05 6.08846221e-06 1.40229895e-05 8.45804971e-05\n",
            "  2.77552062e-05 5.30936950e-06 5.17696717e-05 1.30431317e-05]\n",
            " [5.20279968e-07 1.18237935e-04 1.60268937e-05 1.41159762e-04\n",
            "  1.74324771e-06 2.59113733e-07 1.20534996e-05 5.71805867e-05\n",
            "  2.22780254e-05 3.60740160e-06 5.06405304e-05 1.96889941e-05\n",
            "  1.45090034e-05 2.06621257e-06 2.04452931e-06 2.75524553e-06\n",
            "  1.94106869e-05 7.80726114e-05 7.42667726e-06 3.79033409e-05\n",
            "  5.25867581e-05 3.95757206e-06 8.89361399e-06 2.35330408e-05\n",
            "  1.33835465e-05 1.64380453e-05 5.21275524e-06 1.44203550e-05\n",
            "  3.17244485e-05 1.93276287e-06 4.39386931e-05 1.00176592e-04]\n",
            " [2.21765799e-06 4.18871314e-05 1.95180110e-04 8.01827773e-05\n",
            "  1.59671936e-06 8.91009131e-06 3.15873804e-05 1.43311654e-05\n",
            "  7.37472801e-05 1.42208419e-05 1.03775426e-04 1.44849560e-04\n",
            "  4.29956272e-05 9.06919522e-05 5.69464419e-06 1.75247169e-05\n",
            "  1.88383528e-05 1.12362823e-05 2.31448826e-06 1.12038078e-05\n",
            "  9.30388524e-06 6.31877720e-06 9.45042666e-06 3.54699273e-06\n",
            "  1.15485664e-05 1.30246817e-05 3.48319122e-06 5.25542891e-05\n",
            "  3.86729516e-05 3.69487975e-06 1.93983633e-05 3.28036658e-05]\n",
            " [2.01291391e-06 7.94788648e-05 4.85324999e-05 1.10665515e-05\n",
            "  5.02883552e-07 3.07660048e-06 1.19679935e-05 1.08256924e-03\n",
            "  4.20927754e-05 3.64752532e-06 7.36143284e-06 2.63479888e-05\n",
            "  1.44261023e-04 1.09025814e-06 1.36949122e-04 5.72218914e-06\n",
            "  1.22941046e-05 1.42573736e-05 1.75130356e-06 3.50737333e-04\n",
            "  7.68066500e-04 2.57510965e-05 3.80242891e-05 1.31233128e-05\n",
            "  4.87646066e-05 8.72094915e-06 6.23575443e-06 1.27027466e-04\n",
            "  2.36396154e-05 1.43597563e-05 1.16519979e-04 2.44957919e-05]\n",
            " [1.88756042e-06 5.24723691e-05 2.30280421e-05 1.24219350e-05\n",
            "  8.81945709e-07 1.37422330e-06 2.69983811e-05 1.11258727e-04\n",
            "  9.99403710e-06 4.26953079e-07 9.69289340e-06 1.56085298e-05\n",
            "  1.89767219e-04 1.07409249e-07 1.69406667e-06 4.79630262e-06\n",
            "  1.31172943e-04 5.21052862e-05 3.26819531e-06 4.69533734e-05\n",
            "  1.20077439e-05 1.14818556e-06 1.18851349e-05 4.91263199e-06\n",
            "  5.25731048e-05 6.48359855e-06 3.48432900e-06 2.56608164e-05\n",
            "  1.84778322e-03 4.91353831e-06 2.94924917e-04 1.52025177e-05]\n",
            " [2.34063904e-07 7.04008096e-04 9.73182978e-06 5.30076541e-05\n",
            "  2.11982979e-06 8.68972677e-07 4.10095490e-05 4.07713997e-05\n",
            "  8.88702998e-05 8.18919307e-06 4.06127947e-06 1.52524535e-05\n",
            "  3.51760573e-05 1.72288014e-06 2.79087703e-06 1.70068797e-05\n",
            "  3.46854249e-05 2.18762088e-05 1.97528516e-05 1.06687467e-05\n",
            "  1.44238666e-05 1.26264695e-05 1.32806363e-05 1.25404777e-05\n",
            "  4.38645184e-05 2.09931677e-05 1.84378462e-06 1.75137448e-05\n",
            "  1.27156649e-03 8.34030561e-06 3.25354486e-05 1.91667114e-05]\n",
            " [9.38841609e-08 7.01669414e-05 1.18370690e-05 7.83592805e-06\n",
            "  5.06796880e-07 9.61590104e-07 1.26675077e-05 1.84524870e-05\n",
            "  1.35346754e-05 2.74190052e-06 3.11876488e-06 2.00268987e-05\n",
            "  4.19670578e-05 2.00528106e-07 1.81443393e-05 4.34230424e-06\n",
            "  3.94601520e-05 2.63061374e-05 1.27029525e-05 2.59561093e-05\n",
            "  1.49293473e-05 8.37170137e-06 1.46817893e-05 5.31769319e-06\n",
            "  4.13194866e-05 8.29756726e-03 2.34336449e-06 4.17140727e-05\n",
            "  6.67406537e-04 8.72598685e-06 7.64625365e-05 2.66461539e-05]]\n",
            "IN DELTA: NORMAL WEIGHTS\n",
            "[[ 5.31618416e-01  3.42188552e-02  5.85802257e-01  3.50350440e-01\n",
            "  -4.33771536e-02 -1.24556124e-01 -1.35316879e-01  1.19711423e+00]\n",
            " [-1.92523733e-01  1.09136105e-02 -2.79799134e-01  3.42275113e-01\n",
            "  -3.21527690e-01 -1.55435517e-01 -3.31188440e-01  1.60852885e+00]\n",
            " [ 5.89054167e-01 -2.70551801e-01  5.87300122e-01 -2.21619889e-01\n",
            "   6.48776174e-01  6.11340344e-01  5.65369785e-01  1.30823982e+00]\n",
            " [ 6.78136110e-01  3.63217741e-01  6.19657755e-01  1.18930399e-01\n",
            "   2.96777282e-02  3.76970619e-01  3.29943486e-02  7.23649502e-01]\n",
            " [ 1.97887525e-01  6.28375828e-01  1.69878736e-01 -2.46630922e-01\n",
            "   5.17425895e-01  1.62161663e-02 -7.80961961e-02  1.10324943e+00]\n",
            " [-2.87592292e-01  3.99795234e-01  3.27849895e-01  4.07909639e-02\n",
            "  -2.93803126e-01  4.62559126e-02  6.31352901e-01  1.15916288e+00]\n",
            " [ 6.13909006e-01  6.75739527e-01 -5.49434461e-02  4.23685431e-01\n",
            "   8.98617506e-02  3.88450064e-02  5.93977690e-01  1.30163336e+00]\n",
            " [ 5.64703643e-01  1.40983179e-01  2.80883342e-01  2.83257246e-01\n",
            "  -9.11979452e-02  3.44274521e-01  6.17543459e-01  1.33159137e+00]\n",
            " [ 2.75755107e-01  3.80646475e-06 -2.47719809e-02 -2.30800703e-01\n",
            "   2.75968105e-01  6.74566388e-01  6.99491024e-01  9.79596436e-01]\n",
            " [ 2.56485403e-01 -4.26858626e-02 -1.11119002e-01 -2.31378689e-01\n",
            "   4.88276035e-01  4.11276400e-01  4.43055332e-01  1.40301025e+00]\n",
            " [ 3.02512586e-01 -1.97787747e-01  1.88453674e-01 -1.44506797e-01\n",
            "   4.45285141e-01  3.90184551e-01  3.09210807e-01  1.27624249e+00]\n",
            " [ 8.88844021e-04  2.04030007e-01  1.10538311e-01  5.55245817e-01\n",
            "   1.91907898e-01  5.57729602e-01  4.92939740e-01  9.58801091e-01]\n",
            " [ 5.02421260e-01  5.31862617e-01  4.42034662e-01  6.97749972e-01\n",
            "   3.44409868e-02 -2.53889740e-01  8.59594904e-03  7.51139104e-01]\n",
            " [-1.86447263e-01 -1.40345311e-02  3.85600120e-01 -9.21792686e-02\n",
            "   3.35186183e-01 -2.40003522e-02  1.60950840e-01  9.54554319e-01]\n",
            " [ 3.09778303e-01  6.64982915e-01  4.21905130e-01 -2.54581541e-01\n",
            "   4.21134293e-01  3.79731804e-01 -1.43258646e-01  1.54050410e+00]\n",
            " [-8.58258903e-02  5.50463140e-01 -1.33012943e-02  2.03286678e-01\n",
            "   1.70123652e-01 -4.13021967e-02  2.20718440e-02  1.33621740e+00]\n",
            " [-1.19075976e-01  6.27150059e-01  5.32039329e-02  3.86769205e-01\n",
            "   5.01094282e-01  7.08295524e-01  4.51208740e-01  7.54731238e-01]\n",
            " [ 5.48552692e-01  2.74897069e-01  2.99304128e-01  2.47542039e-01\n",
            "   1.33753538e-01  3.88983428e-01  2.51621485e-01  1.04656518e+00]\n",
            " [-1.56640962e-01  1.23701684e-01  3.51971447e-01 -3.02341223e-01\n",
            "   2.87373960e-01 -9.86386761e-02  3.79163116e-01  1.28489578e+00]\n",
            " [ 1.59052685e-01  9.58442166e-02  3.73961627e-01  6.11768544e-01\n",
            "  -1.01652443e-01 -1.51918352e-01  2.05083311e-01  6.42357171e-01]\n",
            " [ 1.67893112e-01  4.50448066e-01 -7.85127133e-02  2.55270004e-01\n",
            "   6.09801337e-02  3.03709030e-01 -2.49478355e-01  1.64376473e+00]\n",
            " [ 5.49236238e-01 -1.71698064e-01  5.69809198e-01 -1.66313112e-01\n",
            "   4.49428231e-01  5.92242002e-01 -2.92541504e-01  9.18083310e-01]\n",
            " [-7.10294098e-02  4.84184533e-01  3.70590985e-01  1.31695747e-01\n",
            "   1.88889638e-01  2.93036491e-01  6.03983343e-01  1.08296275e+00]\n",
            " [-1.04741298e-01 -2.59535760e-01 -8.58766362e-02  2.17487440e-01\n",
            "   8.36595893e-03  5.10354280e-01  4.34774637e-01  8.17098677e-01]\n",
            " [ 7.05287233e-02  6.10165954e-01  8.98251384e-02  1.84462130e-01\n",
            "  -2.78318495e-01  3.98326784e-01 -1.30282447e-01  1.45760310e+00]\n",
            " [-8.48167166e-02  5.10144234e-01  3.23084891e-01  5.95792115e-01\n",
            "   4.79438186e-01 -9.66242105e-02  1.44204423e-01  1.49533129e+00]\n",
            " [ 1.94180146e-01  7.16725409e-01  8.40892717e-02  4.98373985e-01\n",
            "  -2.25630850e-02  3.45370859e-01 -2.72009745e-02  1.32202137e+00]\n",
            " [ 4.26217973e-01 -1.35076657e-01  7.76089311e-01  5.07201478e-02\n",
            "   2.34933138e-01  1.74746096e-01  5.39905787e-01  1.03129482e+00]\n",
            " [-1.53444156e-01  4.35303330e-01 -7.58620426e-02 -2.40214303e-01\n",
            "   2.36369357e-01 -2.85992086e-01 -1.22594818e-01  1.18964756e+00]\n",
            " [ 1.67305142e-01  6.53690457e-01  3.71189177e-01 -1.79146349e-01\n",
            "  -2.52665281e-01  4.99659508e-01  2.33975947e-01  8.08529496e-01]\n",
            " [-1.48358911e-01  3.20765644e-01  5.75526096e-02 -1.61182716e-01\n",
            "  -3.51375379e-02 -2.07442328e-01 -5.91286793e-02  1.08828580e+00]\n",
            " [ 5.83463848e-01  6.12670660e-01  4.45212334e-01  2.73894250e-01\n",
            "   5.11360109e-01  2.00731233e-01  5.04887164e-01  7.90071487e-01]]\n",
            "IN DELTA: DISTURBED WEIGHTS\n",
            "[[ 5.31630874e-01  3.42294537e-02  5.85813701e-01  3.50364655e-01\n",
            "  -4.33625877e-02 -1.24545291e-01 -1.35302171e-01  1.19705129e+00]\n",
            " [-1.92501068e-01  1.09337522e-02 -2.79777169e-01  3.42300504e-01\n",
            "  -3.21500540e-01 -1.55415893e-01 -3.31161022e-01  1.60843730e+00]\n",
            " [ 5.89063466e-01 -2.70542264e-01  5.87311208e-01 -2.21607596e-01\n",
            "   6.48787141e-01  6.11350358e-01  5.65381706e-01  1.30818379e+00]\n",
            " [ 6.78148270e-01  3.63227695e-01  6.19669735e-01  1.18944377e-01\n",
            "   2.96912696e-02  3.76981407e-01  3.30084525e-02  7.23585904e-01]\n",
            " [ 1.97897598e-01  6.28385007e-01  1.69888273e-01 -2.46619418e-01\n",
            "   5.17437100e-01  1.62248295e-02 -7.80839920e-02  1.10319233e+00]\n",
            " [-2.87579924e-01  3.99806023e-01  3.27862144e-01  4.08056751e-02\n",
            "  -2.93788522e-01  4.62671109e-02  6.31368339e-01  1.15909517e+00]\n",
            " [ 6.13918245e-01  6.75747871e-01 -5.49350604e-02  4.23695326e-01\n",
            "   8.98721442e-02  3.88528183e-02  5.93987405e-01  1.30158257e+00]\n",
            " [ 5.64714134e-01  1.40992373e-01  2.80893922e-01  2.83270210e-01\n",
            "  -9.11853909e-02  3.44283849e-01  6.17556214e-01  1.33152699e+00]\n",
            " [ 2.75763422e-01  1.16977917e-05 -2.47632395e-02 -2.30789945e-01\n",
            "   2.75978476e-01  6.74574316e-01  6.99501514e-01  9.79540169e-01]\n",
            " [ 2.56498158e-01 -4.26748544e-02 -1.11106783e-01 -2.31363937e-01\n",
            "   4.88290071e-01  4.11287725e-01  4.43070859e-01  1.40294147e+00]\n",
            " [ 3.02521139e-01 -1.97780281e-01  1.88462257e-01 -1.44496635e-01\n",
            "   4.45295304e-01  3.90191585e-01  3.09220254e-01  1.27618492e+00]\n",
            " [ 8.99713370e-04  2.04040080e-01  1.10548928e-01  5.55258930e-01\n",
            "   1.91920266e-01  5.57739019e-01  4.92953122e-01  9.58741367e-01]\n",
            " [ 5.02431989e-01  5.31872153e-01  4.42044586e-01  6.97762191e-01\n",
            "   3.44533771e-02 -2.53880620e-01  8.60898755e-03  7.51076579e-01]\n",
            " [-1.86434001e-01 -1.40227871e-02  3.85612845e-01 -9.21637118e-02\n",
            "   3.35202396e-01 -2.39887256e-02  1.60967052e-01  9.54486370e-01]\n",
            " [ 3.09789628e-01  6.64993882e-01  4.21917081e-01 -2.54566967e-01\n",
            "   4.21148807e-01  3.79741877e-01 -1.43243477e-01  1.54043651e+00]\n",
            " [-8.58118683e-02  5.50477445e-01 -1.32877482e-02  2.03303203e-01\n",
            "   1.70140490e-01 -4.12898734e-02  2.20890362e-02  1.33614981e+00]\n",
            " [-1.19065963e-01  6.27159059e-01  5.32136932e-02  3.86780977e-01\n",
            "   5.01105070e-01  7.08304882e-01  4.51221168e-01  7.54673481e-01]\n",
            " [ 5.48559546e-01  2.74902642e-01  2.99311787e-01  2.47550413e-01\n",
            "   1.33762300e-01  3.88989627e-01  2.51630157e-01  1.04652035e+00]\n",
            " [-1.56627014e-01  1.23714313e-01  3.51984173e-01 -3.02325189e-01\n",
            "   2.87389964e-01 -9.86269414e-02  3.79179478e-01  1.28482652e+00]\n",
            " [ 1.59063175e-01  9.58536863e-02  3.73972565e-01  6.11780465e-01\n",
            "  -1.01639874e-01 -1.51908949e-01  2.05096602e-01  6.42297149e-01]\n",
            " [ 1.67907014e-01  4.50460255e-01 -7.84990564e-02  2.55286515e-01\n",
            "   6.09966815e-02  3.03721130e-01 -2.49461442e-01  1.64368939e+00]\n",
            " [ 5.49245894e-01 -1.71689361e-01  5.69818914e-01 -1.66301459e-01\n",
            "   4.49440688e-01  5.92250943e-01 -2.92529792e-01  9.18023825e-01]\n",
            " [-7.10174665e-02  4.84195322e-01  3.70601773e-01  1.31709293e-01\n",
            "   1.88902661e-01  2.93046683e-01  6.03997827e-01  1.08290231e+00]\n",
            " [-1.04728110e-01 -2.59523660e-01 -8.58636498e-02  2.17502922e-01\n",
            "   8.38136394e-03  5.10366201e-01  4.34789747e-01  8.17032218e-01]\n",
            " [ 7.05433041e-02  6.10178769e-01  8.98395926e-02  1.84479028e-01\n",
            "  -2.78301090e-01  3.98338735e-01 -1.30264550e-01  1.45752704e+00]\n",
            " [-8.48074257e-02  5.10152161e-01  3.23094398e-01  5.95803380e-01\n",
            "   4.79449213e-01 -9.66160744e-02  1.44216403e-01  1.49528027e+00]\n",
            " [ 1.94192931e-01  7.16736078e-01  8.41014981e-02  4.98388469e-01\n",
            "  -2.25483235e-02  3.45381916e-01 -2.71856952e-02  1.32195687e+00]\n",
            " [ 4.26220834e-01 -1.35074168e-01  7.76092410e-01  5.07235117e-02\n",
            "   2.34936073e-01  1.74748302e-01  5.39908290e-01  1.03127360e+00]\n",
            " [-1.53427988e-01  4.35318589e-01 -7.58463368e-02 -2.40195423e-01\n",
            "   2.36388952e-01 -2.85978228e-01 -1.22575000e-01  1.18956721e+00]\n",
            " [ 1.67315453e-01  6.53700054e-01  3.71199220e-01 -1.79133683e-01\n",
            "  -2.52653062e-01  4.99670148e-01  2.33989894e-01  8.08470309e-01]\n",
            " [-1.48342609e-01  3.20779681e-01  5.75684197e-02 -1.61163613e-01\n",
            "  -3.51185575e-02 -2.07428306e-01 -5.91088980e-02  1.08820713e+00]\n",
            " [ 5.83475232e-01  6.12679720e-01  4.45222855e-01  2.73906916e-01\n",
            "   5.11373222e-01  2.00740501e-01  5.04900694e-01  7.90015340e-01]]\n",
            "[[2.34323688e-05 3.09629570e-04 1.95353769e-05 4.05740357e-05\n",
            "  3.35909048e-04 8.69815631e-05 1.08700740e-04 5.25812939e-05]\n",
            " [1.17737873e-04 1.84215931e-03 7.85064476e-05 7.41792028e-05\n",
            "  8.44474998e-05 1.26272993e-04 8.27939730e-05 5.69203003e-05]\n",
            " [1.57849281e-05 3.52504758e-05 1.88766426e-05 5.54739927e-05\n",
            "  1.69042414e-05 1.63794466e-05 2.10847447e-05 4.28291241e-05]\n",
            " [1.79302206e-05 2.74042304e-05 1.93337401e-05 1.17511139e-04\n",
            "  4.56074486e-04 2.86179657e-05 4.27282939e-04 8.78930296e-05]\n",
            " [5.09009951e-05 1.46074699e-05 5.61353809e-05 4.66455422e-05\n",
            "  2.16561075e-05 5.33944753e-04 1.56293885e-04 5.17600129e-05]\n",
            " [4.30070504e-05 2.69841876e-05 3.73594667e-05 3.60517792e-04\n",
            "  4.97062902e-05 2.42034192e-04 2.44510247e-05 5.84170120e-05]\n",
            " [1.50487786e-05 1.23487625e-05 1.52646200e-04 2.33525607e-05\n",
            "  1.15648290e-04 2.01064788e-04 1.63565037e-05 3.90164714e-05]\n",
            " [1.85765093e-05 6.52093149e-05 3.76648386e-05 4.57655260e-05\n",
            "  1.37678071e-04 2.70942910e-05 2.06546283e-05 4.83452568e-05]\n",
            " [3.01521068e-05 6.74599707e-01 3.52998788e-04 4.66165802e-05\n",
            "  3.75797717e-05 1.17517338e-05 1.49969901e-05 5.74420374e-05]\n",
            " [4.97289875e-05 2.57955951e-04 1.09974855e-04 6.37616613e-05\n",
            "  2.87470393e-05 2.75351831e-05 3.50440787e-05 4.90282473e-05]\n",
            " [2.82732854e-05 3.77463402e-05 4.55426416e-05 7.03309925e-05\n",
            "  2.28221397e-05 1.80253719e-05 3.05521244e-05 4.51173546e-05]\n",
            " [1.20809022e-02 4.93686566e-05 9.60396210e-05 2.36160486e-05\n",
            "  6.44432439e-05 1.68851984e-05 2.71450608e-05 6.22940206e-05]\n",
            " [2.13538078e-05 1.79305171e-05 2.24506166e-05 1.75116293e-05\n",
            "  3.59625585e-04 3.59204678e-05 1.51452376e-03 8.32475343e-05]\n",
            " [7.11352695e-05 8.37492407e-04 3.30009534e-05 1.68795421e-04\n",
            "  4.83661934e-05 4.84670629e-04 1.00719139e-04 7.11893808e-05]\n",
            " [3.65566884e-05 1.64922640e-05 2.83248337e-05 5.72475510e-05\n",
            "  3.44622385e-05 2.65264007e-05 1.05899286e-04 4.38782554e-05]\n",
            " [1.63403878e-04 2.59867411e-05 1.01944187e-03 8.12844446e-05\n",
            "  9.89671098e-05 2.98457220e-04 7.78314366e-04 5.05868920e-05]\n",
            " [8.41011133e-05 1.43509069e-05 1.83416341e-04 3.04356163e-05\n",
            "  2.15292985e-05 1.32117248e-05 2.75420771e-05 7.65323057e-05]\n",
            " [1.24955150e-05 2.02727570e-05 2.55893592e-05 3.38292812e-05\n",
            "  6.55033800e-05 1.59358569e-05 3.44651671e-05 4.28302155e-05]\n",
            " [8.90490483e-05 1.02079815e-04 3.61538732e-05 5.30344478e-05\n",
            "  5.56868690e-05 1.18980315e-04 4.31496846e-05 5.39065768e-05]\n",
            " [6.59512662e-05 9.87931562e-05 2.92466702e-05 1.94856311e-05\n",
            "  1.23663369e-04 6.18965059e-05 6.48076821e-05 9.34487689e-05]\n",
            " [8.28004922e-05 2.70593246e-05 1.73975524e-04 6.46743356e-05\n",
            "  2.71289173e-04 3.98383308e-05 6.77973221e-05 4.58360737e-05]\n",
            " [1.75803816e-05 5.06861797e-05 1.70502535e-05 7.00697856e-05\n",
            "  2.77174968e-05 1.50961296e-05 4.00380159e-05 6.47972702e-05]\n",
            " [1.68173850e-04 2.22811759e-05 2.91106026e-05 1.02841303e-04\n",
            "  6.89435255e-05 3.47807872e-05 2.39801011e-05 5.58121537e-05]\n",
            " [1.25921564e-04 4.66228885e-05 1.51244007e-04 7.11820612e-05\n",
            "  1.83800713e-03 2.33575993e-05 3.47519162e-05 8.13421793e-05]\n",
            " [2.06692697e-04 2.10020389e-05 1.60888158e-04 9.15980345e-05\n",
            "  6.25385874e-05 3.00014290e-05 1.37384224e-04 5.21812108e-05]\n",
            " [1.09552602e-04 1.55393209e-05 2.94246547e-05 1.89077109e-05\n",
            "  2.29990146e-05 8.42099398e-05 8.30733043e-05 3.41217492e-05]\n",
            " [6.58376011e-05 1.48858580e-05 1.45376747e-04 2.90615244e-05\n",
            "  6.54659001e-04 3.20128565e-05 5.62033732e-04 4.87854231e-05]\n",
            " [6.71253656e-06 1.84231667e-05 3.99364990e-06 6.63190876e-05\n",
            "  1.24950111e-05 1.26202767e-05 4.63670449e-06 2.05757751e-05]\n",
            " [1.05376865e-04 3.50520058e-05 2.07074263e-04 7.86017117e-05\n",
            "  8.28931588e-05 4.84585144e-05 1.61685050e-04 6.75431002e-05]\n",
            " [6.16297111e-05 1.46800476e-05 2.70565833e-05 7.07068975e-05\n",
            "  4.83625736e-05 2.12929044e-05 5.96072205e-05 7.32091357e-05]\n",
            " [1.09893379e-04 4.37586750e-05 2.74632039e-04 1.18533506e-04\n",
            "  5.40465058e-04 6.75992269e-05 3.34658427e-04 7.23006960e-05]\n",
            " [1.95115172e-05 1.47873443e-05 2.36291107e-05 4.62419412e-05\n",
            "  2.56427629e-05 4.61716591e-05 2.67978521e-05 7.10715030e-05]]\n",
            "IN DELTA: NORMAL WEIGHTS\n",
            "[[ 0.31045032]\n",
            " [ 0.26171526]\n",
            " [ 0.28721386]\n",
            " [ 0.5068397 ]\n",
            " [ 0.5375296 ]\n",
            " [ 0.22107923]\n",
            " [ 0.6889547 ]\n",
            " [-0.3872544 ]]\n",
            "IN DELTA: DISTURBED WEIGHTS\n",
            "[[ 0.3104579 ]\n",
            " [ 0.26172662]\n",
            " [ 0.2872216 ]\n",
            " [ 0.5068457 ]\n",
            " [ 0.53753674]\n",
            " [ 0.22108755]\n",
            " [ 0.68896306]\n",
            " [-0.3872171 ]]\n",
            "[[2.4382663e-05]\n",
            " [4.3383759e-05]\n",
            " [2.6977788e-05]\n",
            " [1.1877518e-05]\n",
            " [1.3306174e-05]\n",
            " [3.7608850e-05]\n",
            " [1.2111898e-05]\n",
            " [9.6283722e-05]]\n",
            "Deviation\n",
            "[array([[1.17690853e-07, 1.52863504e-04, 1.05231084e-04, 1.35655585e-03,\n",
            "        3.42027874e-07, 5.20017522e-07, 1.87987571e-05, 1.33311050e-05,\n",
            "        2.64229584e-05, 2.46323634e-06, 4.06664913e-06, 1.23188132e-04,\n",
            "        2.04169955e-05, 4.93281823e-06, 2.20692436e-06, 4.96750727e-06,\n",
            "        1.47559404e-05, 2.03259115e-05, 5.30985790e-06, 1.26754221e-05,\n",
            "        7.12267720e-05, 3.15274110e-06, 8.77305501e-06, 3.36397329e-06,\n",
            "        1.27075918e-05, 9.93626145e-06, 1.59272058e-05, 2.48867800e-05,\n",
            "        1.27112668e-04, 2.66879056e-06, 3.97667318e-05, 1.57599425e-05],\n",
            "       [3.63119079e-06, 1.39576106e-04, 2.54115821e-05, 5.53091086e-05,\n",
            "        0.00000000e+00, 5.09208462e-07, 1.05315994e-04, 8.91712352e-06,\n",
            "        3.58010766e-05, 2.47435150e-06, 1.04056626e-05, 6.60662365e-04,\n",
            "        1.38308760e-05, 4.68014662e-07, 1.23156724e-06, 5.82337088e-06,\n",
            "        2.01231698e-04, 1.58625335e-05, 6.60615115e-06, 1.28145712e-05,\n",
            "        2.84090092e-05, 2.33063474e-06, 5.32182421e-05, 2.62863955e-06,\n",
            "        5.83337460e-05, 2.85203080e-03, 1.30025528e-05, 3.02307344e-05,\n",
            "        2.10873259e-05, 1.65945803e-05, 1.91497074e-05, 1.67785729e-05],\n",
            "       [4.02837304e-06, 4.45663027e-04, 1.11794667e-04, 1.55522903e-05,\n",
            "        8.63392017e-07, 9.40276195e-08, 1.16837313e-04, 1.39916874e-05,\n",
            "        2.28757453e-05, 6.52808603e-06, 2.41085509e-05, 3.89781962e-05,\n",
            "        1.46214397e-05, 8.37680636e-06, 3.87094724e-06, 1.55237532e-04,\n",
            "        4.09857603e-05, 8.72234377e-05, 4.72969714e-06, 9.78170829e-06,\n",
            "        1.22634767e-04, 1.01042642e-05, 9.99799886e-06, 5.93427194e-06,\n",
            "        4.47185412e-05, 7.96903169e-06, 7.05833327e-06, 7.70273837e-05,\n",
            "        2.26953744e-05, 1.17570989e-05, 1.20664528e-03, 2.47734242e-05],\n",
            "       [6.25581652e-06, 5.27941302e-05, 1.32357136e-05, 1.78642549e-05,\n",
            "        7.61665603e-07, 4.23089477e-06, 3.66008862e-05, 2.72904726e-05,\n",
            "        2.85703049e-04, 8.67665312e-06, 2.99005342e-06, 1.27841313e-05,\n",
            "        3.13579803e-05, 0.00000000e+00, 1.89090474e-06, 4.06374193e-06,\n",
            "        5.12766594e-04, 4.98089241e-04, 1.21282947e-05, 3.46851521e-05,\n",
            "        2.48548240e-05, 3.91223421e-06, 2.23231036e-05, 5.78357913e-06,\n",
            "        1.61598273e-05, 6.08846221e-06, 1.40229895e-05, 8.45804971e-05,\n",
            "        2.77552062e-05, 5.30936950e-06, 5.17696717e-05, 1.30431317e-05],\n",
            "       [5.20279968e-07, 1.18237935e-04, 1.60268937e-05, 1.41159762e-04,\n",
            "        1.74324771e-06, 2.59113733e-07, 1.20534996e-05, 5.71805867e-05,\n",
            "        2.22780254e-05, 3.60740160e-06, 5.06405304e-05, 1.96889941e-05,\n",
            "        1.45090034e-05, 2.06621257e-06, 2.04452931e-06, 2.75524553e-06,\n",
            "        1.94106869e-05, 7.80726114e-05, 7.42667726e-06, 3.79033409e-05,\n",
            "        5.25867581e-05, 3.95757206e-06, 8.89361399e-06, 2.35330408e-05,\n",
            "        1.33835465e-05, 1.64380453e-05, 5.21275524e-06, 1.44203550e-05,\n",
            "        3.17244485e-05, 1.93276287e-06, 4.39386931e-05, 1.00176592e-04],\n",
            "       [2.21765799e-06, 4.18871314e-05, 1.95180110e-04, 8.01827773e-05,\n",
            "        1.59671936e-06, 8.91009131e-06, 3.15873804e-05, 1.43311654e-05,\n",
            "        7.37472801e-05, 1.42208419e-05, 1.03775426e-04, 1.44849560e-04,\n",
            "        4.29956272e-05, 9.06919522e-05, 5.69464419e-06, 1.75247169e-05,\n",
            "        1.88383528e-05, 1.12362823e-05, 2.31448826e-06, 1.12038078e-05,\n",
            "        9.30388524e-06, 6.31877720e-06, 9.45042666e-06, 3.54699273e-06,\n",
            "        1.15485664e-05, 1.30246817e-05, 3.48319122e-06, 5.25542891e-05,\n",
            "        3.86729516e-05, 3.69487975e-06, 1.93983633e-05, 3.28036658e-05],\n",
            "       [2.01291391e-06, 7.94788648e-05, 4.85324999e-05, 1.10665515e-05,\n",
            "        5.02883552e-07, 3.07660048e-06, 1.19679935e-05, 1.08256924e-03,\n",
            "        4.20927754e-05, 3.64752532e-06, 7.36143284e-06, 2.63479888e-05,\n",
            "        1.44261023e-04, 1.09025814e-06, 1.36949122e-04, 5.72218914e-06,\n",
            "        1.22941046e-05, 1.42573736e-05, 1.75130356e-06, 3.50737333e-04,\n",
            "        7.68066500e-04, 2.57510965e-05, 3.80242891e-05, 1.31233128e-05,\n",
            "        4.87646066e-05, 8.72094915e-06, 6.23575443e-06, 1.27027466e-04,\n",
            "        2.36396154e-05, 1.43597563e-05, 1.16519979e-04, 2.44957919e-05],\n",
            "       [1.88756042e-06, 5.24723691e-05, 2.30280421e-05, 1.24219350e-05,\n",
            "        8.81945709e-07, 1.37422330e-06, 2.69983811e-05, 1.11258727e-04,\n",
            "        9.99403710e-06, 4.26953079e-07, 9.69289340e-06, 1.56085298e-05,\n",
            "        1.89767219e-04, 1.07409249e-07, 1.69406667e-06, 4.79630262e-06,\n",
            "        1.31172943e-04, 5.21052862e-05, 3.26819531e-06, 4.69533734e-05,\n",
            "        1.20077439e-05, 1.14818556e-06, 1.18851349e-05, 4.91263199e-06,\n",
            "        5.25731048e-05, 6.48359855e-06, 3.48432900e-06, 2.56608164e-05,\n",
            "        1.84778322e-03, 4.91353831e-06, 2.94924917e-04, 1.52025177e-05],\n",
            "       [2.34063904e-07, 7.04008096e-04, 9.73182978e-06, 5.30076541e-05,\n",
            "        2.11982979e-06, 8.68972677e-07, 4.10095490e-05, 4.07713997e-05,\n",
            "        8.88702998e-05, 8.18919307e-06, 4.06127947e-06, 1.52524535e-05,\n",
            "        3.51760573e-05, 1.72288014e-06, 2.79087703e-06, 1.70068797e-05,\n",
            "        3.46854249e-05, 2.18762088e-05, 1.97528516e-05, 1.06687467e-05,\n",
            "        1.44238666e-05, 1.26264695e-05, 1.32806363e-05, 1.25404777e-05,\n",
            "        4.38645184e-05, 2.09931677e-05, 1.84378462e-06, 1.75137448e-05,\n",
            "        1.27156649e-03, 8.34030561e-06, 3.25354486e-05, 1.91667114e-05],\n",
            "       [9.38841609e-08, 7.01669414e-05, 1.18370690e-05, 7.83592805e-06,\n",
            "        5.06796880e-07, 9.61590104e-07, 1.26675077e-05, 1.84524870e-05,\n",
            "        1.35346754e-05, 2.74190052e-06, 3.11876488e-06, 2.00268987e-05,\n",
            "        4.19670578e-05, 2.00528106e-07, 1.81443393e-05, 4.34230424e-06,\n",
            "        3.94601520e-05, 2.63061374e-05, 1.27029525e-05, 2.59561093e-05,\n",
            "        1.49293473e-05, 8.37170137e-06, 1.46817893e-05, 5.31769319e-06,\n",
            "        4.13194866e-05, 8.29756726e-03, 2.34336449e-06, 4.17140727e-05,\n",
            "        6.67406537e-04, 8.72598685e-06, 7.64625365e-05, 2.66461539e-05]],\n",
            "      dtype=float32), array([[2.34323688e-05, 3.09629570e-04, 1.95353769e-05, 4.05740357e-05,\n",
            "        3.35909048e-04, 8.69815631e-05, 1.08700740e-04, 5.25812939e-05],\n",
            "       [1.17737873e-04, 1.84215931e-03, 7.85064476e-05, 7.41792028e-05,\n",
            "        8.44474998e-05, 1.26272993e-04, 8.27939730e-05, 5.69203003e-05],\n",
            "       [1.57849281e-05, 3.52504758e-05, 1.88766426e-05, 5.54739927e-05,\n",
            "        1.69042414e-05, 1.63794466e-05, 2.10847447e-05, 4.28291241e-05],\n",
            "       [1.79302206e-05, 2.74042304e-05, 1.93337401e-05, 1.17511139e-04,\n",
            "        4.56074486e-04, 2.86179657e-05, 4.27282939e-04, 8.78930296e-05],\n",
            "       [5.09009951e-05, 1.46074699e-05, 5.61353809e-05, 4.66455422e-05,\n",
            "        2.16561075e-05, 5.33944753e-04, 1.56293885e-04, 5.17600129e-05],\n",
            "       [4.30070504e-05, 2.69841876e-05, 3.73594667e-05, 3.60517792e-04,\n",
            "        4.97062902e-05, 2.42034192e-04, 2.44510247e-05, 5.84170120e-05],\n",
            "       [1.50487786e-05, 1.23487625e-05, 1.52646200e-04, 2.33525607e-05,\n",
            "        1.15648290e-04, 2.01064788e-04, 1.63565037e-05, 3.90164714e-05],\n",
            "       [1.85765093e-05, 6.52093149e-05, 3.76648386e-05, 4.57655260e-05,\n",
            "        1.37678071e-04, 2.70942910e-05, 2.06546283e-05, 4.83452568e-05],\n",
            "       [3.01521068e-05, 6.74599707e-01, 3.52998788e-04, 4.66165802e-05,\n",
            "        3.75797717e-05, 1.17517338e-05, 1.49969901e-05, 5.74420374e-05],\n",
            "       [4.97289875e-05, 2.57955951e-04, 1.09974855e-04, 6.37616613e-05,\n",
            "        2.87470393e-05, 2.75351831e-05, 3.50440787e-05, 4.90282473e-05],\n",
            "       [2.82732854e-05, 3.77463402e-05, 4.55426416e-05, 7.03309925e-05,\n",
            "        2.28221397e-05, 1.80253719e-05, 3.05521244e-05, 4.51173546e-05],\n",
            "       [1.20809022e-02, 4.93686566e-05, 9.60396210e-05, 2.36160486e-05,\n",
            "        6.44432439e-05, 1.68851984e-05, 2.71450608e-05, 6.22940206e-05],\n",
            "       [2.13538078e-05, 1.79305171e-05, 2.24506166e-05, 1.75116293e-05,\n",
            "        3.59625585e-04, 3.59204678e-05, 1.51452376e-03, 8.32475343e-05],\n",
            "       [7.11352695e-05, 8.37492407e-04, 3.30009534e-05, 1.68795421e-04,\n",
            "        4.83661934e-05, 4.84670629e-04, 1.00719139e-04, 7.11893808e-05],\n",
            "       [3.65566884e-05, 1.64922640e-05, 2.83248337e-05, 5.72475510e-05,\n",
            "        3.44622385e-05, 2.65264007e-05, 1.05899286e-04, 4.38782554e-05],\n",
            "       [1.63403878e-04, 2.59867411e-05, 1.01944187e-03, 8.12844446e-05,\n",
            "        9.89671098e-05, 2.98457220e-04, 7.78314366e-04, 5.05868920e-05],\n",
            "       [8.41011133e-05, 1.43509069e-05, 1.83416341e-04, 3.04356163e-05,\n",
            "        2.15292985e-05, 1.32117248e-05, 2.75420771e-05, 7.65323057e-05],\n",
            "       [1.24955150e-05, 2.02727570e-05, 2.55893592e-05, 3.38292812e-05,\n",
            "        6.55033800e-05, 1.59358569e-05, 3.44651671e-05, 4.28302155e-05],\n",
            "       [8.90490483e-05, 1.02079815e-04, 3.61538732e-05, 5.30344478e-05,\n",
            "        5.56868690e-05, 1.18980315e-04, 4.31496846e-05, 5.39065768e-05],\n",
            "       [6.59512662e-05, 9.87931562e-05, 2.92466702e-05, 1.94856311e-05,\n",
            "        1.23663369e-04, 6.18965059e-05, 6.48076821e-05, 9.34487689e-05],\n",
            "       [8.28004922e-05, 2.70593246e-05, 1.73975524e-04, 6.46743356e-05,\n",
            "        2.71289173e-04, 3.98383308e-05, 6.77973221e-05, 4.58360737e-05],\n",
            "       [1.75803816e-05, 5.06861797e-05, 1.70502535e-05, 7.00697856e-05,\n",
            "        2.77174968e-05, 1.50961296e-05, 4.00380159e-05, 6.47972702e-05],\n",
            "       [1.68173850e-04, 2.22811759e-05, 2.91106026e-05, 1.02841303e-04,\n",
            "        6.89435255e-05, 3.47807872e-05, 2.39801011e-05, 5.58121537e-05],\n",
            "       [1.25921564e-04, 4.66228885e-05, 1.51244007e-04, 7.11820612e-05,\n",
            "        1.83800713e-03, 2.33575993e-05, 3.47519162e-05, 8.13421793e-05],\n",
            "       [2.06692697e-04, 2.10020389e-05, 1.60888158e-04, 9.15980345e-05,\n",
            "        6.25385874e-05, 3.00014290e-05, 1.37384224e-04, 5.21812108e-05],\n",
            "       [1.09552602e-04, 1.55393209e-05, 2.94246547e-05, 1.89077109e-05,\n",
            "        2.29990146e-05, 8.42099398e-05, 8.30733043e-05, 3.41217492e-05],\n",
            "       [6.58376011e-05, 1.48858580e-05, 1.45376747e-04, 2.90615244e-05,\n",
            "        6.54659001e-04, 3.20128565e-05, 5.62033732e-04, 4.87854231e-05],\n",
            "       [6.71253656e-06, 1.84231667e-05, 3.99364990e-06, 6.63190876e-05,\n",
            "        1.24950111e-05, 1.26202767e-05, 4.63670449e-06, 2.05757751e-05],\n",
            "       [1.05376865e-04, 3.50520058e-05, 2.07074263e-04, 7.86017117e-05,\n",
            "        8.28931588e-05, 4.84585144e-05, 1.61685050e-04, 6.75431002e-05],\n",
            "       [6.16297111e-05, 1.46800476e-05, 2.70565833e-05, 7.07068975e-05,\n",
            "        4.83625736e-05, 2.12929044e-05, 5.96072205e-05, 7.32091357e-05],\n",
            "       [1.09893379e-04, 4.37586750e-05, 2.74632039e-04, 1.18533506e-04,\n",
            "        5.40465058e-04, 6.75992269e-05, 3.34658427e-04, 7.23006960e-05],\n",
            "       [1.95115172e-05, 1.47873443e-05, 2.36291107e-05, 4.62419412e-05,\n",
            "        2.56427629e-05, 4.61716591e-05, 2.67978521e-05, 7.10715030e-05]],\n",
            "      dtype=float32), array([[2.4382663e-05],\n",
            "       [4.3383759e-05],\n",
            "       [2.6977788e-05],\n",
            "       [1.1877518e-05],\n",
            "       [1.3306174e-05],\n",
            "       [3.7608850e-05],\n",
            "       [1.2111898e-05],\n",
            "       [9.6283722e-05]], dtype=float32)]\n",
            "Max_element\n",
            "0.6745997\n",
            "Min_element\n",
            "0.0\n",
            "Max_delta-Min_delta\n",
            "0.6745997\n"
          ]
        }
      ]
    },
    {
      "cell_type": "code",
      "metadata": {
        "id": "DTUm_i-4BzP0"
      },
      "source": [
        "def get_delta(model1, model2):\n",
        "  delta_matrix = []\n",
        "  for i in range(len(model1.layers)):\n",
        "    normal_weights = model1.layers[i].get_weights()[0]\n",
        "    print(\"IN DELTA: NORMAL WEIGHTS\")\n",
        "    print(normal_weights)\n",
        "    disturbed_weights = model2.layers[i].get_weights()[0]\n",
        "    print(\"IN DELTA: DISTURBED WEIGHTS\")\n",
        "    print(disturbed_weights)\n",
        "    print(np.abs(np.divide(np.subtract(disturbed_weights, normal_weights),disturbed_weights)))\n",
        "    delta_matrix.append(np.abs(np.divide(np.subtract(disturbed_weights, normal_weights),disturbed_weights)))\n",
        "    # print(\"SUBTRACT\")\n",
        "    # print(np.subtract(disturbed_weights, normal_weights))\n",
        "    # print(\"DIVIDE\")\n",
        "    # print(np.divide(np.subtract(disturbed_weights, normal_weights),disturbed_weights))\n",
        "    # print(\"ABS\")\n",
        "    # print(np.abs(np.divide(np.subtract(disturbed_weights, normal_weights),disturbed_weights)))\n",
        "  return delta_matrix"
      ],
      "execution_count": null,
      "outputs": []
    },
    {
      "cell_type": "code",
      "metadata": {
        "id": "d56-HXH0Cwq9"
      },
      "source": [
        "import tensorflow as tf\n",
        "from tensorflow import keras\n",
        "\n",
        "class FreezeWeights(keras.callbacks.Callback):\n",
        "  def __init__(self, mask):\n",
        "        super(FreezeWeights, self).__init__()\n",
        "        #self.layer_index = layer_index\n",
        "        self. mask = mask\n",
        "\n",
        "  def on_epoch_end(self, epoch, logs=None):\n",
        "    for i in range(len(self.model.layers)):\n",
        "      self.model.layers[i].set_weights([np.multiply(self.model.layers[i].get_weights()[0], self.mask[i]),  self.model.layers[i].get_weights()[1]])\n",
        "    #print(self.model.get_weights())"
      ],
      "execution_count": null,
      "outputs": []
    },
    {
      "cell_type": "code",
      "metadata": {
        "id": "QXi_ltYQCHVw"
      },
      "source": [
        "def plot_graph(values,x_label, label, color):\n",
        "  len_prediction=[x for x in range(len(values))]\n",
        "  plt.figure(figsize=(8,4))\n",
        "  plt.plot(len_prediction, values, color, linestyle='--')\n",
        "  plt.xlabel(x_label, size=10)\n",
        "  #plt.xlabel(y_label, size=15)\n",
        "  plt.title(label, size=15)\n",
        "  plt.show();"
      ],
      "execution_count": null,
      "outputs": []
    },
    {
      "cell_type": "code",
      "metadata": {
        "id": "YvYhmEFxFAiu"
      },
      "source": [
        "def plot_log_graph(values, x_label, label, color):\n",
        "  len_prediction=[x for x in range(len(values))]\n",
        "  pyplot.plot(len_prediction, values, color, linestyle='--')\n",
        "  pyplot.yscale('log')\n",
        "  pyplot.xlabel(x_label, size=10)\n",
        "  pyplot.title(label, size=15)\n",
        "  pyplot.show()"
      ],
      "execution_count": null,
      "outputs": []
    },
    {
      "cell_type": "code",
      "metadata": {
        "id": "XApF8P_FC0ce"
      },
      "source": [
        "def get_model():\n",
        "  model=Sequential()\n",
        "  dense1=Dense(units=32, input_dim=10, activation='relu')\n",
        "  model.add(dense1)\n",
        "  dense2=Dense(8, activation='relu')\n",
        "  model.add(dense2)\n",
        "  model.add(Dense(1))\n",
        "  model.compile(loss='mean_squared_error',  optimizer='adam',metrics = ['mse', 'mae'])\n",
        "  return model"
      ],
      "execution_count": null,
      "outputs": []
    },
    {
      "cell_type": "code",
      "metadata": {
        "colab": {
          "base_uri": "https://localhost:8080/"
        },
        "id": "ZAdkc2giC-rM",
        "outputId": "6f06a68f-1e8a-4ca7-9933-263b5faa4850"
      },
      "source": [
        "#FOR TEST\n",
        "def reduction_method(model1, model2, weights1, weights2, initial_biases1, initial_biases2):\n",
        "  #model_weights = []\n",
        "  #disturbed_model_weights = []\n",
        "  #delta_matrix = []\n",
        "  mask_matrix = []\n",
        "  calculated_MSE = []\n",
        "  deviation = []\n",
        "  k = 0\n",
        "  # for i in range(len(model1.layers)):\n",
        "  #   normal_weights = model1.layers[i].get_weights()[0]\n",
        "  #   disturbed_weights = model2.layers[i].get_weights()[0]\n",
        "  #   delta_matrix.append(np.abs(np.divide(np.subtract(disturbed_weights, normal_weights),disturbed_weights)))\n",
        "  #   mask_matrix.append(np.ones_like(normal_weights))\n",
        "  # weights = []#\n",
        "  # for i in range(len(model1.layers)):\n",
        "  #   weights.append(model1.layers[i].get_weights()[0])\n",
        "  while(k != 2):\n",
        "    print(\"Weights1\")\n",
        "    print(model1.get_weights())\n",
        "    print(\"Weights2\")\n",
        "    print(model2.get_weights())\n",
        "    delta_matrix = get_delta(model1, model2)\n",
        "    converted_delta_matrix = []\n",
        "    for i in range(len(delta_matrix)):\n",
        "      delta_matrix[i] = np.nan_to_num(delta_matrix[i])\n",
        "      #delta_matrix[i] = np.where(delta_matrix[i] == 0, 1, delta_matrix[i])\n",
        "      converted_delta_matrix.append(np.where(delta_matrix[i] == 0, 1, delta_matrix[i]))\n",
        "    print(\"DELTA\")\n",
        "    print(delta_matrix)\n",
        "    #print(converted_delta_matrix)\n",
        "    max_elements = []\n",
        "    min_elements = []\n",
        "    #print(delta_matrix)\n",
        "    weights = []\n",
        "    weights1 = []\n",
        "    weights2 = []\n",
        "    for i in range(len(model1.layers)):\n",
        "        #weights.append(model1.layers[i].get_weights()[0])\n",
        "        weights1.append(model1.layers[i].get_weights()[0])\n",
        "        weights2.append(model2.layers[i].get_weights()[0])\n",
        "    if k == 0:\n",
        "      for i in range(len(delta_matrix)):\n",
        "        mask_matrix.append(np.ones_like(delta_matrix[i]))\n",
        "    #print(mask_matrix)\n",
        "    for i in range(len(model1.layers)):\n",
        "      max_elements.append(np.max(np.asarray(delta_matrix[i])))\n",
        "      min_elements.append(np.min(np.asarray(converted_delta_matrix[i])))\n",
        "      #print(\"BIASES\")\n",
        "      #print(model1.layers[i].get_weights()[1])\n",
        "    print(max_elements)\n",
        "    print(min_elements)\n",
        "    max_element = np.max(np.asarray(max_elements))\n",
        "    #print(max_element)\n",
        "    min_element = np.min(np.asarray(min_elements))\n",
        "    #print(min_element)\n",
        "    deviation.append(max_element - min_element)\n",
        "    max_element_layer_index =  np.unravel_index(np.argmax(np.asarray(max_elements), axis=None),np.asarray(max_elements).shape)[0]\n",
        "    #print(max_element_layer_index)\n",
        "    max_element_indexes= np.unravel_index(np.argmax(delta_matrix[max_element_layer_index], axis=None), delta_matrix[max_element_layer_index].shape)\n",
        "    #delta_matrix[max_element_layer_index][max_element_indexes]=0\n",
        "    mask_matrix[max_element_layer_index][max_element_indexes]=0\n",
        "    print(mask_matrix)\n",
        "    #print(mask_matrix)\n",
        "    #print(mask_matrix)\n",
        "    k+=1\n",
        "    model1 = get_model()\n",
        "    model2 = get_model()\n",
        "    for i in range(len(model1.layers)):\n",
        "      # model1.layers[i].set_weights([np.multiply(weights1[i], mask_matrix[i]),initial_biases1[i]])\n",
        "      # model2.layers[i].set_weights([np.multiply(weights2[i], mask_matrix[i]), initial_biases2[i]])\n",
        "      #model1.layers[i].set_weights([np.multiply(weights[i], mask_matrix[i]),initial_biases1[i]])\n",
        "      #model2.layers[i].set_weights([np.multiply(weights[i], mask_matrix[i]), initial_biases2[i]])\n",
        "      model1.layers[i].set_weights([np.multiply(weights1[i], mask_matrix[i]),initial_biases1[i]])\n",
        "      model2.layers[i].set_weights([np.multiply(weights2[i], mask_matrix[i]),initial_biases1[i]])\n",
        "      print(\"Multiply Weights\")\n",
        "      print(np.multiply(weights1[i],  mask_matrix[i]))\n",
        "    #model1.fit(X_train,y_train,epochs=10,validation_data=(X_test,y_test),shuffle=False,callbacks=[FreezeWeights(max_element_layer_index, mask_matrix[max_element_layer_index])])\n",
        "    #model2.fit(X_train,y_train_disturbed,epochs=10,validation_data=(X_test,y_test_disturbed),shuffle=False, callbacks=[FreezeWeights(max_element_layer_index, mask_matrix[max_element_layer_index])])\n",
        "    #model1.fit(X_train,y_train,epochs=25,validation_data=(X_test,y_test),shuffle=False,callbacks=[FreezeWeights(mask_matrix)])\n",
        "    #model2.fit(X_train,y_train_disturbed,epochs=25,validation_data=(X_test,y_test_disturbed),shuffle=False, callbacks=[FreezeWeights(mask_matrix)])\n",
        "\n",
        "    #print(model1.get_weights())\n",
        "    y_pred_test=model1.predict(X_test)\n",
        "    calculated_MSE.append(mean_squared_error(y_test, y_pred_test))\n",
        "  return calculated_MSE, deviation\n",
        "    #print(\"MSE:\", mean_squared_error(y_test, y_pred_test))\n",
        "#y_pred_global = model1.predict(X_test)\n",
        "#print(\"MSE_GLOBAL:\", mean_squared_error(y_test, y_pred_global))\n",
        "mse_values, deviation = reduction_method(model1, model2, weights1, weights1, initial_biases1, initial_biases2)"
      ],
      "execution_count": null,
      "outputs": [
        {
          "output_type": "stream",
          "name": "stdout",
          "text": [
            "Weights1\n",
            "[array([[-0.32974532, -0.33920807,  0.58812904, -0.20131804],\n",
            "       [ 0.3913872 ,  0.5693432 , -0.00521086, -0.16628096],\n",
            "       [ 0.5773527 ,  0.2975209 ,  0.49126208, -0.4897734 ],\n",
            "       [ 0.5390488 ,  0.3292054 , -0.296776  ,  0.5589204 ],\n",
            "       [-0.21265423, -0.4522185 , -0.2077438 ,  0.09490347],\n",
            "       [-0.2663946 ,  0.35435215,  0.30348653, -0.00706462],\n",
            "       [ 0.31246716,  0.4863126 , -0.4492626 ,  0.6147246 ],\n",
            "       [-0.4838553 , -0.40091786, -0.22240463, -0.5206022 ],\n",
            "       [ 0.69555557, -0.05940014,  0.13777328,  0.73654735],\n",
            "       [-0.04355164,  0.29048344, -0.24532522, -0.06058145]],\n",
            "      dtype=float32), array([ 0.01821847, -0.04837805, -0.02283944, -0.05806058], dtype=float32), array([[ 0.5021115 , -0.88687253],\n",
            "       [ 0.05803297, -0.21045394],\n",
            "       [-0.40451473,  0.6506665 ],\n",
            "       [ 0.48171374,  0.8403188 ]], dtype=float32), array([0.02083128, 0.00846751], dtype=float32), array([[1.0821285],\n",
            "       [1.1308391]], dtype=float32), array([0.02214815], dtype=float32)]\n",
            "Weights2\n",
            "[array([[-0.32973108, -0.33921963,  0.58817196, -0.20133595],\n",
            "       [ 0.3914076 ,  0.56933814, -0.00520611, -0.16632314],\n",
            "       [ 0.5773753 ,  0.2975212 ,  0.49126744, -0.48982564],\n",
            "       [ 0.5390743 ,  0.3292116 , -0.29677024,  0.5588628 ],\n",
            "       [-0.2126345 , -0.45222226, -0.2077387 ,  0.09486157],\n",
            "       [-0.26638082,  0.3543359 ,  0.3034954 , -0.00709306],\n",
            "       [ 0.31247824,  0.48629123, -0.44925177,  0.6147085 ],\n",
            "       [-0.4838568 , -0.40096116, -0.222384  , -0.5205855 ],\n",
            "       [ 0.69554985, -0.05945205,  0.13779812,  0.73657787],\n",
            "       [-0.04356931,  0.290407  , -0.24529517, -0.06050733]],\n",
            "      dtype=float32), array([ 0.01856585, -0.04805111, -0.02284621, -0.0577953 ], dtype=float32), array([[ 0.50214016, -0.8868422 ],\n",
            "       [ 0.05802499, -0.21042946],\n",
            "       [-0.4045001 ,  0.6506906 ],\n",
            "       [ 0.48173288,  0.84036   ]], dtype=float32), array([0.02115968, 0.00847438], dtype=float32), array([[1.0821519],\n",
            "       [1.1308713]], dtype=float32), array([0.02246671], dtype=float32)]\n",
            "DELTA\n",
            "[array([[4.3203421e-05, 3.4087949e-05, 7.2963943e-05, 8.8961737e-05],\n",
            "       [5.2156858e-05, 8.8987445e-06, 9.1242971e-04, 2.5363392e-04],\n",
            "       [3.9125611e-05, 1.0016873e-06, 1.0919547e-05, 1.0665728e-04],\n",
            "       [4.7323323e-05, 1.8829480e-05, 1.9381485e-05, 1.0302723e-04],\n",
            "       [9.2784270e-05, 8.3036439e-06, 2.4531766e-05, 4.4163945e-04],\n",
            "       [5.1687930e-05, 4.5838609e-05, 2.9262690e-05, 4.0086731e-03],\n",
            "       [3.5479155e-05, 4.3941294e-05, 2.4080580e-05, 2.6180303e-05],\n",
            "       [3.0796634e-06, 1.0799743e-04, 9.2736918e-05, 3.2173208e-05],\n",
            "       [8.2266515e-06, 8.7311032e-04, 1.8026543e-04, 4.1431569e-05],\n",
            "       [4.0562442e-04, 2.6322698e-04, 1.2252848e-04, 1.2249486e-03]],\n",
            "      dtype=float32), array([[5.7095283e-05, 3.4209879e-05],\n",
            "       [1.3751957e-04, 1.1634592e-04],\n",
            "       [3.6175370e-05, 3.7098860e-05],\n",
            "       [3.9717223e-05, 4.9010912e-05]], dtype=float32), array([[2.1591259e-05],\n",
            "       [2.8461691e-05]], dtype=float32)]\n",
            "[0.004008673, 0.00013751957, 2.846169e-05]\n",
            "[1.0016873e-06, 3.420988e-05, 2.1591259e-05]\n",
            "[array([[1., 1., 1., 1.],\n",
            "       [1., 1., 1., 1.],\n",
            "       [1., 1., 1., 1.],\n",
            "       [1., 1., 1., 1.],\n",
            "       [1., 1., 1., 1.],\n",
            "       [1., 1., 1., 0.],\n",
            "       [1., 1., 1., 1.],\n",
            "       [1., 1., 1., 1.],\n",
            "       [1., 1., 1., 1.],\n",
            "       [1., 1., 1., 1.]], dtype=float32), array([[1., 1.],\n",
            "       [1., 1.],\n",
            "       [1., 1.],\n",
            "       [1., 1.]], dtype=float32), array([[1.],\n",
            "       [1.]], dtype=float32)]\n",
            "Multiply Weights\n",
            "[[-0.32974532 -0.33920807  0.58812904 -0.20131804]\n",
            " [ 0.3913872   0.5693432  -0.00521086 -0.16628096]\n",
            " [ 0.5773527   0.2975209   0.49126208 -0.4897734 ]\n",
            " [ 0.5390488   0.3292054  -0.296776    0.5589204 ]\n",
            " [-0.21265423 -0.4522185  -0.2077438   0.09490347]\n",
            " [-0.2663946   0.35435215  0.30348653 -0.        ]\n",
            " [ 0.31246716  0.4863126  -0.4492626   0.6147246 ]\n",
            " [-0.4838553  -0.40091786 -0.22240463 -0.5206022 ]\n",
            " [ 0.69555557 -0.05940014  0.13777328  0.73654735]\n",
            " [-0.04355164  0.29048344 -0.24532522 -0.06058145]]\n",
            "Multiply Weights\n",
            "[[ 0.5021115  -0.88687253]\n",
            " [ 0.05803297 -0.21045394]\n",
            " [-0.40451473  0.6506665 ]\n",
            " [ 0.48171374  0.8403188 ]]\n",
            "Multiply Weights\n",
            "[[1.0821285]\n",
            " [1.1308391]]\n",
            "Weights1\n",
            "[array([[-0.32974532, -0.33920807,  0.58812904, -0.20131804],\n",
            "       [ 0.3913872 ,  0.5693432 , -0.00521086, -0.16628096],\n",
            "       [ 0.5773527 ,  0.2975209 ,  0.49126208, -0.4897734 ],\n",
            "       [ 0.5390488 ,  0.3292054 , -0.296776  ,  0.5589204 ],\n",
            "       [-0.21265423, -0.4522185 , -0.2077438 ,  0.09490347],\n",
            "       [-0.2663946 ,  0.35435215,  0.30348653, -0.        ],\n",
            "       [ 0.31246716,  0.4863126 , -0.4492626 ,  0.6147246 ],\n",
            "       [-0.4838553 , -0.40091786, -0.22240463, -0.5206022 ],\n",
            "       [ 0.69555557, -0.05940014,  0.13777328,  0.73654735],\n",
            "       [-0.04355164,  0.29048344, -0.24532522, -0.06058145]],\n",
            "      dtype=float32), array([0., 0., 0., 0.], dtype=float32), array([[ 0.5021115 , -0.88687253],\n",
            "       [ 0.05803297, -0.21045394],\n",
            "       [-0.40451473,  0.6506665 ],\n",
            "       [ 0.48171374,  0.8403188 ]], dtype=float32), array([0., 0.], dtype=float32), array([[1.0821285],\n",
            "       [1.1308391]], dtype=float32), array([0.], dtype=float32)]\n",
            "Weights2\n",
            "[array([[-0.32973108, -0.33921963,  0.58817196, -0.20133595],\n",
            "       [ 0.3914076 ,  0.56933814, -0.00520611, -0.16632314],\n",
            "       [ 0.5773753 ,  0.2975212 ,  0.49126744, -0.48982564],\n",
            "       [ 0.5390743 ,  0.3292116 , -0.29677024,  0.5588628 ],\n",
            "       [-0.2126345 , -0.45222226, -0.2077387 ,  0.09486157],\n",
            "       [-0.26638082,  0.3543359 ,  0.3034954 , -0.        ],\n",
            "       [ 0.31247824,  0.48629123, -0.44925177,  0.6147085 ],\n",
            "       [-0.4838568 , -0.40096116, -0.222384  , -0.5205855 ],\n",
            "       [ 0.69554985, -0.05945205,  0.13779812,  0.73657787],\n",
            "       [-0.04356931,  0.290407  , -0.24529517, -0.06050733]],\n",
            "      dtype=float32), array([0., 0., 0., 0.], dtype=float32), array([[ 0.50214016, -0.8868422 ],\n",
            "       [ 0.05802499, -0.21042946],\n",
            "       [-0.4045001 ,  0.6506906 ],\n",
            "       [ 0.48173288,  0.84036   ]], dtype=float32), array([0., 0.], dtype=float32), array([[1.0821519],\n",
            "       [1.1308713]], dtype=float32), array([0.], dtype=float32)]\n",
            "DELTA\n",
            "[array([[4.3203421e-05, 3.4087949e-05, 7.2963943e-05, 8.8961737e-05],\n",
            "       [5.2156858e-05, 8.8987445e-06, 9.1242971e-04, 2.5363392e-04],\n",
            "       [3.9125611e-05, 1.0016873e-06, 1.0919547e-05, 1.0665728e-04],\n",
            "       [4.7323323e-05, 1.8829480e-05, 1.9381485e-05, 1.0302723e-04],\n",
            "       [9.2784270e-05, 8.3036439e-06, 2.4531766e-05, 4.4163945e-04],\n",
            "       [5.1687930e-05, 4.5838609e-05, 2.9262690e-05, 0.0000000e+00],\n",
            "       [3.5479155e-05, 4.3941294e-05, 2.4080580e-05, 2.6180303e-05],\n",
            "       [3.0796634e-06, 1.0799743e-04, 9.2736918e-05, 3.2173208e-05],\n",
            "       [8.2266515e-06, 8.7311032e-04, 1.8026543e-04, 4.1431569e-05],\n",
            "       [4.0562442e-04, 2.6322698e-04, 1.2252848e-04, 1.2249486e-03]],\n",
            "      dtype=float32), array([[5.7095283e-05, 3.4209879e-05],\n",
            "       [1.3751957e-04, 1.1634592e-04],\n",
            "       [3.6175370e-05, 3.7098860e-05],\n",
            "       [3.9717223e-05, 4.9010912e-05]], dtype=float32), array([[2.1591259e-05],\n",
            "       [2.8461691e-05]], dtype=float32)]\n",
            "[0.0012249486, 0.00013751957, 2.846169e-05]\n",
            "[1.0016873e-06, 3.420988e-05, 2.1591259e-05]\n",
            "[array([[1., 1., 1., 1.],\n",
            "       [1., 1., 1., 1.],\n",
            "       [1., 1., 1., 1.],\n",
            "       [1., 1., 1., 1.],\n",
            "       [1., 1., 1., 1.],\n",
            "       [1., 1., 1., 0.],\n",
            "       [1., 1., 1., 1.],\n",
            "       [1., 1., 1., 1.],\n",
            "       [1., 1., 1., 1.],\n",
            "       [1., 1., 1., 0.]], dtype=float32), array([[1., 1.],\n",
            "       [1., 1.],\n",
            "       [1., 1.],\n",
            "       [1., 1.]], dtype=float32), array([[1.],\n",
            "       [1.]], dtype=float32)]\n",
            "Multiply Weights\n",
            "[[-0.32974532 -0.33920807  0.58812904 -0.20131804]\n",
            " [ 0.3913872   0.5693432  -0.00521086 -0.16628096]\n",
            " [ 0.5773527   0.2975209   0.49126208 -0.4897734 ]\n",
            " [ 0.5390488   0.3292054  -0.296776    0.5589204 ]\n",
            " [-0.21265423 -0.4522185  -0.2077438   0.09490347]\n",
            " [-0.2663946   0.35435215  0.30348653 -0.        ]\n",
            " [ 0.31246716  0.4863126  -0.4492626   0.6147246 ]\n",
            " [-0.4838553  -0.40091786 -0.22240463 -0.5206022 ]\n",
            " [ 0.69555557 -0.05940014  0.13777328  0.73654735]\n",
            " [-0.04355164  0.29048344 -0.24532522 -0.        ]]\n",
            "Multiply Weights\n",
            "[[ 0.5021115  -0.88687253]\n",
            " [ 0.05803297 -0.21045394]\n",
            " [-0.40451473  0.6506665 ]\n",
            " [ 0.48171374  0.8403188 ]]\n",
            "Multiply Weights\n",
            "[[1.0821285]\n",
            " [1.1308391]]\n"
          ]
        },
        {
          "output_type": "stream",
          "name": "stderr",
          "text": [
            "/usr/local/lib/python3.7/dist-packages/ipykernel_launcher.py:6: RuntimeWarning: invalid value encountered in true_divide\n",
            "  \n"
          ]
        }
      ]
    },
    {
      "cell_type": "code",
      "metadata": {
        "id": "x3lmptQ8CbXj"
      },
      "source": [
        "def reduct(model1, model2, weights, initial_biases1, initial_biases2):\n",
        "  mask_matrix = []\n",
        "  calculated_MSE = []\n",
        "  deviation = []\n",
        "  k = 0\n",
        "  print(\"Reduct\")\n",
        "  while(k != 100):\n",
        "    print(\"WEIGHTS1\")\n",
        "    print(model1.get_weights())\n",
        "    print(\"WEIGHTS2\")\n",
        "    print(model2.get_weights())\n",
        "    delta_matrix = get_delta(model1, model2)\n",
        "    print(\"DELTA\")\n",
        "    print(delta_matrix)\n",
        "    converted_delta_matrix = []\n",
        "    for i in range(len(delta_matrix)):\n",
        "      delta_matrix[i] = np.nan_to_num(delta_matrix[i])\n",
        "      converted_delta_matrix.append(np.where(delta_matrix[i] == 0, 1, delta_matrix[i]))\n",
        "    max_elements = []\n",
        "    min_elements = []\n",
        "    # weights = []\n",
        "    # for i in range(len(model1.layers)):\n",
        "    #     weights.append(model1.layers[i].get_weights()[0])\n",
        "    if k == 0:\n",
        "      for i in range(len(delta_matrix)):\n",
        "        mask_matrix.append(np.ones_like(delta_matrix[i]))\n",
        "    for i in range(len(model1.layers)):\n",
        "      max_elements.append(np.max(np.asarray(delta_matrix[i])))\n",
        "      min_elements.append(np.min(np.asarray(converted_delta_matrix[i])))\n",
        "    max_element = np.max(np.asarray(max_elements))\n",
        "    print(max_element)\n",
        "    print(\"MAX_ELEM\")\n",
        "    min_element = np.min(np.asarray(min_elements))\n",
        "    print(\"MIN_ELEM\")\n",
        "    print(min_element)\n",
        "    deviation.append(max_element - min_element)\n",
        "    max_element_layer_index =  np.unravel_index(np.argmax(np.asarray(max_elements), axis=None),np.asarray(max_elements).shape)[0]\n",
        "    max_element_indexes= np.unravel_index(np.argmax(delta_matrix[max_element_layer_index], axis=None), delta_matrix[max_element_layer_index].shape)\n",
        "    mask_matrix[max_element_layer_index][max_element_indexes]=0\n",
        "    k+=1\n",
        "    model1 = get_model()\n",
        "    model2 = get_model()\n",
        "    for i in range(len(model1.layers)):\n",
        "      model1.layers[i].set_weights([np.multiply(weights[i], mask_matrix[i]),initial_biases1[i]])\n",
        "      model2.layers[i].set_weights([np.multiply(weights[i], mask_matrix[i]), initial_biases2[i]])\n",
        "    model1.fit(X_train,y_train,epochs=30,validation_data=(X_test,y_test),shuffle=False,callbacks=[FreezeWeights(mask_matrix)])\n",
        "    model2.fit(X_train,y_train_disturbed,epochs=30,validation_data=(X_test,y_test_disturbed),shuffle=False, callbacks=[FreezeWeights(mask_matrix)])\n",
        "    y_pred_test=model1.predict(X_test)\n",
        "    calculated_MSE.append(mean_squared_error(y_test, y_pred_test))\n",
        "  return calculated_MSE, deviation\n",
        "\n",
        "mse_values, deviation = reduct(model1, model2, weights1, initial_biases1, initial_biases2)"
      ],
      "execution_count": null,
      "outputs": []
    },
    {
      "cell_type": "code",
      "metadata": {
        "colab": {
          "base_uri": "https://localhost:8080/",
          "height": 301
        },
        "id": "6kfgUdSkvldg",
        "outputId": "0d916e1c-d965-4321-a0af-c1b7285c75ae"
      },
      "source": [
        "plot_graph(mse_values, 'MSE', 'Iteration')\n",
        "print(mse_values[-1])\n",
        "# зменшення похибки в 2.69 разів"
      ],
      "execution_count": null,
      "outputs": [
        {
          "output_type": "display_data",
          "data": {
            "image/png": "[encoded data removed]",
            "text/plain": [
              "<Figure size 576x288 with 1 Axes>"
            ]
          },
          "metadata": {
            "needs_background": "light"
          }
        },
        {
          "output_type": "stream",
          "name": "stdout",
          "text": [
            "0.00041311843\n"
          ]
        }
      ]
    },
    {
      "cell_type": "code",
      "metadata": {
        "colab": {
          "base_uri": "https://localhost:8080/",
          "height": 283
        },
        "id": "IurO9KIMvpk_",
        "outputId": "60bb4e51-d4b9-4c42-ae83-77038ffba015"
      },
      "source": [
        "plot_graph(deviation, 'Max(delta)-Min(delta)', 'Iteration')"
      ],
      "execution_count": null,
      "outputs": [
        {
          "output_type": "display_data",
          "data": {
            "image/png": "[encoded data removed]",
            "text/plain": [
              "<Figure size 576x288 with 1 Axes>"
            ]
          },
          "metadata": {
            "needs_background": "light"
          }
        }
      ]
    },
    {
      "cell_type": "code",
      "metadata": {
        "colab": {
          "base_uri": "https://localhost:8080/",
          "height": 301
        },
        "id": "qPvHG0uoGrv5",
        "outputId": "d734663e-8028-4271-cf58-169354f63226"
      },
      "source": [
        "plot_graph(mse_values, 'MSE', 'Iteration')\n",
        "print(mse_values[-1])"
      ],
      "execution_count": null,
      "outputs": [
        {
          "output_type": "display_data",
          "data": {
            "image/png": "[encoded data removed]",
            "text/plain": [
              "<Figure size 576x288 with 1 Axes>"
            ]
          },
          "metadata": {
            "needs_background": "light"
          }
        },
        {
          "output_type": "stream",
          "name": "stdout",
          "text": [
            "0.0005370564\n"
          ]
        }
      ]
    },
    {
      "cell_type": "code",
      "metadata": {
        "colab": {
          "base_uri": "https://localhost:8080/",
          "height": 283
        },
        "id": "C3HIkRdrGwZs",
        "outputId": "eac00e66-50f2-46a9-e318-71b19efd66fd"
      },
      "source": [
        "plot_graph(deviation, 'Max(delta)-Min(delta)', 'Iteration')"
      ],
      "execution_count": null,
      "outputs": [
        {
          "output_type": "display_data",
          "data": {
            "image/png": "[encoded data removed]",
            "text/plain": [
              "<Figure size 576x288 with 1 Axes>"
            ]
          },
          "metadata": {
            "needs_background": "light"
          }
        }
      ]
    },
    {
      "cell_type": "code",
      "metadata": {
        "colab": {
          "base_uri": "https://localhost:8080/",
          "height": 264
        },
        "id": "39_D96giG2Dr",
        "outputId": "12cd556c-6e09-45b5-907a-c6e8e505a52c"
      },
      "source": [
        "plot_log_graph(deviation, 'Max(delta)-Min(delta)', 'Iteration')"
      ],
      "execution_count": null,
      "outputs": [
        {
          "output_type": "display_data",
          "data": {
            "image/png": "[encoded data removed]",
            "text/plain": [
              "<Figure size 432x288 with 1 Axes>"
            ]
          },
          "metadata": {
            "needs_background": "light"
          }
        }
      ]
    },
    {
      "cell_type": "code",
      "metadata": {
        "colab": {
          "base_uri": "https://localhost:8080/",
          "height": 283
        },
        "id": "KAqR4NeNIQcn",
        "outputId": "fe200bd2-30d2-4257-f6b5-a5bd5a56d040"
      },
      "source": [
        "plot_graph(deviation, 'Max(delta)-Min(delta)', 'Iteration')"
      ],
      "execution_count": null,
      "outputs": [
        {
          "output_type": "display_data",
          "data": {
            "image/png": "[encoded data removed]",
            "text/plain": [
              "<Figure size 576x288 with 1 Axes>"
            ]
          },
          "metadata": {
            "needs_background": "light"
          }
        }
      ]
    },
    {
      "cell_type": "code",
      "metadata": {
        "colab": {
          "base_uri": "https://localhost:8080/",
          "height": 301
        },
        "id": "A6gwntfRIcfP",
        "outputId": "83af0ea1-d5b5-4875-d62d-33111a9f95c1"
      },
      "source": [
        "plot_graph(mse_values, 'MSE', 'Iteration')\n",
        "print(mse_values[-1])"
      ],
      "execution_count": null,
      "outputs": [
        {
          "output_type": "display_data",
          "data": {
            "image/png": "[encoded data removed]",
            "text/plain": [
              "<Figure size 576x288 with 1 Axes>"
            ]
          },
          "metadata": {
            "needs_background": "light"
          }
        },
        {
          "output_type": "stream",
          "name": "stdout",
          "text": [
            "0.0003858798\n"
          ]
        }
      ]
    },
    {
      "cell_type": "code",
      "metadata": {
        "colab": {
          "base_uri": "https://localhost:8080/",
          "height": 301
        },
        "id": "8_uz9iPcNBGJ",
        "outputId": "fb7774f1-e947-4539-fd20-4261a796f7bf"
      },
      "source": [
        "plot_graph(mse_values, 'MSE', 'Iteration')\n",
        "print(mse_values[-1])"
      ],
      "execution_count": null,
      "outputs": [
        {
          "output_type": "display_data",
          "data": {
            "image/png": "[encoded data removed]",
            "text/plain": [
              "<Figure size 576x288 with 1 Axes>"
            ]
          },
          "metadata": {
            "needs_background": "light"
          }
        },
        {
          "output_type": "stream",
          "name": "stdout",
          "text": [
            "0.00048563088\n"
          ]
        }
      ]
    },
    {
      "cell_type": "code",
      "metadata": {
        "colab": {
          "base_uri": "https://localhost:8080/",
          "height": 283
        },
        "id": "Ac4dMZNsNGEj",
        "outputId": "8b0ecaf4-d567-4171-f289-ed044c8510a7"
      },
      "source": [
        "plot_graph(deviation, 'Max(delta)-Min(delta)', 'Iteration')"
      ],
      "execution_count": null,
      "outputs": [
        {
          "output_type": "display_data",
          "data": {
            "image/png": "[encoded data removed]",
            "text/plain": [
              "<Figure size 576x288 with 1 Axes>"
            ]
          },
          "metadata": {
            "needs_background": "light"
          }
        }
      ]
    },
    {
      "cell_type": "code",
      "metadata": {
        "colab": {
          "base_uri": "https://localhost:8080/",
          "height": 264
        },
        "id": "PbrXLZotV62T",
        "outputId": "f0c50ddf-93ce-4c30-e54e-53b21de10068"
      },
      "source": [
        "plot_log_graph(deviation, 'Max(delta)-Min(delta)', 'Iteration')"
      ],
      "execution_count": null,
      "outputs": [
        {
          "output_type": "display_data",
          "data": {
            "image/png": "[encoded data removed]",
            "text/plain": [
              "<Figure size 432x288 with 1 Axes>"
            ]
          },
          "metadata": {
            "needs_background": "light"
          }
        }
      ]
    },
    {
      "cell_type": "code",
      "metadata": {
        "colab": {
          "base_uri": "https://localhost:8080/",
          "height": 301
        },
        "id": "c6U4DzPFa17y",
        "outputId": "95678946-099e-4e3c-f30e-50feff5a2453"
      },
      "source": [
        "plot_graph(mse_values, 'MSE', 'Iteration')\n",
        "print(mse_values[-1])"
      ],
      "execution_count": null,
      "outputs": [
        {
          "output_type": "display_data",
          "data": {
            "image/png": "[encoded data removed]",
            "text/plain": [
              "<Figure size 576x288 with 1 Axes>"
            ]
          },
          "metadata": {
            "needs_background": "light"
          }
        },
        {
          "output_type": "stream",
          "name": "stdout",
          "text": [
            "0.00045498644\n"
          ]
        }
      ]
    },
    {
      "cell_type": "code",
      "metadata": {
        "colab": {
          "base_uri": "https://localhost:8080/",
          "height": 288
        },
        "id": "m6wBi118bEza",
        "outputId": "1bccd37b-e141-45f3-d0ec-e662452e8c0a"
      },
      "source": [
        "plot_graph(deviation, 'Max(delta)-Min(delta)', 'Iteration')"
      ],
      "execution_count": null,
      "outputs": [
        {
          "output_type": "display_data",
          "data": {
            "image/png": "[encoded data removed]",
            "text/plain": [
              "<Figure size 576x288 with 1 Axes>"
            ]
          },
          "metadata": {
            "needs_background": "light"
          }
        }
      ]
    },
    {
      "cell_type": "code",
      "metadata": {
        "colab": {
          "base_uri": "https://localhost:8080/",
          "height": 264
        },
        "id": "OAFaEq6ybPs5",
        "outputId": "f099316c-2e5b-4fcc-e7cf-98318761b02a"
      },
      "source": [
        "plot_log_graph(deviation, 'Max(delta)-Min(delta)', 'Iteration')"
      ],
      "execution_count": null,
      "outputs": [
        {
          "output_type": "display_data",
          "data": {
            "image/png": "[encoded data removed]",
            "text/plain": [
              "<Figure size 432x288 with 1 Axes>"
            ]
          },
          "metadata": {
            "needs_background": "light"
          }
        }
      ]
    },
    {
      "cell_type": "code",
      "metadata": {
        "colab": {
          "base_uri": "https://localhost:8080/",
          "height": 301
        },
        "id": "9sJlEUY9bycC",
        "outputId": "9f000f6c-22fe-4afe-a8c4-6d7a7fb442d7"
      },
      "source": [
        "plot_graph(mse_values, 'MSE', 'Iteration')\n",
        "print(mse_values[-1])"
      ],
      "execution_count": null,
      "outputs": [
        {
          "output_type": "display_data",
          "data": {
            "image/png": "[encoded data removed]",
            "text/plain": [
              "<Figure size 576x288 with 1 Axes>"
            ]
          },
          "metadata": {
            "needs_background": "light"
          }
        },
        {
          "output_type": "stream",
          "name": "stdout",
          "text": [
            "10.959134\n"
          ]
        }
      ]
    },
    {
      "cell_type": "code",
      "metadata": {
        "colab": {
          "base_uri": "https://localhost:8080/",
          "height": 283
        },
        "id": "fFZte7CMtwNL",
        "outputId": "3902a5dc-8a6d-4d16-bf8f-905354a7a7c1"
      },
      "source": [
        "plot_graph(deviation, 'Max(delta)-Min(delta)', 'Iteration')"
      ],
      "execution_count": null,
      "outputs": [
        {
          "output_type": "display_data",
          "data": {
            "image/png": "[encoded data removed]",
            "text/plain": [
              "<Figure size 576x288 with 1 Axes>"
            ]
          },
          "metadata": {
            "needs_background": "light"
          }
        }
      ]
    },
    {
      "cell_type": "code",
      "metadata": {
        "colab": {
          "base_uri": "https://localhost:8080/",
          "height": 264
        },
        "id": "qAgiSvSQb73T",
        "outputId": "d214097f-6258-4c99-b8dc-2c410a499010"
      },
      "source": [
        "plot_log_graph(deviation, 'Max(delta)-Min(delta)', 'Iteration')"
      ],
      "execution_count": null,
      "outputs": [
        {
          "output_type": "display_data",
          "data": {
            "image/png": "[encoded data removed]",
            "text/plain": [
              "<Figure size 432x288 with 1 Axes>"
            ]
          },
          "metadata": {
            "needs_background": "light"
          }
        }
      ]
    },
    {
      "cell_type": "code",
      "metadata": {
        "colab": {
          "base_uri": "https://localhost:8080/",
          "height": 301
        },
        "id": "z4Pr5yQ4zmgr",
        "outputId": "a54af183-018f-4122-ae21-4fae59928d51"
      },
      "source": [
        "plot_graph(mse_values, 'MSE', 'Iteration')\n",
        "print(mse_values[-1])"
      ],
      "execution_count": null,
      "outputs": [
        {
          "output_type": "display_data",
          "data": {
            "image/png": "[encoded data removed]",
            "text/plain": [
              "<Figure size 576x288 with 1 Axes>"
            ]
          },
          "metadata": {
            "needs_background": "light"
          }
        },
        {
          "output_type": "stream",
          "name": "stdout",
          "text": [
            "1.6595919\n"
          ]
        }
      ]
    },
    {
      "cell_type": "code",
      "metadata": {
        "colab": {
          "base_uri": "https://localhost:8080/",
          "height": 283
        },
        "id": "i6nKE2yT0N35",
        "outputId": "e5ed1394-5c20-4562-efdc-1b9669ae9069"
      },
      "source": [
        "plot_graph(deviation, 'Max(delta)-Min(delta)', 'Iteration')"
      ],
      "execution_count": null,
      "outputs": [
        {
          "output_type": "display_data",
          "data": {
            "image/png": "[encoded data removed]",
            "text/plain": [
              "<Figure size 576x288 with 1 Axes>"
            ]
          },
          "metadata": {
            "needs_background": "light"
          }
        }
      ]
    },
    {
      "cell_type": "code",
      "metadata": {
        "colab": {
          "base_uri": "https://localhost:8080/",
          "height": 264
        },
        "id": "fn8Cy66JzrAk",
        "outputId": "0c6163b4-d906-42af-b3da-e5ba547861ae"
      },
      "source": [
        "plot_log_graph(deviation, 'Max(delta)-Min(delta)', 'Iteration')"
      ],
      "execution_count": null,
      "outputs": [
        {
          "output_type": "display_data",
          "data": {
            "image/png": "[encoded data removed]",
            "text/plain": [
              "<Figure size 432x288 with 1 Axes>"
            ]
          },
          "metadata": {
            "needs_background": "light"
          }
        }
      ]
    },
    {
      "cell_type": "code",
      "metadata": {
        "colab": {
          "base_uri": "https://localhost:8080/",
          "height": 1000
        },
        "id": "xwbSJeR45AIM",
        "outputId": "749857a1-eece-4ae5-da53-fb84b4508177"
      },
      "source": [
        "plot_graph(mse_values, 'MSE', 'Iteration')\n",
        "print(mse_values[79])\n",
        "list1 = []\n",
        "for i in mse_values:\n",
        "  list1.append(i)\n",
        "plot_graph(mse_values, 'MSE', 'Iteration')"
      ],
      "execution_count": null,
      "outputs": [
        {
          "output_type": "display_data",
          "data": {
            "image/png": "[encoded data removed]",
            "text/plain": [
              "<Figure size 576x288 with 1 Axes>"
            ]
          },
          "metadata": {
            "needs_background": "light"
          }
        },
        {
          "output_type": "stream",
          "name": "stdout",
          "text": [
            "0.46012434\n"
          ]
        },
        {
          "output_type": "execute_result",
          "data": {
            "text/plain": [
              "[2.5912523,\n",
              " 2.5538175,\n",
              " 2.5232673,\n",
              " 2.5111327,\n",
              " 2.4744203,\n",
              " 2.4479647,\n",
              " 2.3586895,\n",
              " 2.3412225,\n",
              " 2.3117309,\n",
              " 2.2952514,\n",
              " 2.2490425,\n",
              " 2.2162395,\n",
              " 2.204345,\n",
              " 2.1696496,\n",
              " 2.1238496,\n",
              " 2.107651,\n",
              " 2.0563612,\n",
              " 2.0400188,\n",
              " 1.9960606,\n",
              " 1.968377,\n",
              " 1.9239159,\n",
              " 1.8908668,\n",
              " 1.8553287,\n",
              " 1.8223441,\n",
              " 1.8037832,\n",
              " 1.7670218,\n",
              " 1.7302933,\n",
              " 1.7039306,\n",
              " 1.6698704,\n",
              " 1.6595919,\n",
              " 1.6212144,\n",
              " 1.4404625,\n",
              " 1.4183633,\n",
              " 1.3909851,\n",
              " 0.76806587,\n",
              " 0.74898356,\n",
              " 0.7284777,\n",
              " 0.7286882,\n",
              " 0.7273924,\n",
              " 0.7190821,\n",
              " 0.6988964,\n",
              " 0.6801366,\n",
              " 0.6650736,\n",
              " 0.6637128,\n",
              " 0.6501664,\n",
              " 0.633246,\n",
              " 0.6284069,\n",
              " 0.6238006,\n",
              " 0.6154435,\n",
              " 0.61042583,\n",
              " 0.59650266,\n",
              " 0.5803601,\n",
              " 0.56772137,\n",
              " 0.56712747,\n",
              " 0.55611753,\n",
              " 0.5505684,\n",
              " 0.5329962,\n",
              " 0.53843164,\n",
              " 0.5232941,\n",
              " 0.5298383,\n",
              " 0.5164625,\n",
              " 0.50526595,\n",
              " 0.5028703,\n",
              " 0.5400731,\n",
              " 0.5233084,\n",
              " 0.5255392,\n",
              " 0.5178204,\n",
              " 0.49689475,\n",
              " 0.48527944,\n",
              " 0.4607594,\n",
              " 0.44801027,\n",
              " 0.41335666,\n",
              " 0.39851257,\n",
              " 0.39501178,\n",
              " 0.3920176,\n",
              " 0.38526896,\n",
              " 0.37540615,\n",
              " 0.38129678,\n",
              " 0.42932007,\n",
              " 0.46012434,\n",
              " 78.769684,\n",
              " 78.449265,\n",
              " 78.02818,\n",
              " 77.563385,\n",
              " 77.36208,\n",
              " 77.111015,\n",
              " 76.84731,\n",
              " 76.767914,\n",
              " 76.54454,\n",
              " 76.403496,\n",
              " 76.08138,\n",
              " 75.400154,\n",
              " 74.97452,\n",
              " 74.825745,\n",
              " 74.326096,\n",
              " 73.28906,\n",
              " 73.08207,\n",
              " 72.559105,\n",
              " 71.01289,\n",
              " 70.70857]"
            ]
          },
          "metadata": {},
          "execution_count": 410
        }
      ]
    },
    {
      "cell_type": "code",
      "metadata": {
        "colab": {
          "base_uri": "https://localhost:8080/",
          "height": 264
        },
        "id": "RifJ8Cfd5KRG",
        "outputId": "9f7cef30-1244-4cda-bf3b-301160b310bb"
      },
      "source": [
        "plot_log_graph(deviation, 'Max(delta)-Min(delta)', 'Iteration')"
      ],
      "execution_count": null,
      "outputs": [
        {
          "output_type": "display_data",
          "data": {
            "image/png": "[encoded data removed]",
            "text/plain": [
              "<Figure size 432x288 with 1 Axes>"
            ]
          },
          "metadata": {
            "needs_background": "light"
          }
        }
      ]
    },
    {
      "cell_type": "code",
      "metadata": {
        "colab": {
          "base_uri": "https://localhost:8080/",
          "height": 301
        },
        "id": "Mf6NcjZo941m",
        "outputId": "f6b2d12a-56fa-4801-eb94-9e9173b3fe2a"
      },
      "source": [
        "plot_graph(mse_values[:79], 'Max(delta)-Min(delta)', 'Iteration')\n",
        "print(mse_values[76])"
      ],
      "execution_count": null,
      "outputs": [
        {
          "output_type": "display_data",
          "data": {
            "image/png": "[encoded data removed]",
            "text/plain": [
              "<Figure size 576x288 with 1 Axes>"
            ]
          },
          "metadata": {
            "needs_background": "light"
          }
        },
        {
          "output_type": "stream",
          "name": "stdout",
          "text": [
            "0.37540615\n"
          ]
        }
      ]
    },
    {
      "cell_type": "code",
      "metadata": {
        "colab": {
          "base_uri": "https://localhost:8080/",
          "height": 264
        },
        "id": "YThu275j_kdj",
        "outputId": "dbbf3bb6-3488-4160-d085-acded5378bca"
      },
      "source": [
        "plot_log_graph(deviation[0:81], 'Max(delta)-Min(delta)', 'Iteration')"
      ],
      "execution_count": null,
      "outputs": [
        {
          "output_type": "display_data",
          "data": {
            "image/png": "[encoded data removed]",
            "text/plain": [
              "<Figure size 432x288 with 1 Axes>"
            ]
          },
          "metadata": {
            "needs_background": "light"
          }
        }
      ]
    },
    {
      "cell_type": "code",
      "metadata": {
        "id": "LIq_XMmAI56F"
      },
      "source": [
        "title_delta = 'max('+chr(948)+') - min(' + chr(948)+')'\n",
        "title_mse = 'MSE'"
      ],
      "execution_count": null,
      "outputs": []
    },
    {
      "cell_type": "code",
      "metadata": {
        "colab": {
          "base_uri": "https://localhost:8080/",
          "height": 314
        },
        "id": "cLORhlE_JLAi",
        "outputId": "70a6f152-9b76-4014-9dab-4adc6b287bfb"
      },
      "source": [
        "plot_graph(mse_values[:79], 'Iteration', title_mse, 'r')\n",
        "print(mse_values[76])"
      ],
      "execution_count": null,
      "outputs": [
        {
          "output_type": "display_data",
          "data": {
            "image/png": "[encoded data removed]",
            "text/plain": [
              "<Figure size 576x288 with 1 Axes>"
            ]
          },
          "metadata": {
            "needs_background": "light"
          }
        },
        {
          "output_type": "stream",
          "name": "stdout",
          "text": [
            "0.37540615\n"
          ]
        }
      ]
    },
    {
      "cell_type": "code",
      "metadata": {
        "colab": {
          "base_uri": "https://localhost:8080/",
          "height": 296
        },
        "id": "S1GBq14vAkXt",
        "outputId": "5a039dd7-481a-4727-8276-86f3cf57c670"
      },
      "source": [
        "plot_graph(deviation[0:81], 'Iteration', title_delta, 'b')"
      ],
      "execution_count": null,
      "outputs": [
        {
          "output_type": "display_data",
          "data": {
            "image/png": "[encoded data removed]",
            "text/plain": [
              "<Figure size 576x288 with 1 Axes>"
            ]
          },
          "metadata": {
            "needs_background": "light"
          }
        }
      ]
    },
    {
      "cell_type": "code",
      "metadata": {
        "colab": {
          "base_uri": "https://localhost:8080/",
          "height": 296
        },
        "id": "mKvIWO60JsU2",
        "outputId": "9a583177-b325-4c36-e410-a534535226f5"
      },
      "source": [
        "plot_log_graph(deviation[0:81], 'Iteration', title_delta, 'b')"
      ],
      "execution_count": null,
      "outputs": [
        {
          "output_type": "display_data",
          "data": {
            "image/png": "[encoded data removed]",
            "text/plain": [
              "<Figure size 432x288 with 1 Axes>"
            ]
          },
          "metadata": {
            "needs_background": "light"
          }
        }
      ]
    },
    {
      "cell_type": "code",
      "metadata": {
        "colab": {
          "base_uri": "https://localhost:8080/",
          "height": 314
        },
        "id": "WsH373V8Tofu",
        "outputId": "d43beb96-bfc2-4b47-9628-f75480c86f1e"
      },
      "source": [
        "plot_graph(mse_values[:85], 'Iteration', title_mse, 'r')\n",
        "print(mse_values[83])"
      ],
      "execution_count": null,
      "outputs": [
        {
          "output_type": "display_data",
          "data": {
            "image/png": "[encoded data removed]",
            "text/plain": [
              "<Figure size 576x288 with 1 Axes>"
            ]
          },
          "metadata": {
            "needs_background": "light"
          }
        },
        {
          "output_type": "stream",
          "name": "stdout",
          "text": [
            "1.0345308\n"
          ]
        }
      ]
    },
    {
      "cell_type": "code",
      "metadata": {
        "colab": {
          "base_uri": "https://localhost:8080/",
          "height": 296
        },
        "id": "A-DIBtHFUgGF",
        "outputId": "2c7bd4b4-990b-402e-c4f0-9e9d8e8b9ee8"
      },
      "source": [
        "plot_graph(deviation[0:81], 'Iteration', title_delta, 'b')"
      ],
      "execution_count": null,
      "outputs": [
        {
          "output_type": "display_data",
          "data": {
            "image/png": "[encoded data removed]",
            "text/plain": [
              "<Figure size 576x288 with 1 Axes>"
            ]
          },
          "metadata": {
            "needs_background": "light"
          }
        }
      ]
    },
    {
      "cell_type": "code",
      "metadata": {
        "colab": {
          "base_uri": "https://localhost:8080/",
          "height": 296
        },
        "id": "GPGWpXYAUmnX",
        "outputId": "7d48f51c-115d-48d6-95c8-a1b86df01e75"
      },
      "source": [
        "plot_log_graph(deviation[0:84], 'Iteration', title_delta, 'b')"
      ],
      "execution_count": null,
      "outputs": [
        {
          "output_type": "display_data",
          "data": {
            "image/png": "[encoded data removed]",
            "text/plain": [
              "<Figure size 432x288 with 1 Axes>"
            ]
          },
          "metadata": {
            "needs_background": "light"
          }
        }
      ]
    },
    {
      "cell_type": "code",
      "metadata": {
        "colab": {
          "base_uri": "https://localhost:8080/",
          "height": 314
        },
        "id": "lWi1vTFFbsle",
        "outputId": "00087caa-f82e-4ddf-baba-25b2f60b7f35"
      },
      "source": [
        "plot_graph(mse_values[:60], 'Iteration', title_mse, 'r')\n",
        "print(mse_values[59])"
      ],
      "execution_count": null,
      "outputs": [
        {
          "output_type": "display_data",
          "data": {
            "image/png": "[encoded data removed]",
            "text/plain": [
              "<Figure size 576x288 with 1 Axes>"
            ]
          },
          "metadata": {
            "needs_background": "light"
          }
        },
        {
          "output_type": "stream",
          "name": "stdout",
          "text": [
            "0.24159938\n"
          ]
        }
      ]
    },
    {
      "cell_type": "code",
      "metadata": {
        "colab": {
          "base_uri": "https://localhost:8080/",
          "height": 296
        },
        "id": "stRweNpLcJYc",
        "outputId": "acdd6768-116f-4c0f-f83b-525a1b39e62c"
      },
      "source": [
        "plot_graph(deviation[0:81], 'Iteration', title_delta, 'b')"
      ],
      "execution_count": null,
      "outputs": [
        {
          "output_type": "display_data",
          "data": {
            "image/png": "[encoded data removed]",
            "text/plain": [
              "<Figure size 576x288 with 1 Axes>"
            ]
          },
          "metadata": {
            "needs_background": "light"
          }
        }
      ]
    },
    {
      "cell_type": "code",
      "metadata": {
        "colab": {
          "base_uri": "https://localhost:8080/",
          "height": 296
        },
        "id": "QxnJYd99cL58",
        "outputId": "a6d8f9f8-9f7e-4329-90c7-930051d9ce37"
      },
      "source": [
        "plot_log_graph(deviation[0:84], 'Iteration', title_delta, 'b')"
      ],
      "execution_count": null,
      "outputs": [
        {
          "output_type": "display_data",
          "data": {
            "image/png": "[encoded data removed]",
            "text/plain": [
              "<Figure size 432x288 with 1 Axes>"
            ]
          },
          "metadata": {
            "needs_background": "light"
          }
        }
      ]
    },
    {
      "cell_type": "markdown",
      "metadata": {
        "id": "mlChioZ_kJbo"
      },
      "source": [
        "**Ukrainian hryvnia exchange rate**"
      ]
    },
    {
      "cell_type": "code",
      "metadata": {
        "colab": {
          "base_uri": "https://localhost:8080/"
        },
        "id": "d5SbAFRakY-g",
        "outputId": "f988dafd-c7d8-4c97-c4d7-ff2c5ab7019b"
      },
      "source": [
        "from google.colab import drive\n",
        "drive.mount('/content/gdrive')"
      ],
      "execution_count": null,
      "outputs": [
        {
          "output_type": "stream",
          "name": "stdout",
          "text": [
            "Drive already mounted at /content/gdrive; to attempt to forcibly remount, call drive.mount(\"/content/gdrive\", force_remount=True).\n"
          ]
        }
      ]
    },
    {
      "cell_type": "code",
      "metadata": {
        "id": "23TOjZo2pGCz"
      },
      "source": [
        "import numpy as np\n",
        "import pandas as pd"
      ],
      "execution_count": null,
      "outputs": []
    },
    {
      "cell_type": "code",
      "metadata": {
        "colab": {
          "base_uri": "https://localhost:8080/",
          "height": 237
        },
        "id": "puNtJZb3osEB",
        "outputId": "e6f0e5f8-00e9-4599-b944-427945bd306b"
      },
      "source": [
        "data = pd.read_excel(\"/content/gdrive/My Drive/exchange_rate_data/final_data.xlsx\", parse_dates=True, index_col='date')\n",
        "data=data[:-1]\n",
        "data_raw=data.copy()\n",
        "\n",
        "data.head()"
      ],
      "execution_count": null,
      "outputs": [
        {
          "output_type": "execute_result",
          "data": {
            "text/html": [
              "<div>\n",
              "<style scoped>\n",
              "    .dataframe tbody tr th:only-of-type {\n",
              "        vertical-align: middle;\n",
              "    }\n",
              "\n",
              "    .dataframe tbody tr th {\n",
              "        vertical-align: top;\n",
              "    }\n",
              "\n",
              "    .dataframe thead th {\n",
              "        text-align: right;\n",
              "    }\n",
              "</style>\n",
              "<table border=\"1\" class=\"dataframe\">\n",
              "  <thead>\n",
              "    <tr style=\"text-align: right;\">\n",
              "      <th></th>\n",
              "      <th>ppi</th>\n",
              "      <th>inflation</th>\n",
              "      <th>avg_sal_uah</th>\n",
              "      <th>ipi</th>\n",
              "      <th>fx_reserves</th>\n",
              "      <th>agro_ppi</th>\n",
              "      <th>gdp_pers_uah</th>\n",
              "      <th>gdp_pers_usd</th>\n",
              "      <th>unemployment</th>\n",
              "      <th>bop</th>\n",
              "      <th>rsi</th>\n",
              "      <th>fdi</th>\n",
              "      <th>gov_budg</th>\n",
              "      <th>int_trade</th>\n",
              "      <th>state_debt_uah</th>\n",
              "      <th>state_debt_usd</th>\n",
              "    </tr>\n",
              "    <tr>\n",
              "      <th>date</th>\n",
              "      <th></th>\n",
              "      <th></th>\n",
              "      <th></th>\n",
              "      <th></th>\n",
              "      <th></th>\n",
              "      <th></th>\n",
              "      <th></th>\n",
              "      <th></th>\n",
              "      <th></th>\n",
              "      <th></th>\n",
              "      <th></th>\n",
              "      <th></th>\n",
              "      <th></th>\n",
              "      <th></th>\n",
              "      <th></th>\n",
              "      <th></th>\n",
              "    </tr>\n",
              "  </thead>\n",
              "  <tbody>\n",
              "    <tr>\n",
              "      <th>2010-01-01</th>\n",
              "      <td>101.9</td>\n",
              "      <td>101.8</td>\n",
              "      <td>1916.0</td>\n",
              "      <td>89.2</td>\n",
              "      <td>25285.57</td>\n",
              "      <td>101.5</td>\n",
              "      <td>19832.0</td>\n",
              "      <td>2545.0</td>\n",
              "      <td>9.6</td>\n",
              "      <td>-1153.0</td>\n",
              "      <td>86.7</td>\n",
              "      <td>1282.0</td>\n",
              "      <td>-1622.6</td>\n",
              "      <td>-1309.0</td>\n",
              "      <td>301538.75</td>\n",
              "      <td>37686.69</td>\n",
              "    </tr>\n",
              "    <tr>\n",
              "      <th>2010-02-01</th>\n",
              "      <td>101.9</td>\n",
              "      <td>101.9</td>\n",
              "      <td>1955.0</td>\n",
              "      <td>100.4</td>\n",
              "      <td>24148.28</td>\n",
              "      <td>NaN</td>\n",
              "      <td>NaN</td>\n",
              "      <td>NaN</td>\n",
              "      <td>NaN</td>\n",
              "      <td>NaN</td>\n",
              "      <td>86.8</td>\n",
              "      <td>NaN</td>\n",
              "      <td>-4778.3</td>\n",
              "      <td>NaN</td>\n",
              "      <td>303173.71</td>\n",
              "      <td>37944.14</td>\n",
              "    </tr>\n",
              "    <tr>\n",
              "      <th>2010-03-01</th>\n",
              "      <td>103.0</td>\n",
              "      <td>100.9</td>\n",
              "      <td>2109.0</td>\n",
              "      <td>114.8</td>\n",
              "      <td>25147.48</td>\n",
              "      <td>NaN</td>\n",
              "      <td>NaN</td>\n",
              "      <td>NaN</td>\n",
              "      <td>NaN</td>\n",
              "      <td>-672.0</td>\n",
              "      <td>92.7</td>\n",
              "      <td>923.0</td>\n",
              "      <td>-5469.7</td>\n",
              "      <td>NaN</td>\n",
              "      <td>327219.32</td>\n",
              "      <td>41289.50</td>\n",
              "    </tr>\n",
              "    <tr>\n",
              "      <th>2010-04-01</th>\n",
              "      <td>103.0</td>\n",
              "      <td>99.7</td>\n",
              "      <td>2107.0</td>\n",
              "      <td>97.5</td>\n",
              "      <td>26352.11</td>\n",
              "      <td>98.5</td>\n",
              "      <td>NaN</td>\n",
              "      <td>NaN</td>\n",
              "      <td>NaN</td>\n",
              "      <td>NaN</td>\n",
              "      <td>92.9</td>\n",
              "      <td>NaN</td>\n",
              "      <td>-3764.6</td>\n",
              "      <td>NaN</td>\n",
              "      <td>NaN</td>\n",
              "      <td>NaN</td>\n",
              "    </tr>\n",
              "    <tr>\n",
              "      <th>2010-05-01</th>\n",
              "      <td>104.4</td>\n",
              "      <td>99.4</td>\n",
              "      <td>2201.0</td>\n",
              "      <td>97.2</td>\n",
              "      <td>26705.85</td>\n",
              "      <td>NaN</td>\n",
              "      <td>NaN</td>\n",
              "      <td>NaN</td>\n",
              "      <td>NaN</td>\n",
              "      <td>NaN</td>\n",
              "      <td>97.6</td>\n",
              "      <td>NaN</td>\n",
              "      <td>-15195.8</td>\n",
              "      <td>NaN</td>\n",
              "      <td>NaN</td>\n",
              "      <td>NaN</td>\n",
              "    </tr>\n",
              "  </tbody>\n",
              "</table>\n",
              "</div>"
            ],
            "text/plain": [
              "              ppi  inflation  ...  state_debt_uah  state_debt_usd\n",
              "date                          ...                                \n",
              "2010-01-01  101.9      101.8  ...       301538.75        37686.69\n",
              "2010-02-01  101.9      101.9  ...       303173.71        37944.14\n",
              "2010-03-01  103.0      100.9  ...       327219.32        41289.50\n",
              "2010-04-01  103.0       99.7  ...             NaN             NaN\n",
              "2010-05-01  104.4       99.4  ...             NaN             NaN\n",
              "\n",
              "[5 rows x 16 columns]"
            ]
          },
          "metadata": {},
          "execution_count": 391
        }
      ]
    },
    {
      "cell_type": "code",
      "metadata": {
        "colab": {
          "base_uri": "https://localhost:8080/",
          "height": 237
        },
        "id": "G5mpi_O1qIJS",
        "outputId": "1a462bd1-88b6-48f1-9acc-9c6a457e1fe2"
      },
      "source": [
        "data = data.interpolate(method='polynomial', order=1)\n",
        "\n",
        "data.head()"
      ],
      "execution_count": null,
      "outputs": [
        {
          "output_type": "execute_result",
          "data": {
            "text/html": [
              "<div>\n",
              "<style scoped>\n",
              "    .dataframe tbody tr th:only-of-type {\n",
              "        vertical-align: middle;\n",
              "    }\n",
              "\n",
              "    .dataframe tbody tr th {\n",
              "        vertical-align: top;\n",
              "    }\n",
              "\n",
              "    .dataframe thead th {\n",
              "        text-align: right;\n",
              "    }\n",
              "</style>\n",
              "<table border=\"1\" class=\"dataframe\">\n",
              "  <thead>\n",
              "    <tr style=\"text-align: right;\">\n",
              "      <th></th>\n",
              "      <th>ppi</th>\n",
              "      <th>inflation</th>\n",
              "      <th>avg_sal_uah</th>\n",
              "      <th>ipi</th>\n",
              "      <th>fx_reserves</th>\n",
              "      <th>agro_ppi</th>\n",
              "      <th>gdp_pers_uah</th>\n",
              "      <th>gdp_pers_usd</th>\n",
              "      <th>unemployment</th>\n",
              "      <th>bop</th>\n",
              "      <th>rsi</th>\n",
              "      <th>fdi</th>\n",
              "      <th>gov_budg</th>\n",
              "      <th>int_trade</th>\n",
              "      <th>state_debt_uah</th>\n",
              "      <th>state_debt_usd</th>\n",
              "    </tr>\n",
              "    <tr>\n",
              "      <th>date</th>\n",
              "      <th></th>\n",
              "      <th></th>\n",
              "      <th></th>\n",
              "      <th></th>\n",
              "      <th></th>\n",
              "      <th></th>\n",
              "      <th></th>\n",
              "      <th></th>\n",
              "      <th></th>\n",
              "      <th></th>\n",
              "      <th></th>\n",
              "      <th></th>\n",
              "      <th></th>\n",
              "      <th></th>\n",
              "      <th></th>\n",
              "      <th></th>\n",
              "    </tr>\n",
              "  </thead>\n",
              "  <tbody>\n",
              "    <tr>\n",
              "      <th>2010-01-01</th>\n",
              "      <td>101.9</td>\n",
              "      <td>101.8</td>\n",
              "      <td>1916.0</td>\n",
              "      <td>89.2</td>\n",
              "      <td>25285.57</td>\n",
              "      <td>101.500000</td>\n",
              "      <td>19832.000000</td>\n",
              "      <td>2545.000000</td>\n",
              "      <td>9.600000</td>\n",
              "      <td>-1153.000000</td>\n",
              "      <td>86.7</td>\n",
              "      <td>1282.000000</td>\n",
              "      <td>-1622.6</td>\n",
              "      <td>-1309.000000</td>\n",
              "      <td>301538.75000</td>\n",
              "      <td>37686.690000</td>\n",
              "    </tr>\n",
              "    <tr>\n",
              "      <th>2010-02-01</th>\n",
              "      <td>101.9</td>\n",
              "      <td>101.9</td>\n",
              "      <td>1955.0</td>\n",
              "      <td>100.4</td>\n",
              "      <td>24148.28</td>\n",
              "      <td>100.466667</td>\n",
              "      <td>20181.724551</td>\n",
              "      <td>2584.817365</td>\n",
              "      <td>9.525749</td>\n",
              "      <td>-900.271186</td>\n",
              "      <td>86.8</td>\n",
              "      <td>1093.372881</td>\n",
              "      <td>-4778.3</td>\n",
              "      <td>-1465.763473</td>\n",
              "      <td>303173.71000</td>\n",
              "      <td>37944.140000</td>\n",
              "    </tr>\n",
              "    <tr>\n",
              "      <th>2010-03-01</th>\n",
              "      <td>103.0</td>\n",
              "      <td>100.9</td>\n",
              "      <td>2109.0</td>\n",
              "      <td>114.8</td>\n",
              "      <td>25147.48</td>\n",
              "      <td>99.533333</td>\n",
              "      <td>20497.604790</td>\n",
              "      <td>2620.781437</td>\n",
              "      <td>9.458683</td>\n",
              "      <td>-672.000000</td>\n",
              "      <td>92.7</td>\n",
              "      <td>923.000000</td>\n",
              "      <td>-5469.7</td>\n",
              "      <td>-1607.356287</td>\n",
              "      <td>327219.32000</td>\n",
              "      <td>41289.500000</td>\n",
              "    </tr>\n",
              "    <tr>\n",
              "      <th>2010-04-01</th>\n",
              "      <td>103.0</td>\n",
              "      <td>99.7</td>\n",
              "      <td>2107.0</td>\n",
              "      <td>97.5</td>\n",
              "      <td>26352.11</td>\n",
              "      <td>98.500000</td>\n",
              "      <td>20847.329341</td>\n",
              "      <td>2660.598802</td>\n",
              "      <td>9.384431</td>\n",
              "      <td>1272.913043</td>\n",
              "      <td>92.9</td>\n",
              "      <td>1014.989130</td>\n",
              "      <td>-3764.6</td>\n",
              "      <td>-1764.119760</td>\n",
              "      <td>340205.91413</td>\n",
              "      <td>42940.677935</td>\n",
              "    </tr>\n",
              "    <tr>\n",
              "      <th>2010-05-01</th>\n",
              "      <td>104.4</td>\n",
              "      <td>99.4</td>\n",
              "      <td>2201.0</td>\n",
              "      <td>97.2</td>\n",
              "      <td>26705.85</td>\n",
              "      <td>98.303279</td>\n",
              "      <td>21185.772455</td>\n",
              "      <td>2699.131737</td>\n",
              "      <td>9.312575</td>\n",
              "      <td>3155.086957</td>\n",
              "      <td>97.6</td>\n",
              "      <td>1104.010870</td>\n",
              "      <td>-15195.8</td>\n",
              "      <td>-1915.826347</td>\n",
              "      <td>352773.58587</td>\n",
              "      <td>44538.592065</td>\n",
              "    </tr>\n",
              "  </tbody>\n",
              "</table>\n",
              "</div>"
            ],
            "text/plain": [
              "              ppi  inflation  ...  state_debt_uah  state_debt_usd\n",
              "date                          ...                                \n",
              "2010-01-01  101.9      101.8  ...    301538.75000    37686.690000\n",
              "2010-02-01  101.9      101.9  ...    303173.71000    37944.140000\n",
              "2010-03-01  103.0      100.9  ...    327219.32000    41289.500000\n",
              "2010-04-01  103.0       99.7  ...    340205.91413    42940.677935\n",
              "2010-05-01  104.4       99.4  ...    352773.58587    44538.592065\n",
              "\n",
              "[5 rows x 16 columns]"
            ]
          },
          "metadata": {},
          "execution_count": 392
        }
      ]
    },
    {
      "cell_type": "code",
      "metadata": {
        "colab": {
          "base_uri": "https://localhost:8080/",
          "height": 205
        },
        "id": "yFUqlooxqPax",
        "outputId": "86ca75f1-9552-4aaf-823d-38e80eb2733b"
      },
      "source": [
        "data_usd = pd.read_csv('/content/gdrive/My Drive/exchange_rate_data/exchange_rate.csv')\n",
        "data_usd_raw = data_usd.copy()\n",
        "\n",
        "data_usd.head()"
      ],
      "execution_count": null,
      "outputs": [
        {
          "output_type": "execute_result",
          "data": {
            "text/html": [
              "<div>\n",
              "<style scoped>\n",
              "    .dataframe tbody tr th:only-of-type {\n",
              "        vertical-align: middle;\n",
              "    }\n",
              "\n",
              "    .dataframe tbody tr th {\n",
              "        vertical-align: top;\n",
              "    }\n",
              "\n",
              "    .dataframe thead th {\n",
              "        text-align: right;\n",
              "    }\n",
              "</style>\n",
              "<table border=\"1\" class=\"dataframe\">\n",
              "  <thead>\n",
              "    <tr style=\"text-align: right;\">\n",
              "      <th></th>\n",
              "      <th>date</th>\n",
              "      <th>amount</th>\n",
              "      <th>total_ex</th>\n",
              "      <th>exrate</th>\n",
              "    </tr>\n",
              "  </thead>\n",
              "  <tbody>\n",
              "    <tr>\n",
              "      <th>0</th>\n",
              "      <td>01.01.2010</td>\n",
              "      <td>100</td>\n",
              "      <td>798.5</td>\n",
              "      <td>7.985</td>\n",
              "    </tr>\n",
              "    <tr>\n",
              "      <th>1</th>\n",
              "      <td>02.01.2010</td>\n",
              "      <td>100</td>\n",
              "      <td>798.5</td>\n",
              "      <td>7.985</td>\n",
              "    </tr>\n",
              "    <tr>\n",
              "      <th>2</th>\n",
              "      <td>03.01.2010</td>\n",
              "      <td>100</td>\n",
              "      <td>798.5</td>\n",
              "      <td>7.985</td>\n",
              "    </tr>\n",
              "    <tr>\n",
              "      <th>3</th>\n",
              "      <td>04.01.2010</td>\n",
              "      <td>100</td>\n",
              "      <td>798.5</td>\n",
              "      <td>7.985</td>\n",
              "    </tr>\n",
              "    <tr>\n",
              "      <th>4</th>\n",
              "      <td>05.01.2010</td>\n",
              "      <td>100</td>\n",
              "      <td>798.5</td>\n",
              "      <td>7.985</td>\n",
              "    </tr>\n",
              "  </tbody>\n",
              "</table>\n",
              "</div>"
            ],
            "text/plain": [
              "         date  amount  total_ex  exrate\n",
              "0  01.01.2010     100     798.5   7.985\n",
              "1  02.01.2010     100     798.5   7.985\n",
              "2  03.01.2010     100     798.5   7.985\n",
              "3  04.01.2010     100     798.5   7.985\n",
              "4  05.01.2010     100     798.5   7.985"
            ]
          },
          "metadata": {},
          "execution_count": 393
        }
      ]
    },
    {
      "cell_type": "code",
      "metadata": {
        "colab": {
          "base_uri": "https://localhost:8080/"
        },
        "id": "24LbTyhEqbnJ",
        "outputId": "92a42de4-f38f-4835-ae10-c7ccaa2f0218"
      },
      "source": [
        "data_usd['date'] = pd.to_datetime(data_usd['date'],\n",
        "                    format='%d.%m.%Y', errors='ignore')\n",
        "data_usd = data_usd.set_index('date')\n",
        "data_usd = data_usd['exrate']\n",
        "\n",
        "data_usd.head()"
      ],
      "execution_count": null,
      "outputs": [
        {
          "output_type": "execute_result",
          "data": {
            "text/plain": [
              "date\n",
              "2010-01-01    7.985\n",
              "2010-01-02    7.985\n",
              "2010-01-03    7.985\n",
              "2010-01-04    7.985\n",
              "2010-01-05    7.985\n",
              "Name: exrate, dtype: float64"
            ]
          },
          "metadata": {},
          "execution_count": 394
        }
      ]
    },
    {
      "cell_type": "code",
      "metadata": {
        "colab": {
          "base_uri": "https://localhost:8080/",
          "height": 264
        },
        "id": "rXfyChNYqgOj",
        "outputId": "8c239f41-5412-4196-a638-98163293f7d0"
      },
      "source": [
        "import matplotlib.pyplot as plt\n",
        "from pandas.plotting import register_matplotlib_converters\n",
        "register_matplotlib_converters()\n",
        "\n",
        "plt.plot(data_usd)\n",
        "plt.show()"
      ],
      "execution_count": null,
      "outputs": [
        {
          "output_type": "display_data",
          "data": {
            "image/png": "[encoded data removed]",
            "text/plain": [
              "<Figure size 432x288 with 1 Axes>"
            ]
          },
          "metadata": {
            "needs_background": "light"
          }
        }
      ]
    },
    {
      "cell_type": "code",
      "metadata": {
        "colab": {
          "base_uri": "https://localhost:8080/",
          "height": 237
        },
        "id": "Q6-hVThPqmXr",
        "outputId": "a7f57fdd-7172-4365-ae81-96259e9604d1"
      },
      "source": [
        "data_usd = data_usd.resample('M').mean()\n",
        "\n",
        "end_date = '2019-12-31'\n",
        "data_usd = data_usd[:end_date]\n",
        "\n",
        "data = data.assign(exrate = data_usd.values)\n",
        "\n",
        "start_date = '2012-01-01'\n",
        "data = data[start_date:]\n",
        "\n",
        "data.head()"
      ],
      "execution_count": null,
      "outputs": [
        {
          "output_type": "execute_result",
          "data": {
            "text/html": [
              "<div>\n",
              "<style scoped>\n",
              "    .dataframe tbody tr th:only-of-type {\n",
              "        vertical-align: middle;\n",
              "    }\n",
              "\n",
              "    .dataframe tbody tr th {\n",
              "        vertical-align: top;\n",
              "    }\n",
              "\n",
              "    .dataframe thead th {\n",
              "        text-align: right;\n",
              "    }\n",
              "</style>\n",
              "<table border=\"1\" class=\"dataframe\">\n",
              "  <thead>\n",
              "    <tr style=\"text-align: right;\">\n",
              "      <th></th>\n",
              "      <th>ppi</th>\n",
              "      <th>inflation</th>\n",
              "      <th>avg_sal_uah</th>\n",
              "      <th>ipi</th>\n",
              "      <th>fx_reserves</th>\n",
              "      <th>agro_ppi</th>\n",
              "      <th>gdp_pers_uah</th>\n",
              "      <th>gdp_pers_usd</th>\n",
              "      <th>unemployment</th>\n",
              "      <th>bop</th>\n",
              "      <th>rsi</th>\n",
              "      <th>fdi</th>\n",
              "      <th>gov_budg</th>\n",
              "      <th>int_trade</th>\n",
              "      <th>state_debt_uah</th>\n",
              "      <th>state_debt_usd</th>\n",
              "      <th>exrate</th>\n",
              "    </tr>\n",
              "    <tr>\n",
              "      <th>date</th>\n",
              "      <th></th>\n",
              "      <th></th>\n",
              "      <th></th>\n",
              "      <th></th>\n",
              "      <th></th>\n",
              "      <th></th>\n",
              "      <th></th>\n",
              "      <th></th>\n",
              "      <th></th>\n",
              "      <th></th>\n",
              "      <th></th>\n",
              "      <th></th>\n",
              "      <th></th>\n",
              "      <th></th>\n",
              "      <th></th>\n",
              "      <th></th>\n",
              "      <th></th>\n",
              "    </tr>\n",
              "  </thead>\n",
              "  <tbody>\n",
              "    <tr>\n",
              "      <th>2012-01-01</th>\n",
              "      <td>99.2</td>\n",
              "      <td>100.2</td>\n",
              "      <td>2722.0</td>\n",
              "      <td>86.2</td>\n",
              "      <td>31364.11</td>\n",
              "      <td>107.658197</td>\n",
              "      <td>28990.784153</td>\n",
              "      <td>3594.224044</td>\n",
              "      <td>8.557650</td>\n",
              "      <td>-1863.285714</td>\n",
              "      <td>89.5</td>\n",
              "      <td>1755.516484</td>\n",
              "      <td>1460.4</td>\n",
              "      <td>-6941.030055</td>\n",
              "      <td>474837.678026</td>\n",
              "      <td>59426.328684</td>\n",
              "      <td>7.989794</td>\n",
              "    </tr>\n",
              "    <tr>\n",
              "      <th>2012-02-01</th>\n",
              "      <td>100.8</td>\n",
              "      <td>100.2</td>\n",
              "      <td>2799.0</td>\n",
              "      <td>101.7</td>\n",
              "      <td>31048.64</td>\n",
              "      <td>103.516393</td>\n",
              "      <td>29168.568306</td>\n",
              "      <td>3618.448087</td>\n",
              "      <td>8.515301</td>\n",
              "      <td>-1194.571429</td>\n",
              "      <td>102.5</td>\n",
              "      <td>1888.032967</td>\n",
              "      <td>4697.5</td>\n",
              "      <td>-7134.060109</td>\n",
              "      <td>476553.736053</td>\n",
              "      <td>59636.957368</td>\n",
              "      <td>7.988448</td>\n",
              "    </tr>\n",
              "    <tr>\n",
              "      <th>2012-03-01</th>\n",
              "      <td>101.1</td>\n",
              "      <td>100.3</td>\n",
              "      <td>2923.0</td>\n",
              "      <td>110.1</td>\n",
              "      <td>31127.97</td>\n",
              "      <td>99.641803</td>\n",
              "      <td>29334.882514</td>\n",
              "      <td>3641.109290</td>\n",
              "      <td>8.475683</td>\n",
              "      <td>-569.000000</td>\n",
              "      <td>104.1</td>\n",
              "      <td>2012.000000</td>\n",
              "      <td>978.5</td>\n",
              "      <td>-7314.636612</td>\n",
              "      <td>478159.080658</td>\n",
              "      <td>59833.997105</td>\n",
              "      <td>7.986242</td>\n",
              "    </tr>\n",
              "    <tr>\n",
              "      <th>2012-04-01</th>\n",
              "      <td>103.7</td>\n",
              "      <td>100.0</td>\n",
              "      <td>2942.0</td>\n",
              "      <td>95.6</td>\n",
              "      <td>31660.56</td>\n",
              "      <td>95.500000</td>\n",
              "      <td>29512.666667</td>\n",
              "      <td>3665.333333</td>\n",
              "      <td>8.433333</td>\n",
              "      <td>-562.597826</td>\n",
              "      <td>100.5</td>\n",
              "      <td>1761.978261</td>\n",
              "      <td>-4519.6</td>\n",
              "      <td>-7507.666667</td>\n",
              "      <td>479875.138684</td>\n",
              "      <td>60044.625789</td>\n",
              "      <td>7.986720</td>\n",
              "    </tr>\n",
              "    <tr>\n",
              "      <th>2012-05-01</th>\n",
              "      <td>100.2</td>\n",
              "      <td>99.7</td>\n",
              "      <td>3015.0</td>\n",
              "      <td>102.0</td>\n",
              "      <td>30758.86</td>\n",
              "      <td>94.983607</td>\n",
              "      <td>29684.715847</td>\n",
              "      <td>3688.775956</td>\n",
              "      <td>8.392350</td>\n",
              "      <td>-556.402174</td>\n",
              "      <td>102.8</td>\n",
              "      <td>1520.021739</td>\n",
              "      <td>-3657.8</td>\n",
              "      <td>-7694.469945</td>\n",
              "      <td>481535.840000</td>\n",
              "      <td>60248.460000</td>\n",
              "      <td>7.990777</td>\n",
              "    </tr>\n",
              "  </tbody>\n",
              "</table>\n",
              "</div>"
            ],
            "text/plain": [
              "              ppi  inflation  ...  state_debt_usd    exrate\n",
              "date                          ...                          \n",
              "2012-01-01   99.2      100.2  ...    59426.328684  7.989794\n",
              "2012-02-01  100.8      100.2  ...    59636.957368  7.988448\n",
              "2012-03-01  101.1      100.3  ...    59833.997105  7.986242\n",
              "2012-04-01  103.7      100.0  ...    60044.625789  7.986720\n",
              "2012-05-01  100.2       99.7  ...    60248.460000  7.990777\n",
              "\n",
              "[5 rows x 17 columns]"
            ]
          },
          "metadata": {},
          "execution_count": 396
        }
      ]
    },
    {
      "cell_type": "code",
      "metadata": {
        "colab": {
          "base_uri": "https://localhost:8080/",
          "height": 205
        },
        "id": "7GDeihyzp9vV",
        "outputId": "277ca38a-eb12-47b6-f09f-d52cd2cab5a8"
      },
      "source": [
        "data_interbank = pd.read_excel('/content/gdrive/My Drive/exchange_rate_data/interbank.xlsx')\n",
        "\n",
        "data_interbank.head()"
      ],
      "execution_count": null,
      "outputs": [
        {
          "output_type": "execute_result",
          "data": {
            "text/html": [
              "<div>\n",
              "<style scoped>\n",
              "    .dataframe tbody tr th:only-of-type {\n",
              "        vertical-align: middle;\n",
              "    }\n",
              "\n",
              "    .dataframe tbody tr th {\n",
              "        vertical-align: top;\n",
              "    }\n",
              "\n",
              "    .dataframe thead th {\n",
              "        text-align: right;\n",
              "    }\n",
              "</style>\n",
              "<table border=\"1\" class=\"dataframe\">\n",
              "  <thead>\n",
              "    <tr style=\"text-align: right;\">\n",
              "      <th></th>\n",
              "      <th>date</th>\n",
              "      <th>total_amount_usd</th>\n",
              "      <th>part_of_usd</th>\n",
              "    </tr>\n",
              "  </thead>\n",
              "  <tbody>\n",
              "    <tr>\n",
              "      <th>0</th>\n",
              "      <td>04.01.2012  Ср</td>\n",
              "      <td>738,29</td>\n",
              "      <td>614,69</td>\n",
              "    </tr>\n",
              "    <tr>\n",
              "      <th>1</th>\n",
              "      <td>05.01.2012  Чт</td>\n",
              "      <td>750,70</td>\n",
              "      <td>645,63</td>\n",
              "    </tr>\n",
              "    <tr>\n",
              "      <th>2</th>\n",
              "      <td>06.01.2012  Пт</td>\n",
              "      <td>477,66</td>\n",
              "      <td>421,40</td>\n",
              "    </tr>\n",
              "    <tr>\n",
              "      <th>3</th>\n",
              "      <td>10.01.2012  Вт</td>\n",
              "      <td>722,50</td>\n",
              "      <td>637,21</td>\n",
              "    </tr>\n",
              "    <tr>\n",
              "      <th>4</th>\n",
              "      <td>11.01.2012  Ср</td>\n",
              "      <td>702,51</td>\n",
              "      <td>519,05</td>\n",
              "    </tr>\n",
              "  </tbody>\n",
              "</table>\n",
              "</div>"
            ],
            "text/plain": [
              "             date total_amount_usd part_of_usd\n",
              "0  04.01.2012  Ср           738,29      614,69\n",
              "1  05.01.2012  Чт           750,70      645,63\n",
              "2  06.01.2012  Пт           477,66      421,40\n",
              "3  10.01.2012  Вт           722,50      637,21\n",
              "4  11.01.2012  Ср           702,51      519,05"
            ]
          },
          "metadata": {},
          "execution_count": 397
        }
      ]
    },
    {
      "cell_type": "code",
      "metadata": {
        "colab": {
          "base_uri": "https://localhost:8080/"
        },
        "id": "h00Wmrfkq9Pb",
        "outputId": "b36e9169-9753-4152-ea03-ded90a5e2514"
      },
      "source": [
        "import re\n",
        " \n",
        "def regexp(reg):\n",
        "\n",
        "    res = re.findall(r'\\d{2}.\\d{2}.\\d{4}', reg)\n",
        "    return res[0]     \n",
        "\n",
        "data_interbank['date'] = data_interbank['date'].apply(regexp)\n",
        "\n",
        "data_interbank['date'].head()"
      ],
      "execution_count": null,
      "outputs": [
        {
          "output_type": "execute_result",
          "data": {
            "text/plain": [
              "0    04.01.2012\n",
              "1    05.01.2012\n",
              "2    06.01.2012\n",
              "3    10.01.2012\n",
              "4    11.01.2012\n",
              "Name: date, dtype: object"
            ]
          },
          "metadata": {},
          "execution_count": 398
        }
      ]
    },
    {
      "cell_type": "code",
      "metadata": {
        "colab": {
          "base_uri": "https://localhost:8080/"
        },
        "id": "eJ99BXsgrImy",
        "outputId": "9081d037-f47c-47f6-fdb6-8c2ba5dc9003"
      },
      "source": [
        "def replace(rep):\n",
        "\n",
        "    rep = rep.replace(',', '.') \n",
        "    return rep\n",
        "\n",
        "def to_float(fl):\n",
        "\n",
        "    fl = float(fl)\n",
        "    return fl\n",
        "\n",
        "data_interbank['total_amount_usd'] = data_interbank['total_amount_usd'].apply(replace)\n",
        "data_interbank['total_amount_usd'] = data_interbank['total_amount_usd'].apply(to_float)\n",
        "\n",
        "data_interbank['total_amount_usd'].head()"
      ],
      "execution_count": null,
      "outputs": [
        {
          "output_type": "execute_result",
          "data": {
            "text/plain": [
              "0    738.29\n",
              "1    750.70\n",
              "2    477.66\n",
              "3    722.50\n",
              "4    702.51\n",
              "Name: total_amount_usd, dtype: float64"
            ]
          },
          "metadata": {},
          "execution_count": 399
        }
      ]
    },
    {
      "cell_type": "code",
      "metadata": {
        "id": "aoZglmP4rNMn"
      },
      "source": [
        "data_interbank['date'] = pd.to_datetime(data_interbank['date'],\n",
        "                    format='%d.%m.%Y', errors='ignore')\n",
        "data_interbank = data_interbank.set_index('date')\n",
        "data_interbank = data_interbank['total_amount_usd']\n",
        "data_interbank = data_interbank.resample('M').sum()\n",
        "data_interbank = data_interbank[start_date:]\n",
        "\n",
        "data_interbank.head()\n",
        "\n",
        "data = data.assign(interbank = data_interbank.values)"
      ],
      "execution_count": null,
      "outputs": []
    },
    {
      "cell_type": "code",
      "metadata": {
        "colab": {
          "base_uri": "https://localhost:8080/",
          "height": 205
        },
        "id": "gtuoS14wrkmM",
        "outputId": "0a98a9a5-3ee8-450b-9252-f532aa21ccb8"
      },
      "source": [
        "from sklearn.preprocessing import MinMaxScaler\n",
        "\n",
        "scaler_X = MinMaxScaler(feature_range = (0, 1))\n",
        "\n",
        "X = data.drop(labels=['exrate'], axis=1)\n",
        "X = pd.DataFrame(scaler_X.fit_transform(X), columns = X.columns)\n",
        "\n",
        "X.head()"
      ],
      "execution_count": null,
      "outputs": [
        {
          "output_type": "execute_result",
          "data": {
            "text/html": [
              "<div>\n",
              "<style scoped>\n",
              "    .dataframe tbody tr th:only-of-type {\n",
              "        vertical-align: middle;\n",
              "    }\n",
              "\n",
              "    .dataframe tbody tr th {\n",
              "        vertical-align: top;\n",
              "    }\n",
              "\n",
              "    .dataframe thead th {\n",
              "        text-align: right;\n",
              "    }\n",
              "</style>\n",
              "<table border=\"1\" class=\"dataframe\">\n",
              "  <thead>\n",
              "    <tr style=\"text-align: right;\">\n",
              "      <th></th>\n",
              "      <th>ppi</th>\n",
              "      <th>inflation</th>\n",
              "      <th>avg_sal_uah</th>\n",
              "      <th>ipi</th>\n",
              "      <th>fx_reserves</th>\n",
              "      <th>agro_ppi</th>\n",
              "      <th>gdp_pers_uah</th>\n",
              "      <th>gdp_pers_usd</th>\n",
              "      <th>unemployment</th>\n",
              "      <th>bop</th>\n",
              "      <th>rsi</th>\n",
              "      <th>fdi</th>\n",
              "      <th>gov_budg</th>\n",
              "      <th>int_trade</th>\n",
              "      <th>state_debt_uah</th>\n",
              "      <th>state_debt_usd</th>\n",
              "      <th>interbank</th>\n",
              "    </tr>\n",
              "  </thead>\n",
              "  <tbody>\n",
              "    <tr>\n",
              "      <th>0</th>\n",
              "      <td>0.198582</td>\n",
              "      <td>0.098039</td>\n",
              "      <td>0.000000</td>\n",
              "      <td>0.156863</td>\n",
              "      <td>0.988614</td>\n",
              "      <td>0.627429</td>\n",
              "      <td>0.000000</td>\n",
              "      <td>0.737768</td>\n",
              "      <td>0.330224</td>\n",
              "      <td>0.557419</td>\n",
              "      <td>0.240209</td>\n",
              "      <td>0.895824</td>\n",
              "      <td>0.682381</td>\n",
              "      <td>0.152841</td>\n",
              "      <td>0.000000</td>\n",
              "      <td>0.000000</td>\n",
              "      <td>0.245944</td>\n",
              "    </tr>\n",
              "    <tr>\n",
              "      <th>1</th>\n",
              "      <td>0.312057</td>\n",
              "      <td>0.098039</td>\n",
              "      <td>0.008070</td>\n",
              "      <td>0.663399</td>\n",
              "      <td>0.976496</td>\n",
              "      <td>0.485099</td>\n",
              "      <td>0.002640</td>\n",
              "      <td>0.749849</td>\n",
              "      <td>0.315621</td>\n",
              "      <td>0.614794</td>\n",
              "      <td>0.579634</td>\n",
              "      <td>0.944868</td>\n",
              "      <td>0.710162</td>\n",
              "      <td>0.138697</td>\n",
              "      <td>0.001013</td>\n",
              "      <td>0.008446</td>\n",
              "      <td>0.269102</td>\n",
              "    </tr>\n",
              "    <tr>\n",
              "      <th>2</th>\n",
              "      <td>0.333333</td>\n",
              "      <td>0.104575</td>\n",
              "      <td>0.021065</td>\n",
              "      <td>0.937908</td>\n",
              "      <td>0.979544</td>\n",
              "      <td>0.351952</td>\n",
              "      <td>0.005109</td>\n",
              "      <td>0.761152</td>\n",
              "      <td>0.301960</td>\n",
              "      <td>0.668468</td>\n",
              "      <td>0.621410</td>\n",
              "      <td>0.990748</td>\n",
              "      <td>0.678246</td>\n",
              "      <td>0.125466</td>\n",
              "      <td>0.001961</td>\n",
              "      <td>0.016347</td>\n",
              "      <td>0.346751</td>\n",
              "    </tr>\n",
              "    <tr>\n",
              "      <th>3</th>\n",
              "      <td>0.517730</td>\n",
              "      <td>0.084967</td>\n",
              "      <td>0.023056</td>\n",
              "      <td>0.464052</td>\n",
              "      <td>1.000000</td>\n",
              "      <td>0.209622</td>\n",
              "      <td>0.007748</td>\n",
              "      <td>0.773234</td>\n",
              "      <td>0.287356</td>\n",
              "      <td>0.669018</td>\n",
              "      <td>0.527415</td>\n",
              "      <td>0.898215</td>\n",
              "      <td>0.631061</td>\n",
              "      <td>0.111323</td>\n",
              "      <td>0.002974</td>\n",
              "      <td>0.024793</td>\n",
              "      <td>0.309585</td>\n",
              "    </tr>\n",
              "    <tr>\n",
              "      <th>4</th>\n",
              "      <td>0.269504</td>\n",
              "      <td>0.065359</td>\n",
              "      <td>0.030706</td>\n",
              "      <td>0.673203</td>\n",
              "      <td>0.965366</td>\n",
              "      <td>0.191877</td>\n",
              "      <td>0.010303</td>\n",
              "      <td>0.784926</td>\n",
              "      <td>0.273224</td>\n",
              "      <td>0.669549</td>\n",
              "      <td>0.587467</td>\n",
              "      <td>0.808668</td>\n",
              "      <td>0.638457</td>\n",
              "      <td>0.097636</td>\n",
              "      <td>0.003955</td>\n",
              "      <td>0.032967</td>\n",
              "      <td>0.350432</td>\n",
              "    </tr>\n",
              "  </tbody>\n",
              "</table>\n",
              "</div>"
            ],
            "text/plain": [
              "        ppi  inflation  avg_sal_uah  ...  state_debt_uah  state_debt_usd  interbank\n",
              "0  0.198582   0.098039     0.000000  ...        0.000000        0.000000   0.245944\n",
              "1  0.312057   0.098039     0.008070  ...        0.001013        0.008446   0.269102\n",
              "2  0.333333   0.104575     0.021065  ...        0.001961        0.016347   0.346751\n",
              "3  0.517730   0.084967     0.023056  ...        0.002974        0.024793   0.309585\n",
              "4  0.269504   0.065359     0.030706  ...        0.003955        0.032967   0.350432\n",
              "\n",
              "[5 rows x 17 columns]"
            ]
          },
          "metadata": {},
          "execution_count": 401
        }
      ]
    },
    {
      "cell_type": "code",
      "metadata": {
        "colab": {
          "base_uri": "https://localhost:8080/",
          "height": 205
        },
        "id": "wgbavC59rl6G",
        "outputId": "e20d289f-1f59-49fc-d14b-1d09f9d4468f"
      },
      "source": [
        "scaler_y = MinMaxScaler(feature_range = (0, 1))\n",
        "\n",
        "y = np.array(data['exrate'])\n",
        "y = np.reshape(y, (len(y),-1))\n",
        "y = pd.DataFrame(scaler_y.fit_transform(y))\n",
        "\n",
        "y.head()"
      ],
      "execution_count": null,
      "outputs": [
        {
          "output_type": "execute_result",
          "data": {
            "text/html": [
              "<div>\n",
              "<style scoped>\n",
              "    .dataframe tbody tr th:only-of-type {\n",
              "        vertical-align: middle;\n",
              "    }\n",
              "\n",
              "    .dataframe tbody tr th {\n",
              "        vertical-align: top;\n",
              "    }\n",
              "\n",
              "    .dataframe thead th {\n",
              "        text-align: right;\n",
              "    }\n",
              "</style>\n",
              "<table border=\"1\" class=\"dataframe\">\n",
              "  <thead>\n",
              "    <tr style=\"text-align: right;\">\n",
              "      <th></th>\n",
              "      <th>0</th>\n",
              "    </tr>\n",
              "  </thead>\n",
              "  <tbody>\n",
              "    <tr>\n",
              "      <th>0</th>\n",
              "      <td>0.000174</td>\n",
              "    </tr>\n",
              "    <tr>\n",
              "      <th>1</th>\n",
              "      <td>0.000108</td>\n",
              "    </tr>\n",
              "    <tr>\n",
              "      <th>2</th>\n",
              "      <td>0.000000</td>\n",
              "    </tr>\n",
              "    <tr>\n",
              "      <th>3</th>\n",
              "      <td>0.000023</td>\n",
              "    </tr>\n",
              "    <tr>\n",
              "      <th>4</th>\n",
              "      <td>0.000222</td>\n",
              "    </tr>\n",
              "  </tbody>\n",
              "</table>\n",
              "</div>"
            ],
            "text/plain": [
              "          0\n",
              "0  0.000174\n",
              "1  0.000108\n",
              "2  0.000000\n",
              "3  0.000023\n",
              "4  0.000222"
            ]
          },
          "metadata": {},
          "execution_count": 402
        }
      ]
    },
    {
      "cell_type": "code",
      "metadata": {
        "colab": {
          "base_uri": "https://localhost:8080/",
          "height": 264
        },
        "id": "zL8I3vonrzhO",
        "outputId": "209f4cc6-100c-402e-efb4-efa434d899be"
      },
      "source": [
        "def raw_plot(data, column_name):\n",
        "\n",
        "    plt.plot(data.index, data[column_name], label=column_name)\n",
        "    plt.legend()\n",
        "    plt.show()    \n",
        "    \n",
        "raw_plot(X, 'ppi')"
      ],
      "execution_count": null,
      "outputs": [
        {
          "output_type": "display_data",
          "data": {
            "image/png": "[encoded data removed]",
            "text/plain": [
              "<Figure size 432x288 with 1 Axes>"
            ]
          },
          "metadata": {
            "needs_background": "light"
          }
        }
      ]
    },
    {
      "cell_type": "code",
      "metadata": {
        "colab": {
          "base_uri": "https://localhost:8080/"
        },
        "id": "CNQejbiOsFur",
        "outputId": "b25b4c6c-3bc1-48b0-9585-30cb78be7367"
      },
      "source": [
        "features = list(X.columns)\n",
        "print(features)"
      ],
      "execution_count": null,
      "outputs": [
        {
          "output_type": "stream",
          "name": "stdout",
          "text": [
            "['ppi', 'inflation', 'avg_sal_uah', 'ipi', 'fx_reserves', 'agro_ppi', 'gdp_pers_uah', 'gdp_pers_usd', 'unemployment', 'bop', 'rsi', 'fdi', 'gov_budg', 'int_trade', 'state_debt_uah', 'state_debt_usd', 'interbank']\n"
          ]
        }
      ]
    },
    {
      "cell_type": "code",
      "metadata": {
        "id": "tTmwGl18sB2A"
      },
      "source": [
        "def fix_outliers(column):\n",
        "    \n",
        "    learning_rate = 0.35\n",
        "    \n",
        "    q1 = X[column].quantile(0.25)\n",
        "    q3 = X[column].quantile(0.75)\n",
        "    iqr = q3-q1\n",
        "    fence_low  = q1-1.5*iqr\n",
        "    fence_high = q3+1.5*iqr\n",
        "    \n",
        "    X[column].loc[(X[column] >= fence_high)] = X[column].quantile(1-learning_rate)\n",
        "    X[column].loc[(X[column] <= fence_low)] = X[column].quantile(learning_rate)\n",
        "        \n",
        "for col in features:\n",
        "    fix_outliers(col) "
      ],
      "execution_count": null,
      "outputs": []
    },
    {
      "cell_type": "code",
      "metadata": {
        "id": "r5q--c4lsTjw"
      },
      "source": [
        "def fix_outliers(column):\n",
        "    \n",
        "    learning_rate = 0.35\n",
        "    \n",
        "    q1 = X[column].quantile(0.25)\n",
        "    q3 = X[column].quantile(0.75)\n",
        "    iqr = q3-q1\n",
        "    fence_low  = q1-1.5*iqr\n",
        "    fence_high = q3+1.5*iqr\n",
        "    \n",
        "    X[column].loc[(X[column] >= fence_high)] = X[column].quantile(1-learning_rate)\n",
        "    X[column].loc[(X[column] <= fence_low)] = X[column].quantile(learning_rate)\n",
        "        \n",
        "for col in features:\n",
        "    fix_outliers(col)  "
      ],
      "execution_count": null,
      "outputs": []
    },
    {
      "cell_type": "code",
      "metadata": {
        "colab": {
          "base_uri": "https://localhost:8080/",
          "height": 264
        },
        "id": "3_5hCHrGsZab",
        "outputId": "72917013-3249-4e8a-dfdf-5431f295ebe2"
      },
      "source": [
        "raw_plot(X, 'ppi')"
      ],
      "execution_count": null,
      "outputs": [
        {
          "output_type": "display_data",
          "data": {
            "image/png": "[encoded data removed]",
            "text/plain": [
              "<Figure size 432x288 with 1 Axes>"
            ]
          },
          "metadata": {
            "needs_background": "light"
          }
        }
      ]
    },
    {
      "cell_type": "code",
      "metadata": {
        "colab": {
          "base_uri": "https://localhost:8080/"
        },
        "id": "OOIfAjmfsgLp",
        "outputId": "138694ad-0161-42a0-f324-8b377fc1d04f"
      },
      "source": [
        "def feature_lag(features):\n",
        "\n",
        "    for feature in features:\n",
        "        X[feature + '-lag1'] = X[feature].shift(1)\n",
        "        X[feature + '-lag2'] = X[feature].shift(2)\n",
        "        X[feature + '-lag3'] = X[feature].shift(3)\n",
        "        X[feature + '-lag6'] = X[feature].shift(6)\n",
        "        X[feature + '-lag12'] = X[feature].shift(12)\n",
        "    \n",
        "feature_lag(features)  \n",
        "X.drop(features, axis=1, inplace=True)\n",
        "\n",
        "print(X.columns)"
      ],
      "execution_count": null,
      "outputs": [
        {
          "output_type": "stream",
          "name": "stdout",
          "text": [
            "Index(['ppi-lag1', 'ppi-lag2', 'ppi-lag3', 'ppi-lag6', 'ppi-lag12',\n",
            "       'inflation-lag1', 'inflation-lag2', 'inflation-lag3', 'inflation-lag6',\n",
            "       'inflation-lag12', 'avg_sal_uah-lag1', 'avg_sal_uah-lag2',\n",
            "       'avg_sal_uah-lag3', 'avg_sal_uah-lag6', 'avg_sal_uah-lag12', 'ipi-lag1',\n",
            "       'ipi-lag2', 'ipi-lag3', 'ipi-lag6', 'ipi-lag12', 'fx_reserves-lag1',\n",
            "       'fx_reserves-lag2', 'fx_reserves-lag3', 'fx_reserves-lag6',\n",
            "       'fx_reserves-lag12', 'agro_ppi-lag1', 'agro_ppi-lag2', 'agro_ppi-lag3',\n",
            "       'agro_ppi-lag6', 'agro_ppi-lag12', 'gdp_pers_uah-lag1',\n",
            "       'gdp_pers_uah-lag2', 'gdp_pers_uah-lag3', 'gdp_pers_uah-lag6',\n",
            "       'gdp_pers_uah-lag12', 'gdp_pers_usd-lag1', 'gdp_pers_usd-lag2',\n",
            "       'gdp_pers_usd-lag3', 'gdp_pers_usd-lag6', 'gdp_pers_usd-lag12',\n",
            "       'unemployment-lag1', 'unemployment-lag2', 'unemployment-lag3',\n",
            "       'unemployment-lag6', 'unemployment-lag12', 'bop-lag1', 'bop-lag2',\n",
            "       'bop-lag3', 'bop-lag6', 'bop-lag12', 'rsi-lag1', 'rsi-lag2', 'rsi-lag3',\n",
            "       'rsi-lag6', 'rsi-lag12', 'fdi-lag1', 'fdi-lag2', 'fdi-lag3', 'fdi-lag6',\n",
            "       'fdi-lag12', 'gov_budg-lag1', 'gov_budg-lag2', 'gov_budg-lag3',\n",
            "       'gov_budg-lag6', 'gov_budg-lag12', 'int_trade-lag1', 'int_trade-lag2',\n",
            "       'int_trade-lag3', 'int_trade-lag6', 'int_trade-lag12',\n",
            "       'state_debt_uah-lag1', 'state_debt_uah-lag2', 'state_debt_uah-lag3',\n",
            "       'state_debt_uah-lag6', 'state_debt_uah-lag12', 'state_debt_usd-lag1',\n",
            "       'state_debt_usd-lag2', 'state_debt_usd-lag3', 'state_debt_usd-lag6',\n",
            "       'state_debt_usd-lag12', 'interbank-lag1', 'interbank-lag2',\n",
            "       'interbank-lag3', 'interbank-lag6', 'interbank-lag12'],\n",
            "      dtype='object')\n"
          ]
        }
      ]
    },
    {
      "cell_type": "code",
      "metadata": {
        "id": "4V4FuEN0sr_A"
      },
      "source": [
        "X.head()\n",
        "\n",
        "real_X_size = len(X)\n",
        "X = X.dropna()\n",
        "dropna_X_size = len(X)\n",
        "y = y[real_X_size-dropna_X_size:]"
      ],
      "execution_count": null,
      "outputs": []
    },
    {
      "cell_type": "code",
      "metadata": {
        "colab": {
          "base_uri": "https://localhost:8080/",
          "height": 234
        },
        "id": "KNsbK0r-sw0o",
        "outputId": "2e072275-333f-429b-90f7-df38d9414c0e"
      },
      "source": [
        "train_size = 0.78\n",
        "separator = round(len(X.index)*train_size)\n",
        "\n",
        "X_train, y_train = X.iloc[0:separator], y.iloc[0:separator]\n",
        "y_test, y_test = X.iloc[separator:], y.iloc[separator:]"
      ],
      "execution_count": null,
      "outputs": [
        {
          "output_type": "error",
          "ename": "TypeError",
          "evalue": "ignored",
          "traceback": [
            "\u001b[0;31m---------------------------------------------------------------------------\u001b[0m",
            "\u001b[0;31mTypeError\u001b[0m                                 Traceback (most recent call last)",
            "\u001b[0;32m<ipython-input-411-78abfe829ab6>\u001b[0m in \u001b[0;36m<module>\u001b[0;34m()\u001b[0m\n\u001b[1;32m      1\u001b[0m \u001b[0mtrain_size\u001b[0m \u001b[0;34m=\u001b[0m \u001b[0;36m0.78\u001b[0m\u001b[0;34m\u001b[0m\u001b[0;34m\u001b[0m\u001b[0m\n\u001b[0;32m----> 2\u001b[0;31m \u001b[0mseparator\u001b[0m \u001b[0;34m=\u001b[0m \u001b[0mround\u001b[0m\u001b[0;34m(\u001b[0m\u001b[0mlen\u001b[0m\u001b[0;34m(\u001b[0m\u001b[0mX\u001b[0m\u001b[0;34m.\u001b[0m\u001b[0mindex\u001b[0m\u001b[0;34m)\u001b[0m\u001b[0;34m*\u001b[0m\u001b[0mtrain_size\u001b[0m\u001b[0;34m)\u001b[0m\u001b[0;34m\u001b[0m\u001b[0;34m\u001b[0m\u001b[0m\n\u001b[0m\u001b[1;32m      3\u001b[0m \u001b[0;34m\u001b[0m\u001b[0m\n\u001b[1;32m      4\u001b[0m \u001b[0mX_train\u001b[0m\u001b[0;34m,\u001b[0m \u001b[0my_train\u001b[0m \u001b[0;34m=\u001b[0m \u001b[0mX\u001b[0m\u001b[0;34m.\u001b[0m\u001b[0miloc\u001b[0m\u001b[0;34m[\u001b[0m\u001b[0;36m0\u001b[0m\u001b[0;34m:\u001b[0m\u001b[0mseparator\u001b[0m\u001b[0;34m]\u001b[0m\u001b[0;34m,\u001b[0m \u001b[0my\u001b[0m\u001b[0;34m.\u001b[0m\u001b[0miloc\u001b[0m\u001b[0;34m[\u001b[0m\u001b[0;36m0\u001b[0m\u001b[0;34m:\u001b[0m\u001b[0mseparator\u001b[0m\u001b[0;34m]\u001b[0m\u001b[0;34m\u001b[0m\u001b[0;34m\u001b[0m\u001b[0m\n\u001b[1;32m      5\u001b[0m \u001b[0my_test\u001b[0m\u001b[0;34m,\u001b[0m \u001b[0my_test\u001b[0m \u001b[0;34m=\u001b[0m \u001b[0mX\u001b[0m\u001b[0;34m.\u001b[0m\u001b[0miloc\u001b[0m\u001b[0;34m[\u001b[0m\u001b[0mseparator\u001b[0m\u001b[0;34m:\u001b[0m\u001b[0;34m]\u001b[0m\u001b[0;34m,\u001b[0m \u001b[0my\u001b[0m\u001b[0;34m.\u001b[0m\u001b[0miloc\u001b[0m\u001b[0;34m[\u001b[0m\u001b[0mseparator\u001b[0m\u001b[0;34m:\u001b[0m\u001b[0;34m]\u001b[0m\u001b[0;34m\u001b[0m\u001b[0;34m\u001b[0m\u001b[0m\n",
            "\u001b[0;31mTypeError\u001b[0m: object of type 'builtin_function_or_method' has no len()"
          ]
        }
      ]
    },
    {
      "cell_type": "code",
      "metadata": {
        "colab": {
          "base_uri": "https://localhost:8080/",
          "height": 130
        },
        "id": "lNDHikyftESa",
        "outputId": "389b97be-bf24-4718-a7be-f9617573b03a"
      },
      "source": [
        "from keras.wrappers.scikit_learn import KerasRegressor\n",
        "from keras.models import Sequential\n",
        "from keras.layers import Dense, Dropout\n",
        "from keras.optimizers import Adam\n",
        "\n",
        "model = Sequential  ([\n",
        "  Dense(128, activation='relu', input_shape=[len(X.columns)]),\n",
        "  Dropout(0.3),\n",
        "  Dense(1, activation='sigmoid')\n",
        "  optimizer=Adam(lr=0.01)\n",
        "model.compile(optimizer=optimizer, loss='mean_squared_error',\n",
        "                  metrics=['accuracy'])"
      ],
      "execution_count": null,
      "outputs": [
        {
          "output_type": "error",
          "ename": "SyntaxError",
          "evalue": "ignored",
          "traceback": [
            "\u001b[0;36m  File \u001b[0;32m\"<ipython-input-41-40c51e3dadd0>\"\u001b[0;36m, line \u001b[0;32m10\u001b[0m\n\u001b[0;31m    optimizer = Adam(lr=0.01)\u001b[0m\n\u001b[0m            ^\u001b[0m\n\u001b[0;31mSyntaxError\u001b[0m\u001b[0;31m:\u001b[0m invalid syntax\n"
          ]
        }
      ]
    },
    {
      "cell_type": "code",
      "metadata": {
        "id": "rbIsPojuvIao"
      },
      "source": [
        "from keras.constraints import maxnorm\n",
        "\n",
        "model1=Sequential()\n",
        "dense1_1=Dense(6, activation='relu', input_shape=[len(X.columns)],)\n",
        "model1.add(dense1_1)\n",
        "dense1_2=Dense(3, activation='relu')\n",
        "model1.add(dense1_2)\n",
        "model1.add(Dense(1, activation='sigmoid'))\n",
        "model1.compile(loss='mean_squared_error',  optimizer='adam',metrics = ['mse', 'mae'])"
      ],
      "execution_count": null,
      "outputs": []
    },
    {
      "cell_type": "code",
      "metadata": {
        "id": "2Cs-eQzFxlIj"
      },
      "source": [
        "from keras.constraints import maxnorm\n",
        "\n",
        "model2=Sequential()\n",
        "dense1_1=Dense(6, activation='relu', input_shape=[len(X.columns)],)\n",
        "model2.add(dense1_1)\n",
        "dense1_2=Dense(3)\n",
        "model2.add(dense1_2)\n",
        "model2.add(Dense(1, activation='sigmoid'))\n",
        "model2.compile(loss='mean_squared_error',  optimizer='adam',metrics = ['mse', 'mae'])"
      ],
      "execution_count": null,
      "outputs": []
    },
    {
      "cell_type": "code",
      "metadata": {
        "id": "YJ1j3AfYyAD3"
      },
      "source": [
        "# create weights with the right shape, e.g.\n",
        "random_weights = [np.random.rand(*w.shape) for w in model1.get_weights()]\n",
        "\n",
        "# update\n",
        "model1.set_weights(random_weights)\n",
        "model2.set_weights(random_weights)"
      ],
      "execution_count": null,
      "outputs": []
    },
    {
      "cell_type": "code",
      "metadata": {
        "colab": {
          "base_uri": "https://localhost:8080/"
        },
        "id": "Yl0SiPrsyCJA",
        "outputId": "1efeb056-6bb0-4b60-9cc1-eb42ee918f28"
      },
      "source": [
        "weights1 = []\n",
        "initial_biases1 = []\n",
        "for i in range(len(model1.layers)):\n",
        "    weights1.append(model1.layers[i].get_weights()[0])\n",
        "    initial_biases1.append(model1.layers[i].get_weights()[1])\n",
        "print(initial_biases1)"
      ],
      "execution_count": null,
      "outputs": [
        {
          "output_type": "stream",
          "name": "stdout",
          "text": [
            "[array([6.0965365e-01, 1.0394490e-01, 7.6952219e-02, 9.9799812e-01,\n",
            "       7.4015908e-02, 9.0807110e-02, 4.3399921e-01, 3.6010107e-01,\n",
            "       3.7132941e-02, 8.8849777e-01, 7.5979108e-01, 2.9983386e-01,\n",
            "       7.1077353e-01, 9.8124760e-01, 1.6136770e-01, 5.8259070e-01,\n",
            "       4.2979202e-01, 6.5686637e-01, 1.8258224e-01, 1.3565141e-02,\n",
            "       1.5226170e-01, 1.9069375e-01, 5.7493758e-01, 6.9755864e-01,\n",
            "       7.5077897e-01, 1.7947547e-01, 1.7072219e-01, 2.5540486e-01,\n",
            "       7.4781859e-01, 5.7130641e-01, 6.6678089e-01, 6.5313321e-01,\n",
            "       2.0841879e-01, 7.2327459e-01, 7.3658830e-01, 9.3234605e-01,\n",
            "       2.6249827e-03, 3.6820775e-01, 3.7341249e-01, 1.7968925e-02,\n",
            "       6.6452193e-01, 8.8455290e-01, 5.4469711e-01, 3.4365001e-01,\n",
            "       7.9850781e-01, 6.2301439e-01, 5.8901376e-01, 9.7824299e-01,\n",
            "       6.6565633e-01, 7.6299119e-01, 3.1923056e-02, 9.7376895e-01,\n",
            "       8.1795788e-01, 4.4467172e-01, 8.5913050e-01, 6.2001330e-01,\n",
            "       7.6073438e-01, 8.2217883e-03, 5.6886017e-01, 3.3346078e-04],\n",
            "      dtype=float32), array([6.5005654e-01, 3.7842149e-01, 7.0754665e-01, 9.9986571e-01,\n",
            "       8.6544737e-02, 4.0586215e-01, 8.0147254e-01, 5.2676153e-01,\n",
            "       5.2648050e-01, 5.5405706e-01, 3.3702403e-01, 9.5659083e-01,\n",
            "       2.9684170e-04, 1.9773990e-01, 8.5794163e-01, 8.1345761e-01,\n",
            "       2.4325901e-01, 2.4237555e-01, 3.3184010e-01, 7.7399379e-01,\n",
            "       7.4585342e-01, 2.9732883e-01, 5.3874288e-02, 2.5731759e-02,\n",
            "       5.4307568e-01, 6.9545346e-01, 7.7694990e-02, 3.7553504e-01,\n",
            "       7.5223607e-01, 3.6417240e-01], dtype=float32), array([0.6961956], dtype=float32)]\n"
          ]
        }
      ]
    },
    {
      "cell_type": "code",
      "metadata": {
        "colab": {
          "base_uri": "https://localhost:8080/"
        },
        "id": "_6Cig6tXyOWx",
        "outputId": "80e01d66-9332-437c-f679-79d75e386a4e"
      },
      "source": [
        "weights2 = []\n",
        "initial_biases2 = []\n",
        "for i in range(len(model2.layers)):\n",
        "    weights2.append(model2.layers[i].get_weights()[0])\n",
        "    initial_biases2.append(model2.layers[i].get_weights()[1])\n",
        "#print(weights2)\n",
        "print(initial_biases2)"
      ],
      "execution_count": null,
      "outputs": [
        {
          "output_type": "stream",
          "name": "stdout",
          "text": [
            "[array([6.0965365e-01, 1.0394490e-01, 7.6952219e-02, 9.9799812e-01,\n",
            "       7.4015908e-02, 9.0807110e-02, 4.3399921e-01, 3.6010107e-01,\n",
            "       3.7132941e-02, 8.8849777e-01, 7.5979108e-01, 2.9983386e-01,\n",
            "       7.1077353e-01, 9.8124760e-01, 1.6136770e-01, 5.8259070e-01,\n",
            "       4.2979202e-01, 6.5686637e-01, 1.8258224e-01, 1.3565141e-02,\n",
            "       1.5226170e-01, 1.9069375e-01, 5.7493758e-01, 6.9755864e-01,\n",
            "       7.5077897e-01, 1.7947547e-01, 1.7072219e-01, 2.5540486e-01,\n",
            "       7.4781859e-01, 5.7130641e-01, 6.6678089e-01, 6.5313321e-01,\n",
            "       2.0841879e-01, 7.2327459e-01, 7.3658830e-01, 9.3234605e-01,\n",
            "       2.6249827e-03, 3.6820775e-01, 3.7341249e-01, 1.7968925e-02,\n",
            "       6.6452193e-01, 8.8455290e-01, 5.4469711e-01, 3.4365001e-01,\n",
            "       7.9850781e-01, 6.2301439e-01, 5.8901376e-01, 9.7824299e-01,\n",
            "       6.6565633e-01, 7.6299119e-01, 3.1923056e-02, 9.7376895e-01,\n",
            "       8.1795788e-01, 4.4467172e-01, 8.5913050e-01, 6.2001330e-01,\n",
            "       7.6073438e-01, 8.2217883e-03, 5.6886017e-01, 3.3346078e-04],\n",
            "      dtype=float32), array([6.5005654e-01, 3.7842149e-01, 7.0754665e-01, 9.9986571e-01,\n",
            "       8.6544737e-02, 4.0586215e-01, 8.0147254e-01, 5.2676153e-01,\n",
            "       5.2648050e-01, 5.5405706e-01, 3.3702403e-01, 9.5659083e-01,\n",
            "       2.9684170e-04, 1.9773990e-01, 8.5794163e-01, 8.1345761e-01,\n",
            "       2.4325901e-01, 2.4237555e-01, 3.3184010e-01, 7.7399379e-01,\n",
            "       7.4585342e-01, 2.9732883e-01, 5.3874288e-02, 2.5731759e-02,\n",
            "       5.4307568e-01, 6.9545346e-01, 7.7694990e-02, 3.7553504e-01,\n",
            "       7.5223607e-01, 3.6417240e-01], dtype=float32), array([0.6961956], dtype=float32)]\n"
          ]
        }
      ]
    },
    {
      "cell_type": "code",
      "metadata": {
        "colab": {
          "base_uri": "https://localhost:8080/"
        },
        "id": "Zueg-2BYvp8w",
        "outputId": "b47ec18a-5a21-4f69-9144-9f94eb18ca2b"
      },
      "source": [
        "history = model1.fit(X_train, y_train)"
      ],
      "execution_count": null,
      "outputs": [
        {
          "output_type": "stream",
          "name": "stdout",
          "text": [
            "WARNING:tensorflow:5 out of the last 313 calls to <function Model.make_train_function.<locals>.train_function at 0x7fe1833d19e0> triggered tf.function retracing. Tracing is expensive and the excessive number of tracings could be due to (1) creating @tf.function repeatedly in a loop, (2) passing tensors with different shapes, (3) passing Python objects instead of tensors. For (1), please define your @tf.function outside of the loop. For (2), @tf.function has experimental_relax_shapes=True option that relaxes argument shapes that can avoid unnecessary retracing. For (3), please refer to https://www.tensorflow.org/guide/function#controlling_retracing and https://www.tensorflow.org/api_docs/python/tf/function for  more details.\n",
            "3/3 [==============================] - 0s 4ms/step - loss: 0.3156 - mse: 0.3156 - mae: 0.4210\n"
          ]
        }
      ]
    },
    {
      "cell_type": "code",
      "metadata": {
        "colab": {
          "base_uri": "https://localhost:8080/"
        },
        "id": "IDKyY7H5yrUx",
        "outputId": "7e2a0231-b650-4d6e-e8c9-4c30c4b78778"
      },
      "source": [
        "y_pred_test1=model1.predict(X_test)\n",
        "print(mean_squared_error(y_test, y_pred_test1))\n",
        "print(y_test)"
      ],
      "execution_count": null,
      "outputs": [
        {
          "output_type": "stream",
          "name": "stdout",
          "text": [
            "0.010986642022332103\n",
            "           0\n",
            "78  0.917251\n",
            "79  0.969797\n",
            "80  1.004473\n",
            "81  1.001349\n",
            "82  0.991867\n",
            "83  0.984807\n",
            "84  0.989211\n",
            "85  0.954073\n",
            "86  0.939541\n",
            "87  0.936996\n",
            "88  0.915838\n",
            "89  0.921768\n",
            "90  0.885151\n",
            "91  0.860485\n",
            "92  0.837145\n",
            "93  0.839027\n",
            "94  0.817475\n",
            "95  0.780402\n"
          ]
        }
      ]
    },
    {
      "cell_type": "code",
      "metadata": {
        "colab": {
          "base_uri": "https://localhost:8080/"
        },
        "id": "wxct0nkgzl0X",
        "outputId": "6bb62b14-86f4-4992-d492-75e940540045"
      },
      "source": [
        "y_train = y_train  + 0.01\n",
        "y_test = y_test + 0.01\n",
        "print(y_test)"
      ],
      "execution_count": null,
      "outputs": [
        {
          "output_type": "stream",
          "name": "stdout",
          "text": [
            "           0\n",
            "78  0.927251\n",
            "79  0.979797\n",
            "80  1.014473\n",
            "81  1.011349\n",
            "82  1.001867\n",
            "83  0.994807\n",
            "84  0.999211\n",
            "85  0.964073\n",
            "86  0.949541\n",
            "87  0.946996\n",
            "88  0.925838\n",
            "89  0.931768\n",
            "90  0.895151\n",
            "91  0.870485\n",
            "92  0.847145\n",
            "93  0.849027\n",
            "94  0.827475\n",
            "95  0.790402\n"
          ]
        }
      ]
    },
    {
      "cell_type": "code",
      "metadata": {
        "colab": {
          "base_uri": "https://localhost:8080/"
        },
        "id": "n4cR90_EzAXG",
        "outputId": "9e990473-4b1c-4707-ae1d-083bb6476b79"
      },
      "source": [
        "history = model2.fit(X_train, y_train)"
      ],
      "execution_count": null,
      "outputs": [
        {
          "output_type": "stream",
          "name": "stdout",
          "text": [
            "WARNING:tensorflow:5 out of the last 13 calls to <function Model.make_train_function.<locals>.train_function at 0x7fe17b787830> triggered tf.function retracing. Tracing is expensive and the excessive number of tracings could be due to (1) creating @tf.function repeatedly in a loop, (2) passing tensors with different shapes, (3) passing Python objects instead of tensors. For (1), please define your @tf.function outside of the loop. For (2), @tf.function has experimental_relax_shapes=True option that relaxes argument shapes that can avoid unnecessary retracing. For (3), please refer to https://www.tensorflow.org/guide/function#controlling_retracing and https://www.tensorflow.org/api_docs/python/tf/function for  more details.\n",
            "3/3 [==============================] - 0s 4ms/step - loss: 0.3073 - mse: 0.3073 - mae: 0.4113\n"
          ]
        }
      ]
    },
    {
      "cell_type": "code",
      "metadata": {
        "colab": {
          "base_uri": "https://localhost:8080/"
        },
        "id": "JCYqv0rGz_xL",
        "outputId": "4a1345b1-778b-48e1-a75e-7709deb313fe"
      },
      "source": [
        "first_model_weights = []\n",
        "second_model_weights = []\n",
        "for i in range(len(model1.layers)):\n",
        "  first_model_weights.append(model1.layers[i].get_weights()[0])\n",
        "print(\"First model weights after training\")\n",
        "print(first_model_weights)\n",
        "for i in range(len(model2.layers)):\n",
        "  second_model_weights.append(model2.layers[i].get_weights()[0])\n",
        "print(\"Second model weights after training\")\n",
        "print(second_model_weights)\n",
        "deviation = get_delta(model1, model2)\n",
        "print(\"Deviation\")\n",
        "print(deviation)\n",
        "max_elements = []\n",
        "min_elements = []\n",
        "for i in range(len(model1.layers)):\n",
        "  max_elements.append(np.max(np.asarray(deviation[i])))\n",
        "  min_elements.append(np.min(np.asarray(deviation[i])))\n",
        "max_element = np.max(np.asarray(max_elements))\n",
        "min_element = np.min(np.asarray(min_elements))\n",
        "print(\"Max_element\")\n",
        "print(max_element)\n",
        "print(\"Min_element\")\n",
        "print(min_element)\n",
        "print(\"Max_delta-Min_delta\")\n",
        "print(max_element - min_element)"
      ],
      "execution_count": null,
      "outputs": [
        {
          "output_type": "stream",
          "name": "stdout",
          "text": [
            "First model weights after training\n",
            "[array([[0.7624396 , 0.9816906 , 0.6878819 , ..., 0.2784413 , 0.1584475 ,\n",
            "        0.25202352],\n",
            "       [0.4610319 , 0.21736513, 0.15846889, ..., 0.7556312 , 0.0501719 ,\n",
            "        0.6442941 ],\n",
            "       [0.8914304 , 0.47636452, 0.7672799 , ..., 0.2723093 , 0.9993125 ,\n",
            "        0.3870441 ],\n",
            "       ...,\n",
            "       [0.27072206, 0.3328898 , 0.45802987, ..., 0.38076442, 0.13664708,\n",
            "        0.42234197],\n",
            "       [0.22179663, 0.5414077 , 0.21274577, ..., 0.8143608 , 0.1576019 ,\n",
            "        0.00339233],\n",
            "       [0.75442874, 0.01684603, 0.3918309 , ..., 0.67703605, 0.68281156,\n",
            "        0.88266736]], dtype=float32), array([[0.9104596 , 0.81286055, 0.30643326, ..., 0.9747042 , 0.5686588 ,\n",
            "        0.7986302 ],\n",
            "       [0.7019118 , 0.3683624 , 0.4890442 , ..., 0.5905216 , 0.80019456,\n",
            "        0.8931424 ],\n",
            "       [0.74593174, 0.9458238 , 0.6622653 , ..., 0.9034898 , 0.5381181 ,\n",
            "        0.79737157],\n",
            "       ...,\n",
            "       [0.15695173, 0.09305193, 0.5071488 , ..., 0.26157308, 0.8739284 ,\n",
            "        0.07865161],\n",
            "       [0.19048026, 0.2466927 , 0.571956  , ..., 0.18351854, 0.44949555,\n",
            "        0.3136901 ],\n",
            "       [0.9955973 , 0.5150036 , 0.91103643, ..., 0.00935627, 0.2448146 ,\n",
            "        0.59360576]], dtype=float32), array([[0.15924203],\n",
            "       [0.8594636 ],\n",
            "       [0.521604  ],\n",
            "       [0.53594047],\n",
            "       [0.3862553 ],\n",
            "       [0.31902197],\n",
            "       [0.6461195 ],\n",
            "       [0.9883475 ],\n",
            "       [0.16039611],\n",
            "       [0.6730404 ],\n",
            "       [0.14858246],\n",
            "       [0.6940883 ],\n",
            "       [0.60922664],\n",
            "       [0.8110373 ],\n",
            "       [0.36839035],\n",
            "       [0.19283262],\n",
            "       [0.9093903 ],\n",
            "       [0.45818138],\n",
            "       [0.27953997],\n",
            "       [0.47501808],\n",
            "       [0.46278033],\n",
            "       [0.3250287 ],\n",
            "       [0.4901245 ],\n",
            "       [0.4274308 ],\n",
            "       [0.21626318],\n",
            "       [0.9332418 ],\n",
            "       [0.7435283 ],\n",
            "       [0.9713351 ],\n",
            "       [0.24771607],\n",
            "       [0.87085235]], dtype=float32)]\n",
            "Second model weights after training\n",
            "[array([[0.7624396 , 0.9816906 , 0.6878819 , ..., 0.2784413 , 0.1584475 ,\n",
            "        0.25202352],\n",
            "       [0.4610319 , 0.21736513, 0.15846889, ..., 0.7556312 , 0.0501719 ,\n",
            "        0.6442941 ],\n",
            "       [0.8914304 , 0.47636452, 0.7672799 , ..., 0.2723093 , 0.9993125 ,\n",
            "        0.3870441 ],\n",
            "       ...,\n",
            "       [0.27072206, 0.3328898 , 0.45802987, ..., 0.38076442, 0.13664708,\n",
            "        0.42234197],\n",
            "       [0.22179663, 0.5414077 , 0.21274577, ..., 0.8143608 , 0.1576019 ,\n",
            "        0.00339233],\n",
            "       [0.75442874, 0.01684603, 0.3918309 , ..., 0.67703605, 0.68281156,\n",
            "        0.88266736]], dtype=float32), array([[0.9104596 , 0.81286055, 0.30643326, ..., 0.9747042 , 0.5686588 ,\n",
            "        0.7986302 ],\n",
            "       [0.7019118 , 0.3683624 , 0.4890442 , ..., 0.5905216 , 0.80019456,\n",
            "        0.8931424 ],\n",
            "       [0.74593174, 0.9458238 , 0.6622653 , ..., 0.9034898 , 0.5381181 ,\n",
            "        0.79737157],\n",
            "       ...,\n",
            "       [0.15695173, 0.09305193, 0.5071488 , ..., 0.26157308, 0.8739284 ,\n",
            "        0.07865161],\n",
            "       [0.19048026, 0.2466927 , 0.571956  , ..., 0.18351854, 0.44949555,\n",
            "        0.3136901 ],\n",
            "       [0.9955973 , 0.5150036 , 0.91103643, ..., 0.00935627, 0.2448146 ,\n",
            "        0.59360576]], dtype=float32), array([[0.15924203],\n",
            "       [0.8594636 ],\n",
            "       [0.521604  ],\n",
            "       [0.53594047],\n",
            "       [0.3862553 ],\n",
            "       [0.31902197],\n",
            "       [0.6461195 ],\n",
            "       [0.9883475 ],\n",
            "       [0.16039611],\n",
            "       [0.6730404 ],\n",
            "       [0.14858246],\n",
            "       [0.6940883 ],\n",
            "       [0.60922664],\n",
            "       [0.8110373 ],\n",
            "       [0.36839035],\n",
            "       [0.19283262],\n",
            "       [0.9093903 ],\n",
            "       [0.45818138],\n",
            "       [0.27953997],\n",
            "       [0.47501808],\n",
            "       [0.46278033],\n",
            "       [0.3250287 ],\n",
            "       [0.4901245 ],\n",
            "       [0.4274308 ],\n",
            "       [0.21626318],\n",
            "       [0.9332418 ],\n",
            "       [0.7435283 ],\n",
            "       [0.9713351 ],\n",
            "       [0.24771607],\n",
            "       [0.87085235]], dtype=float32)]\n",
            "IN DELTA: NORMAL WEIGHTS\n",
            "[[0.7624396  0.9816906  0.6878819  ... 0.2784413  0.1584475  0.25202352]\n",
            " [0.4610319  0.21736513 0.15846889 ... 0.7556312  0.0501719  0.6442941 ]\n",
            " [0.8914304  0.47636452 0.7672799  ... 0.2723093  0.9993125  0.3870441 ]\n",
            " ...\n",
            " [0.27072206 0.3328898  0.45802987 ... 0.38076442 0.13664708 0.42234197]\n",
            " [0.22179663 0.5414077  0.21274577 ... 0.8143608  0.1576019  0.00339233]\n",
            " [0.75442874 0.01684603 0.3918309  ... 0.67703605 0.68281156 0.88266736]]\n",
            "IN DELTA: DISTURBED WEIGHTS\n",
            "[[0.7624396  0.9816906  0.6878819  ... 0.2784413  0.1584475  0.25202352]\n",
            " [0.4610319  0.21736513 0.15846889 ... 0.7556312  0.0501719  0.6442941 ]\n",
            " [0.8914304  0.47636452 0.7672799  ... 0.2723093  0.9993125  0.3870441 ]\n",
            " ...\n",
            " [0.27072206 0.3328898  0.45802987 ... 0.38076442 0.13664708 0.42234197]\n",
            " [0.22179663 0.5414077  0.21274577 ... 0.8143608  0.1576019  0.00339233]\n",
            " [0.75442874 0.01684603 0.3918309  ... 0.67703605 0.68281156 0.88266736]]\n",
            "[[0. 0. 0. ... 0. 0. 0.]\n",
            " [0. 0. 0. ... 0. 0. 0.]\n",
            " [0. 0. 0. ... 0. 0. 0.]\n",
            " ...\n",
            " [0. 0. 0. ... 0. 0. 0.]\n",
            " [0. 0. 0. ... 0. 0. 0.]\n",
            " [0. 0. 0. ... 0. 0. 0.]]\n",
            "IN DELTA: NORMAL WEIGHTS\n",
            "[[0.9104596  0.81286055 0.30643326 ... 0.9747042  0.5686588  0.7986302 ]\n",
            " [0.7019118  0.3683624  0.4890442  ... 0.5905216  0.80019456 0.8931424 ]\n",
            " [0.74593174 0.9458238  0.6622653  ... 0.9034898  0.5381181  0.79737157]\n",
            " ...\n",
            " [0.15695173 0.09305193 0.5071488  ... 0.26157308 0.8739284  0.07865161]\n",
            " [0.19048026 0.2466927  0.571956   ... 0.18351854 0.44949555 0.3136901 ]\n",
            " [0.9955973  0.5150036  0.91103643 ... 0.00935627 0.2448146  0.59360576]]\n",
            "IN DELTA: DISTURBED WEIGHTS\n",
            "[[0.9104596  0.81286055 0.30643326 ... 0.9747042  0.5686588  0.7986302 ]\n",
            " [0.7019118  0.3683624  0.4890442  ... 0.5905216  0.80019456 0.8931424 ]\n",
            " [0.74593174 0.9458238  0.6622653  ... 0.9034898  0.5381181  0.79737157]\n",
            " ...\n",
            " [0.15695173 0.09305193 0.5071488  ... 0.26157308 0.8739284  0.07865161]\n",
            " [0.19048026 0.2466927  0.571956   ... 0.18351854 0.44949555 0.3136901 ]\n",
            " [0.9955973  0.5150036  0.91103643 ... 0.00935627 0.2448146  0.59360576]]\n",
            "[[0. 0. 0. ... 0. 0. 0.]\n",
            " [0. 0. 0. ... 0. 0. 0.]\n",
            " [0. 0. 0. ... 0. 0. 0.]\n",
            " ...\n",
            " [0. 0. 0. ... 0. 0. 0.]\n",
            " [0. 0. 0. ... 0. 0. 0.]\n",
            " [0. 0. 0. ... 0. 0. 0.]]\n",
            "IN DELTA: NORMAL WEIGHTS\n",
            "[[0.15924203]\n",
            " [0.8594636 ]\n",
            " [0.521604  ]\n",
            " [0.53594047]\n",
            " [0.3862553 ]\n",
            " [0.31902197]\n",
            " [0.6461195 ]\n",
            " [0.9883475 ]\n",
            " [0.16039611]\n",
            " [0.6730404 ]\n",
            " [0.14858246]\n",
            " [0.6940883 ]\n",
            " [0.60922664]\n",
            " [0.8110373 ]\n",
            " [0.36839035]\n",
            " [0.19283262]\n",
            " [0.9093903 ]\n",
            " [0.45818138]\n",
            " [0.27953997]\n",
            " [0.47501808]\n",
            " [0.46278033]\n",
            " [0.3250287 ]\n",
            " [0.4901245 ]\n",
            " [0.4274308 ]\n",
            " [0.21626318]\n",
            " [0.9332418 ]\n",
            " [0.7435283 ]\n",
            " [0.9713351 ]\n",
            " [0.24771607]\n",
            " [0.87085235]]\n",
            "IN DELTA: DISTURBED WEIGHTS\n",
            "[[0.15924203]\n",
            " [0.8594636 ]\n",
            " [0.521604  ]\n",
            " [0.53594047]\n",
            " [0.3862553 ]\n",
            " [0.31902197]\n",
            " [0.6461195 ]\n",
            " [0.9883475 ]\n",
            " [0.16039611]\n",
            " [0.6730404 ]\n",
            " [0.14858246]\n",
            " [0.6940883 ]\n",
            " [0.60922664]\n",
            " [0.8110373 ]\n",
            " [0.36839035]\n",
            " [0.19283262]\n",
            " [0.9093903 ]\n",
            " [0.45818138]\n",
            " [0.27953997]\n",
            " [0.47501808]\n",
            " [0.46278033]\n",
            " [0.3250287 ]\n",
            " [0.4901245 ]\n",
            " [0.4274308 ]\n",
            " [0.21626318]\n",
            " [0.9332418 ]\n",
            " [0.7435283 ]\n",
            " [0.9713351 ]\n",
            " [0.24771607]\n",
            " [0.87085235]]\n",
            "[[0.]\n",
            " [0.]\n",
            " [0.]\n",
            " [0.]\n",
            " [0.]\n",
            " [0.]\n",
            " [0.]\n",
            " [0.]\n",
            " [0.]\n",
            " [0.]\n",
            " [0.]\n",
            " [0.]\n",
            " [0.]\n",
            " [0.]\n",
            " [0.]\n",
            " [0.]\n",
            " [0.]\n",
            " [0.]\n",
            " [0.]\n",
            " [0.]\n",
            " [0.]\n",
            " [0.]\n",
            " [0.]\n",
            " [0.]\n",
            " [0.]\n",
            " [0.]\n",
            " [0.]\n",
            " [0.]\n",
            " [0.]\n",
            " [0.]]\n",
            "Deviation\n",
            "[array([[0., 0., 0., ..., 0., 0., 0.],\n",
            "       [0., 0., 0., ..., 0., 0., 0.],\n",
            "       [0., 0., 0., ..., 0., 0., 0.],\n",
            "       ...,\n",
            "       [0., 0., 0., ..., 0., 0., 0.],\n",
            "       [0., 0., 0., ..., 0., 0., 0.],\n",
            "       [0., 0., 0., ..., 0., 0., 0.]], dtype=float32), array([[0., 0., 0., ..., 0., 0., 0.],\n",
            "       [0., 0., 0., ..., 0., 0., 0.],\n",
            "       [0., 0., 0., ..., 0., 0., 0.],\n",
            "       ...,\n",
            "       [0., 0., 0., ..., 0., 0., 0.],\n",
            "       [0., 0., 0., ..., 0., 0., 0.],\n",
            "       [0., 0., 0., ..., 0., 0., 0.]], dtype=float32), array([[0.],\n",
            "       [0.],\n",
            "       [0.],\n",
            "       [0.],\n",
            "       [0.],\n",
            "       [0.],\n",
            "       [0.],\n",
            "       [0.],\n",
            "       [0.],\n",
            "       [0.],\n",
            "       [0.],\n",
            "       [0.],\n",
            "       [0.],\n",
            "       [0.],\n",
            "       [0.],\n",
            "       [0.],\n",
            "       [0.],\n",
            "       [0.],\n",
            "       [0.],\n",
            "       [0.],\n",
            "       [0.],\n",
            "       [0.],\n",
            "       [0.],\n",
            "       [0.],\n",
            "       [0.],\n",
            "       [0.],\n",
            "       [0.],\n",
            "       [0.],\n",
            "       [0.],\n",
            "       [0.]], dtype=float32)]\n",
            "Max_element\n",
            "0.0\n",
            "Min_element\n",
            "0.0\n",
            "Max_delta-Min_delta\n",
            "0.0\n"
          ]
        }
      ]
    },
    {
      "cell_type": "code",
      "metadata": {
        "id": "SJZMFdN_zV1M"
      },
      "source": [
        "def get_model():\n",
        "  model=Sequential()\n",
        "  dense1=Dense(units=8, input_dim=10, activation='relu')\n",
        "  model.add(dense1)\n",
        "  dense2=Dense(4, activation='relu')\n",
        "  model.add(dense2)\n",
        "  model.add(Dense(1))\n",
        "  model.compile(loss='mean_squared_error',  optimizer='adam',metrics = ['mse', 'mae'])\n",
        "  return model"
      ],
      "execution_count": null,
      "outputs": []
    },
    {
      "cell_type": "code",
      "metadata": {
        "colab": {
          "base_uri": "https://localhost:8080/",
          "height": 1000
        },
        "id": "bWgi8BXJ0VZ-",
        "outputId": "a2207332-1199-44f4-aa29-b4d7fe59a653"
      },
      "source": [
        "def reduct(model1, model2, weights, initial_biases1, initial_biases2):\n",
        "  mask_matrix = []\n",
        "  calculated_MSE = []\n",
        "  deviation = []\n",
        "  k = 0\n",
        "  print(\"Reduct\")\n",
        "  while(k != 10):\n",
        "    print(\"WEIGHTS1\")\n",
        "    print(model1.get_weights())\n",
        "    print(\"WEIGHTS2\")\n",
        "    print(model2.get_weights())\n",
        "    delta_matrix = get_delta(model1, model2)\n",
        "    print(\"DELTA\")\n",
        "    print(delta_matrix)\n",
        "    converted_delta_matrix = []\n",
        "    for i in range(len(delta_matrix)):\n",
        "      delta_matrix[i] = np.nan_to_num(delta_matrix[i])\n",
        "      converted_delta_matrix.append(np.where(delta_matrix[i] == 0, 1, delta_matrix[i]))\n",
        "    max_elements = []\n",
        "    min_elements = []\n",
        "    # weights = []\n",
        "    # for i in range(len(model1.layers)):\n",
        "    #     weights.append(model1.layers[i].get_weights()[0])\n",
        "    if k == 0:\n",
        "      for i in range(len(delta_matrix)):\n",
        "        mask_matrix.append(np.ones_like(delta_matrix[i]))\n",
        "    for i in range(len(model1.layers)):\n",
        "      max_elements.append(np.max(np.asarray(delta_matrix[i])))\n",
        "      min_elements.append(np.min(np.asarray(converted_delta_matrix[i])))\n",
        "    max_element = np.max(np.asarray(max_elements))\n",
        "    print(max_element)\n",
        "    print(\"MAX_ELEM\")\n",
        "    min_element = np.min(np.asarray(min_elements))\n",
        "    print(\"MIN_ELEM\")\n",
        "    print(min_element)\n",
        "    deviation.append(max_element - min_element)\n",
        "    max_element_layer_index =  np.unravel_index(np.argmax(np.asarray(max_elements), axis=None),np.asarray(max_elements).shape)[0]\n",
        "    max_element_indexes= np.unravel_index(np.argmax(delta_matrix[max_element_layer_index], axis=None), delta_matrix[max_element_layer_index].shape)\n",
        "    mask_matrix[max_element_layer_index][max_element_indexes]=0\n",
        "    k+=1\n",
        "    model1 = get_model()\n",
        "    model2 = get_model()\n",
        "    for i in range(len(model1.layers)):\n",
        "      model1.layers[i].set_weights([np.multiply(weights[i], mask_matrix[i]),initial_biases1[i]])\n",
        "      model2.layers[i].set_weights([np.multiply(weights[i], mask_matrix[i]), initial_biases2[i]])\n",
        "    model1.fit(X_train,y_train,epochs=10,validation_data=(X_test,y_test),shuffle=False,callbacks=[FreezeWeights(mask_matrix)])\n",
        "    model2.fit(X_train,y_train_disturbed,epochs=10,validation_data=(X_test,y_test_disturbed),shuffle=False, callbacks=[FreezeWeights(mask_matrix)])\n",
        "    y_pred_test=model1.predict(X_test)\n",
        "    calculated_MSE.append(mean_squared_error(y_test, y_pred_test))\n",
        "  return calculated_MSE, deviation\n",
        "\n",
        "mse_values, deviation = reduct(model1, model2, weights1, initial_biases1, initial_biases2)"
      ],
      "execution_count": null,
      "outputs": [
        {
          "output_type": "stream",
          "name": "stdout",
          "text": [
            "Reduct\n",
            "WEIGHTS1\n",
            "[array([[0.55919594, 0.37208158, 0.22366084, 0.7860004 , 0.06106394,\n",
            "        0.69768906, 0.595871  , 0.21014203],\n",
            "       [0.2861233 , 0.6037435 , 0.3009241 , 0.24820416, 0.6632365 ,\n",
            "        0.9186277 , 0.5347383 , 0.74454314],\n",
            "       [0.42016968, 0.97076887, 0.01598621, 0.49941373, 0.2998382 ,\n",
            "        0.1006546 , 0.4849401 , 0.62872505],\n",
            "       [0.3630583 , 0.40402624, 0.9872683 , 0.74973583, 0.65966845,\n",
            "        0.88853   , 0.6015656 , 0.3633186 ],\n",
            "       [0.32481676, 0.89399725, 0.7956241 , 0.765853  , 0.8837926 ,\n",
            "        0.14526317, 0.6313089 , 0.34066197],\n",
            "       [0.71714336, 0.7735636 , 0.922113  , 0.45717812, 0.65423864,\n",
            "        0.7218509 , 0.41469198, 0.6407102 ],\n",
            "       [0.7183998 , 0.56807804, 0.92307055, 0.5188365 , 0.8649139 ,\n",
            "        0.4340271 , 0.42856622, 0.756634  ],\n",
            "       [0.30743438, 0.23001513, 0.59889853, 0.11371368, 0.37517533,\n",
            "        0.98489845, 0.06558567, 0.82231086],\n",
            "       [0.17937659, 0.98422676, 0.6158024 , 0.4732205 , 0.69401705,\n",
            "        0.6436348 , 0.44748473, 0.2663332 ],\n",
            "       [0.8502201 , 0.7559645 , 0.553096  , 0.26629475, 0.40008667,\n",
            "        0.8928873 , 0.8737848 , 0.22154228],\n",
            "       [0.44867674, 0.04685737, 0.78907365, 0.8814871 , 0.8711877 ,\n",
            "        0.8088973 , 0.62041193, 0.85527474],\n",
            "       [0.9742142 , 0.91375256, 0.6217897 , 0.46221572, 0.49881127,\n",
            "        0.13302016, 0.2659843 , 0.29245457],\n",
            "       [0.20576558, 0.28627408, 0.57364565, 0.48055503, 0.11349661,\n",
            "        0.7419916 , 0.36431435, 0.27037987],\n",
            "       [0.3803303 , 0.26804376, 0.3994424 , 0.01865715, 0.45548397,\n",
            "        0.6761174 , 0.77610755, 0.32924265],\n",
            "       [0.87612617, 0.8814712 , 0.6331228 , 0.05741153, 0.40601432,\n",
            "        0.02046342, 0.20864806, 0.35173488],\n",
            "       [0.09262104, 0.7278889 , 0.9088372 , 0.96840984, 0.61575747,\n",
            "        0.32631522, 0.640318  , 0.45893723],\n",
            "       [0.5386201 , 0.00272433, 0.45028564, 0.41322842, 0.87296957,\n",
            "        0.3695814 , 0.28535867, 0.3972129 ],\n",
            "       [0.77963895, 0.4810093 , 0.70335287, 0.8031867 , 0.24320605,\n",
            "        0.2672212 , 0.9201207 , 0.86846405],\n",
            "       [0.8127106 , 0.18608427, 0.6762678 , 0.90674835, 0.8734794 ,\n",
            "        0.13888526, 0.48712656, 0.60201097],\n",
            "       [0.3335463 , 0.89730084, 0.87793916, 0.7333745 , 0.48720548,\n",
            "        0.8303136 , 0.907259  , 0.19069318],\n",
            "       [0.41440704, 0.21174513, 0.48308593, 0.9452001 , 0.42290255,\n",
            "        0.4169949 , 0.14801711, 0.5347986 ],\n",
            "       [0.16844101, 0.11917513, 0.33354607, 0.324867  , 0.39767808,\n",
            "        0.5001247 , 0.45024097, 0.22017848],\n",
            "       [0.02182873, 0.9931177 , 0.23934008, 0.6340946 , 0.16494119,\n",
            "        0.07132524, 0.6504176 , 0.5161211 ],\n",
            "       [0.1933834 , 0.078241  , 0.15689391, 0.0998323 , 0.66176826,\n",
            "        0.8706442 , 0.46430364, 0.0563674 ],\n",
            "       [0.9225159 , 0.28282726, 0.5963549 , 0.3665119 , 0.85790676,\n",
            "        0.2374556 , 0.5706312 , 0.65287316],\n",
            "       [0.01780087, 0.4490385 , 0.20260864, 0.13835299, 0.9564492 ,\n",
            "        0.51081437, 0.76288766, 0.20487873],\n",
            "       [0.40795788, 0.64979786, 0.7484316 , 0.0669462 , 0.08642834,\n",
            "        0.04318697, 0.15249687, 0.2899997 ],\n",
            "       [0.14383405, 0.94319063, 0.43183902, 0.8460659 , 0.6976151 ,\n",
            "        0.24919304, 0.07655985, 0.27690774],\n",
            "       [0.41798693, 0.86610967, 0.25965178, 0.7315672 , 0.8941528 ,\n",
            "        0.560786  , 0.4366426 , 0.56226903],\n",
            "       [0.01577574, 0.59779876, 0.08246307, 0.5670186 , 0.32935694,\n",
            "        0.91832614, 0.02357325, 0.303096  ],\n",
            "       [0.9944681 , 0.07595373, 0.02622482, 0.10103513, 0.10315215,\n",
            "        0.64788246, 0.39361435, 0.40374586],\n",
            "       [0.9648093 , 0.41695172, 0.7822052 , 0.7647272 , 0.48021957,\n",
            "        0.8367737 , 0.5203191 , 0.4126168 ],\n",
            "       [0.13950276, 0.13609421, 0.13616903, 0.41766053, 0.6694956 ,\n",
            "        0.16599235, 0.5701771 , 0.49769977],\n",
            "       [0.6563856 , 0.7853098 , 0.7440394 , 0.5477254 , 0.32753703,\n",
            "        0.6643962 , 0.2476194 , 0.51624393],\n",
            "       [0.63301754, 0.8340013 , 0.8767321 , 0.22801735, 0.330976  ,\n",
            "        0.7445958 , 0.7320091 , 0.6503198 ],\n",
            "       [0.9669093 , 0.57972306, 0.8501187 , 0.1779056 , 0.47555786,\n",
            "        0.14082055, 0.06302547, 0.7731267 ],\n",
            "       [0.8422955 , 0.5946684 , 0.2432866 , 0.7148272 , 0.88430387,\n",
            "        0.76171327, 0.8562845 , 0.2026707 ],\n",
            "       [0.93825483, 0.93413824, 0.9227023 , 0.87134147, 0.91827315,\n",
            "        0.55875325, 0.31997427, 0.07331908],\n",
            "       [0.8958528 , 0.46145356, 0.75721675, 0.5438404 , 0.3790118 ,\n",
            "        0.3151746 , 0.5020259 , 0.3468335 ],\n",
            "       [0.04294179, 0.5911839 , 0.67354774, 0.85813224, 0.55237013,\n",
            "        0.8989895 , 0.26265827, 0.7609375 ],\n",
            "       [0.22804569, 0.5658359 , 0.4026889 , 0.911613  , 0.7560268 ,\n",
            "        0.38303944, 0.5547276 , 0.44453502],\n",
            "       [0.99595517, 0.05717225, 0.6077267 , 0.06579428, 0.37118936,\n",
            "        0.54420894, 0.17136663, 0.92661864],\n",
            "       [0.6848306 , 0.21779181, 0.40243617, 0.711572  , 0.978824  ,\n",
            "        0.9188626 , 0.5834265 , 0.70789504],\n",
            "       [0.28468606, 0.77493185, 0.09659019, 0.04185054, 0.94262445,\n",
            "        0.90364546, 0.49648404, 0.9475791 ],\n",
            "       [0.56774426, 0.56388843, 0.24224465, 0.5737528 , 0.15992686,\n",
            "        0.93619275, 0.24962516, 0.01360263],\n",
            "       [0.57573676, 0.87307507, 0.07716918, 0.07386092, 0.17614642,\n",
            "        0.16595373, 0.25117677, 0.23574382],\n",
            "       [0.7136679 , 0.63192147, 0.04033438, 0.9536642 , 0.8635144 ,\n",
            "        0.76589555, 0.13416247, 0.2783859 ],\n",
            "       [0.09095202, 0.40789536, 0.9842308 , 0.5928535 , 0.43991104,\n",
            "        0.35510078, 0.5628271 , 0.70413524],\n",
            "       [0.02301871, 0.8586782 , 0.35185027, 0.30139187, 0.8885723 ,\n",
            "        0.6775911 , 0.2511612 , 0.5230716 ],\n",
            "       [0.26615015, 0.112742  , 0.07163356, 0.00199244, 0.59114283,\n",
            "        0.52262354, 0.5411717 , 0.26249573],\n",
            "       [0.91900784, 0.1424391 , 0.42684406, 0.61942625, 0.516986  ,\n",
            "        0.8103029 , 0.31747472, 0.7472691 ],\n",
            "       [0.96285546, 0.38719958, 0.0548225 , 0.52836114, 0.02702145,\n",
            "        0.05087851, 0.7200148 , 0.06554574],\n",
            "       [0.18146554, 0.50781447, 0.28884172, 0.5253254 , 0.27923214,\n",
            "        0.36973995, 0.05052584, 0.6571023 ],\n",
            "       [0.15214089, 0.70458597, 0.01067421, 0.5604176 , 0.24198845,\n",
            "        0.13414323, 0.57364243, 0.69080085],\n",
            "       [0.01397311, 0.13908646, 0.02311481, 0.6680015 , 0.5045841 ,\n",
            "        0.8215704 , 0.35122865, 0.9518487 ],\n",
            "       [0.83963335, 0.75710034, 0.02778928, 0.87663984, 0.04305129,\n",
            "        0.6640998 , 0.2896412 , 0.5266448 ],\n",
            "       [0.42052796, 0.05052037, 0.26963782, 0.1093618 , 0.2869294 ,\n",
            "        0.81929564, 0.4506766 , 0.41258967],\n",
            "       [0.85585773, 0.90975314, 0.91594535, 0.17755814, 0.18259025,\n",
            "        0.0074956 , 0.2272976 , 0.9229565 ],\n",
            "       [0.38649023, 0.13847685, 0.07733731, 0.6771349 , 0.88826466,\n",
            "        0.00471841, 0.7009822 , 0.12878506],\n",
            "       [0.43694997, 0.78400266, 0.8489482 , 0.59792876, 0.35129893,\n",
            "        0.18458599, 0.18478544, 0.21912631],\n",
            "       [0.8705597 , 0.6987117 , 0.8267556 , 0.11572266, 0.2471886 ,\n",
            "        0.6733306 , 0.5574877 , 0.6445748 ],\n",
            "       [0.8584359 , 0.42255583, 0.93356425, 0.9283255 , 0.7998925 ,\n",
            "        0.4745784 , 0.84042984, 0.37807238],\n",
            "       [0.1563988 , 0.44054225, 0.7309959 , 0.2899936 , 0.18948856,\n",
            "        0.8320326 , 0.49826863, 0.712914  ],\n",
            "       [0.10145481, 0.32355854, 0.5080131 , 0.9454044 , 0.42361647,\n",
            "        0.21807232, 0.04423728, 0.82759356],\n",
            "       [0.72291064, 0.723116  , 0.4349524 , 0.25716528, 0.61644757,\n",
            "        0.28524294, 0.561018  , 0.6463966 ],\n",
            "       [0.39595318, 0.3023537 , 0.3514313 , 0.8538618 , 0.5688656 ,\n",
            "        0.96089154, 0.783074  , 0.11235981],\n",
            "       [0.97914654, 0.21068569, 0.12166929, 0.8754897 , 0.40262792,\n",
            "        0.11565087, 0.8018638 , 0.36002192],\n",
            "       [0.98781043, 0.3617079 , 0.66612977, 0.24717857, 0.7058858 ,\n",
            "        0.44752294, 0.40645498, 0.9623145 ],\n",
            "       [0.13708265, 0.10489272, 0.52785206, 0.2583955 , 0.7137139 ,\n",
            "        0.38215834, 0.34935373, 0.04786237],\n",
            "       [0.70119065, 0.1747148 , 0.2813064 , 0.32250473, 0.56078756,\n",
            "        0.6169694 , 0.8305023 , 0.11929894],\n",
            "       [0.47092208, 0.4082006 , 0.11534852, 0.8122355 , 0.0273542 ,\n",
            "        0.30649328, 0.6792933 , 0.04593108],\n",
            "       [0.7364457 , 0.92724615, 0.09332755, 0.81642354, 0.7494482 ,\n",
            "        0.37948784, 0.06346084, 0.7823739 ],\n",
            "       [0.75304556, 0.02099514, 0.6458841 , 0.6635918 , 0.35073543,\n",
            "        0.38123408, 0.81615853, 0.84934133],\n",
            "       [0.9743573 , 0.92528445, 0.6545156 , 0.5729995 , 0.30640626,\n",
            "        0.29506522, 0.21735553, 0.6741236 ],\n",
            "       [0.77144504, 0.99344015, 0.01312168, 0.5945435 , 0.69189006,\n",
            "        0.25924444, 0.04601393, 0.09254288],\n",
            "       [0.56336844, 0.15961963, 0.38407138, 0.42316365, 0.87668175,\n",
            "        0.45912498, 0.88663065, 0.70910394],\n",
            "       [0.90413636, 0.41372263, 0.54774565, 0.6245866 , 0.02148644,\n",
            "        0.1582878 , 0.96691084, 0.50960326],\n",
            "       [0.24861978, 0.87888926, 0.98107845, 0.5205699 , 0.78475577,\n",
            "        0.34254816, 0.8533246 , 0.49567035],\n",
            "       [0.752564  , 0.8878304 , 0.1763862 , 0.7757096 , 0.74457365,\n",
            "        0.8984108 , 0.16897163, 0.34522405],\n",
            "       [0.9266644 , 0.7564811 , 0.0580968 , 0.688618  , 0.35545394,\n",
            "        0.8861976 , 0.5439567 , 0.428427  ],\n",
            "       [0.08789483, 0.76578915, 0.6380134 , 0.92080563, 0.41013303,\n",
            "        0.04892782, 0.05653503, 0.7074573 ],\n",
            "       [0.38923073, 0.12249726, 0.18136226, 0.31903803, 0.01091242,\n",
            "        0.6967114 , 0.26665002, 0.29141894],\n",
            "       [0.13876657, 0.58035934, 0.20290896, 0.9134647 , 0.4484726 ,\n",
            "        0.50530434, 0.12403329, 0.03070317],\n",
            "       [0.3536504 , 0.8350503 , 0.44610232, 0.9785034 , 0.56359535,\n",
            "        0.02749114, 0.97277635, 0.43091398],\n",
            "       [0.66367775, 0.92218965, 0.4342504 , 0.23848131, 0.21650286,\n",
            "        0.58671016, 0.18593778, 0.6042638 ]], dtype=float32), array([0.3214866 , 0.99428755, 0.04100991, 0.44901797, 0.8799748 ,\n",
            "       0.26777777, 0.349863  , 0.39144567], dtype=float32), array([[0.47815654, 0.904408  , 0.01174747, 0.22246267],\n",
            "       [0.09986089, 0.05832177, 0.09549898, 0.5074899 ],\n",
            "       [0.090092  , 0.6808844 , 0.54108185, 0.8876201 ],\n",
            "       [0.48846072, 0.39357176, 0.3632936 , 0.87187743],\n",
            "       [0.5568124 , 0.2822591 , 0.26705799, 0.04081507],\n",
            "       [0.1277658 , 0.8749011 , 0.5427825 , 0.9438779 ],\n",
            "       [0.27468702, 0.7794025 , 0.07305294, 0.5941572 ],\n",
            "       [0.5959743 , 0.6161944 , 0.9388766 , 0.11065245]], dtype=float32), array([0.00549162, 0.05316229, 0.39247853, 0.9534898 ], dtype=float32), array([[0.5066417 ],\n",
            "       [0.8773106 ],\n",
            "       [0.74734205],\n",
            "       [0.6178887 ]], dtype=float32), array([0.30940384], dtype=float32)]\n",
            "WEIGHTS2\n",
            "[array([[0.55919594, 0.37208158, 0.22366084, 0.7860004 , 0.06106394,\n",
            "        0.69768906, 0.595871  , 0.21014203],\n",
            "       [0.2861233 , 0.6037435 , 0.3009241 , 0.24820416, 0.6632365 ,\n",
            "        0.9186277 , 0.5347383 , 0.74454314],\n",
            "       [0.42016968, 0.97076887, 0.01598621, 0.49941373, 0.2998382 ,\n",
            "        0.1006546 , 0.4849401 , 0.62872505],\n",
            "       [0.3630583 , 0.40402624, 0.9872683 , 0.74973583, 0.65966845,\n",
            "        0.88853   , 0.6015656 , 0.3633186 ],\n",
            "       [0.32481676, 0.89399725, 0.7956241 , 0.765853  , 0.8837926 ,\n",
            "        0.14526317, 0.6313089 , 0.34066197],\n",
            "       [0.71714336, 0.7735636 , 0.922113  , 0.45717812, 0.65423864,\n",
            "        0.7218509 , 0.41469198, 0.6407102 ],\n",
            "       [0.7183998 , 0.56807804, 0.92307055, 0.5188365 , 0.8649139 ,\n",
            "        0.4340271 , 0.42856622, 0.756634  ],\n",
            "       [0.30743438, 0.23001513, 0.59889853, 0.11371368, 0.37517533,\n",
            "        0.98489845, 0.06558567, 0.82231086],\n",
            "       [0.17937659, 0.98422676, 0.6158024 , 0.4732205 , 0.69401705,\n",
            "        0.6436348 , 0.44748473, 0.2663332 ],\n",
            "       [0.8502201 , 0.7559645 , 0.553096  , 0.26629475, 0.40008667,\n",
            "        0.8928873 , 0.8737848 , 0.22154228],\n",
            "       [0.44867674, 0.04685737, 0.78907365, 0.8814871 , 0.8711877 ,\n",
            "        0.8088973 , 0.62041193, 0.85527474],\n",
            "       [0.9742142 , 0.91375256, 0.6217897 , 0.46221572, 0.49881127,\n",
            "        0.13302016, 0.2659843 , 0.29245457],\n",
            "       [0.20576558, 0.28627408, 0.57364565, 0.48055503, 0.11349661,\n",
            "        0.7419916 , 0.36431435, 0.27037987],\n",
            "       [0.3803303 , 0.26804376, 0.3994424 , 0.01865715, 0.45548397,\n",
            "        0.6761174 , 0.77610755, 0.32924265],\n",
            "       [0.87612617, 0.8814712 , 0.6331228 , 0.05741153, 0.40601432,\n",
            "        0.02046342, 0.20864806, 0.35173488],\n",
            "       [0.09262104, 0.7278889 , 0.9088372 , 0.96840984, 0.61575747,\n",
            "        0.32631522, 0.640318  , 0.45893723],\n",
            "       [0.5386201 , 0.00272433, 0.45028564, 0.41322842, 0.87296957,\n",
            "        0.3695814 , 0.28535867, 0.3972129 ],\n",
            "       [0.77963895, 0.4810093 , 0.70335287, 0.8031867 , 0.24320605,\n",
            "        0.2672212 , 0.9201207 , 0.86846405],\n",
            "       [0.8127106 , 0.18608427, 0.6762678 , 0.90674835, 0.8734794 ,\n",
            "        0.13888526, 0.48712656, 0.60201097],\n",
            "       [0.3335463 , 0.89730084, 0.87793916, 0.7333745 , 0.48720548,\n",
            "        0.8303136 , 0.907259  , 0.19069318],\n",
            "       [0.41440704, 0.21174513, 0.48308593, 0.9452001 , 0.42290255,\n",
            "        0.4169949 , 0.14801711, 0.5347986 ],\n",
            "       [0.16844101, 0.11917513, 0.33354607, 0.324867  , 0.39767808,\n",
            "        0.5001247 , 0.45024097, 0.22017848],\n",
            "       [0.02182873, 0.9931177 , 0.23934008, 0.6340946 , 0.16494119,\n",
            "        0.07132524, 0.6504176 , 0.5161211 ],\n",
            "       [0.1933834 , 0.078241  , 0.15689391, 0.0998323 , 0.66176826,\n",
            "        0.8706442 , 0.46430364, 0.0563674 ],\n",
            "       [0.9225159 , 0.28282726, 0.5963549 , 0.3665119 , 0.85790676,\n",
            "        0.2374556 , 0.5706312 , 0.65287316],\n",
            "       [0.01780087, 0.4490385 , 0.20260864, 0.13835299, 0.9564492 ,\n",
            "        0.51081437, 0.76288766, 0.20487873],\n",
            "       [0.40795788, 0.64979786, 0.7484316 , 0.0669462 , 0.08642834,\n",
            "        0.04318697, 0.15249687, 0.2899997 ],\n",
            "       [0.14383405, 0.94319063, 0.43183902, 0.8460659 , 0.6976151 ,\n",
            "        0.24919304, 0.07655985, 0.27690774],\n",
            "       [0.41798693, 0.86610967, 0.25965178, 0.7315672 , 0.8941528 ,\n",
            "        0.560786  , 0.4366426 , 0.56226903],\n",
            "       [0.01577574, 0.59779876, 0.08246307, 0.5670186 , 0.32935694,\n",
            "        0.91832614, 0.02357325, 0.303096  ],\n",
            "       [0.9944681 , 0.07595373, 0.02622482, 0.10103513, 0.10315215,\n",
            "        0.64788246, 0.39361435, 0.40374586],\n",
            "       [0.9648093 , 0.41695172, 0.7822052 , 0.7647272 , 0.48021957,\n",
            "        0.8367737 , 0.5203191 , 0.4126168 ],\n",
            "       [0.13950276, 0.13609421, 0.13616903, 0.41766053, 0.6694956 ,\n",
            "        0.16599235, 0.5701771 , 0.49769977],\n",
            "       [0.6563856 , 0.7853098 , 0.7440394 , 0.5477254 , 0.32753703,\n",
            "        0.6643962 , 0.2476194 , 0.51624393],\n",
            "       [0.63301754, 0.8340013 , 0.8767321 , 0.22801735, 0.330976  ,\n",
            "        0.7445958 , 0.7320091 , 0.6503198 ],\n",
            "       [0.9669093 , 0.57972306, 0.8501187 , 0.1779056 , 0.47555786,\n",
            "        0.14082055, 0.06302547, 0.7731267 ],\n",
            "       [0.8422955 , 0.5946684 , 0.2432866 , 0.7148272 , 0.88430387,\n",
            "        0.76171327, 0.8562845 , 0.2026707 ],\n",
            "       [0.93825483, 0.93413824, 0.9227023 , 0.87134147, 0.91827315,\n",
            "        0.55875325, 0.31997427, 0.07331908],\n",
            "       [0.8958528 , 0.46145356, 0.75721675, 0.5438404 , 0.3790118 ,\n",
            "        0.3151746 , 0.5020259 , 0.3468335 ],\n",
            "       [0.04294179, 0.5911839 , 0.67354774, 0.85813224, 0.55237013,\n",
            "        0.8989895 , 0.26265827, 0.7609375 ],\n",
            "       [0.22804569, 0.5658359 , 0.4026889 , 0.911613  , 0.7560268 ,\n",
            "        0.38303944, 0.5547276 , 0.44453502],\n",
            "       [0.99595517, 0.05717225, 0.6077267 , 0.06579428, 0.37118936,\n",
            "        0.54420894, 0.17136663, 0.92661864],\n",
            "       [0.6848306 , 0.21779181, 0.40243617, 0.711572  , 0.978824  ,\n",
            "        0.9188626 , 0.5834265 , 0.70789504],\n",
            "       [0.28468606, 0.77493185, 0.09659019, 0.04185054, 0.94262445,\n",
            "        0.90364546, 0.49648404, 0.9475791 ],\n",
            "       [0.56774426, 0.56388843, 0.24224465, 0.5737528 , 0.15992686,\n",
            "        0.93619275, 0.24962516, 0.01360263],\n",
            "       [0.57573676, 0.87307507, 0.07716918, 0.07386092, 0.17614642,\n",
            "        0.16595373, 0.25117677, 0.23574382],\n",
            "       [0.7136679 , 0.63192147, 0.04033438, 0.9536642 , 0.8635144 ,\n",
            "        0.76589555, 0.13416247, 0.2783859 ],\n",
            "       [0.09095202, 0.40789536, 0.9842308 , 0.5928535 , 0.43991104,\n",
            "        0.35510078, 0.5628271 , 0.70413524],\n",
            "       [0.02301871, 0.8586782 , 0.35185027, 0.30139187, 0.8885723 ,\n",
            "        0.6775911 , 0.2511612 , 0.5230716 ],\n",
            "       [0.26615015, 0.112742  , 0.07163356, 0.00199244, 0.59114283,\n",
            "        0.52262354, 0.5411717 , 0.26249573],\n",
            "       [0.91900784, 0.1424391 , 0.42684406, 0.61942625, 0.516986  ,\n",
            "        0.8103029 , 0.31747472, 0.7472691 ],\n",
            "       [0.96285546, 0.38719958, 0.0548225 , 0.52836114, 0.02702145,\n",
            "        0.05087851, 0.7200148 , 0.06554574],\n",
            "       [0.18146554, 0.50781447, 0.28884172, 0.5253254 , 0.27923214,\n",
            "        0.36973995, 0.05052584, 0.6571023 ],\n",
            "       [0.15214089, 0.70458597, 0.01067421, 0.5604176 , 0.24198845,\n",
            "        0.13414323, 0.57364243, 0.69080085],\n",
            "       [0.01397311, 0.13908646, 0.02311481, 0.6680015 , 0.5045841 ,\n",
            "        0.8215704 , 0.35122865, 0.9518487 ],\n",
            "       [0.83963335, 0.75710034, 0.02778928, 0.87663984, 0.04305129,\n",
            "        0.6640998 , 0.2896412 , 0.5266448 ],\n",
            "       [0.42052796, 0.05052037, 0.26963782, 0.1093618 , 0.2869294 ,\n",
            "        0.81929564, 0.4506766 , 0.41258967],\n",
            "       [0.85585773, 0.90975314, 0.91594535, 0.17755814, 0.18259025,\n",
            "        0.0074956 , 0.2272976 , 0.9229565 ],\n",
            "       [0.38649023, 0.13847685, 0.07733731, 0.6771349 , 0.88826466,\n",
            "        0.00471841, 0.7009822 , 0.12878506],\n",
            "       [0.43694997, 0.78400266, 0.8489482 , 0.59792876, 0.35129893,\n",
            "        0.18458599, 0.18478544, 0.21912631],\n",
            "       [0.8705597 , 0.6987117 , 0.8267556 , 0.11572266, 0.2471886 ,\n",
            "        0.6733306 , 0.5574877 , 0.6445748 ],\n",
            "       [0.8584359 , 0.42255583, 0.93356425, 0.9283255 , 0.7998925 ,\n",
            "        0.4745784 , 0.84042984, 0.37807238],\n",
            "       [0.1563988 , 0.44054225, 0.7309959 , 0.2899936 , 0.18948856,\n",
            "        0.8320326 , 0.49826863, 0.712914  ],\n",
            "       [0.10145481, 0.32355854, 0.5080131 , 0.9454044 , 0.42361647,\n",
            "        0.21807232, 0.04423728, 0.82759356],\n",
            "       [0.72291064, 0.723116  , 0.4349524 , 0.25716528, 0.61644757,\n",
            "        0.28524294, 0.561018  , 0.6463966 ],\n",
            "       [0.39595318, 0.3023537 , 0.3514313 , 0.8538618 , 0.5688656 ,\n",
            "        0.96089154, 0.783074  , 0.11235981],\n",
            "       [0.97914654, 0.21068569, 0.12166929, 0.8754897 , 0.40262792,\n",
            "        0.11565087, 0.8018638 , 0.36002192],\n",
            "       [0.98781043, 0.3617079 , 0.66612977, 0.24717857, 0.7058858 ,\n",
            "        0.44752294, 0.40645498, 0.9623145 ],\n",
            "       [0.13708265, 0.10489272, 0.52785206, 0.2583955 , 0.7137139 ,\n",
            "        0.38215834, 0.34935373, 0.04786237],\n",
            "       [0.70119065, 0.1747148 , 0.2813064 , 0.32250473, 0.56078756,\n",
            "        0.6169694 , 0.8305023 , 0.11929894],\n",
            "       [0.47092208, 0.4082006 , 0.11534852, 0.8122355 , 0.0273542 ,\n",
            "        0.30649328, 0.6792933 , 0.04593108],\n",
            "       [0.7364457 , 0.92724615, 0.09332755, 0.81642354, 0.7494482 ,\n",
            "        0.37948784, 0.06346084, 0.7823739 ],\n",
            "       [0.75304556, 0.02099514, 0.6458841 , 0.6635918 , 0.35073543,\n",
            "        0.38123408, 0.81615853, 0.84934133],\n",
            "       [0.9743573 , 0.92528445, 0.6545156 , 0.5729995 , 0.30640626,\n",
            "        0.29506522, 0.21735553, 0.6741236 ],\n",
            "       [0.77144504, 0.99344015, 0.01312168, 0.5945435 , 0.69189006,\n",
            "        0.25924444, 0.04601393, 0.09254288],\n",
            "       [0.56336844, 0.15961963, 0.38407138, 0.42316365, 0.87668175,\n",
            "        0.45912498, 0.88663065, 0.70910394],\n",
            "       [0.90413636, 0.41372263, 0.54774565, 0.6245866 , 0.02148644,\n",
            "        0.1582878 , 0.96691084, 0.50960326],\n",
            "       [0.24861978, 0.87888926, 0.98107845, 0.5205699 , 0.78475577,\n",
            "        0.34254816, 0.8533246 , 0.49567035],\n",
            "       [0.752564  , 0.8878304 , 0.1763862 , 0.7757096 , 0.74457365,\n",
            "        0.8984108 , 0.16897163, 0.34522405],\n",
            "       [0.9266644 , 0.7564811 , 0.0580968 , 0.688618  , 0.35545394,\n",
            "        0.8861976 , 0.5439567 , 0.428427  ],\n",
            "       [0.08789483, 0.76578915, 0.6380134 , 0.92080563, 0.41013303,\n",
            "        0.04892782, 0.05653503, 0.7074573 ],\n",
            "       [0.38923073, 0.12249726, 0.18136226, 0.31903803, 0.01091242,\n",
            "        0.6967114 , 0.26665002, 0.29141894],\n",
            "       [0.13876657, 0.58035934, 0.20290896, 0.9134647 , 0.4484726 ,\n",
            "        0.50530434, 0.12403329, 0.03070317],\n",
            "       [0.3536504 , 0.8350503 , 0.44610232, 0.9785034 , 0.56359535,\n",
            "        0.02749114, 0.97277635, 0.43091398],\n",
            "       [0.66367775, 0.92218965, 0.4342504 , 0.23848131, 0.21650286,\n",
            "        0.58671016, 0.18593778, 0.6042638 ]], dtype=float32), array([0.3214866 , 0.99428755, 0.04100991, 0.44901797, 0.8799748 ,\n",
            "       0.26777777, 0.349863  , 0.39144567], dtype=float32), array([[0.47815654, 0.904408  , 0.01174747, 0.22246267],\n",
            "       [0.09986089, 0.05832177, 0.09549898, 0.5074899 ],\n",
            "       [0.090092  , 0.6808844 , 0.54108185, 0.8876201 ],\n",
            "       [0.48846072, 0.39357176, 0.3632936 , 0.87187743],\n",
            "       [0.5568124 , 0.2822591 , 0.26705799, 0.04081507],\n",
            "       [0.1277658 , 0.8749011 , 0.5427825 , 0.9438779 ],\n",
            "       [0.27468702, 0.7794025 , 0.07305294, 0.5941572 ],\n",
            "       [0.5959743 , 0.6161944 , 0.9388766 , 0.11065245]], dtype=float32), array([0.00549162, 0.05316229, 0.39247853, 0.9534898 ], dtype=float32), array([[0.5066417 ],\n",
            "       [0.8773106 ],\n",
            "       [0.74734205],\n",
            "       [0.6178887 ]], dtype=float32), array([0.30940384], dtype=float32)]\n",
            "IN DELTA: NORMAL WEIGHTS\n",
            "[[0.55919594 0.37208158 0.22366084 0.7860004  0.06106394 0.69768906\n",
            "  0.595871   0.21014203]\n",
            " [0.2861233  0.6037435  0.3009241  0.24820416 0.6632365  0.9186277\n",
            "  0.5347383  0.74454314]\n",
            " [0.42016968 0.97076887 0.01598621 0.49941373 0.2998382  0.1006546\n",
            "  0.4849401  0.62872505]\n",
            " [0.3630583  0.40402624 0.9872683  0.74973583 0.65966845 0.88853\n",
            "  0.6015656  0.3633186 ]\n",
            " [0.32481676 0.89399725 0.7956241  0.765853   0.8837926  0.14526317\n",
            "  0.6313089  0.34066197]\n",
            " [0.71714336 0.7735636  0.922113   0.45717812 0.65423864 0.7218509\n",
            "  0.41469198 0.6407102 ]\n",
            " [0.7183998  0.56807804 0.92307055 0.5188365  0.8649139  0.4340271\n",
            "  0.42856622 0.756634  ]\n",
            " [0.30743438 0.23001513 0.59889853 0.11371368 0.37517533 0.98489845\n",
            "  0.06558567 0.82231086]\n",
            " [0.17937659 0.98422676 0.6158024  0.4732205  0.69401705 0.6436348\n",
            "  0.44748473 0.2663332 ]\n",
            " [0.8502201  0.7559645  0.553096   0.26629475 0.40008667 0.8928873\n",
            "  0.8737848  0.22154228]\n",
            " [0.44867674 0.04685737 0.78907365 0.8814871  0.8711877  0.8088973\n",
            "  0.62041193 0.85527474]\n",
            " [0.9742142  0.91375256 0.6217897  0.46221572 0.49881127 0.13302016\n",
            "  0.2659843  0.29245457]\n",
            " [0.20576558 0.28627408 0.57364565 0.48055503 0.11349661 0.7419916\n",
            "  0.36431435 0.27037987]\n",
            " [0.3803303  0.26804376 0.3994424  0.01865715 0.45548397 0.6761174\n",
            "  0.77610755 0.32924265]\n",
            " [0.87612617 0.8814712  0.6331228  0.05741153 0.40601432 0.02046342\n",
            "  0.20864806 0.35173488]\n",
            " [0.09262104 0.7278889  0.9088372  0.96840984 0.61575747 0.32631522\n",
            "  0.640318   0.45893723]\n",
            " [0.5386201  0.00272433 0.45028564 0.41322842 0.87296957 0.3695814\n",
            "  0.28535867 0.3972129 ]\n",
            " [0.77963895 0.4810093  0.70335287 0.8031867  0.24320605 0.2672212\n",
            "  0.9201207  0.86846405]\n",
            " [0.8127106  0.18608427 0.6762678  0.90674835 0.8734794  0.13888526\n",
            "  0.48712656 0.60201097]\n",
            " [0.3335463  0.89730084 0.87793916 0.7333745  0.48720548 0.8303136\n",
            "  0.907259   0.19069318]\n",
            " [0.41440704 0.21174513 0.48308593 0.9452001  0.42290255 0.4169949\n",
            "  0.14801711 0.5347986 ]\n",
            " [0.16844101 0.11917513 0.33354607 0.324867   0.39767808 0.5001247\n",
            "  0.45024097 0.22017848]\n",
            " [0.02182873 0.9931177  0.23934008 0.6340946  0.16494119 0.07132524\n",
            "  0.6504176  0.5161211 ]\n",
            " [0.1933834  0.078241   0.15689391 0.0998323  0.66176826 0.8706442\n",
            "  0.46430364 0.0563674 ]\n",
            " [0.9225159  0.28282726 0.5963549  0.3665119  0.85790676 0.2374556\n",
            "  0.5706312  0.65287316]\n",
            " [0.01780087 0.4490385  0.20260864 0.13835299 0.9564492  0.51081437\n",
            "  0.76288766 0.20487873]\n",
            " [0.40795788 0.64979786 0.7484316  0.0669462  0.08642834 0.04318697\n",
            "  0.15249687 0.2899997 ]\n",
            " [0.14383405 0.94319063 0.43183902 0.8460659  0.6976151  0.24919304\n",
            "  0.07655985 0.27690774]\n",
            " [0.41798693 0.86610967 0.25965178 0.7315672  0.8941528  0.560786\n",
            "  0.4366426  0.56226903]\n",
            " [0.01577574 0.59779876 0.08246307 0.5670186  0.32935694 0.91832614\n",
            "  0.02357325 0.303096  ]\n",
            " [0.9944681  0.07595373 0.02622482 0.10103513 0.10315215 0.64788246\n",
            "  0.39361435 0.40374586]\n",
            " [0.9648093  0.41695172 0.7822052  0.7647272  0.48021957 0.8367737\n",
            "  0.5203191  0.4126168 ]\n",
            " [0.13950276 0.13609421 0.13616903 0.41766053 0.6694956  0.16599235\n",
            "  0.5701771  0.49769977]\n",
            " [0.6563856  0.7853098  0.7440394  0.5477254  0.32753703 0.6643962\n",
            "  0.2476194  0.51624393]\n",
            " [0.63301754 0.8340013  0.8767321  0.22801735 0.330976   0.7445958\n",
            "  0.7320091  0.6503198 ]\n",
            " [0.9669093  0.57972306 0.8501187  0.1779056  0.47555786 0.14082055\n",
            "  0.06302547 0.7731267 ]\n",
            " [0.8422955  0.5946684  0.2432866  0.7148272  0.88430387 0.76171327\n",
            "  0.8562845  0.2026707 ]\n",
            " [0.93825483 0.93413824 0.9227023  0.87134147 0.91827315 0.55875325\n",
            "  0.31997427 0.07331908]\n",
            " [0.8958528  0.46145356 0.75721675 0.5438404  0.3790118  0.3151746\n",
            "  0.5020259  0.3468335 ]\n",
            " [0.04294179 0.5911839  0.67354774 0.85813224 0.55237013 0.8989895\n",
            "  0.26265827 0.7609375 ]\n",
            " [0.22804569 0.5658359  0.4026889  0.911613   0.7560268  0.38303944\n",
            "  0.5547276  0.44453502]\n",
            " [0.99595517 0.05717225 0.6077267  0.06579428 0.37118936 0.54420894\n",
            "  0.17136663 0.92661864]\n",
            " [0.6848306  0.21779181 0.40243617 0.711572   0.978824   0.9188626\n",
            "  0.5834265  0.70789504]\n",
            " [0.28468606 0.77493185 0.09659019 0.04185054 0.94262445 0.90364546\n",
            "  0.49648404 0.9475791 ]\n",
            " [0.56774426 0.56388843 0.24224465 0.5737528  0.15992686 0.93619275\n",
            "  0.24962516 0.01360263]\n",
            " [0.57573676 0.87307507 0.07716918 0.07386092 0.17614642 0.16595373\n",
            "  0.25117677 0.23574382]\n",
            " [0.7136679  0.63192147 0.04033438 0.9536642  0.8635144  0.76589555\n",
            "  0.13416247 0.2783859 ]\n",
            " [0.09095202 0.40789536 0.9842308  0.5928535  0.43991104 0.35510078\n",
            "  0.5628271  0.70413524]\n",
            " [0.02301871 0.8586782  0.35185027 0.30139187 0.8885723  0.6775911\n",
            "  0.2511612  0.5230716 ]\n",
            " [0.26615015 0.112742   0.07163356 0.00199244 0.59114283 0.52262354\n",
            "  0.5411717  0.26249573]\n",
            " [0.91900784 0.1424391  0.42684406 0.61942625 0.516986   0.8103029\n",
            "  0.31747472 0.7472691 ]\n",
            " [0.96285546 0.38719958 0.0548225  0.52836114 0.02702145 0.05087851\n",
            "  0.7200148  0.06554574]\n",
            " [0.18146554 0.50781447 0.28884172 0.5253254  0.27923214 0.36973995\n",
            "  0.05052584 0.6571023 ]\n",
            " [0.15214089 0.70458597 0.01067421 0.5604176  0.24198845 0.13414323\n",
            "  0.57364243 0.69080085]\n",
            " [0.01397311 0.13908646 0.02311481 0.6680015  0.5045841  0.8215704\n",
            "  0.35122865 0.9518487 ]\n",
            " [0.83963335 0.75710034 0.02778928 0.87663984 0.04305129 0.6640998\n",
            "  0.2896412  0.5266448 ]\n",
            " [0.42052796 0.05052037 0.26963782 0.1093618  0.2869294  0.81929564\n",
            "  0.4506766  0.41258967]\n",
            " [0.85585773 0.90975314 0.91594535 0.17755814 0.18259025 0.0074956\n",
            "  0.2272976  0.9229565 ]\n",
            " [0.38649023 0.13847685 0.07733731 0.6771349  0.88826466 0.00471841\n",
            "  0.7009822  0.12878506]\n",
            " [0.43694997 0.78400266 0.8489482  0.59792876 0.35129893 0.18458599\n",
            "  0.18478544 0.21912631]\n",
            " [0.8705597  0.6987117  0.8267556  0.11572266 0.2471886  0.6733306\n",
            "  0.5574877  0.6445748 ]\n",
            " [0.8584359  0.42255583 0.93356425 0.9283255  0.7998925  0.4745784\n",
            "  0.84042984 0.37807238]\n",
            " [0.1563988  0.44054225 0.7309959  0.2899936  0.18948856 0.8320326\n",
            "  0.49826863 0.712914  ]\n",
            " [0.10145481 0.32355854 0.5080131  0.9454044  0.42361647 0.21807232\n",
            "  0.04423728 0.82759356]\n",
            " [0.72291064 0.723116   0.4349524  0.25716528 0.61644757 0.28524294\n",
            "  0.561018   0.6463966 ]\n",
            " [0.39595318 0.3023537  0.3514313  0.8538618  0.5688656  0.96089154\n",
            "  0.783074   0.11235981]\n",
            " [0.97914654 0.21068569 0.12166929 0.8754897  0.40262792 0.11565087\n",
            "  0.8018638  0.36002192]\n",
            " [0.98781043 0.3617079  0.66612977 0.24717857 0.7058858  0.44752294\n",
            "  0.40645498 0.9623145 ]\n",
            " [0.13708265 0.10489272 0.52785206 0.2583955  0.7137139  0.38215834\n",
            "  0.34935373 0.04786237]\n",
            " [0.70119065 0.1747148  0.2813064  0.32250473 0.56078756 0.6169694\n",
            "  0.8305023  0.11929894]\n",
            " [0.47092208 0.4082006  0.11534852 0.8122355  0.0273542  0.30649328\n",
            "  0.6792933  0.04593108]\n",
            " [0.7364457  0.92724615 0.09332755 0.81642354 0.7494482  0.37948784\n",
            "  0.06346084 0.7823739 ]\n",
            " [0.75304556 0.02099514 0.6458841  0.6635918  0.35073543 0.38123408\n",
            "  0.81615853 0.84934133]\n",
            " [0.9743573  0.92528445 0.6545156  0.5729995  0.30640626 0.29506522\n",
            "  0.21735553 0.6741236 ]\n",
            " [0.77144504 0.99344015 0.01312168 0.5945435  0.69189006 0.25924444\n",
            "  0.04601393 0.09254288]\n",
            " [0.56336844 0.15961963 0.38407138 0.42316365 0.87668175 0.45912498\n",
            "  0.88663065 0.70910394]\n",
            " [0.90413636 0.41372263 0.54774565 0.6245866  0.02148644 0.1582878\n",
            "  0.96691084 0.50960326]\n",
            " [0.24861978 0.87888926 0.98107845 0.5205699  0.78475577 0.34254816\n",
            "  0.8533246  0.49567035]\n",
            " [0.752564   0.8878304  0.1763862  0.7757096  0.74457365 0.8984108\n",
            "  0.16897163 0.34522405]\n",
            " [0.9266644  0.7564811  0.0580968  0.688618   0.35545394 0.8861976\n",
            "  0.5439567  0.428427  ]\n",
            " [0.08789483 0.76578915 0.6380134  0.92080563 0.41013303 0.04892782\n",
            "  0.05653503 0.7074573 ]\n",
            " [0.38923073 0.12249726 0.18136226 0.31903803 0.01091242 0.6967114\n",
            "  0.26665002 0.29141894]\n",
            " [0.13876657 0.58035934 0.20290896 0.9134647  0.4484726  0.50530434\n",
            "  0.12403329 0.03070317]\n",
            " [0.3536504  0.8350503  0.44610232 0.9785034  0.56359535 0.02749114\n",
            "  0.97277635 0.43091398]\n",
            " [0.66367775 0.92218965 0.4342504  0.23848131 0.21650286 0.58671016\n",
            "  0.18593778 0.6042638 ]]\n",
            "IN DELTA: DISTURBED WEIGHTS\n",
            "[[0.55919594 0.37208158 0.22366084 0.7860004  0.06106394 0.69768906\n",
            "  0.595871   0.21014203]\n",
            " [0.2861233  0.6037435  0.3009241  0.24820416 0.6632365  0.9186277\n",
            "  0.5347383  0.74454314]\n",
            " [0.42016968 0.97076887 0.01598621 0.49941373 0.2998382  0.1006546\n",
            "  0.4849401  0.62872505]\n",
            " [0.3630583  0.40402624 0.9872683  0.74973583 0.65966845 0.88853\n",
            "  0.6015656  0.3633186 ]\n",
            " [0.32481676 0.89399725 0.7956241  0.765853   0.8837926  0.14526317\n",
            "  0.6313089  0.34066197]\n",
            " [0.71714336 0.7735636  0.922113   0.45717812 0.65423864 0.7218509\n",
            "  0.41469198 0.6407102 ]\n",
            " [0.7183998  0.56807804 0.92307055 0.5188365  0.8649139  0.4340271\n",
            "  0.42856622 0.756634  ]\n",
            " [0.30743438 0.23001513 0.59889853 0.11371368 0.37517533 0.98489845\n",
            "  0.06558567 0.82231086]\n",
            " [0.17937659 0.98422676 0.6158024  0.4732205  0.69401705 0.6436348\n",
            "  0.44748473 0.2663332 ]\n",
            " [0.8502201  0.7559645  0.553096   0.26629475 0.40008667 0.8928873\n",
            "  0.8737848  0.22154228]\n",
            " [0.44867674 0.04685737 0.78907365 0.8814871  0.8711877  0.8088973\n",
            "  0.62041193 0.85527474]\n",
            " [0.9742142  0.91375256 0.6217897  0.46221572 0.49881127 0.13302016\n",
            "  0.2659843  0.29245457]\n",
            " [0.20576558 0.28627408 0.57364565 0.48055503 0.11349661 0.7419916\n",
            "  0.36431435 0.27037987]\n",
            " [0.3803303  0.26804376 0.3994424  0.01865715 0.45548397 0.6761174\n",
            "  0.77610755 0.32924265]\n",
            " [0.87612617 0.8814712  0.6331228  0.05741153 0.40601432 0.02046342\n",
            "  0.20864806 0.35173488]\n",
            " [0.09262104 0.7278889  0.9088372  0.96840984 0.61575747 0.32631522\n",
            "  0.640318   0.45893723]\n",
            " [0.5386201  0.00272433 0.45028564 0.41322842 0.87296957 0.3695814\n",
            "  0.28535867 0.3972129 ]\n",
            " [0.77963895 0.4810093  0.70335287 0.8031867  0.24320605 0.2672212\n",
            "  0.9201207  0.86846405]\n",
            " [0.8127106  0.18608427 0.6762678  0.90674835 0.8734794  0.13888526\n",
            "  0.48712656 0.60201097]\n",
            " [0.3335463  0.89730084 0.87793916 0.7333745  0.48720548 0.8303136\n",
            "  0.907259   0.19069318]\n",
            " [0.41440704 0.21174513 0.48308593 0.9452001  0.42290255 0.4169949\n",
            "  0.14801711 0.5347986 ]\n",
            " [0.16844101 0.11917513 0.33354607 0.324867   0.39767808 0.5001247\n",
            "  0.45024097 0.22017848]\n",
            " [0.02182873 0.9931177  0.23934008 0.6340946  0.16494119 0.07132524\n",
            "  0.6504176  0.5161211 ]\n",
            " [0.1933834  0.078241   0.15689391 0.0998323  0.66176826 0.8706442\n",
            "  0.46430364 0.0563674 ]\n",
            " [0.9225159  0.28282726 0.5963549  0.3665119  0.85790676 0.2374556\n",
            "  0.5706312  0.65287316]\n",
            " [0.01780087 0.4490385  0.20260864 0.13835299 0.9564492  0.51081437\n",
            "  0.76288766 0.20487873]\n",
            " [0.40795788 0.64979786 0.7484316  0.0669462  0.08642834 0.04318697\n",
            "  0.15249687 0.2899997 ]\n",
            " [0.14383405 0.94319063 0.43183902 0.8460659  0.6976151  0.24919304\n",
            "  0.07655985 0.27690774]\n",
            " [0.41798693 0.86610967 0.25965178 0.7315672  0.8941528  0.560786\n",
            "  0.4366426  0.56226903]\n",
            " [0.01577574 0.59779876 0.08246307 0.5670186  0.32935694 0.91832614\n",
            "  0.02357325 0.303096  ]\n",
            " [0.9944681  0.07595373 0.02622482 0.10103513 0.10315215 0.64788246\n",
            "  0.39361435 0.40374586]\n",
            " [0.9648093  0.41695172 0.7822052  0.7647272  0.48021957 0.8367737\n",
            "  0.5203191  0.4126168 ]\n",
            " [0.13950276 0.13609421 0.13616903 0.41766053 0.6694956  0.16599235\n",
            "  0.5701771  0.49769977]\n",
            " [0.6563856  0.7853098  0.7440394  0.5477254  0.32753703 0.6643962\n",
            "  0.2476194  0.51624393]\n",
            " [0.63301754 0.8340013  0.8767321  0.22801735 0.330976   0.7445958\n",
            "  0.7320091  0.6503198 ]\n",
            " [0.9669093  0.57972306 0.8501187  0.1779056  0.47555786 0.14082055\n",
            "  0.06302547 0.7731267 ]\n",
            " [0.8422955  0.5946684  0.2432866  0.7148272  0.88430387 0.76171327\n",
            "  0.8562845  0.2026707 ]\n",
            " [0.93825483 0.93413824 0.9227023  0.87134147 0.91827315 0.55875325\n",
            "  0.31997427 0.07331908]\n",
            " [0.8958528  0.46145356 0.75721675 0.5438404  0.3790118  0.3151746\n",
            "  0.5020259  0.3468335 ]\n",
            " [0.04294179 0.5911839  0.67354774 0.85813224 0.55237013 0.8989895\n",
            "  0.26265827 0.7609375 ]\n",
            " [0.22804569 0.5658359  0.4026889  0.911613   0.7560268  0.38303944\n",
            "  0.5547276  0.44453502]\n",
            " [0.99595517 0.05717225 0.6077267  0.06579428 0.37118936 0.54420894\n",
            "  0.17136663 0.92661864]\n",
            " [0.6848306  0.21779181 0.40243617 0.711572   0.978824   0.9188626\n",
            "  0.5834265  0.70789504]\n",
            " [0.28468606 0.77493185 0.09659019 0.04185054 0.94262445 0.90364546\n",
            "  0.49648404 0.9475791 ]\n",
            " [0.56774426 0.56388843 0.24224465 0.5737528  0.15992686 0.93619275\n",
            "  0.24962516 0.01360263]\n",
            " [0.57573676 0.87307507 0.07716918 0.07386092 0.17614642 0.16595373\n",
            "  0.25117677 0.23574382]\n",
            " [0.7136679  0.63192147 0.04033438 0.9536642  0.8635144  0.76589555\n",
            "  0.13416247 0.2783859 ]\n",
            " [0.09095202 0.40789536 0.9842308  0.5928535  0.43991104 0.35510078\n",
            "  0.5628271  0.70413524]\n",
            " [0.02301871 0.8586782  0.35185027 0.30139187 0.8885723  0.6775911\n",
            "  0.2511612  0.5230716 ]\n",
            " [0.26615015 0.112742   0.07163356 0.00199244 0.59114283 0.52262354\n",
            "  0.5411717  0.26249573]\n",
            " [0.91900784 0.1424391  0.42684406 0.61942625 0.516986   0.8103029\n",
            "  0.31747472 0.7472691 ]\n",
            " [0.96285546 0.38719958 0.0548225  0.52836114 0.02702145 0.05087851\n",
            "  0.7200148  0.06554574]\n",
            " [0.18146554 0.50781447 0.28884172 0.5253254  0.27923214 0.36973995\n",
            "  0.05052584 0.6571023 ]\n",
            " [0.15214089 0.70458597 0.01067421 0.5604176  0.24198845 0.13414323\n",
            "  0.57364243 0.69080085]\n",
            " [0.01397311 0.13908646 0.02311481 0.6680015  0.5045841  0.8215704\n",
            "  0.35122865 0.9518487 ]\n",
            " [0.83963335 0.75710034 0.02778928 0.87663984 0.04305129 0.6640998\n",
            "  0.2896412  0.5266448 ]\n",
            " [0.42052796 0.05052037 0.26963782 0.1093618  0.2869294  0.81929564\n",
            "  0.4506766  0.41258967]\n",
            " [0.85585773 0.90975314 0.91594535 0.17755814 0.18259025 0.0074956\n",
            "  0.2272976  0.9229565 ]\n",
            " [0.38649023 0.13847685 0.07733731 0.6771349  0.88826466 0.00471841\n",
            "  0.7009822  0.12878506]\n",
            " [0.43694997 0.78400266 0.8489482  0.59792876 0.35129893 0.18458599\n",
            "  0.18478544 0.21912631]\n",
            " [0.8705597  0.6987117  0.8267556  0.11572266 0.2471886  0.6733306\n",
            "  0.5574877  0.6445748 ]\n",
            " [0.8584359  0.42255583 0.93356425 0.9283255  0.7998925  0.4745784\n",
            "  0.84042984 0.37807238]\n",
            " [0.1563988  0.44054225 0.7309959  0.2899936  0.18948856 0.8320326\n",
            "  0.49826863 0.712914  ]\n",
            " [0.10145481 0.32355854 0.5080131  0.9454044  0.42361647 0.21807232\n",
            "  0.04423728 0.82759356]\n",
            " [0.72291064 0.723116   0.4349524  0.25716528 0.61644757 0.28524294\n",
            "  0.561018   0.6463966 ]\n",
            " [0.39595318 0.3023537  0.3514313  0.8538618  0.5688656  0.96089154\n",
            "  0.783074   0.11235981]\n",
            " [0.97914654 0.21068569 0.12166929 0.8754897  0.40262792 0.11565087\n",
            "  0.8018638  0.36002192]\n",
            " [0.98781043 0.3617079  0.66612977 0.24717857 0.7058858  0.44752294\n",
            "  0.40645498 0.9623145 ]\n",
            " [0.13708265 0.10489272 0.52785206 0.2583955  0.7137139  0.38215834\n",
            "  0.34935373 0.04786237]\n",
            " [0.70119065 0.1747148  0.2813064  0.32250473 0.56078756 0.6169694\n",
            "  0.8305023  0.11929894]\n",
            " [0.47092208 0.4082006  0.11534852 0.8122355  0.0273542  0.30649328\n",
            "  0.6792933  0.04593108]\n",
            " [0.7364457  0.92724615 0.09332755 0.81642354 0.7494482  0.37948784\n",
            "  0.06346084 0.7823739 ]\n",
            " [0.75304556 0.02099514 0.6458841  0.6635918  0.35073543 0.38123408\n",
            "  0.81615853 0.84934133]\n",
            " [0.9743573  0.92528445 0.6545156  0.5729995  0.30640626 0.29506522\n",
            "  0.21735553 0.6741236 ]\n",
            " [0.77144504 0.99344015 0.01312168 0.5945435  0.69189006 0.25924444\n",
            "  0.04601393 0.09254288]\n",
            " [0.56336844 0.15961963 0.38407138 0.42316365 0.87668175 0.45912498\n",
            "  0.88663065 0.70910394]\n",
            " [0.90413636 0.41372263 0.54774565 0.6245866  0.02148644 0.1582878\n",
            "  0.96691084 0.50960326]\n",
            " [0.24861978 0.87888926 0.98107845 0.5205699  0.78475577 0.34254816\n",
            "  0.8533246  0.49567035]\n",
            " [0.752564   0.8878304  0.1763862  0.7757096  0.74457365 0.8984108\n",
            "  0.16897163 0.34522405]\n",
            " [0.9266644  0.7564811  0.0580968  0.688618   0.35545394 0.8861976\n",
            "  0.5439567  0.428427  ]\n",
            " [0.08789483 0.76578915 0.6380134  0.92080563 0.41013303 0.04892782\n",
            "  0.05653503 0.7074573 ]\n",
            " [0.38923073 0.12249726 0.18136226 0.31903803 0.01091242 0.6967114\n",
            "  0.26665002 0.29141894]\n",
            " [0.13876657 0.58035934 0.20290896 0.9134647  0.4484726  0.50530434\n",
            "  0.12403329 0.03070317]\n",
            " [0.3536504  0.8350503  0.44610232 0.9785034  0.56359535 0.02749114\n",
            "  0.97277635 0.43091398]\n",
            " [0.66367775 0.92218965 0.4342504  0.23848131 0.21650286 0.58671016\n",
            "  0.18593778 0.6042638 ]]\n",
            "[[0. 0. 0. 0. 0. 0. 0. 0.]\n",
            " [0. 0. 0. 0. 0. 0. 0. 0.]\n",
            " [0. 0. 0. 0. 0. 0. 0. 0.]\n",
            " [0. 0. 0. 0. 0. 0. 0. 0.]\n",
            " [0. 0. 0. 0. 0. 0. 0. 0.]\n",
            " [0. 0. 0. 0. 0. 0. 0. 0.]\n",
            " [0. 0. 0. 0. 0. 0. 0. 0.]\n",
            " [0. 0. 0. 0. 0. 0. 0. 0.]\n",
            " [0. 0. 0. 0. 0. 0. 0. 0.]\n",
            " [0. 0. 0. 0. 0. 0. 0. 0.]\n",
            " [0. 0. 0. 0. 0. 0. 0. 0.]\n",
            " [0. 0. 0. 0. 0. 0. 0. 0.]\n",
            " [0. 0. 0. 0. 0. 0. 0. 0.]\n",
            " [0. 0. 0. 0. 0. 0. 0. 0.]\n",
            " [0. 0. 0. 0. 0. 0. 0. 0.]\n",
            " [0. 0. 0. 0. 0. 0. 0. 0.]\n",
            " [0. 0. 0. 0. 0. 0. 0. 0.]\n",
            " [0. 0. 0. 0. 0. 0. 0. 0.]\n",
            " [0. 0. 0. 0. 0. 0. 0. 0.]\n",
            " [0. 0. 0. 0. 0. 0. 0. 0.]\n",
            " [0. 0. 0. 0. 0. 0. 0. 0.]\n",
            " [0. 0. 0. 0. 0. 0. 0. 0.]\n",
            " [0. 0. 0. 0. 0. 0. 0. 0.]\n",
            " [0. 0. 0. 0. 0. 0. 0. 0.]\n",
            " [0. 0. 0. 0. 0. 0. 0. 0.]\n",
            " [0. 0. 0. 0. 0. 0. 0. 0.]\n",
            " [0. 0. 0. 0. 0. 0. 0. 0.]\n",
            " [0. 0. 0. 0. 0. 0. 0. 0.]\n",
            " [0. 0. 0. 0. 0. 0. 0. 0.]\n",
            " [0. 0. 0. 0. 0. 0. 0. 0.]\n",
            " [0. 0. 0. 0. 0. 0. 0. 0.]\n",
            " [0. 0. 0. 0. 0. 0. 0. 0.]\n",
            " [0. 0. 0. 0. 0. 0. 0. 0.]\n",
            " [0. 0. 0. 0. 0. 0. 0. 0.]\n",
            " [0. 0. 0. 0. 0. 0. 0. 0.]\n",
            " [0. 0. 0. 0. 0. 0. 0. 0.]\n",
            " [0. 0. 0. 0. 0. 0. 0. 0.]\n",
            " [0. 0. 0. 0. 0. 0. 0. 0.]\n",
            " [0. 0. 0. 0. 0. 0. 0. 0.]\n",
            " [0. 0. 0. 0. 0. 0. 0. 0.]\n",
            " [0. 0. 0. 0. 0. 0. 0. 0.]\n",
            " [0. 0. 0. 0. 0. 0. 0. 0.]\n",
            " [0. 0. 0. 0. 0. 0. 0. 0.]\n",
            " [0. 0. 0. 0. 0. 0. 0. 0.]\n",
            " [0. 0. 0. 0. 0. 0. 0. 0.]\n",
            " [0. 0. 0. 0. 0. 0. 0. 0.]\n",
            " [0. 0. 0. 0. 0. 0. 0. 0.]\n",
            " [0. 0. 0. 0. 0. 0. 0. 0.]\n",
            " [0. 0. 0. 0. 0. 0. 0. 0.]\n",
            " [0. 0. 0. 0. 0. 0. 0. 0.]\n",
            " [0. 0. 0. 0. 0. 0. 0. 0.]\n",
            " [0. 0. 0. 0. 0. 0. 0. 0.]\n",
            " [0. 0. 0. 0. 0. 0. 0. 0.]\n",
            " [0. 0. 0. 0. 0. 0. 0. 0.]\n",
            " [0. 0. 0. 0. 0. 0. 0. 0.]\n",
            " [0. 0. 0. 0. 0. 0. 0. 0.]\n",
            " [0. 0. 0. 0. 0. 0. 0. 0.]\n",
            " [0. 0. 0. 0. 0. 0. 0. 0.]\n",
            " [0. 0. 0. 0. 0. 0. 0. 0.]\n",
            " [0. 0. 0. 0. 0. 0. 0. 0.]\n",
            " [0. 0. 0. 0. 0. 0. 0. 0.]\n",
            " [0. 0. 0. 0. 0. 0. 0. 0.]\n",
            " [0. 0. 0. 0. 0. 0. 0. 0.]\n",
            " [0. 0. 0. 0. 0. 0. 0. 0.]\n",
            " [0. 0. 0. 0. 0. 0. 0. 0.]\n",
            " [0. 0. 0. 0. 0. 0. 0. 0.]\n",
            " [0. 0. 0. 0. 0. 0. 0. 0.]\n",
            " [0. 0. 0. 0. 0. 0. 0. 0.]\n",
            " [0. 0. 0. 0. 0. 0. 0. 0.]\n",
            " [0. 0. 0. 0. 0. 0. 0. 0.]\n",
            " [0. 0. 0. 0. 0. 0. 0. 0.]\n",
            " [0. 0. 0. 0. 0. 0. 0. 0.]\n",
            " [0. 0. 0. 0. 0. 0. 0. 0.]\n",
            " [0. 0. 0. 0. 0. 0. 0. 0.]\n",
            " [0. 0. 0. 0. 0. 0. 0. 0.]\n",
            " [0. 0. 0. 0. 0. 0. 0. 0.]\n",
            " [0. 0. 0. 0. 0. 0. 0. 0.]\n",
            " [0. 0. 0. 0. 0. 0. 0. 0.]\n",
            " [0. 0. 0. 0. 0. 0. 0. 0.]\n",
            " [0. 0. 0. 0. 0. 0. 0. 0.]\n",
            " [0. 0. 0. 0. 0. 0. 0. 0.]\n",
            " [0. 0. 0. 0. 0. 0. 0. 0.]\n",
            " [0. 0. 0. 0. 0. 0. 0. 0.]\n",
            " [0. 0. 0. 0. 0. 0. 0. 0.]\n",
            " [0. 0. 0. 0. 0. 0. 0. 0.]]\n",
            "IN DELTA: NORMAL WEIGHTS\n",
            "[[0.47815654 0.904408   0.01174747 0.22246267]\n",
            " [0.09986089 0.05832177 0.09549898 0.5074899 ]\n",
            " [0.090092   0.6808844  0.54108185 0.8876201 ]\n",
            " [0.48846072 0.39357176 0.3632936  0.87187743]\n",
            " [0.5568124  0.2822591  0.26705799 0.04081507]\n",
            " [0.1277658  0.8749011  0.5427825  0.9438779 ]\n",
            " [0.27468702 0.7794025  0.07305294 0.5941572 ]\n",
            " [0.5959743  0.6161944  0.9388766  0.11065245]]\n",
            "IN DELTA: DISTURBED WEIGHTS\n",
            "[[0.47815654 0.904408   0.01174747 0.22246267]\n",
            " [0.09986089 0.05832177 0.09549898 0.5074899 ]\n",
            " [0.090092   0.6808844  0.54108185 0.8876201 ]\n",
            " [0.48846072 0.39357176 0.3632936  0.87187743]\n",
            " [0.5568124  0.2822591  0.26705799 0.04081507]\n",
            " [0.1277658  0.8749011  0.5427825  0.9438779 ]\n",
            " [0.27468702 0.7794025  0.07305294 0.5941572 ]\n",
            " [0.5959743  0.6161944  0.9388766  0.11065245]]\n",
            "[[0. 0. 0. 0.]\n",
            " [0. 0. 0. 0.]\n",
            " [0. 0. 0. 0.]\n",
            " [0. 0. 0. 0.]\n",
            " [0. 0. 0. 0.]\n",
            " [0. 0. 0. 0.]\n",
            " [0. 0. 0. 0.]\n",
            " [0. 0. 0. 0.]]\n",
            "IN DELTA: NORMAL WEIGHTS\n",
            "[[0.5066417 ]\n",
            " [0.8773106 ]\n",
            " [0.74734205]\n",
            " [0.6178887 ]]\n",
            "IN DELTA: DISTURBED WEIGHTS\n",
            "[[0.5066417 ]\n",
            " [0.8773106 ]\n",
            " [0.74734205]\n",
            " [0.6178887 ]]\n",
            "[[0.]\n",
            " [0.]\n",
            " [0.]\n",
            " [0.]]\n",
            "DELTA\n",
            "[array([[0., 0., 0., 0., 0., 0., 0., 0.],\n",
            "       [0., 0., 0., 0., 0., 0., 0., 0.],\n",
            "       [0., 0., 0., 0., 0., 0., 0., 0.],\n",
            "       [0., 0., 0., 0., 0., 0., 0., 0.],\n",
            "       [0., 0., 0., 0., 0., 0., 0., 0.],\n",
            "       [0., 0., 0., 0., 0., 0., 0., 0.],\n",
            "       [0., 0., 0., 0., 0., 0., 0., 0.],\n",
            "       [0., 0., 0., 0., 0., 0., 0., 0.],\n",
            "       [0., 0., 0., 0., 0., 0., 0., 0.],\n",
            "       [0., 0., 0., 0., 0., 0., 0., 0.],\n",
            "       [0., 0., 0., 0., 0., 0., 0., 0.],\n",
            "       [0., 0., 0., 0., 0., 0., 0., 0.],\n",
            "       [0., 0., 0., 0., 0., 0., 0., 0.],\n",
            "       [0., 0., 0., 0., 0., 0., 0., 0.],\n",
            "       [0., 0., 0., 0., 0., 0., 0., 0.],\n",
            "       [0., 0., 0., 0., 0., 0., 0., 0.],\n",
            "       [0., 0., 0., 0., 0., 0., 0., 0.],\n",
            "       [0., 0., 0., 0., 0., 0., 0., 0.],\n",
            "       [0., 0., 0., 0., 0., 0., 0., 0.],\n",
            "       [0., 0., 0., 0., 0., 0., 0., 0.],\n",
            "       [0., 0., 0., 0., 0., 0., 0., 0.],\n",
            "       [0., 0., 0., 0., 0., 0., 0., 0.],\n",
            "       [0., 0., 0., 0., 0., 0., 0., 0.],\n",
            "       [0., 0., 0., 0., 0., 0., 0., 0.],\n",
            "       [0., 0., 0., 0., 0., 0., 0., 0.],\n",
            "       [0., 0., 0., 0., 0., 0., 0., 0.],\n",
            "       [0., 0., 0., 0., 0., 0., 0., 0.],\n",
            "       [0., 0., 0., 0., 0., 0., 0., 0.],\n",
            "       [0., 0., 0., 0., 0., 0., 0., 0.],\n",
            "       [0., 0., 0., 0., 0., 0., 0., 0.],\n",
            "       [0., 0., 0., 0., 0., 0., 0., 0.],\n",
            "       [0., 0., 0., 0., 0., 0., 0., 0.],\n",
            "       [0., 0., 0., 0., 0., 0., 0., 0.],\n",
            "       [0., 0., 0., 0., 0., 0., 0., 0.],\n",
            "       [0., 0., 0., 0., 0., 0., 0., 0.],\n",
            "       [0., 0., 0., 0., 0., 0., 0., 0.],\n",
            "       [0., 0., 0., 0., 0., 0., 0., 0.],\n",
            "       [0., 0., 0., 0., 0., 0., 0., 0.],\n",
            "       [0., 0., 0., 0., 0., 0., 0., 0.],\n",
            "       [0., 0., 0., 0., 0., 0., 0., 0.],\n",
            "       [0., 0., 0., 0., 0., 0., 0., 0.],\n",
            "       [0., 0., 0., 0., 0., 0., 0., 0.],\n",
            "       [0., 0., 0., 0., 0., 0., 0., 0.],\n",
            "       [0., 0., 0., 0., 0., 0., 0., 0.],\n",
            "       [0., 0., 0., 0., 0., 0., 0., 0.],\n",
            "       [0., 0., 0., 0., 0., 0., 0., 0.],\n",
            "       [0., 0., 0., 0., 0., 0., 0., 0.],\n",
            "       [0., 0., 0., 0., 0., 0., 0., 0.],\n",
            "       [0., 0., 0., 0., 0., 0., 0., 0.],\n",
            "       [0., 0., 0., 0., 0., 0., 0., 0.],\n",
            "       [0., 0., 0., 0., 0., 0., 0., 0.],\n",
            "       [0., 0., 0., 0., 0., 0., 0., 0.],\n",
            "       [0., 0., 0., 0., 0., 0., 0., 0.],\n",
            "       [0., 0., 0., 0., 0., 0., 0., 0.],\n",
            "       [0., 0., 0., 0., 0., 0., 0., 0.],\n",
            "       [0., 0., 0., 0., 0., 0., 0., 0.],\n",
            "       [0., 0., 0., 0., 0., 0., 0., 0.],\n",
            "       [0., 0., 0., 0., 0., 0., 0., 0.],\n",
            "       [0., 0., 0., 0., 0., 0., 0., 0.],\n",
            "       [0., 0., 0., 0., 0., 0., 0., 0.],\n",
            "       [0., 0., 0., 0., 0., 0., 0., 0.],\n",
            "       [0., 0., 0., 0., 0., 0., 0., 0.],\n",
            "       [0., 0., 0., 0., 0., 0., 0., 0.],\n",
            "       [0., 0., 0., 0., 0., 0., 0., 0.],\n",
            "       [0., 0., 0., 0., 0., 0., 0., 0.],\n",
            "       [0., 0., 0., 0., 0., 0., 0., 0.],\n",
            "       [0., 0., 0., 0., 0., 0., 0., 0.],\n",
            "       [0., 0., 0., 0., 0., 0., 0., 0.],\n",
            "       [0., 0., 0., 0., 0., 0., 0., 0.],\n",
            "       [0., 0., 0., 0., 0., 0., 0., 0.],\n",
            "       [0., 0., 0., 0., 0., 0., 0., 0.],\n",
            "       [0., 0., 0., 0., 0., 0., 0., 0.],\n",
            "       [0., 0., 0., 0., 0., 0., 0., 0.],\n",
            "       [0., 0., 0., 0., 0., 0., 0., 0.],\n",
            "       [0., 0., 0., 0., 0., 0., 0., 0.],\n",
            "       [0., 0., 0., 0., 0., 0., 0., 0.],\n",
            "       [0., 0., 0., 0., 0., 0., 0., 0.],\n",
            "       [0., 0., 0., 0., 0., 0., 0., 0.],\n",
            "       [0., 0., 0., 0., 0., 0., 0., 0.],\n",
            "       [0., 0., 0., 0., 0., 0., 0., 0.],\n",
            "       [0., 0., 0., 0., 0., 0., 0., 0.],\n",
            "       [0., 0., 0., 0., 0., 0., 0., 0.],\n",
            "       [0., 0., 0., 0., 0., 0., 0., 0.],\n",
            "       [0., 0., 0., 0., 0., 0., 0., 0.],\n",
            "       [0., 0., 0., 0., 0., 0., 0., 0.]], dtype=float32), array([[0., 0., 0., 0.],\n",
            "       [0., 0., 0., 0.],\n",
            "       [0., 0., 0., 0.],\n",
            "       [0., 0., 0., 0.],\n",
            "       [0., 0., 0., 0.],\n",
            "       [0., 0., 0., 0.],\n",
            "       [0., 0., 0., 0.],\n",
            "       [0., 0., 0., 0.]], dtype=float32), array([[0.],\n",
            "       [0.],\n",
            "       [0.],\n",
            "       [0.]], dtype=float32)]\n",
            "0.0\n",
            "MAX_ELEM\n",
            "MIN_ELEM\n",
            "1.0\n"
          ]
        },
        {
          "output_type": "error",
          "ename": "ValueError",
          "evalue": "ignored",
          "traceback": [
            "\u001b[0;31m---------------------------------------------------------------------------\u001b[0m",
            "\u001b[0;31mValueError\u001b[0m                                Traceback (most recent call last)",
            "\u001b[0;32m<ipython-input-103-51fed81f9a4e>\u001b[0m in \u001b[0;36m<module>\u001b[0;34m()\u001b[0m\n\u001b[1;32m     50\u001b[0m   \u001b[0;32mreturn\u001b[0m \u001b[0mcalculated_MSE\u001b[0m\u001b[0;34m,\u001b[0m \u001b[0mdeviation\u001b[0m\u001b[0;34m\u001b[0m\u001b[0;34m\u001b[0m\u001b[0m\n\u001b[1;32m     51\u001b[0m \u001b[0;34m\u001b[0m\u001b[0m\n\u001b[0;32m---> 52\u001b[0;31m \u001b[0mmse_values\u001b[0m\u001b[0;34m,\u001b[0m \u001b[0mdeviation\u001b[0m \u001b[0;34m=\u001b[0m \u001b[0mreduct\u001b[0m\u001b[0;34m(\u001b[0m\u001b[0mmodel1\u001b[0m\u001b[0;34m,\u001b[0m \u001b[0mmodel2\u001b[0m\u001b[0;34m,\u001b[0m \u001b[0mweights1\u001b[0m\u001b[0;34m,\u001b[0m \u001b[0minitial_biases1\u001b[0m\u001b[0;34m,\u001b[0m \u001b[0minitial_biases2\u001b[0m\u001b[0;34m)\u001b[0m\u001b[0;34m\u001b[0m\u001b[0;34m\u001b[0m\u001b[0m\n\u001b[0m",
            "\u001b[0;32m<ipython-input-103-51fed81f9a4e>\u001b[0m in \u001b[0;36mreduct\u001b[0;34m(model1, model2, weights, initial_biases1, initial_biases2)\u001b[0m\n\u001b[1;32m     42\u001b[0m     \u001b[0mmodel2\u001b[0m \u001b[0;34m=\u001b[0m \u001b[0mget_model\u001b[0m\u001b[0;34m(\u001b[0m\u001b[0;34m)\u001b[0m\u001b[0;34m\u001b[0m\u001b[0;34m\u001b[0m\u001b[0m\n\u001b[1;32m     43\u001b[0m     \u001b[0;32mfor\u001b[0m \u001b[0mi\u001b[0m \u001b[0;32min\u001b[0m \u001b[0mrange\u001b[0m\u001b[0;34m(\u001b[0m\u001b[0mlen\u001b[0m\u001b[0;34m(\u001b[0m\u001b[0mmodel1\u001b[0m\u001b[0;34m.\u001b[0m\u001b[0mlayers\u001b[0m\u001b[0;34m)\u001b[0m\u001b[0;34m)\u001b[0m\u001b[0;34m:\u001b[0m\u001b[0;34m\u001b[0m\u001b[0;34m\u001b[0m\u001b[0m\n\u001b[0;32m---> 44\u001b[0;31m       \u001b[0mmodel1\u001b[0m\u001b[0;34m.\u001b[0m\u001b[0mlayers\u001b[0m\u001b[0;34m[\u001b[0m\u001b[0mi\u001b[0m\u001b[0;34m]\u001b[0m\u001b[0;34m.\u001b[0m\u001b[0mset_weights\u001b[0m\u001b[0;34m(\u001b[0m\u001b[0;34m[\u001b[0m\u001b[0mnp\u001b[0m\u001b[0;34m.\u001b[0m\u001b[0mmultiply\u001b[0m\u001b[0;34m(\u001b[0m\u001b[0mweights\u001b[0m\u001b[0;34m[\u001b[0m\u001b[0mi\u001b[0m\u001b[0;34m]\u001b[0m\u001b[0;34m,\u001b[0m \u001b[0mmask_matrix\u001b[0m\u001b[0;34m[\u001b[0m\u001b[0mi\u001b[0m\u001b[0;34m]\u001b[0m\u001b[0;34m)\u001b[0m\u001b[0;34m,\u001b[0m\u001b[0minitial_biases1\u001b[0m\u001b[0;34m[\u001b[0m\u001b[0mi\u001b[0m\u001b[0;34m]\u001b[0m\u001b[0;34m]\u001b[0m\u001b[0;34m)\u001b[0m\u001b[0;34m\u001b[0m\u001b[0;34m\u001b[0m\u001b[0m\n\u001b[0m\u001b[1;32m     45\u001b[0m       \u001b[0mmodel2\u001b[0m\u001b[0;34m.\u001b[0m\u001b[0mlayers\u001b[0m\u001b[0;34m[\u001b[0m\u001b[0mi\u001b[0m\u001b[0;34m]\u001b[0m\u001b[0;34m.\u001b[0m\u001b[0mset_weights\u001b[0m\u001b[0;34m(\u001b[0m\u001b[0;34m[\u001b[0m\u001b[0mnp\u001b[0m\u001b[0;34m.\u001b[0m\u001b[0mmultiply\u001b[0m\u001b[0;34m(\u001b[0m\u001b[0mweights\u001b[0m\u001b[0;34m[\u001b[0m\u001b[0mi\u001b[0m\u001b[0;34m]\u001b[0m\u001b[0;34m,\u001b[0m \u001b[0mmask_matrix\u001b[0m\u001b[0;34m[\u001b[0m\u001b[0mi\u001b[0m\u001b[0;34m]\u001b[0m\u001b[0;34m)\u001b[0m\u001b[0;34m,\u001b[0m \u001b[0minitial_biases2\u001b[0m\u001b[0;34m[\u001b[0m\u001b[0mi\u001b[0m\u001b[0;34m]\u001b[0m\u001b[0;34m]\u001b[0m\u001b[0;34m)\u001b[0m\u001b[0;34m\u001b[0m\u001b[0;34m\u001b[0m\u001b[0m\n\u001b[1;32m     46\u001b[0m     \u001b[0mmodel1\u001b[0m\u001b[0;34m.\u001b[0m\u001b[0mfit\u001b[0m\u001b[0;34m(\u001b[0m\u001b[0mX_train\u001b[0m\u001b[0;34m,\u001b[0m\u001b[0my_train\u001b[0m\u001b[0;34m,\u001b[0m\u001b[0mepochs\u001b[0m\u001b[0;34m=\u001b[0m\u001b[0;36m10\u001b[0m\u001b[0;34m,\u001b[0m\u001b[0mvalidation_data\u001b[0m\u001b[0;34m=\u001b[0m\u001b[0;34m(\u001b[0m\u001b[0mX_test\u001b[0m\u001b[0;34m,\u001b[0m\u001b[0my_test\u001b[0m\u001b[0;34m)\u001b[0m\u001b[0;34m,\u001b[0m\u001b[0mshuffle\u001b[0m\u001b[0;34m=\u001b[0m\u001b[0;32mFalse\u001b[0m\u001b[0;34m,\u001b[0m\u001b[0mcallbacks\u001b[0m\u001b[0;34m=\u001b[0m\u001b[0;34m[\u001b[0m\u001b[0mFreezeWeights\u001b[0m\u001b[0;34m(\u001b[0m\u001b[0mmask_matrix\u001b[0m\u001b[0;34m)\u001b[0m\u001b[0;34m]\u001b[0m\u001b[0;34m)\u001b[0m\u001b[0;34m\u001b[0m\u001b[0;34m\u001b[0m\u001b[0m\n",
            "\u001b[0;32m/usr/local/lib/python3.7/dist-packages/keras/engine/base_layer.py\u001b[0m in \u001b[0;36mset_weights\u001b[0;34m(self, weights)\u001b[0m\n\u001b[1;32m   1850\u001b[0m         \u001b[0;32mif\u001b[0m \u001b[0;32mnot\u001b[0m \u001b[0mref_shape\u001b[0m\u001b[0;34m.\u001b[0m\u001b[0mis_compatible_with\u001b[0m\u001b[0;34m(\u001b[0m\u001b[0mweight_shape\u001b[0m\u001b[0;34m)\u001b[0m\u001b[0;34m:\u001b[0m\u001b[0;34m\u001b[0m\u001b[0;34m\u001b[0m\u001b[0m\n\u001b[1;32m   1851\u001b[0m           raise ValueError(\n\u001b[0;32m-> 1852\u001b[0;31m               \u001b[0;34mf'Layer {self.name} weight shape {ref_shape} '\u001b[0m\u001b[0;34m\u001b[0m\u001b[0;34m\u001b[0m\u001b[0m\n\u001b[0m\u001b[1;32m   1853\u001b[0m               \u001b[0;34m'is not compatible with provided weight '\u001b[0m\u001b[0;34m\u001b[0m\u001b[0;34m\u001b[0m\u001b[0m\n\u001b[1;32m   1854\u001b[0m               f'shape {weight_shape}.')\n",
            "\u001b[0;31mValueError\u001b[0m: Layer dense_42 weight shape (10, 8) is not compatible with provided weight shape (85, 8)."
          ]
        }
      ]
    },
    {
      "cell_type": "markdown",
      "metadata": {
        "id": "IkXEXgeFrYi0"
      },
      "source": [
        "### Scaling"
      ]
    },
    {
      "cell_type": "code",
      "metadata": {
        "colab": {
          "base_uri": "https://localhost:8080/"
        },
        "id": "hv6PPLmbBZiR",
        "outputId": "a99a3164-aebf-4575-ad11-f5f2e8e188b9"
      },
      "source": [
        "greek_letterz=[chr(code) for code in range(945,970)]\n",
        "\n",
        "print(greek_letterz)"
      ],
      "execution_count": null,
      "outputs": [
        {
          "output_type": "stream",
          "name": "stdout",
          "text": [
            "['α', 'β', 'γ', 'δ', 'ε', 'ζ', 'η', 'θ', 'ι', 'κ', 'λ', 'μ', 'ν', 'ξ', 'ο', 'π', 'ρ', 'ς', 'σ', 'τ', 'υ', 'φ', 'χ', 'ψ', 'ω']\n"
          ]
        }
      ]
    }
  ]
}