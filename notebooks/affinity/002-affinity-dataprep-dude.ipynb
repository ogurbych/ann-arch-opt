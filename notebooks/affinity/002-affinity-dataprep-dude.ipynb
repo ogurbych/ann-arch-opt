{
 "cells": [
  {
   "cell_type": "code",
   "execution_count": 1,
   "id": "24873147-533c-49d2-9ad8-33a71ffe8fbe",
   "metadata": {},
   "outputs": [],
   "source": [
    "import rdkit\n",
    "\n",
    "import pandas as pd\n",
    "from rdkit.Chem import PandasTools"
   ]
  },
  {
   "cell_type": "code",
   "execution_count": 3,
   "id": "1443ea47-963e-4d6e-8bd4-6e1a77434040",
   "metadata": {},
   "outputs": [],
   "source": [
    "SDFFile = \"data-raw/DUDE-thrb/decoys_final.sdf\"\n",
    "decoys = PandasTools.LoadSDF(SDFFile)\n",
    "decoys['SMILES'] = decoys.ROMol.apply(rdkit.Chem.MolToSmiles)\n",
    "decoys['active'] = 0"
   ]
  },
  {
   "cell_type": "code",
   "execution_count": 4,
   "id": "5a3f5f72-1760-49cb-b166-82724948255e",
   "metadata": {},
   "outputs": [],
   "source": [
    "SDFFile = \"data-raw/DUDE-thrb/actives_final.sdf\"\n",
    "actives = PandasTools.LoadSDF(SDFFile)\n",
    "actives['SMILES'] = actives.ROMol.apply(rdkit.Chem.MolToSmiles)\n",
    "actives['active'] = 1"
   ]
  },
  {
   "cell_type": "code",
   "execution_count": 5,
   "id": "a37af97b-bba4-4dfe-a170-0f1361fa1a63",
   "metadata": {},
   "outputs": [],
   "source": [
    "dude_df = pd.concat([actives[['SMILES', 'active']],\n",
    "                     decoys[['SMILES', 'active']]],\n",
    "                     ignore_index=True)"
   ]
  },
  {
   "cell_type": "code",
   "execution_count": 6,
   "id": "479c08be-fae9-4dea-92af-e9be9fe7b70f",
   "metadata": {},
   "outputs": [
    {
     "data": {
      "text/html": [
       "<div>\n",
       "<style scoped>\n",
       "    .dataframe tbody tr th:only-of-type {\n",
       "        vertical-align: middle;\n",
       "    }\n",
       "\n",
       "    .dataframe tbody tr th {\n",
       "        vertical-align: top;\n",
       "    }\n",
       "\n",
       "    .dataframe thead th {\n",
       "        text-align: right;\n",
       "    }\n",
       "</style>\n",
       "<table border=\"1\" class=\"dataframe\">\n",
       "  <thead>\n",
       "    <tr style=\"text-align: right;\">\n",
       "      <th></th>\n",
       "      <th>SMILES</th>\n",
       "      <th>active</th>\n",
       "    </tr>\n",
       "  </thead>\n",
       "  <tbody>\n",
       "    <tr>\n",
       "      <th>0</th>\n",
       "      <td>CS(=O)(=O)N1CCN(C(=O)C(Cc2cccc(C(N)=[NH2+])c2)...</td>\n",
       "      <td>1</td>\n",
       "    </tr>\n",
       "    <tr>\n",
       "      <th>1</th>\n",
       "      <td>CS(=O)(=O)N1CCN(C(=O)C(Cc2cccc(C(N)=[NH2+])c2)...</td>\n",
       "      <td>1</td>\n",
       "    </tr>\n",
       "    <tr>\n",
       "      <th>2</th>\n",
       "      <td>NC(=[NH2+])N1CCC(CC(=O)C2Cc3cccc4c3N2C(=O)C(NS...</td>\n",
       "      <td>1</td>\n",
       "    </tr>\n",
       "    <tr>\n",
       "      <th>3</th>\n",
       "      <td>CC(C)C(Cl)C(NC(=O)C(O)Cc1ccccc1)C(=O)N1C(C(=O)...</td>\n",
       "      <td>1</td>\n",
       "    </tr>\n",
       "    <tr>\n",
       "      <th>4</th>\n",
       "      <td>Cc1cc(OCCCON=C(N)N)cc(C(=O)N(Cc2ccncc2)CC2CC2)c1</td>\n",
       "      <td>1</td>\n",
       "    </tr>\n",
       "  </tbody>\n",
       "</table>\n",
       "</div>"
      ],
      "text/plain": [
       "                                              SMILES  active\n",
       "0  CS(=O)(=O)N1CCN(C(=O)C(Cc2cccc(C(N)=[NH2+])c2)...       1\n",
       "1  CS(=O)(=O)N1CCN(C(=O)C(Cc2cccc(C(N)=[NH2+])c2)...       1\n",
       "2  NC(=[NH2+])N1CCC(CC(=O)C2Cc3cccc4c3N2C(=O)C(NS...       1\n",
       "3  CC(C)C(Cl)C(NC(=O)C(O)Cc1ccccc1)C(=O)N1C(C(=O)...       1\n",
       "4   Cc1cc(OCCCON=C(N)N)cc(C(=O)N(Cc2ccncc2)CC2CC2)c1       1"
      ]
     },
     "execution_count": 6,
     "metadata": {},
     "output_type": "execute_result"
    }
   ],
   "source": [
    "dude_df.head()"
   ]
  },
  {
   "cell_type": "code",
   "execution_count": 7,
   "id": "54681731-d1c4-4e16-a243-50aac36b33b1",
   "metadata": {},
   "outputs": [],
   "source": [
    "dude_df.to_csv('dude.csv', index=False)"
   ]
  },
  {
   "cell_type": "code",
   "execution_count": null,
   "id": "89486304-7553-4fbb-a36b-672a37340507",
   "metadata": {},
   "outputs": [],
   "source": []
  }
 ],
 "metadata": {
  "kernelspec": {
   "display_name": "Python 3 (ipykernel)",
   "language": "python",
   "name": "python3"
  },
  "language_info": {
   "codemirror_mode": {
    "name": "ipython",
    "version": 3
   },
   "file_extension": ".py",
   "mimetype": "text/x-python",
   "name": "python",
   "nbconvert_exporter": "python",
   "pygments_lexer": "ipython3",
   "version": "3.8.11"
  }
 },
 "nbformat": 4,
 "nbformat_minor": 5
}
