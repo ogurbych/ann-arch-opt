{
 "cells": [
  {
   "cell_type": "code",
   "execution_count": 8,
   "id": "ede946bd-af60-4933-b1b5-714bde078839",
   "metadata": {},
   "outputs": [],
   "source": [
    "import rdkit\n",
    "\n",
    "import numpy as np\n",
    "import pandas as pd\n",
    "import seaborn as sns\n",
    "import matplotlib.pyplot as plt\n",
    "\n",
    "from matplotlib.pyplot import figure\n",
    "import matplotlib.ticker as mtick\n",
    "from scipy import stats\n",
    "from rdkit import Chem\n",
    "from rdkit.Chem import rdMolDescriptors as _rdMolDescriptors\n",
    "\n",
    "MolWt = lambda *x,**y:_rdMolDescriptors._CalcMolWt(*x,**y)\n",
    "\n",
    "sns.set_theme(style=\"whitegrid\")"
   ]
  },
  {
   "cell_type": "markdown",
   "id": "a32a86dc-450e-436e-9de9-feafc64fd055",
   "metadata": {},
   "source": [
    "# Read Data"
   ]
  },
  {
   "cell_type": "code",
   "execution_count": 2,
   "id": "4042e0b8-79df-49c0-9a2b-442ed6162275",
   "metadata": {},
   "outputs": [],
   "source": [
    "dude_df = pd.read_csv('dude.csv')\n",
    "bindingdb_df = pd.read_csv('bindingdb.csv')\n",
    "bindingdb_df.rename({'Ligand SMILES': 'SMILES'},\n",
    "                    axis=1,\n",
    "                    inplace=True)\n",
    "df = pd.concat([dude_df[['SMILES', 'active']],\n",
    "                bindingdb_df[['SMILES', 'active']]],\n",
    "                ignore_index=True).drop_duplicates()"
   ]
  },
  {
   "cell_type": "code",
   "execution_count": 6,
   "id": "44f11664-66e0-40dd-9ee4-f9fb60a878e7",
   "metadata": {},
   "outputs": [
    {
     "data": {
      "text/plain": [
       "(27497, 2)"
      ]
     },
     "execution_count": 6,
     "metadata": {},
     "output_type": "execute_result"
    }
   ],
   "source": [
    "df.shape"
   ]
  },
  {
   "cell_type": "code",
   "execution_count": 7,
   "id": "dfdb1d69-2fc1-4ad7-b51c-92978e8fd5b4",
   "metadata": {},
   "outputs": [
    {
     "data": {
      "text/plain": [
       "(4161, 4)"
      ]
     },
     "execution_count": 7,
     "metadata": {},
     "output_type": "execute_result"
    }
   ],
   "source": [
    "bindingdb_df.shape"
   ]
  },
  {
   "cell_type": "code",
   "execution_count": 3,
   "id": "38e97ba5-c477-4454-9d63-81ef4da8c51c",
   "metadata": {},
   "outputs": [
    {
     "name": "stdout",
     "output_type": "stream",
     "text": [
      "(27454, 3)\n"
     ]
    },
    {
     "data": {
      "text/html": [
       "<div>\n",
       "<style scoped>\n",
       "    .dataframe tbody tr th:only-of-type {\n",
       "        vertical-align: middle;\n",
       "    }\n",
       "\n",
       "    .dataframe tbody tr th {\n",
       "        vertical-align: top;\n",
       "    }\n",
       "\n",
       "    .dataframe thead th {\n",
       "        text-align: right;\n",
       "    }\n",
       "</style>\n",
       "<table border=\"1\" class=\"dataframe\">\n",
       "  <thead>\n",
       "    <tr style=\"text-align: right;\">\n",
       "      <th></th>\n",
       "      <th>SMILES</th>\n",
       "      <th>active</th>\n",
       "      <th>MolWt</th>\n",
       "    </tr>\n",
       "  </thead>\n",
       "  <tbody>\n",
       "    <tr>\n",
       "      <th>0</th>\n",
       "      <td>CS(=O)(=O)N1CCN(C(=O)C(Cc2cccc(C(N)=[NH2+])c2)...</td>\n",
       "      <td>1</td>\n",
       "      <td>544.679</td>\n",
       "    </tr>\n",
       "    <tr>\n",
       "      <th>2</th>\n",
       "      <td>NC(=[NH2+])N1CCC(CC(=O)C2Cc3cccc4c3N2C(=O)C(NS...</td>\n",
       "      <td>1</td>\n",
       "      <td>552.677</td>\n",
       "    </tr>\n",
       "    <tr>\n",
       "      <th>3</th>\n",
       "      <td>CC(C)C(Cl)C(NC(=O)C(O)Cc1ccccc1)C(=O)N1C(C(=O)...</td>\n",
       "      <td>1</td>\n",
       "      <td>597.180</td>\n",
       "    </tr>\n",
       "    <tr>\n",
       "      <th>4</th>\n",
       "      <td>Cc1cc(OCCCON=C(N)N)cc(C(=O)N(Cc2ccncc2)CC2CC2)c1</td>\n",
       "      <td>1</td>\n",
       "      <td>411.506</td>\n",
       "    </tr>\n",
       "    <tr>\n",
       "      <th>5</th>\n",
       "      <td>CCSCCN(Cc1ccoc1)C(=O)c1cc(C)cc(OCCCON=C(N)N)c1</td>\n",
       "      <td>1</td>\n",
       "      <td>434.562</td>\n",
       "    </tr>\n",
       "  </tbody>\n",
       "</table>\n",
       "</div>"
      ],
      "text/plain": [
       "                                              SMILES  active    MolWt\n",
       "0  CS(=O)(=O)N1CCN(C(=O)C(Cc2cccc(C(N)=[NH2+])c2)...       1  544.679\n",
       "2  NC(=[NH2+])N1CCC(CC(=O)C2Cc3cccc4c3N2C(=O)C(NS...       1  552.677\n",
       "3  CC(C)C(Cl)C(NC(=O)C(O)Cc1ccccc1)C(=O)N1C(C(=O)...       1  597.180\n",
       "4   Cc1cc(OCCCON=C(N)N)cc(C(=O)N(Cc2ccncc2)CC2CC2)c1       1  411.506\n",
       "5     CCSCCN(Cc1ccoc1)C(=O)c1cc(C)cc(OCCCON=C(N)N)c1       1  434.562"
      ]
     },
     "execution_count": 3,
     "metadata": {},
     "output_type": "execute_result"
    }
   ],
   "source": [
    "def get_molwt(row):\n",
    "    return MolWt(Chem.MolFromSmiles(row))\n",
    "\n",
    "def canonize_smiles(row):\n",
    "    return Chem.MolToSmiles(Chem.MolFromSmiles(row))\n",
    "\n",
    "df['SMILES'] = df['SMILES'].apply(canonize_smiles)\n",
    "bindingdb_df['SMILES'] = bindingdb_df['SMILES'].apply(canonize_smiles)\n",
    "df['MolWt'] = df['SMILES'].apply(get_molwt)\n",
    "bindingdb_df['MolWt'] = bindingdb_df['SMILES'].apply(get_molwt)\n",
    "df = df.drop_duplicates(subset=['SMILES'])\n",
    "bindingdb_df = bindingdb_df.drop_duplicates(subset=['SMILES'])\n",
    "\n",
    "print(df.shape)\n",
    "df.head()"
   ]
  },
  {
   "cell_type": "markdown",
   "id": "4ceb7543-00ca-426d-b4d6-c8ecb6f750fe",
   "metadata": {},
   "source": [
    "# Remove Outliers"
   ]
  },
  {
   "cell_type": "code",
   "execution_count": 4,
   "id": "30a98681-32b0-47c7-9c63-a6f73bb96533",
   "metadata": {},
   "outputs": [
    {
     "name": "stdout",
     "output_type": "stream",
     "text": [
      "Q1 MolWt    398.394\n",
      "Name: 0.25, dtype: float64 Q3 MolWt    486.593\n",
      "Name: 0.75, dtype: float64 IQR MolWt    88.199\n",
      "dtype: float64 Q1 - 1.5 * IQR MolWt    266.0955\n",
      "dtype: float64 Q3 + 1.5 * IQR MolWt    618.8915\n",
      "dtype: float64\n",
      "Q1 MolWt    423.424\n",
      "Name: 0.25, dtype: float64 Q3 MolWt    547.681\n",
      "Name: 0.75, dtype: float64 IQR MolWt    124.257\n",
      "dtype: float64 Q1 - 1.5 * IQR MolWt    237.0385\n",
      "dtype: float64 Q3 + 1.5 * IQR MolWt    734.0665\n",
      "dtype: float64\n"
     ]
    }
   ],
   "source": [
    "def remove_outliers(df, cols):\n",
    "    Q1 = df[cols].quantile(0.25)\n",
    "    Q3 = df[cols].quantile(0.75)\n",
    "    IQR = Q3 - Q1\n",
    "    print('Q1', Q1, 'Q3', Q3, 'IQR', IQR,\n",
    "          'Q1 - 1.5 * IQR', (Q1 - 1.5 * IQR),\n",
    "          'Q3 + 1.5 * IQR', Q3 + 1.5 * IQR)\n",
    "    \n",
    "    return df[~((df[cols] < (Q1 - 1.5 * IQR)) | (df[cols] > (Q3 + 1.5 * IQR))).any(axis=1)]\n",
    "\n",
    "cols = ['MolWt']\n",
    "clf_df = remove_outliers(df, cols)\n",
    "reg_df = remove_outliers(bindingdb_df, cols)\n",
    "reg_df = remove_outliers(reg_df, [])"
   ]
  },
  {
   "cell_type": "code",
   "execution_count": 6,
   "id": "addab6c1-6042-440d-a2d3-3ac88ede41db",
   "metadata": {},
   "outputs": [
    {
     "data": {
      "text/html": [
       "<div>\n",
       "<style scoped>\n",
       "    .dataframe tbody tr th:only-of-type {\n",
       "        vertical-align: middle;\n",
       "    }\n",
       "\n",
       "    .dataframe tbody tr th {\n",
       "        vertical-align: top;\n",
       "    }\n",
       "\n",
       "    .dataframe thead th {\n",
       "        text-align: right;\n",
       "    }\n",
       "</style>\n",
       "<table border=\"1\" class=\"dataframe\">\n",
       "  <thead>\n",
       "    <tr style=\"text-align: right;\">\n",
       "      <th></th>\n",
       "      <th>SMILES</th>\n",
       "      <th>Ki (nM)</th>\n",
       "      <th>log10Ki</th>\n",
       "      <th>active</th>\n",
       "      <th>MolWt</th>\n",
       "    </tr>\n",
       "  </thead>\n",
       "  <tbody>\n",
       "    <tr>\n",
       "      <th>0</th>\n",
       "      <td>N=C(N)c1cccc(CN2CCN(S(=O)(=O)c3cc4ccc(Cl)cc4s3...</td>\n",
       "      <td>4000.0</td>\n",
       "      <td>3.602060</td>\n",
       "      <td>1</td>\n",
       "      <td>462.984</td>\n",
       "    </tr>\n",
       "    <tr>\n",
       "      <th>1</th>\n",
       "      <td>N=C(N)c1ccc(CN2CCN(S(=O)(=O)c3cc4ccc(Cl)cc4s3)...</td>\n",
       "      <td>4000.0</td>\n",
       "      <td>3.602060</td>\n",
       "      <td>1</td>\n",
       "      <td>462.984</td>\n",
       "    </tr>\n",
       "    <tr>\n",
       "      <th>2</th>\n",
       "      <td>O=C1CN(S(=O)(=O)c2cc3ccc(Cl)cc3s2)CCN1Cc1cc2cn...</td>\n",
       "      <td>4000.0</td>\n",
       "      <td>3.602060</td>\n",
       "      <td>1</td>\n",
       "      <td>505.021</td>\n",
       "    </tr>\n",
       "    <tr>\n",
       "      <th>3</th>\n",
       "      <td>O=C1CN(S(=O)(=O)C=Cc2ccc(Cl)s2)CCN1Cc1cc2cnccc...</td>\n",
       "      <td>4000.0</td>\n",
       "      <td>3.602060</td>\n",
       "      <td>1</td>\n",
       "      <td>436.946</td>\n",
       "    </tr>\n",
       "    <tr>\n",
       "      <th>4</th>\n",
       "      <td>COC(=O)[C@H](Cc1cccc(C(=N)N)c1)[C@@H](C)NC(=O)...</td>\n",
       "      <td>3000.0</td>\n",
       "      <td>3.477121</td>\n",
       "      <td>1</td>\n",
       "      <td>458.562</td>\n",
       "    </tr>\n",
       "  </tbody>\n",
       "</table>\n",
       "</div>"
      ],
      "text/plain": [
       "                                              SMILES  Ki (nM)   log10Ki  \\\n",
       "0  N=C(N)c1cccc(CN2CCN(S(=O)(=O)c3cc4ccc(Cl)cc4s3...   4000.0  3.602060   \n",
       "1  N=C(N)c1ccc(CN2CCN(S(=O)(=O)c3cc4ccc(Cl)cc4s3)...   4000.0  3.602060   \n",
       "2  O=C1CN(S(=O)(=O)c2cc3ccc(Cl)cc3s2)CCN1Cc1cc2cn...   4000.0  3.602060   \n",
       "3  O=C1CN(S(=O)(=O)C=Cc2ccc(Cl)s2)CCN1Cc1cc2cnccc...   4000.0  3.602060   \n",
       "4  COC(=O)[C@H](Cc1cccc(C(=N)N)c1)[C@@H](C)NC(=O)...   3000.0  3.477121   \n",
       "\n",
       "   active    MolWt  \n",
       "0       1  462.984  \n",
       "1       1  462.984  \n",
       "2       1  505.021  \n",
       "3       1  436.946  \n",
       "4       1  458.562  "
      ]
     },
     "execution_count": 6,
     "metadata": {},
     "output_type": "execute_result"
    }
   ],
   "source": [
    "reg_df.head()"
   ]
  },
  {
   "cell_type": "code",
   "execution_count": 7,
   "id": "09901bd3-318b-48dc-87e3-96b0f8d590d9",
   "metadata": {},
   "outputs": [
    {
     "data": {
      "text/plain": [
       "(3951, 5)"
      ]
     },
     "execution_count": 7,
     "metadata": {},
     "output_type": "execute_result"
    }
   ],
   "source": [
    "reg_df.shape"
   ]
  },
  {
   "cell_type": "code",
   "execution_count": 8,
   "id": "535bae89-8397-4c56-9852-a6ebd2d29e53",
   "metadata": {},
   "outputs": [
    {
     "name": "stdout",
     "output_type": "stream",
     "text": [
      "Q1 log10Ki    1.278754\n",
      "Name: 0.25, dtype: float64 Q3 log10Ki    3.69897\n",
      "Name: 0.75, dtype: float64 IQR log10Ki    2.420216\n",
      "dtype: float64 Q1 - 1.5 * IQR log10Ki   -2.351571\n",
      "dtype: float64 Q3 + 1.5 * IQR log10Ki    7.329295\n",
      "dtype: float64\n"
     ]
    },
    {
     "data": {
      "text/plain": [
       "(3940, 5)"
      ]
     },
     "execution_count": 8,
     "metadata": {},
     "output_type": "execute_result"
    }
   ],
   "source": [
    "reg_df = remove_outliers(reg_df, ['log10Ki'])\n",
    "reg_df.shape"
   ]
  },
  {
   "cell_type": "code",
   "execution_count": 5,
   "id": "354a2349-3843-4eb0-986a-99069f6845af",
   "metadata": {},
   "outputs": [
    {
     "data": {
      "text/plain": [
       "<AxesSubplot:>"
      ]
     },
     "execution_count": 5,
     "metadata": {},
     "output_type": "execute_result"
    },
    {
     "data": {
      "image/png": "[encoded data removed]",
      "text/plain": [
       "<Figure size 432x288 with 1 Axes>"
      ]
     },
     "metadata": {},
     "output_type": "display_data"
    }
   ],
   "source": [
    "df.MolWt.hist(bins=50)"
   ]
  },
  {
   "cell_type": "code",
   "execution_count": 7,
   "id": "606fa3b0-97fc-45e4-9a15-3ed95ef421d4",
   "metadata": {},
   "outputs": [
    {
     "data": {
      "text/plain": [
       "<AxesSubplot:>"
      ]
     },
     "execution_count": 7,
     "metadata": {},
     "output_type": "execute_result"
    },
    {
     "data": {
      "image/png": "[encoded data removed]",
      "text/plain": [
       "<Figure size 432x288 with 1 Axes>"
      ]
     },
     "metadata": {},
     "output_type": "display_data"
    }
   ],
   "source": [
    "clf_df.MolWt.hist(bins=50)"
   ]
  },
  {
   "cell_type": "code",
   "execution_count": 8,
   "id": "f202de74-ff05-4676-8adc-ac964a22332c",
   "metadata": {},
   "outputs": [
    {
     "data": {
      "text/plain": [
       "<AxesSubplot:>"
      ]
     },
     "execution_count": 8,
     "metadata": {},
     "output_type": "execute_result"
    },
    {
     "data": {
      "image/png": "[encoded data removed]",
      "text/plain": [
       "<Figure size 432x288 with 1 Axes>"
      ]
     },
     "metadata": {},
     "output_type": "display_data"
    }
   ],
   "source": [
    "bindingdb_df.MolWt.hist(bins=50)"
   ]
  },
  {
   "cell_type": "code",
   "execution_count": 9,
   "id": "e4c630ff-a5f2-4ebb-9b6e-7ec4ae73855d",
   "metadata": {},
   "outputs": [
    {
     "data": {
      "text/plain": [
       "<AxesSubplot:>"
      ]
     },
     "execution_count": 9,
     "metadata": {},
     "output_type": "execute_result"
    },
    {
     "data": {
      "image/png": "[encoded data removed]",
      "text/plain": [
       "<Figure size 432x288 with 1 Axes>"
      ]
     },
     "metadata": {},
     "output_type": "display_data"
    }
   ],
   "source": [
    "reg_df.MolWt.hist(bins=50)"
   ]
  },
  {
   "cell_type": "markdown",
   "id": "881b0deb-aa5f-4d22-80f4-e4b10b051d1b",
   "metadata": {},
   "source": [
    "# Plot Distributions"
   ]
  },
  {
   "cell_type": "code",
   "execution_count": 52,
   "id": "9a0f14a8-24a0-421e-b3ee-44cd4205be8a",
   "metadata": {},
   "outputs": [
    {
     "name": "stdout",
     "output_type": "stream",
     "text": [
      "(26808, 3) (3951, 5)\n"
     ]
    }
   ],
   "source": [
    "print(clf_df.shape, reg_df.shape)"
   ]
  },
  {
   "cell_type": "code",
   "execution_count": 30,
   "id": "e47bca9f-4784-499e-958f-d3c15e0d627c",
   "metadata": {},
   "outputs": [
    {
     "data": {
      "text/plain": [
       "0    23243\n",
       "1     3565\n",
       "Name: active, dtype: int64"
      ]
     },
     "execution_count": 30,
     "metadata": {},
     "output_type": "execute_result"
    }
   ],
   "source": [
    "clf_df['active'].value_counts()"
   ]
  },
  {
   "cell_type": "code",
   "execution_count": 31,
   "id": "05625364-c575-4cb9-bfd0-afb916eb80cc",
   "metadata": {},
   "outputs": [
    {
     "data": {
      "text/plain": [
       "1    3225\n",
       "0     726\n",
       "Name: active, dtype: int64"
      ]
     },
     "execution_count": 31,
     "metadata": {},
     "output_type": "execute_result"
    }
   ],
   "source": [
    "reg_df['active'].value_counts()"
   ]
  },
  {
   "cell_type": "code",
   "execution_count": null,
   "id": "df15744a-dee2-4d06-8287-985105b1d9e8",
   "metadata": {},
   "outputs": [
    {
     "data": {
      "image/png": "[encoded data removed]",
      "text/plain": [
       "<Figure size 864x360 with 3 Axes>"
      ]
     },
     "metadata": {},
     "output_type": "display_data"
    }
   ],
   "source": [
    "f, (ax1, ax2, ax3) = plt.subplots(1, 3,\n",
    "#                              sharey=True,\n",
    "#                              sharex=True,\n",
    "                             figsize=(12, 5))\n",
    "\n",
    "ax1.grid(color = 'gray', linestyle = '--', linewidth = 1, alpha=.5)\n",
    "ax2.grid(color = 'gray', linestyle = '--', linewidth = 1, alpha=.5)\n",
    "ax3.grid(color = 'gray', linestyle = '--', linewidth = 1, alpha=.5)\n",
    "\n",
    "clf_df[clf_df['active']==0]['MolWt'].hist(bins=30, color='grey', ax=ax1)\n",
    "clf_df[clf_df['active']==1]['MolWt'].hist(bins=30, color='green', ax=ax1, alpha=0.6)\n",
    "reg_df[reg_df['active']==1]['MolWt'].hist(bins=30, color='green', ax=ax2)\n",
    "reg_df[reg_df['active']==0]['MolWt'].hist(bins=30, color='grey', ax=ax2, alpha=0.75)\n",
    "reg_df['log10Ki'].hist(bins=30, ax=ax3)\n",
    "clf_mean = clf_df['MolWt'].mean()\n",
    "reg_mean = reg_df['MolWt'].mean()\n",
    "ki_mean = reg_df['log10Ki'].mean()\n",
    "\n",
    "ax1.set_title('Розподіл мол. маси у даних для класифікації')\n",
    "ax1.set_xlabel('Молекулярна маса, а.о.м.')\n",
    "ax1.set_ylabel('Кількість зразків, шт')\n",
    "# ax1.legend(['неактивні', 'активні'], loc='upper left')\n",
    "ax1.axvline(clf_mean, color='red', linestyle='--')\n",
    "ax2.set_ylim([0, 1850])\n",
    "ax1.text(clf_mean-11,\n",
    "         1800,\n",
    "#          weight='bold',\n",
    "         f'{clf_mean:.0f}',\n",
    "         rotation=90,\n",
    "         horizontalalignment='center',\n",
    "#          va='top'\n",
    "        )\n",
    "\n",
    "ax2.set_title('Розподіл мол. маси у даних для регресії')\n",
    "ax2.set_xlabel('Молекулярна маса, а.о.м.')\n",
    "# ax2.set_ylabel('Кількість зразків, шт')\n",
    "ax2.legend(['неактивні', 'активні'], loc='upper left')\n",
    "ax2.axvline(reg_mean, color='red', linestyle='--')\n",
    "ax2.set_ylim([0, 320])\n",
    "ax2.text(reg_mean-15,\n",
    "         292,\n",
    "#          weight='bold',\n",
    "         f'{reg_mean:.0f}',\n",
    "         rotation=90,\n",
    "         horizontalalignment='center',\n",
    "#          va='top'\n",
    "        )\n",
    "\n",
    "ax3.set_title('Розподіл log10Ki')\n",
    "ax3.set_xlabel('log10Ki')\n",
    "ax3.legend(['log10Ki'], loc='upper left')\n",
    "# ax3.set_ylabel('Кількість зразків, шт')\n",
    "# ax3.legend(['неактивні', 'активні'])\n",
    "ax3.axvline(ki_mean, color='red', linestyle='--')\n",
    "ax3.text(ki_mean-0.3,\n",
    "         490, \n",
    "#          weight='bold',\n",
    "         f'{ki_mean:.0f}',\n",
    "         rotation=90,\n",
    "         horizontalalignment='center',\n",
    "#          verticalalignment='top',\n",
    "        )\n",
    "\n",
    "plt.tight_layout()\n",
    "plt.savefig(\"data_distributions.png\", dpi=300)"
   ]
  },
  {
   "cell_type": "code",
   "execution_count": 90,
   "id": "44b617dc-79d1-46ea-8c54-2a7c1616b399",
   "metadata": {},
   "outputs": [],
   "source": [
    "clf_df.to_csv('bin_clf_dataset.csv', index=False)\n",
    "reg_df.to_csv('reg_dataset.csv', index=False)"
   ]
  },
  {
   "cell_type": "markdown",
   "id": "2aec6bdd-e6de-452c-810c-a1279729e6b1",
   "metadata": {},
   "source": [
    "# Molecular Fragments Analysis"
   ]
  },
  {
   "cell_type": "code",
   "execution_count": 82,
   "id": "dcc5e7b3-0033-43bf-9677-b3bae4d9fe16",
   "metadata": {},
   "outputs": [
    {
     "name": "stdout",
     "output_type": "stream",
     "text": [
      "Collecting EFGs\n",
      "  Downloading EFGs-0.8.4.tar.gz (12 kB)\n",
      "Building wheels for collected packages: EFGs\n",
      "  Building wheel for EFGs (setup.py) ... \u001b[?25ldone\n",
      "\u001b[?25h  Created wheel for EFGs: filename=EFGs-0.8.4-py3-none-any.whl size=11345 sha256=d6b6e200287a6ed7e71c528d2d537fb60fc9096f5c400e2f3b148f14e231fe83\n",
      "  Stored in directory: /Users/ogurb/Library/Caches/pip/wheels/58/54/b6/31d67725608e820013fc0d99419de1b3baa718beb01c16aabf\n",
      "Successfully built EFGs\n",
      "Installing collected packages: EFGs\n",
      "Successfully installed EFGs-0.8.4\n"
     ]
    }
   ],
   "source": [
    "! pip install EFGs"
   ]
  },
  {
   "cell_type": "code",
   "execution_count": 8,
   "id": "0ba0248a-cb90-437d-83e0-6413ab408c8a",
   "metadata": {},
   "outputs": [],
   "source": [
    "import EFGs\n",
    "EFGs.__version__\n",
    "from rdkit.Chem.Draw import IPythonConsole\n",
    "from rdkit import Chem\n",
    "from EFGs import mol2frag\n",
    "from collections import Counter\n",
    "# https://github.com/HelloJocelynLu/EFGs/blob/master/Examples/Tutorial.ipynb"
   ]
  },
  {
   "cell_type": "markdown",
   "id": "1167dc03-4df3-4ee2-ac71-f47be7636fe4",
   "metadata": {},
   "source": [
    "## Classification - Active vs Not Active"
   ]
  },
  {
   "cell_type": "code",
   "execution_count": 5,
   "id": "e7f0c76f-2317-4268-a0bf-c6196cc464d9",
   "metadata": {},
   "outputs": [],
   "source": [
    "clf_df = pd.read_csv('bin_clf_dataset.csv')\n",
    "reg_df = pd.read_csv('reg_dataset.csv')"
   ]
  },
  {
   "cell_type": "code",
   "execution_count": 6,
   "id": "0f285524-5902-4845-bd83-b194f882979b",
   "metadata": {},
   "outputs": [],
   "source": [
    "def count_fragments(series_of_smiles):\n",
    "    fragm = Counter()\n",
    "\n",
    "    for smiles in series_of_smiles:\n",
    "        mol = Chem.MolFromSmiles(smiles)\n",
    "        a,b = mol2frag(mol)\n",
    "        fragm.update(a+b)\n",
    "\n",
    "    print(f'There were {len(fragm)} in total')\n",
    "    return fragm\n",
    "\n",
    "def print_dict(d):\n",
    "    for k, v in d.items():\n",
    "        print(f'{k:<15}: {v}')"
   ]
  },
  {
   "cell_type": "code",
   "execution_count": 9,
   "id": "fc5db825-11d8-4b0c-8f9e-cc471045d62b",
   "metadata": {},
   "outputs": [
    {
     "name": "stdout",
     "output_type": "stream",
     "text": [
      "There were 230 in total\n",
      "There were 1840 in total\n",
      "CPU times: user 4min 58s, sys: 2.24 s, total: 5min\n",
      "Wall time: 5min 1s\n"
     ]
    }
   ],
   "source": [
    "%%time\n",
    "\n",
    "clf_active_fragm = count_fragments(clf_df[clf_df.active==1]['SMILES'])\n",
    "clf_inactive_fragm = count_fragments(clf_df[clf_df.active==0]['SMILES'])"
   ]
  },
  {
   "cell_type": "code",
   "execution_count": 20,
   "id": "3ec3ab35-0418-42c1-ae01-e4cf426c741e",
   "metadata": {},
   "outputs": [
    {
     "name": "stdout",
     "output_type": "stream",
     "text": [
      "C020           : 0.13107553732275037\n",
      "c1ccccc1       : 0.11564701685543566\n",
      "C030           : 0.10931508070989031\n",
      "NC=O           : 0.09303932934986177\n",
      "C010           : 0.07562650494961205\n",
      "CC             : 0.06211540176580754\n",
      "N              : 0.04976366717203246\n",
      "O              : 0.04167038259163471\n",
      "F              : 0.030634085436546866\n",
      "CCC            : 0.02927405689824311\n",
      "N=CN           : 0.028716668153036654\n",
      "Cl             : 0.02746811736377419\n",
      "\n",
      "C020           : 0.10596915058458937\n",
      "c1ccccc1       : 0.08691717143259614\n",
      "C030           : 0.10384209043527258\n",
      "NC=O           : 0.065495140160586\n",
      "C010           : 0.12899704183687843\n",
      "CC             : 0.07966967178475842\n",
      "N              : 0.03301873503310326\n",
      "O              : 0.08667065783913228\n",
      "F              : 0.022376391040991688\n",
      "CCC            : 0.015815607832089025\n",
      "N=CN           : 0.0010283138470207071\n",
      "Cl             : 0.01323425834624595\n"
     ]
    },
    {
     "data": {
      "text/html": [
       "<div>\n",
       "<style scoped>\n",
       "    .dataframe tbody tr th:only-of-type {\n",
       "        vertical-align: middle;\n",
       "    }\n",
       "\n",
       "    .dataframe tbody tr th {\n",
       "        vertical-align: top;\n",
       "    }\n",
       "\n",
       "    .dataframe thead th {\n",
       "        text-align: right;\n",
       "    }\n",
       "</style>\n",
       "<table border=\"1\" class=\"dataframe\">\n",
       "  <thead>\n",
       "    <tr style=\"text-align: right;\">\n",
       "      <th></th>\n",
       "      <th>fragment</th>\n",
       "      <th>active</th>\n",
       "      <th>inactive</th>\n",
       "    </tr>\n",
       "  </thead>\n",
       "  <tbody>\n",
       "    <tr>\n",
       "      <th>0</th>\n",
       "      <td>C020</td>\n",
       "      <td>13.107554</td>\n",
       "      <td>10.596915</td>\n",
       "    </tr>\n",
       "    <tr>\n",
       "      <th>1</th>\n",
       "      <td>c1ccccc1</td>\n",
       "      <td>11.564702</td>\n",
       "      <td>8.691717</td>\n",
       "    </tr>\n",
       "    <tr>\n",
       "      <th>2</th>\n",
       "      <td>C030</td>\n",
       "      <td>10.931508</td>\n",
       "      <td>10.384209</td>\n",
       "    </tr>\n",
       "    <tr>\n",
       "      <th>3</th>\n",
       "      <td>NC=O</td>\n",
       "      <td>9.303933</td>\n",
       "      <td>6.549514</td>\n",
       "    </tr>\n",
       "    <tr>\n",
       "      <th>4</th>\n",
       "      <td>C010</td>\n",
       "      <td>7.562650</td>\n",
       "      <td>12.899704</td>\n",
       "    </tr>\n",
       "    <tr>\n",
       "      <th>5</th>\n",
       "      <td>CC</td>\n",
       "      <td>6.211540</td>\n",
       "      <td>7.966967</td>\n",
       "    </tr>\n",
       "    <tr>\n",
       "      <th>6</th>\n",
       "      <td>N</td>\n",
       "      <td>4.976367</td>\n",
       "      <td>3.301874</td>\n",
       "    </tr>\n",
       "    <tr>\n",
       "      <th>7</th>\n",
       "      <td>O</td>\n",
       "      <td>4.167038</td>\n",
       "      <td>8.667066</td>\n",
       "    </tr>\n",
       "    <tr>\n",
       "      <th>8</th>\n",
       "      <td>F</td>\n",
       "      <td>3.063409</td>\n",
       "      <td>2.237639</td>\n",
       "    </tr>\n",
       "    <tr>\n",
       "      <th>9</th>\n",
       "      <td>CCC</td>\n",
       "      <td>2.927406</td>\n",
       "      <td>1.581561</td>\n",
       "    </tr>\n",
       "    <tr>\n",
       "      <th>10</th>\n",
       "      <td>N=CN</td>\n",
       "      <td>2.871667</td>\n",
       "      <td>0.102831</td>\n",
       "    </tr>\n",
       "    <tr>\n",
       "      <th>11</th>\n",
       "      <td>Cl</td>\n",
       "      <td>2.746812</td>\n",
       "      <td>1.323426</td>\n",
       "    </tr>\n",
       "  </tbody>\n",
       "</table>\n",
       "</div>"
      ],
      "text/plain": [
       "    fragment     active   inactive\n",
       "0       C020  13.107554  10.596915\n",
       "1   c1ccccc1  11.564702   8.691717\n",
       "2       C030  10.931508  10.384209\n",
       "3       NC=O   9.303933   6.549514\n",
       "4       C010   7.562650  12.899704\n",
       "5         CC   6.211540   7.966967\n",
       "6          N   4.976367   3.301874\n",
       "7          O   4.167038   8.667066\n",
       "8          F   3.063409   2.237639\n",
       "9        CCC   2.927406   1.581561\n",
       "10      N=CN   2.871667   0.102831\n",
       "11        Cl   2.746812   1.323426"
      ]
     },
     "execution_count": 20,
     "metadata": {},
     "output_type": "execute_result"
    }
   ],
   "source": [
    "num_most_common = 12\n",
    "\n",
    "clf_active_fragm2 = dict(clf_active_fragm)\n",
    "act_fragm_num = sum(clf_active_fragm2.values())\n",
    "clf_active_fragm2 = {k: v/act_fragm_num for k, v in clf_active_fragm2.items()}\n",
    "\n",
    "clf_inactive_fragm2 = dict(clf_inactive_fragm)\n",
    "inact_fragm_num = sum(clf_inactive_fragm2.values())\n",
    "clf_inactive_fragm2 = {k: v/inact_fragm_num for k, v in clf_inactive_fragm2.items()}\n",
    "\n",
    "active_fragm_most_common = dict(Counter(clf_active_fragm2).most_common(num_most_common))\n",
    "inactive_fragm_most_common = {x: clf_inactive_fragm2[x] for x in active_fragm_most_common}\n",
    "\n",
    "print_dict(active_fragm_most_common)\n",
    "print()\n",
    "print_dict(inactive_fragm_most_common)\n",
    "\n",
    "clf_plot_df = pd.DataFrame(active_fragm_most_common.items(), columns=['fragment', 'active']) \n",
    "clf_plot_df['inactive'] = inactive_fragm_most_common.values()\n",
    "\n",
    "# to percents\n",
    "clf_plot_df['inactive'] = clf_plot_df['inactive'] * 100\n",
    "clf_plot_df['active'] = clf_plot_df['active'] * 100\n",
    "\n",
    "clf_plot_df"
   ]
  },
  {
   "cell_type": "code",
   "execution_count": 21,
   "id": "69faa7b8-5136-4266-bb09-46187232bf1b",
   "metadata": {},
   "outputs": [
    {
     "name": "stdout",
     "output_type": "stream",
     "text": [
      "Bin edges: [-2.30103     1.92427929  3.59106461  7.        ]\n",
      "There were 132 in total\n",
      "There were 151 in total\n",
      "There were 136 in total\n"
     ]
    },
    {
     "data": {
      "text/html": [
       "<div>\n",
       "<style scoped>\n",
       "    .dataframe tbody tr th:only-of-type {\n",
       "        vertical-align: middle;\n",
       "    }\n",
       "\n",
       "    .dataframe tbody tr th {\n",
       "        vertical-align: top;\n",
       "    }\n",
       "\n",
       "    .dataframe thead th {\n",
       "        text-align: right;\n",
       "    }\n",
       "</style>\n",
       "<table border=\"1\" class=\"dataframe\">\n",
       "  <thead>\n",
       "    <tr style=\"text-align: right;\">\n",
       "      <th></th>\n",
       "      <th>fragment</th>\n",
       "      <th>q1</th>\n",
       "      <th>q2</th>\n",
       "      <th>q3</th>\n",
       "    </tr>\n",
       "  </thead>\n",
       "  <tbody>\n",
       "    <tr>\n",
       "      <th>0</th>\n",
       "      <td>C020</td>\n",
       "      <td>15.219396</td>\n",
       "      <td>11.510380</td>\n",
       "      <td>10.044569</td>\n",
       "    </tr>\n",
       "    <tr>\n",
       "      <th>1</th>\n",
       "      <td>C030</td>\n",
       "      <td>13.326463</td>\n",
       "      <td>8.805790</td>\n",
       "      <td>8.448081</td>\n",
       "    </tr>\n",
       "    <tr>\n",
       "      <th>2</th>\n",
       "      <td>NC=O</td>\n",
       "      <td>9.735857</td>\n",
       "      <td>7.897911</td>\n",
       "      <td>9.173152</td>\n",
       "    </tr>\n",
       "    <tr>\n",
       "      <th>3</th>\n",
       "      <td>c1ccccc1</td>\n",
       "      <td>9.611108</td>\n",
       "      <td>13.535649</td>\n",
       "      <td>14.714295</td>\n",
       "    </tr>\n",
       "    <tr>\n",
       "      <th>4</th>\n",
       "      <td>C010</td>\n",
       "      <td>7.604274</td>\n",
       "      <td>8.323281</td>\n",
       "      <td>7.616577</td>\n",
       "    </tr>\n",
       "  </tbody>\n",
       "</table>\n",
       "</div>"
      ],
      "text/plain": [
       "   fragment         q1         q2         q3\n",
       "0      C020  15.219396  11.510380  10.044569\n",
       "1      C030  13.326463   8.805790   8.448081\n",
       "2      NC=O   9.735857   7.897911   9.173152\n",
       "3  c1ccccc1   9.611108  13.535649  14.714295\n",
       "4      C010   7.604274   8.323281   7.616577"
      ]
     },
     "execution_count": 21,
     "metadata": {},
     "output_type": "execute_result"
    }
   ],
   "source": [
    "num_most_common = 12\n",
    "most_common = None\n",
    "quantiles, bin_edges = pd.qcut(reg_df['log10Ki'], q=3, labels=['q1', 'q2', 'q3'], retbins=True)\n",
    "reg_df['quantiles'] = quantiles\n",
    "print('Bin edges:', bin_edges)\n",
    "reg_df['quantiles'].value_counts()\n",
    "reg_fragm_list = []\n",
    "\n",
    "for q in reg_df.groupby(['quantiles']):\n",
    "    q_fragm_dict = dict(count_fragments(q[1]['SMILES']))\n",
    "    act_fragm_num = sum(q_fragm_dict.values())\n",
    "    q_fragm_dict = {k: v/act_fragm_num for k, v in q_fragm_dict.items()}\n",
    "    \n",
    "    if most_common is None:\n",
    "        most_common = dict(Counter(q_fragm_dict).most_common(num_most_common))\n",
    "        reg_fragm_list.append(most_common)\n",
    "    else:\n",
    "        reg_fragm_list.append({x: q_fragm_dict[x] for x in most_common})\n",
    "        \n",
    "reg_plot_df = pd.DataFrame(reg_fragm_list[0].items(), columns=['fragment', 'q1']) \n",
    "reg_plot_df['q2'] = reg_fragm_list[1].values()\n",
    "reg_plot_df['q3'] = reg_fragm_list[2].values()\n",
    "\n",
    "# to percents\n",
    "reg_plot_df['q1'] = reg_plot_df['q1'] * 100\n",
    "reg_plot_df['q2'] = reg_plot_df['q2'] * 100\n",
    "reg_plot_df['q3'] = reg_plot_df['q3'] * 100\n",
    "\n",
    "reg_plot_df.head()"
   ]
  },
  {
   "cell_type": "code",
   "execution_count": 22,
   "id": "7245366f-0bfe-443f-9c3c-c368b66654ec",
   "metadata": {},
   "outputs": [
    {
     "data": {
      "image/png": "[encoded data removed]",
      "text/plain": [
       "<Figure size 1296x432 with 2 Axes>"
      ]
     },
     "metadata": {},
     "output_type": "display_data"
    }
   ],
   "source": [
    "f, (ax1, ax2) = plt.subplots(1, 2, figsize=(18, 6))\n",
    "\n",
    "clf_plot_df.plot.bar(ax=ax1, color=['green', 'gray'])\n",
    "reg_plot_df.plot.bar(ax=ax2, color=['green', 'mediumaquamarine', 'grey'])\n",
    "\n",
    "ax1.grid(color = 'gray', linestyle = '--', linewidth = 1, alpha=.5)\n",
    "ax2.grid(color = 'gray', linestyle = '--', linewidth = 1, alpha=.5)\n",
    "\n",
    "ax1.tick_params(axis='both', which='major', labelsize=14)\n",
    "ax2.tick_params(axis='both', which='major', labelsize=14)\n",
    "\n",
    "# ax1.set_title('Порівняння частоти зустрічання функціональних груп')\n",
    "ax1.set_xticks(clf_plot_df.index, labels=clf_plot_df.fragment)\n",
    "ax1.yaxis.set_major_formatter(mtick.PercentFormatter(decimals=0))\n",
    "ax1.legend(labels=['Активні', 'Неактивні'], fontsize=14)\n",
    "\n",
    "ax2.set_xticks(reg_plot_df.index, labels=reg_plot_df.fragment)\n",
    "ax2.yaxis.set_major_formatter(mtick.PercentFormatter(decimals=0))\n",
    "ax2.legend(labels=['q1', 'q2', 'q3'], fontsize=14)\n",
    "\n",
    "plt.tight_layout()\n",
    "plt.savefig(\"func_groups_freq.png\", dpi=300)"
   ]
  },
  {
   "cell_type": "markdown",
   "id": "de4a824a-04c6-4bb8-b1a5-bab3c29db058",
   "metadata": {},
   "source": [
    "# FP-FN"
   ]
  },
  {
   "cell_type": "code",
   "execution_count": 2,
   "id": "f82cd81b-e209-4f98-8059-cdd0e2513d3c",
   "metadata": {},
   "outputs": [
    {
     "data": {
      "image/png": "[encoded data removed]",
      "text/plain": [
       "<Figure size 720x288 with 4 Axes>"
      ]
     },
     "metadata": {
      "needs_background": "light"
     },
     "output_type": "display_data"
    }
   ],
   "source": [
    "import matplotlib.pyplot as plt\n",
    "import numpy as np\n",
    "import seaborn as sns\n",
    "\n",
    "cols = ['SVM', 'RF', 'CB', 'FNN', 'GNN', 'BERT']\n",
    "\n",
    "FPs = [[1,     0.72, 0.36, 0.51, 0.32, 0.53],\n",
    "        [0.72, 1,    0.32, 0.42, 0.30, 0.63],\n",
    "        [0.36, 0.32, 1,    0.34, 0.23, 0.30],\n",
    "        [0.51, 0.42, 0.34, 1,    0.18, 0.32],\n",
    "        [0.32, 0.30, 0.23, 0.18, 1,    0.30],\n",
    "        [0.53, 0.63, 0.30, 0.32, 0.30, 1]]\n",
    "\n",
    "FNs = [[1,     0.88, 0.86, 0.92, 0.61, 0.81],\n",
    "        [0.88, 1,    0.82, 0.84, 0.60, 0.80],\n",
    "        [0.86, 0.82, 1,    0.86, 0.61, 0.78],\n",
    "        [0.92, 0.84, 0.86, 1,    0.60, 0.77],\n",
    "        [0.61, 0.60, 0.61, 0.60, 1,    0.59],\n",
    "        [0.81, 0.80, 0.78, 0.77, 0.59, 1]]\n",
    "\n",
    "f, (ax1, ax2) = plt.subplots(1, 2,\n",
    "#                              sharey=True,\n",
    "                             figsize=(10, 4))\n",
    "sns.heatmap(FPs,\n",
    "            cmap=\"viridis\",\n",
    "            annot=True,\n",
    "            robust=True,\n",
    "            xticklabels=cols,\n",
    "            yticklabels=cols,\n",
    "            cbar_kws={\"location\": \"left\"},\n",
    "            ax=ax1)\n",
    "sns.heatmap(FNs,\n",
    "            cmap=\"viridis\",\n",
    "            annot=True,\n",
    "            robust=True,\n",
    "            xticklabels=cols,\n",
    "            yticklabels=cols,\n",
    "            ax=ax2)\n",
    "ax1.set_title('FP IoU')\n",
    "ax2.set_title('FN IoU')\n",
    "f.tight_layout()\n",
    "plt.savefig(\"seaborn_combine_two_plots_with_shared_x_axis_Python.png\", dpi=300)"
   ]
  },
  {
   "cell_type": "code",
   "execution_count": null,
   "id": "b5e7e26b-4c13-47f0-ba89-70233a03473f",
   "metadata": {},
   "outputs": [],
   "source": [
    "import matplotlib.pyplot as plt\n",
    "import numpy as np\n",
    "import seaborn as sns\n",
    "\n",
    "cols = ['SVM', 'RF', 'CB', 'FNN', 'GNN', 'BERT']\n",
    "\n",
    "Accuracy\n",
    "Precision\n",
    "Recall\n",
    "ROC\n",
    "AUC\n",
    "Average precision\n",
    "\n",
    "0.95 0.93 0.94\n",
    "0.84 0.80 0.87\n",
    "0.91 0.82 0.77\n",
    "0.98 0.97 0.97\n",
    "0.89 0.83 0.87\n",
    "\n",
    "0.95 0.88 0.87\n",
    "0.85 0.80 0.69\n",
    "0.86 0.45 0.55\n",
    "0.91 0.94 0.90\n",
    "0.76 0.75 0.70"
   ]
  },
  {
   "cell_type": "markdown",
   "id": "d82b3def-e8ef-4e44-b403-5ffa6529ce10",
   "metadata": {},
   "source": [
    "# GLM Coefficients"
   ]
  },
  {
   "cell_type": "code",
   "execution_count": 6,
   "id": "25b67e7c-ce51-43e9-81f2-632debf3c50d",
   "metadata": {},
   "outputs": [
    {
     "data": {
      "text/html": [
       "<div>\n",
       "<style scoped>\n",
       "    .dataframe tbody tr th:only-of-type {\n",
       "        vertical-align: middle;\n",
       "    }\n",
       "\n",
       "    .dataframe tbody tr th {\n",
       "        vertical-align: top;\n",
       "    }\n",
       "\n",
       "    .dataframe thead th {\n",
       "        text-align: right;\n",
       "    }\n",
       "</style>\n",
       "<table border=\"1\" class=\"dataframe\">\n",
       "  <thead>\n",
       "    <tr style=\"text-align: right;\">\n",
       "      <th></th>\n",
       "      <th>Model</th>\n",
       "      <th>clf</th>\n",
       "      <th>reg</th>\n",
       "    </tr>\n",
       "  </thead>\n",
       "  <tbody>\n",
       "    <tr>\n",
       "      <th>0</th>\n",
       "      <td>GNN</td>\n",
       "      <td>29.739858</td>\n",
       "      <td>26.048221</td>\n",
       "    </tr>\n",
       "    <tr>\n",
       "      <th>1</th>\n",
       "      <td>CB</td>\n",
       "      <td>25.677251</td>\n",
       "      <td>21.036542</td>\n",
       "    </tr>\n",
       "    <tr>\n",
       "      <th>2</th>\n",
       "      <td>BERT</td>\n",
       "      <td>21.080091</td>\n",
       "      <td>17.551587</td>\n",
       "    </tr>\n",
       "    <tr>\n",
       "      <th>3</th>\n",
       "      <td>RF</td>\n",
       "      <td>11.239524</td>\n",
       "      <td>13.461502</td>\n",
       "    </tr>\n",
       "    <tr>\n",
       "      <th>4</th>\n",
       "      <td>SVM</td>\n",
       "      <td>8.550869</td>\n",
       "      <td>11.381768</td>\n",
       "    </tr>\n",
       "    <tr>\n",
       "      <th>5</th>\n",
       "      <td>FNN</td>\n",
       "      <td>3.712408</td>\n",
       "      <td>10.520380</td>\n",
       "    </tr>\n",
       "  </tbody>\n",
       "</table>\n",
       "</div>"
      ],
      "text/plain": [
       "  Model        clf        reg\n",
       "0   GNN  29.739858  26.048221\n",
       "1    CB  25.677251  21.036542\n",
       "2  BERT  21.080091  17.551587\n",
       "3    RF  11.239524  13.461502\n",
       "4   SVM   8.550869  11.381768\n",
       "5   FNN   3.712408  10.520380"
      ]
     },
     "execution_count": 6,
     "metadata": {},
     "output_type": "execute_result"
    }
   ],
   "source": [
    "import pandas as pd\n",
    "# \tXGBoost_3_AutoML_2_20220319_231657\t1.218019\tPOS\n",
    "# 1\tXGBoost_2_AutoML_2_20220319_231657\t0.996290\tPOS\n",
    "# 2\tXGBoost_1_AutoML_2_20220319_231657\t0.827449\tPOS\n",
    "# 3\tXGBoost_grid_1_AutoML_2_20220319_231657_model_2\t0.399600\tPOS\n",
    "# 4\tDeepLearning_grid_1_AutoML_2_20220319_231657_model_1\t0.361370\tPOS\n",
    "# 5\tXGBoost_grid_1_AutoML_2_20220319_231657_model_1\t0.286282\tPOS\n",
    "\n",
    "clf =   [0.23156108557814709,\n",
    "         0.19992872709190296,\n",
    "         0.1641342265381297,\n",
    "         0.08751340510657078,\n",
    "         0.06657894927684407,\n",
    "         0.02890562230129885]\n",
    "\n",
    "# XGBoost_grid_1_AutoML_1_20220319_223540_model_28\t0.222424\tPOS\n",
    "# 1\tXGBoost_grid_1_AutoML_1_20220319_223540_model_19\t0.178988\tPOS\n",
    "# 2\tXGBoost_grid_1_AutoML_1_20220319_223540_model_38\t0.148602\tPOS\n",
    "# 3\tXGBoost_grid_1_AutoML_1_20220319_223540_model_26\t0.115002\tPOS\n",
    "# 4\tDeepLearning_grid_1_AutoML_1_20220319_223540_model_1\t0.104676\tPOS\n",
    "# 5\tXGBoost_grid_1_AutoML_1_20220319_223540_model_32\t0.090701\tPOS\n",
    "\n",
    "reg =   [0.14280503927810223,\n",
    "         0.11532934703495447,\n",
    "         0.09622365721483771,\n",
    "         0.07380044951809603,\n",
    "         0.06239864891961441,\n",
    "         0.057676235283944104]\n",
    "\n",
    "model = ['GNN', 'CB', 'BERT', 'RF', 'SVM', 'FNN']\n",
    "\n",
    "df = pd.DataFrame(list(zip(model, clf, reg)),\n",
    "                  columns =['Model', 'clf', 'reg'])\n",
    "\n",
    "df['clf'] = (df['clf'] / df['clf'].sum()) * 100\n",
    "df['reg'] = (df['reg'] / df['reg'].sum()) * 100\n",
    "\n",
    "df"
   ]
  },
  {
   "cell_type": "code",
   "execution_count": 11,
   "id": "703046b5-3d5c-43db-aa28-90f3ace88883",
   "metadata": {},
   "outputs": [
    {
     "data": {
      "image/png": "[encoded data removed]",
      "text/plain": [
       "<Figure size 720x432 with 1 Axes>"
      ]
     },
     "metadata": {},
     "output_type": "display_data"
    }
   ],
   "source": [
    "f, ax = plt.subplots(1, 1, figsize=(10, 6))\n",
    "\n",
    "df.plot.bar(ax=ax)\n",
    "\n",
    "ax.grid(color = 'gray', linestyle = '--', linewidth = 1, alpha=.5)\n",
    "ax.tick_params(axis='both', which='major', labelsize=14)\n",
    "\n",
    "# ax1.set_title('Порівняння частоти зустрічання функціональних груп')\n",
    "ax.set_xticks(df.index, labels=df['Model'])\n",
    "ax.yaxis.set_major_formatter(mtick.PercentFormatter(decimals=0))\n",
    "ax.legend(labels=['Класифікація', 'Регресія'], fontsize=14)\n",
    "\n",
    "\n",
    "plt.savefig(\"model_importance.png\", dpi=300)"
   ]
  },
  {
   "cell_type": "code",
   "execution_count": null,
   "id": "ad0e005e-75ef-4943-bd72-85d71205fad6",
   "metadata": {},
   "outputs": [],
   "source": []
  }
 ],
 "metadata": {
  "kernelspec": {
   "display_name": "Python 3 (ipykernel)",
   "language": "python",
   "name": "python3"
  },
  "language_info": {
   "codemirror_mode": {
    "name": "ipython",
    "version": 3
   },
   "file_extension": ".py",
   "mimetype": "text/x-python",
   "name": "python",
   "nbconvert_exporter": "python",
   "pygments_lexer": "ipython3",
   "version": "3.8.11"
  }
 },
 "nbformat": 4,
 "nbformat_minor": 5
}
