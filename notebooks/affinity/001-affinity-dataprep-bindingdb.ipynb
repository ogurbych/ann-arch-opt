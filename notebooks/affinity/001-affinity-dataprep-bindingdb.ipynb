{
 "cells": [
  {
   "cell_type": "code",
   "execution_count": 1,
   "id": "eeff5b66-6792-4e49-a1b5-8c53415ecd9e",
   "metadata": {},
   "outputs": [],
   "source": [
    "import pandas as pd\n",
    "import numpy as np\n",
    "\n",
    "from tqdm import tqdm"
   ]
  },
  {
   "cell_type": "code",
   "execution_count": 2,
   "id": "f5e2a92a-c011-43d1-8ecc-afdbfb550fe7",
   "metadata": {},
   "outputs": [],
   "source": [
    "fasta_thrb='MAHVRGLQLPGCLALAALCSLVHSQHVFLAPQQARSLLQRVRRANTFLEEVRKGNLERECVEETCSYEEAFEALESSTATDVFWAKYTACETARTPRDKLAACLEGNCAEGLGTNYRGHVNITRSGIECQLWRSRYPHKPEINSTTHPGADLQENFCRNPDSSTTGPWCYTTDPTVRRQECSIPVCGQDQVTVAMTPRSEGSSVNLSPPLEQCVPDRGQQYQGRLAVTTHGLPCLAWASAQAKALSKHQDFNSAVQLVENFCRNPDGDEEGVWCYVAGKPGDFGYCDLNYCEEAVEEETGDGLDEDSDRAIEGRTATSEYQTFFNPRTFGSGEADCGLRPLFEKKSLEDKTERELLESYIDGRIVEGSDAEIGMSPWQVMLFRKSPQELLCGASLISDRWVLTAAHCLLYPPWDKNFTENDLLVRIGKHSRTRYERNIEKISMLEKIYIHPRYNWRENLDRDIALMKLKKPVAFSDYIHPVCLPDRETAASLLQAGYKGRVTGWGNLKETWTANVGKGQPSVLQVVNLPIVERPVCKDSTRIRITDNMFCAGYKPDEGKRGDACEGDSGGPFVMKSPFNNRWYQMGIVSWGEGCDRDGKYGFYTHVFRLKKWIQKVIDQFGE'"
   ]
  },
  {
   "cell_type": "code",
   "execution_count": 23,
   "id": "41985fe4-4059-4daa-abc3-3031ea20bb82",
   "metadata": {
    "collapsed": true,
    "jupyter": {
     "outputs_hidden": true
    },
    "tags": []
   },
   "outputs": [
    {
     "name": "stderr",
     "output_type": "stream",
     "text": [
      "/var/folders/n5/wrds_wts3jq42tqpd0mjn2mr0000gn/T/ipykernel_49194/487690276.py:1: FutureWarning: The error_bad_lines argument has been deprecated and will be removed in a future version. Use on_bad_lines in the future.\n",
      "\n",
      "\n",
      "  df = pd.read_csv('data-raw/BindingDB_All.tsv',\n",
      "b'Skipping line 1043973: expected 193 fields, saw 205\\nSkipping line 1043999: expected 193 fields, saw 205\\n'\n",
      "b'Skipping line 1076692: expected 193 fields, saw 205\\n'\n",
      "b'Skipping line 1099362: expected 193 fields, saw 265\\n'\n",
      "b'Skipping line 1503068: expected 193 fields, saw 241\\n'\n",
      "b'Skipping line 1616973: expected 193 fields, saw 241\\nSkipping line 1616974: expected 193 fields, saw 241\\nSkipping line 1616975: expected 193 fields, saw 241\\nSkipping line 1616976: expected 193 fields, saw 241\\nSkipping line 1616977: expected 193 fields, saw 241\\nSkipping line 1616978: expected 193 fields, saw 241\\nSkipping line 1616979: expected 193 fields, saw 241\\nSkipping line 1616980: expected 193 fields, saw 241\\nSkipping line 1616981: expected 193 fields, saw 241\\n'\n",
      "b'Skipping line 1630246: expected 193 fields, saw 205\\n'\n",
      "b'Skipping line 1649469: expected 193 fields, saw 241\\nSkipping line 1649470: expected 193 fields, saw 241\\nSkipping line 1649471: expected 193 fields, saw 241\\nSkipping line 1649472: expected 193 fields, saw 241\\nSkipping line 1649473: expected 193 fields, saw 241\\nSkipping line 1649474: expected 193 fields, saw 241\\nSkipping line 1649475: expected 193 fields, saw 241\\nSkipping line 1649476: expected 193 fields, saw 241\\nSkipping line 1649477: expected 193 fields, saw 241\\n'\n",
      "b'Skipping line 1688647: expected 193 fields, saw 205\\n'\n",
      "b'Skipping line 2074855: expected 193 fields, saw 265\\n'\n",
      "b'Skipping line 2162076: expected 193 fields, saw 265\\nSkipping line 2162077: expected 193 fields, saw 265\\nSkipping line 2162078: expected 193 fields, saw 265\\nSkipping line 2162079: expected 193 fields, saw 265\\nSkipping line 2162080: expected 193 fields, saw 265\\nSkipping line 2162081: expected 193 fields, saw 265\\nSkipping line 2162082: expected 193 fields, saw 265\\nSkipping line 2162083: expected 193 fields, saw 265\\nSkipping line 2162084: expected 193 fields, saw 265\\nSkipping line 2162085: expected 193 fields, saw 265\\nSkipping line 2162086: expected 193 fields, saw 265\\nSkipping line 2162087: expected 193 fields, saw 265\\nSkipping line 2162088: expected 193 fields, saw 265\\nSkipping line 2162089: expected 193 fields, saw 265\\nSkipping line 2162090: expected 193 fields, saw 265\\nSkipping line 2162091: expected 193 fields, saw 265\\nSkipping line 2162092: expected 193 fields, saw 265\\nSkipping line 2162093: expected 193 fields, saw 265\\nSkipping line 2162094: expected 193 fields, saw 265\\nSkipping line 2162712: expected 193 fields, saw 265\\nSkipping line 2162713: expected 193 fields, saw 265\\nSkipping line 2162714: expected 193 fields, saw 265\\nSkipping line 2162715: expected 193 fields, saw 265\\nSkipping line 2162716: expected 193 fields, saw 265\\nSkipping line 2162717: expected 193 fields, saw 265\\nSkipping line 2162718: expected 193 fields, saw 265\\n'\n",
      "b'Skipping line 2174129: expected 193 fields, saw 265\\nSkipping line 2174130: expected 193 fields, saw 265\\nSkipping line 2174131: expected 193 fields, saw 265\\nSkipping line 2174132: expected 193 fields, saw 265\\nSkipping line 2174133: expected 193 fields, saw 265\\nSkipping line 2174134: expected 193 fields, saw 265\\nSkipping line 2174135: expected 193 fields, saw 265\\nSkipping line 2174136: expected 193 fields, saw 265\\nSkipping line 2174137: expected 193 fields, saw 265\\nSkipping line 2174138: expected 193 fields, saw 265\\nSkipping line 2174139: expected 193 fields, saw 265\\nSkipping line 2174140: expected 193 fields, saw 265\\nSkipping line 2174141: expected 193 fields, saw 265\\nSkipping line 2174142: expected 193 fields, saw 265\\nSkipping line 2174143: expected 193 fields, saw 265\\nSkipping line 2174144: expected 193 fields, saw 265\\nSkipping line 2174145: expected 193 fields, saw 265\\nSkipping line 2174146: expected 193 fields, saw 265\\nSkipping line 2174147: expected 193 fields, saw 265\\nSkipping line 2174148: expected 193 fields, saw 265\\nSkipping line 2174149: expected 193 fields, saw 265\\nSkipping line 2174150: expected 193 fields, saw 265\\nSkipping line 2174151: expected 193 fields, saw 265\\nSkipping line 2174152: expected 193 fields, saw 265\\nSkipping line 2174153: expected 193 fields, saw 265\\nSkipping line 2174154: expected 193 fields, saw 265\\nSkipping line 2174155: expected 193 fields, saw 265\\nSkipping line 2174156: expected 193 fields, saw 265\\nSkipping line 2174157: expected 193 fields, saw 265\\nSkipping line 2174158: expected 193 fields, saw 265\\nSkipping line 2174159: expected 193 fields, saw 265\\nSkipping line 2174160: expected 193 fields, saw 265\\nSkipping line 2174161: expected 193 fields, saw 265\\nSkipping line 2174162: expected 193 fields, saw 265\\nSkipping line 2174163: expected 193 fields, saw 265\\nSkipping line 2174164: expected 193 fields, saw 265\\nSkipping line 2174165: expected 193 fields, saw 265\\nSkipping line 2174166: expected 193 fields, saw 265\\nSkipping line 2174167: expected 193 fields, saw 265\\n'\n",
      "b'Skipping line 2176764: expected 193 fields, saw 265\\nSkipping line 2176765: expected 193 fields, saw 265\\nSkipping line 2176766: expected 193 fields, saw 265\\nSkipping line 2176767: expected 193 fields, saw 265\\nSkipping line 2176768: expected 193 fields, saw 265\\nSkipping line 2176769: expected 193 fields, saw 265\\nSkipping line 2176770: expected 193 fields, saw 265\\nSkipping line 2176771: expected 193 fields, saw 265\\n'\n",
      "b'Skipping line 2189319: expected 193 fields, saw 313\\n'\n",
      "b'Skipping line 2206863: expected 193 fields, saw 637\\n'\n",
      "b'Skipping line 2257213: expected 193 fields, saw 385\\n'\n",
      "b'Skipping line 2273077: expected 193 fields, saw 265\\nSkipping line 2273078: expected 193 fields, saw 265\\nSkipping line 2273079: expected 193 fields, saw 265\\nSkipping line 2273080: expected 193 fields, saw 265\\nSkipping line 2273081: expected 193 fields, saw 265\\n'\n",
      "b'Skipping line 2284831: expected 193 fields, saw 265\\nSkipping line 2284832: expected 193 fields, saw 265\\nSkipping line 2284833: expected 193 fields, saw 265\\n'\n",
      "b'Skipping line 2324973: expected 193 fields, saw 265\\nSkipping line 2324974: expected 193 fields, saw 265\\nSkipping line 2324975: expected 193 fields, saw 265\\nSkipping line 2324981: expected 193 fields, saw 265\\nSkipping line 2324982: expected 193 fields, saw 265\\nSkipping line 2324983: expected 193 fields, saw 265\\nSkipping line 2324984: expected 193 fields, saw 265\\nSkipping line 2324985: expected 193 fields, saw 265\\nSkipping line 2324986: expected 193 fields, saw 265\\nSkipping line 2324987: expected 193 fields, saw 265\\nSkipping line 2324988: expected 193 fields, saw 265\\nSkipping line 2324989: expected 193 fields, saw 265\\nSkipping line 2324990: expected 193 fields, saw 265\\nSkipping line 2324991: expected 193 fields, saw 265\\nSkipping line 2324992: expected 193 fields, saw 265\\nSkipping line 2324993: expected 193 fields, saw 265\\nSkipping line 2324994: expected 193 fields, saw 265\\nSkipping line 2324995: expected 193 fields, saw 265\\nSkipping line 2324996: expected 193 fields, saw 265\\nSkipping line 2324997: expected 193 fields, saw 265\\nSkipping line 2324998: expected 193 fields, saw 265\\nSkipping line 2324999: expected 193 fields, saw 265\\nSkipping line 2325001: expected 193 fields, saw 265\\nSkipping line 2325002: expected 193 fields, saw 265\\nSkipping line 2325003: expected 193 fields, saw 265\\nSkipping line 2325004: expected 193 fields, saw 265\\nSkipping line 2325007: expected 193 fields, saw 265\\nSkipping line 2325008: expected 193 fields, saw 265\\nSkipping line 2325009: expected 193 fields, saw 265\\nSkipping line 2325010: expected 193 fields, saw 265\\nSkipping line 2325011: expected 193 fields, saw 265\\nSkipping line 2325012: expected 193 fields, saw 265\\nSkipping line 2325013: expected 193 fields, saw 265\\n'\n",
      "b'Skipping line 2341510: expected 193 fields, saw 265\\nSkipping line 2341511: expected 193 fields, saw 265\\nSkipping line 2341558: expected 193 fields, saw 265\\n'\n",
      "/var/folders/n5/wrds_wts3jq42tqpd0mjn2mr0000gn/T/ipykernel_49194/487690276.py:1: DtypeWarning: Columns (8,9,10,11,12,13,15,17,18,19,20,26,27,31,32,34,35,46,49,50,51,52,53,54,61,62,63,64,65,66,73,74,75,76,77,78,85,86,87,88,89,90,97,98,99,100,101,102,109,110,111,112,113,114,121,122,123,124,125,126,133,134,135,136,137,138,145,147,148,149,150,157,158,159,160,161,162,169,171,172,173,174) have mixed types. Specify dtype option on import or set low_memory=False.\n",
      "  df = pd.read_csv('data-raw/BindingDB_All.tsv',\n"
     ]
    },
    {
     "data": {
      "text/plain": [
       "(4161, 2)"
      ]
     },
     "execution_count": 23,
     "metadata": {},
     "output_type": "execute_result"
    }
   ],
   "source": [
    "%%time\n",
    "\n",
    "df = pd.read_csv('data-raw/BindingDB_All.tsv',\n",
    "                 sep='\\t',\n",
    "                 error_bad_lines=False)\n",
    "df = df[df['Target Name Assigned by Curator or DataSource'].str.contains('thrombin')]\n",
    "df = df.drop_duplicates(subset=['Ligand SMILES'])\n",
    "df = df.dropna(subset=['Ki (nM)'])\n",
    "df = df[['Ligand SMILES',\n",
    "         'Target Name Assigned by Curator or DataSource',\n",
    "         'Target Source Organism According to Curator or DataSource',\n",
    "         'Ki (nM)',\n",
    "         'BindingDB Target Chain  Sequence',\n",
    "         'Number of Protein Chains in Target (>1 implies a multichain complex)']]\n",
    "df = df[['Ligand SMILES', 'Ki (nM)']]\n",
    "df.to_csv('bindingdb.csv', index='None')\n",
    "df.shape"
   ]
  },
  {
   "cell_type": "code",
   "execution_count": 24,
   "id": "6415cdd6-9681-412a-95d3-a01a7bb0b08d",
   "metadata": {},
   "outputs": [
    {
     "data": {
      "text/html": [
       "<div>\n",
       "<style scoped>\n",
       "    .dataframe tbody tr th:only-of-type {\n",
       "        vertical-align: middle;\n",
       "    }\n",
       "\n",
       "    .dataframe tbody tr th {\n",
       "        vertical-align: top;\n",
       "    }\n",
       "\n",
       "    .dataframe thead th {\n",
       "        text-align: right;\n",
       "    }\n",
       "</style>\n",
       "<table border=\"1\" class=\"dataframe\">\n",
       "  <thead>\n",
       "    <tr style=\"text-align: right;\">\n",
       "      <th></th>\n",
       "      <th>Ligand SMILES</th>\n",
       "      <th>Ki (nM)</th>\n",
       "    </tr>\n",
       "  </thead>\n",
       "  <tbody>\n",
       "    <tr>\n",
       "      <th>22618</th>\n",
       "      <td>NC(=N)c1cccc(CN2CCN(CC2=O)S(=O)(=O)c2cc3ccc(Cl...</td>\n",
       "      <td>&gt;4000</td>\n",
       "    </tr>\n",
       "    <tr>\n",
       "      <th>22619</th>\n",
       "      <td>NC(=N)c1ccc(CN2CCN(CC2=O)S(=O)(=O)c2cc3ccc(Cl)...</td>\n",
       "      <td>&gt;4000</td>\n",
       "    </tr>\n",
       "    <tr>\n",
       "      <th>22620</th>\n",
       "      <td>OCCn1c(CN2CCN(CC2=O)S(=O)(=O)c2cc3ccc(Cl)cc3s2...</td>\n",
       "      <td>&gt;4000</td>\n",
       "    </tr>\n",
       "    <tr>\n",
       "      <th>22621</th>\n",
       "      <td>Clc1ccc(C=CS(=O)(=O)N2CCN(Cc3cc4cnccc4[nH]3)C(...</td>\n",
       "      <td>&gt;4000</td>\n",
       "    </tr>\n",
       "    <tr>\n",
       "      <th>22622</th>\n",
       "      <td>COC(=O)[C@H](Cc1cccc(c1)C(N)=N)[C@@H](C)NC(=O)...</td>\n",
       "      <td>&gt;3000</td>\n",
       "    </tr>\n",
       "  </tbody>\n",
       "</table>\n",
       "</div>"
      ],
      "text/plain": [
       "                                           Ligand SMILES Ki (nM)\n",
       "22618  NC(=N)c1cccc(CN2CCN(CC2=O)S(=O)(=O)c2cc3ccc(Cl...   >4000\n",
       "22619  NC(=N)c1ccc(CN2CCN(CC2=O)S(=O)(=O)c2cc3ccc(Cl)...   >4000\n",
       "22620  OCCn1c(CN2CCN(CC2=O)S(=O)(=O)c2cc3ccc(Cl)cc3s2...   >4000\n",
       "22621  Clc1ccc(C=CS(=O)(=O)N2CCN(Cc3cc4cnccc4[nH]3)C(...   >4000\n",
       "22622  COC(=O)[C@H](Cc1cccc(c1)C(N)=N)[C@@H](C)NC(=O)...   >3000"
      ]
     },
     "execution_count": 24,
     "metadata": {},
     "output_type": "execute_result"
    }
   ],
   "source": [
    "df.head()"
   ]
  },
  {
   "cell_type": "code",
   "execution_count": 27,
   "id": "a7d84c78-8f62-446a-91af-fbab0ca3d184",
   "metadata": {},
   "outputs": [],
   "source": [
    "def to_int(row):\n",
    "    if isinstance(row, str) and not row[0].isdigit():\n",
    "        return float(row[1:])\n",
    "    else: return float(row)"
   ]
  },
  {
   "cell_type": "code",
   "execution_count": 28,
   "id": "a128c9ec-2906-414c-b4af-eb6d0c291d1b",
   "metadata": {},
   "outputs": [
    {
     "data": {
      "text/html": [
       "<div>\n",
       "<style scoped>\n",
       "    .dataframe tbody tr th:only-of-type {\n",
       "        vertical-align: middle;\n",
       "    }\n",
       "\n",
       "    .dataframe tbody tr th {\n",
       "        vertical-align: top;\n",
       "    }\n",
       "\n",
       "    .dataframe thead th {\n",
       "        text-align: right;\n",
       "    }\n",
       "</style>\n",
       "<table border=\"1\" class=\"dataframe\">\n",
       "  <thead>\n",
       "    <tr style=\"text-align: right;\">\n",
       "      <th></th>\n",
       "      <th>Ligand SMILES</th>\n",
       "      <th>Ki (nM)</th>\n",
       "    </tr>\n",
       "  </thead>\n",
       "  <tbody>\n",
       "    <tr>\n",
       "      <th>22618</th>\n",
       "      <td>NC(=N)c1cccc(CN2CCN(CC2=O)S(=O)(=O)c2cc3ccc(Cl...</td>\n",
       "      <td>4000.0</td>\n",
       "    </tr>\n",
       "    <tr>\n",
       "      <th>22619</th>\n",
       "      <td>NC(=N)c1ccc(CN2CCN(CC2=O)S(=O)(=O)c2cc3ccc(Cl)...</td>\n",
       "      <td>4000.0</td>\n",
       "    </tr>\n",
       "    <tr>\n",
       "      <th>22620</th>\n",
       "      <td>OCCn1c(CN2CCN(CC2=O)S(=O)(=O)c2cc3ccc(Cl)cc3s2...</td>\n",
       "      <td>4000.0</td>\n",
       "    </tr>\n",
       "    <tr>\n",
       "      <th>22621</th>\n",
       "      <td>Clc1ccc(C=CS(=O)(=O)N2CCN(Cc3cc4cnccc4[nH]3)C(...</td>\n",
       "      <td>4000.0</td>\n",
       "    </tr>\n",
       "    <tr>\n",
       "      <th>22622</th>\n",
       "      <td>COC(=O)[C@H](Cc1cccc(c1)C(N)=N)[C@@H](C)NC(=O)...</td>\n",
       "      <td>3000.0</td>\n",
       "    </tr>\n",
       "  </tbody>\n",
       "</table>\n",
       "</div>"
      ],
      "text/plain": [
       "                                           Ligand SMILES  Ki (nM)\n",
       "22618  NC(=N)c1cccc(CN2CCN(CC2=O)S(=O)(=O)c2cc3ccc(Cl...   4000.0\n",
       "22619  NC(=N)c1ccc(CN2CCN(CC2=O)S(=O)(=O)c2cc3ccc(Cl)...   4000.0\n",
       "22620  OCCn1c(CN2CCN(CC2=O)S(=O)(=O)c2cc3ccc(Cl)cc3s2...   4000.0\n",
       "22621  Clc1ccc(C=CS(=O)(=O)N2CCN(Cc3cc4cnccc4[nH]3)C(...   4000.0\n",
       "22622  COC(=O)[C@H](Cc1cccc(c1)C(N)=N)[C@@H](C)NC(=O)...   3000.0"
      ]
     },
     "execution_count": 28,
     "metadata": {},
     "output_type": "execute_result"
    }
   ],
   "source": [
    "df['Ki (nM)'] = df['Ki (nM)'].apply(to_int)\n",
    "df.head()"
   ]
  },
  {
   "cell_type": "code",
   "execution_count": 30,
   "id": "047678b1-5897-468a-8831-9288d1d0a1f5",
   "metadata": {},
   "outputs": [
    {
     "data": {
      "text/plain": [
       "<AxesSubplot:>"
      ]
     },
     "execution_count": 30,
     "metadata": {},
     "output_type": "execute_result"
    },
    {
     "data": {
      "image/png": "[encoded data removed]",
      "text/plain": [
       "<Figure size 432x288 with 1 Axes>"
      ]
     },
     "metadata": {
      "needs_background": "light"
     },
     "output_type": "display_data"
    }
   ],
   "source": [
    "df['Ki (nM)'].hist(bins=500)"
   ]
  },
  {
   "cell_type": "code",
   "execution_count": 31,
   "id": "2eba498b-628e-46e2-a2de-d257358f771a",
   "metadata": {},
   "outputs": [],
   "source": [
    "df['log10Ki'] = df['Ki (nM)'].apply(np.log10)"
   ]
  },
  {
   "cell_type": "code",
   "execution_count": 32,
   "id": "ceda25fb-8145-4730-87b3-52fb020caa65",
   "metadata": {},
   "outputs": [
    {
     "data": {
      "text/plain": [
       "<AxesSubplot:>"
      ]
     },
     "execution_count": 32,
     "metadata": {},
     "output_type": "execute_result"
    },
    {
     "data": {
      "image/png": "[encoded data removed]",
      "text/plain": [
       "<Figure size 432x288 with 1 Axes>"
      ]
     },
     "metadata": {
      "needs_background": "light"
     },
     "output_type": "display_data"
    }
   ],
   "source": [
    "df['log10Ki'].hist(bins=500)"
   ]
  },
  {
   "cell_type": "code",
   "execution_count": 33,
   "id": "9429fb61-56fb-48ac-918c-021f67f3d723",
   "metadata": {},
   "outputs": [
    {
     "data": {
      "text/html": [
       "<div>\n",
       "<style scoped>\n",
       "    .dataframe tbody tr th:only-of-type {\n",
       "        vertical-align: middle;\n",
       "    }\n",
       "\n",
       "    .dataframe tbody tr th {\n",
       "        vertical-align: top;\n",
       "    }\n",
       "\n",
       "    .dataframe thead th {\n",
       "        text-align: right;\n",
       "    }\n",
       "</style>\n",
       "<table border=\"1\" class=\"dataframe\">\n",
       "  <thead>\n",
       "    <tr style=\"text-align: right;\">\n",
       "      <th></th>\n",
       "      <th>Ligand SMILES</th>\n",
       "      <th>Ki (nM)</th>\n",
       "      <th>log10Ki</th>\n",
       "      <th>active</th>\n",
       "    </tr>\n",
       "  </thead>\n",
       "  <tbody>\n",
       "    <tr>\n",
       "      <th>1149566</th>\n",
       "      <td>NC(=N)c1cccc(Oc2ccc(C(O)=O)c(Oc3cccc(c3)C(N)=N...</td>\n",
       "      <td>100000.0</td>\n",
       "      <td>5.0</td>\n",
       "      <td>0</td>\n",
       "    </tr>\n",
       "  </tbody>\n",
       "</table>\n",
       "</div>"
      ],
      "text/plain": [
       "                                             Ligand SMILES   Ki (nM)  log10Ki  \\\n",
       "1149566  NC(=N)c1cccc(Oc2ccc(C(O)=O)c(Oc3cccc(c3)C(N)=N...  100000.0      5.0   \n",
       "\n",
       "         active  \n",
       "1149566       0  "
      ]
     },
     "execution_count": 33,
     "metadata": {},
     "output_type": "execute_result"
    }
   ],
   "source": [
    "df['active'] = 1\n",
    "df.loc[df['Ki (nM)'] > 10000, 'active'] = 0\n",
    "df.sample()"
   ]
  },
  {
   "cell_type": "code",
   "execution_count": 34,
   "id": "cd42b40d-5772-4802-85f0-d0f6a34bbc89",
   "metadata": {},
   "outputs": [
    {
     "data": {
      "text/html": [
       "<div>\n",
       "<style scoped>\n",
       "    .dataframe tbody tr th:only-of-type {\n",
       "        vertical-align: middle;\n",
       "    }\n",
       "\n",
       "    .dataframe tbody tr th {\n",
       "        vertical-align: top;\n",
       "    }\n",
       "\n",
       "    .dataframe thead th {\n",
       "        text-align: right;\n",
       "    }\n",
       "</style>\n",
       "<table border=\"1\" class=\"dataframe\">\n",
       "  <thead>\n",
       "    <tr style=\"text-align: right;\">\n",
       "      <th></th>\n",
       "      <th>Ligand SMILES</th>\n",
       "      <th>Ki (nM)</th>\n",
       "      <th>log10Ki</th>\n",
       "      <th>active</th>\n",
       "    </tr>\n",
       "  </thead>\n",
       "  <tbody>\n",
       "    <tr>\n",
       "      <th>1802683</th>\n",
       "      <td>NC(=N)N1CCC(CC1)Oc1ccc(cc1)C(Oc1ccc2CCN(Cc2c1)...</td>\n",
       "      <td>100000.00</td>\n",
       "      <td>5.000000</td>\n",
       "      <td>0</td>\n",
       "    </tr>\n",
       "    <tr>\n",
       "      <th>1199411</th>\n",
       "      <td>Cc1cc(-c2cc3cc(ccc3[nH]2)C(N)=N)c(O)c(c1)-c1cc...</td>\n",
       "      <td>4000.00</td>\n",
       "      <td>3.602060</td>\n",
       "      <td>1</td>\n",
       "    </tr>\n",
       "    <tr>\n",
       "      <th>25377</th>\n",
       "      <td>CN[C@H](Cc1ccccc1)C(=O)N1CCC[C@H]1C(=O)N[C@@](...</td>\n",
       "      <td>430.00</td>\n",
       "      <td>2.633468</td>\n",
       "      <td>1</td>\n",
       "    </tr>\n",
       "    <tr>\n",
       "      <th>1818661</th>\n",
       "      <td>NC(=N)c1cccc(c1)-n1cc(Br)cc1C(=O)Nc1ccc(cc1)-c...</td>\n",
       "      <td>300.00</td>\n",
       "      <td>2.477121</td>\n",
       "      <td>1</td>\n",
       "    </tr>\n",
       "    <tr>\n",
       "      <th>1116235</th>\n",
       "      <td>N[C@H]1CC[C@@H](CC1)NC(=O)c1cc(OCc2ccc(cc2)C(N...</td>\n",
       "      <td>1642.00</td>\n",
       "      <td>3.215373</td>\n",
       "      <td>1</td>\n",
       "    </tr>\n",
       "    <tr>\n",
       "      <th>1153563</th>\n",
       "      <td>COC(=O)CC1(CC(=NO1)c1cccc(c1)C(N)=N)C(=O)Nc1nc...</td>\n",
       "      <td>14000.00</td>\n",
       "      <td>4.146128</td>\n",
       "      <td>0</td>\n",
       "    </tr>\n",
       "    <tr>\n",
       "      <th>1693452</th>\n",
       "      <td>COC(=O)Nc1ccc2-c3c[nH]c(n3)[C@H](C\\C=C\\CCC(=O)...</td>\n",
       "      <td>11500.00</td>\n",
       "      <td>4.060698</td>\n",
       "      <td>0</td>\n",
       "    </tr>\n",
       "    <tr>\n",
       "      <th>1975664</th>\n",
       "      <td>NC(=[NH2+])c1ccc(cc1)S(=O)(=O)NCCCC(=O)Nc1cccc...</td>\n",
       "      <td>201000.00</td>\n",
       "      <td>5.303196</td>\n",
       "      <td>0</td>\n",
       "    </tr>\n",
       "    <tr>\n",
       "      <th>24544</th>\n",
       "      <td>Cc1ccc(cc1OCCc1ccc(Cl)cc1Cl)C(=O)NCC1CCN(CC1)c...</td>\n",
       "      <td>4866.00</td>\n",
       "      <td>3.687172</td>\n",
       "      <td>1</td>\n",
       "    </tr>\n",
       "    <tr>\n",
       "      <th>1495026</th>\n",
       "      <td>Cl.CC1(C)[C@H]2C[C@@H]1[C@]1(C)OB(O[C@@H]1C2)[...</td>\n",
       "      <td>0.27</td>\n",
       "      <td>-0.568636</td>\n",
       "      <td>1</td>\n",
       "    </tr>\n",
       "  </tbody>\n",
       "</table>\n",
       "</div>"
      ],
      "text/plain": [
       "                                             Ligand SMILES    Ki (nM)  \\\n",
       "1802683  NC(=N)N1CCC(CC1)Oc1ccc(cc1)C(Oc1ccc2CCN(Cc2c1)...  100000.00   \n",
       "1199411  Cc1cc(-c2cc3cc(ccc3[nH]2)C(N)=N)c(O)c(c1)-c1cc...    4000.00   \n",
       "25377    CN[C@H](Cc1ccccc1)C(=O)N1CCC[C@H]1C(=O)N[C@@](...     430.00   \n",
       "1818661  NC(=N)c1cccc(c1)-n1cc(Br)cc1C(=O)Nc1ccc(cc1)-c...     300.00   \n",
       "1116235  N[C@H]1CC[C@@H](CC1)NC(=O)c1cc(OCc2ccc(cc2)C(N...    1642.00   \n",
       "1153563  COC(=O)CC1(CC(=NO1)c1cccc(c1)C(N)=N)C(=O)Nc1nc...   14000.00   \n",
       "1693452  COC(=O)Nc1ccc2-c3c[nH]c(n3)[C@H](C\\C=C\\CCC(=O)...   11500.00   \n",
       "1975664  NC(=[NH2+])c1ccc(cc1)S(=O)(=O)NCCCC(=O)Nc1cccc...  201000.00   \n",
       "24544    Cc1ccc(cc1OCCc1ccc(Cl)cc1Cl)C(=O)NCC1CCN(CC1)c...    4866.00   \n",
       "1495026  Cl.CC1(C)[C@H]2C[C@@H]1[C@]1(C)OB(O[C@@H]1C2)[...       0.27   \n",
       "\n",
       "          log10Ki  active  \n",
       "1802683  5.000000       0  \n",
       "1199411  3.602060       1  \n",
       "25377    2.633468       1  \n",
       "1818661  2.477121       1  \n",
       "1116235  3.215373       1  \n",
       "1153563  4.146128       0  \n",
       "1693452  4.060698       0  \n",
       "1975664  5.303196       0  \n",
       "24544    3.687172       1  \n",
       "1495026 -0.568636       1  "
      ]
     },
     "execution_count": 34,
     "metadata": {},
     "output_type": "execute_result"
    }
   ],
   "source": [
    "df.sample(10)"
   ]
  },
  {
   "cell_type": "code",
   "execution_count": 35,
   "id": "e7be8d2b-576b-4b88-ac88-b7d8a86beee7",
   "metadata": {},
   "outputs": [],
   "source": [
    "df.to_csv('bindingdb.csv', index=False)"
   ]
  },
  {
   "cell_type": "code",
   "execution_count": null,
   "id": "44fc97ac-4c2b-46dc-bc3e-6571eede50a8",
   "metadata": {},
   "outputs": [],
   "source": []
  }
 ],
 "metadata": {
  "kernelspec": {
   "display_name": "Python 3 (ipykernel)",
   "language": "python",
   "name": "python3"
  },
  "language_info": {
   "codemirror_mode": {
    "name": "ipython",
    "version": 3
   },
   "file_extension": ".py",
   "mimetype": "text/x-python",
   "name": "python",
   "nbconvert_exporter": "python",
   "pygments_lexer": "ipython3",
   "version": "3.8.11"
  }
 },
 "nbformat": 4,
 "nbformat_minor": 5
}
